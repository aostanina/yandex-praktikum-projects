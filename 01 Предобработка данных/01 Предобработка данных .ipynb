{
 "cells": [
  {
   "cell_type": "markdown",
   "metadata": {},
   "source": [
    "# Исследование надёжности заёмщиков\n",
    "\n",
    "Заказчик — кредитный отдел банка. Нужно разобраться, влияет ли семейное положение и количество детей клиента на факт погашения кредита в срок. Входные данные от банка — статистика о платёжеспособности клиентов.\n",
    "\n",
    "Результаты исследования будут учтены при построении модели **кредитного скоринга** — специальной системы, которая оценивает способность потенциального заёмщика вернуть кредит банку."
   ]
  },
  {
   "cell_type": "markdown",
   "metadata": {},
   "source": [
    "## Шаг 1. Откроем файл с данными и изучим общую информацию"
   ]
  },
  {
   "cell_type": "code",
   "execution_count": 1,
   "metadata": {},
   "outputs": [],
   "source": [
    "import pandas as pd # <импорт библиотеки pandas>"
   ]
  },
  {
   "cell_type": "markdown",
   "metadata": {},
   "source": [
    "Прочитаем файл datasets/data.csv и сохраним его в переменной df."
   ]
  },
  {
   "cell_type": "code",
   "execution_count": 2,
   "metadata": {},
   "outputs": [],
   "source": [
    "df = pd.read_csv('/datasets/data.csv') # <чтение файла с данными с сохранением в df>"
   ]
  },
  {
   "cell_type": "markdown",
   "metadata": {},
   "source": [
    "Получение первых 10 строк таблицы."
   ]
  },
  {
   "cell_type": "code",
   "execution_count": 3,
   "metadata": {},
   "outputs": [
    {
     "data": {
      "text/html": [
       "<div>\n",
       "<style scoped>\n",
       "    .dataframe tbody tr th:only-of-type {\n",
       "        vertical-align: middle;\n",
       "    }\n",
       "\n",
       "    .dataframe tbody tr th {\n",
       "        vertical-align: top;\n",
       "    }\n",
       "\n",
       "    .dataframe thead th {\n",
       "        text-align: right;\n",
       "    }\n",
       "</style>\n",
       "<table border=\"1\" class=\"dataframe\">\n",
       "  <thead>\n",
       "    <tr style=\"text-align: right;\">\n",
       "      <th></th>\n",
       "      <th>children</th>\n",
       "      <th>days_employed</th>\n",
       "      <th>dob_years</th>\n",
       "      <th>education</th>\n",
       "      <th>education_id</th>\n",
       "      <th>family_status</th>\n",
       "      <th>family_status_id</th>\n",
       "      <th>gender</th>\n",
       "      <th>income_type</th>\n",
       "      <th>debt</th>\n",
       "      <th>total_income</th>\n",
       "      <th>purpose</th>\n",
       "    </tr>\n",
       "  </thead>\n",
       "  <tbody>\n",
       "    <tr>\n",
       "      <td>0</td>\n",
       "      <td>1</td>\n",
       "      <td>-8437.673028</td>\n",
       "      <td>42</td>\n",
       "      <td>высшее</td>\n",
       "      <td>0</td>\n",
       "      <td>женат / замужем</td>\n",
       "      <td>0</td>\n",
       "      <td>F</td>\n",
       "      <td>сотрудник</td>\n",
       "      <td>0</td>\n",
       "      <td>253875.639453</td>\n",
       "      <td>покупка жилья</td>\n",
       "    </tr>\n",
       "    <tr>\n",
       "      <td>1</td>\n",
       "      <td>1</td>\n",
       "      <td>-4024.803754</td>\n",
       "      <td>36</td>\n",
       "      <td>среднее</td>\n",
       "      <td>1</td>\n",
       "      <td>женат / замужем</td>\n",
       "      <td>0</td>\n",
       "      <td>F</td>\n",
       "      <td>сотрудник</td>\n",
       "      <td>0</td>\n",
       "      <td>112080.014102</td>\n",
       "      <td>приобретение автомобиля</td>\n",
       "    </tr>\n",
       "    <tr>\n",
       "      <td>2</td>\n",
       "      <td>0</td>\n",
       "      <td>-5623.422610</td>\n",
       "      <td>33</td>\n",
       "      <td>Среднее</td>\n",
       "      <td>1</td>\n",
       "      <td>женат / замужем</td>\n",
       "      <td>0</td>\n",
       "      <td>M</td>\n",
       "      <td>сотрудник</td>\n",
       "      <td>0</td>\n",
       "      <td>145885.952297</td>\n",
       "      <td>покупка жилья</td>\n",
       "    </tr>\n",
       "    <tr>\n",
       "      <td>3</td>\n",
       "      <td>3</td>\n",
       "      <td>-4124.747207</td>\n",
       "      <td>32</td>\n",
       "      <td>среднее</td>\n",
       "      <td>1</td>\n",
       "      <td>женат / замужем</td>\n",
       "      <td>0</td>\n",
       "      <td>M</td>\n",
       "      <td>сотрудник</td>\n",
       "      <td>0</td>\n",
       "      <td>267628.550329</td>\n",
       "      <td>дополнительное образование</td>\n",
       "    </tr>\n",
       "    <tr>\n",
       "      <td>4</td>\n",
       "      <td>0</td>\n",
       "      <td>340266.072047</td>\n",
       "      <td>53</td>\n",
       "      <td>среднее</td>\n",
       "      <td>1</td>\n",
       "      <td>гражданский брак</td>\n",
       "      <td>1</td>\n",
       "      <td>F</td>\n",
       "      <td>пенсионер</td>\n",
       "      <td>0</td>\n",
       "      <td>158616.077870</td>\n",
       "      <td>сыграть свадьбу</td>\n",
       "    </tr>\n",
       "    <tr>\n",
       "      <td>5</td>\n",
       "      <td>0</td>\n",
       "      <td>-926.185831</td>\n",
       "      <td>27</td>\n",
       "      <td>высшее</td>\n",
       "      <td>0</td>\n",
       "      <td>гражданский брак</td>\n",
       "      <td>1</td>\n",
       "      <td>M</td>\n",
       "      <td>компаньон</td>\n",
       "      <td>0</td>\n",
       "      <td>255763.565419</td>\n",
       "      <td>покупка жилья</td>\n",
       "    </tr>\n",
       "    <tr>\n",
       "      <td>6</td>\n",
       "      <td>0</td>\n",
       "      <td>-2879.202052</td>\n",
       "      <td>43</td>\n",
       "      <td>высшее</td>\n",
       "      <td>0</td>\n",
       "      <td>женат / замужем</td>\n",
       "      <td>0</td>\n",
       "      <td>F</td>\n",
       "      <td>компаньон</td>\n",
       "      <td>0</td>\n",
       "      <td>240525.971920</td>\n",
       "      <td>операции с жильем</td>\n",
       "    </tr>\n",
       "    <tr>\n",
       "      <td>7</td>\n",
       "      <td>0</td>\n",
       "      <td>-152.779569</td>\n",
       "      <td>50</td>\n",
       "      <td>СРЕДНЕЕ</td>\n",
       "      <td>1</td>\n",
       "      <td>женат / замужем</td>\n",
       "      <td>0</td>\n",
       "      <td>M</td>\n",
       "      <td>сотрудник</td>\n",
       "      <td>0</td>\n",
       "      <td>135823.934197</td>\n",
       "      <td>образование</td>\n",
       "    </tr>\n",
       "    <tr>\n",
       "      <td>8</td>\n",
       "      <td>2</td>\n",
       "      <td>-6929.865299</td>\n",
       "      <td>35</td>\n",
       "      <td>ВЫСШЕЕ</td>\n",
       "      <td>0</td>\n",
       "      <td>гражданский брак</td>\n",
       "      <td>1</td>\n",
       "      <td>F</td>\n",
       "      <td>сотрудник</td>\n",
       "      <td>0</td>\n",
       "      <td>95856.832424</td>\n",
       "      <td>на проведение свадьбы</td>\n",
       "    </tr>\n",
       "    <tr>\n",
       "      <td>9</td>\n",
       "      <td>0</td>\n",
       "      <td>-2188.756445</td>\n",
       "      <td>41</td>\n",
       "      <td>среднее</td>\n",
       "      <td>1</td>\n",
       "      <td>женат / замужем</td>\n",
       "      <td>0</td>\n",
       "      <td>M</td>\n",
       "      <td>сотрудник</td>\n",
       "      <td>0</td>\n",
       "      <td>144425.938277</td>\n",
       "      <td>покупка жилья для семьи</td>\n",
       "    </tr>\n",
       "  </tbody>\n",
       "</table>\n",
       "</div>"
      ],
      "text/plain": [
       "   children  days_employed  dob_years education  education_id  \\\n",
       "0         1   -8437.673028         42    высшее             0   \n",
       "1         1   -4024.803754         36   среднее             1   \n",
       "2         0   -5623.422610         33   Среднее             1   \n",
       "3         3   -4124.747207         32   среднее             1   \n",
       "4         0  340266.072047         53   среднее             1   \n",
       "5         0    -926.185831         27    высшее             0   \n",
       "6         0   -2879.202052         43    высшее             0   \n",
       "7         0    -152.779569         50   СРЕДНЕЕ             1   \n",
       "8         2   -6929.865299         35    ВЫСШЕЕ             0   \n",
       "9         0   -2188.756445         41   среднее             1   \n",
       "\n",
       "      family_status  family_status_id gender income_type  debt   total_income  \\\n",
       "0   женат / замужем                 0      F   сотрудник     0  253875.639453   \n",
       "1   женат / замужем                 0      F   сотрудник     0  112080.014102   \n",
       "2   женат / замужем                 0      M   сотрудник     0  145885.952297   \n",
       "3   женат / замужем                 0      M   сотрудник     0  267628.550329   \n",
       "4  гражданский брак                 1      F   пенсионер     0  158616.077870   \n",
       "5  гражданский брак                 1      M   компаньон     0  255763.565419   \n",
       "6   женат / замужем                 0      F   компаньон     0  240525.971920   \n",
       "7   женат / замужем                 0      M   сотрудник     0  135823.934197   \n",
       "8  гражданский брак                 1      F   сотрудник     0   95856.832424   \n",
       "9   женат / замужем                 0      M   сотрудник     0  144425.938277   \n",
       "\n",
       "                      purpose  \n",
       "0               покупка жилья  \n",
       "1     приобретение автомобиля  \n",
       "2               покупка жилья  \n",
       "3  дополнительное образование  \n",
       "4             сыграть свадьбу  \n",
       "5               покупка жилья  \n",
       "6           операции с жильем  \n",
       "7                 образование  \n",
       "8       на проведение свадьбы  \n",
       "9     покупка жилья для семьи  "
      ]
     },
     "execution_count": 3,
     "metadata": {},
     "output_type": "execute_result"
    }
   ],
   "source": [
    "df.head(10) # <получение первых 10 строк таблицы df>"
   ]
  },
  {
   "cell_type": "markdown",
   "metadata": {},
   "source": [
    "Общая информация о данных таблицы df."
   ]
  },
  {
   "cell_type": "code",
   "execution_count": 4,
   "metadata": {},
   "outputs": [
    {
     "name": "stdout",
     "output_type": "stream",
     "text": [
      "<class 'pandas.core.frame.DataFrame'>\n",
      "RangeIndex: 21525 entries, 0 to 21524\n",
      "Data columns (total 12 columns):\n",
      "children            21525 non-null int64\n",
      "days_employed       19351 non-null float64\n",
      "dob_years           21525 non-null int64\n",
      "education           21525 non-null object\n",
      "education_id        21525 non-null int64\n",
      "family_status       21525 non-null object\n",
      "family_status_id    21525 non-null int64\n",
      "gender              21525 non-null object\n",
      "income_type         21525 non-null object\n",
      "debt                21525 non-null int64\n",
      "total_income        19351 non-null float64\n",
      "purpose             21525 non-null object\n",
      "dtypes: float64(2), int64(5), object(5)\n",
      "memory usage: 2.0+ MB\n"
     ]
    }
   ],
   "source": [
    "df.info() # <получение общей информации о данных в таблице df>"
   ]
  },
  {
   "cell_type": "markdown",
   "metadata": {},
   "source": [
    "Рассмотрим полученную информацию подробнее.\n",
    "\n",
    "Всего в таблице 12 столбцов с информацией о заемщиках. Из них 2 столбца типа float64, 5 столбцов типа int64 и 5 столбцов типа object.\n",
    "\n",
    "Подробно разберём, какие в df столбцы и какую информацию они содержат:\n",
    "\n",
    "children — количество детей в семье\n",
    "days_employed — общий трудовой стаж в днях\n",
    "dob_years — возраст клиента в годах\n",
    "education — уровень образования клиента\n",
    "education_id — идентификатор уровня образования\n",
    "family_status — семейное положение\n",
    "family_status_id — идентификатор семейного положения\n",
    "gender — пол клиента\n",
    "income_type — тип занятости\n",
    "debt — имел ли задолженность по возврату кредитов\n",
    "total_income — ежемесячный доход\n",
    "purpose — цель получения кредита\n",
    "\n",
    "Количество значений в некоторых столбцах (days_employed, total_income) отличается от общего количества строк. Это говорит о том, что в данных есть пропущенные значения."
   ]
  },
  {
   "cell_type": "markdown",
   "metadata": {},
   "source": [
    "**Вывод**"
   ]
  },
  {
   "cell_type": "markdown",
   "metadata": {},
   "source": [
    "Каждая строка таблицы содержит информацию о клиенте, который оформлял один из существующих в данном банке видов кредита. Как правило указанные параметры используются для оценки платежеспособности клиента. Проблема, которую нужно решать: пропуски в указанных выше столбцах, наличие и обработка дубликатов, цели кредита записаны очевидно в свободной форме. Для удобства анализа цели необходимо будет привести к единой лексической форме."
   ]
  },
  {
   "cell_type": "markdown",
   "metadata": {},
   "source": [
    "## Шаг 2. Предобработка данных"
   ]
  },
  {
   "cell_type": "markdown",
   "metadata": {},
   "source": [
    "Определим и заполним пропущенные значения,заменим вещественный тип данных на целочисленный, удалим дубликаты, выделим леммы в значениях столбца с целями получения кредита, категоризируем данные."
   ]
  },
  {
   "cell_type": "markdown",
   "metadata": {},
   "source": [
    "### Обработка пропусков"
   ]
  },
  {
   "cell_type": "markdown",
   "metadata": {},
   "source": [
    "Проверим данные на наличие пропусков вызовом набора методов для суммирования пропущенных значений."
   ]
  },
  {
   "cell_type": "code",
   "execution_count": 5,
   "metadata": {},
   "outputs": [
    {
     "name": "stdout",
     "output_type": "stream",
     "text": [
      "children               0\n",
      "days_employed       2174\n",
      "dob_years              0\n",
      "education              0\n",
      "education_id           0\n",
      "family_status          0\n",
      "family_status_id       0\n",
      "gender                 0\n",
      "income_type            0\n",
      "debt                   0\n",
      "total_income        2174\n",
      "purpose                0\n",
      "dtype: int64\n"
     ]
    }
   ],
   "source": [
    "print(df.isnull().sum()) # <суммарное количество пропусков, выявленных методом isnull() в таблице df>"
   ]
  },
  {
   "cell_type": "markdown",
   "metadata": {},
   "source": [
    "Пустые значения в столбцах days_employed и total_income свидетельствуют о том, что доступна не вся информация. Причины могут быть разные. \n",
    "Данные в столбце days_employed могут принимать отрицательные значения. Предположим, что подсчет этого столбца был автоматизирован внутренней системой учета стажа клиентов банка (например, для удобства подсчета накопленных пенсионных баллов или для других целях, которые не пересекаются с целями текущего проекта). Для удобства заменим пропуски в этом столбце нулями."
   ]
  },
  {
   "cell_type": "code",
   "execution_count": 6,
   "metadata": {
    "scrolled": true
   },
   "outputs": [
    {
     "data": {
      "text/html": [
       "<div>\n",
       "<style scoped>\n",
       "    .dataframe tbody tr th:only-of-type {\n",
       "        vertical-align: middle;\n",
       "    }\n",
       "\n",
       "    .dataframe tbody tr th {\n",
       "        vertical-align: top;\n",
       "    }\n",
       "\n",
       "    .dataframe thead th {\n",
       "        text-align: right;\n",
       "    }\n",
       "</style>\n",
       "<table border=\"1\" class=\"dataframe\">\n",
       "  <thead>\n",
       "    <tr style=\"text-align: right;\">\n",
       "      <th></th>\n",
       "      <th>children</th>\n",
       "      <th>days_employed</th>\n",
       "      <th>dob_years</th>\n",
       "      <th>education</th>\n",
       "      <th>education_id</th>\n",
       "      <th>family_status</th>\n",
       "      <th>family_status_id</th>\n",
       "      <th>gender</th>\n",
       "      <th>income_type</th>\n",
       "      <th>debt</th>\n",
       "      <th>total_income</th>\n",
       "      <th>purpose</th>\n",
       "    </tr>\n",
       "  </thead>\n",
       "  <tbody>\n",
       "    <tr>\n",
       "      <td>0</td>\n",
       "      <td>1</td>\n",
       "      <td>-8437.673028</td>\n",
       "      <td>42</td>\n",
       "      <td>высшее</td>\n",
       "      <td>0</td>\n",
       "      <td>женат / замужем</td>\n",
       "      <td>0</td>\n",
       "      <td>F</td>\n",
       "      <td>сотрудник</td>\n",
       "      <td>0</td>\n",
       "      <td>253875.639453</td>\n",
       "      <td>покупка жилья</td>\n",
       "    </tr>\n",
       "    <tr>\n",
       "      <td>1</td>\n",
       "      <td>1</td>\n",
       "      <td>-4024.803754</td>\n",
       "      <td>36</td>\n",
       "      <td>среднее</td>\n",
       "      <td>1</td>\n",
       "      <td>женат / замужем</td>\n",
       "      <td>0</td>\n",
       "      <td>F</td>\n",
       "      <td>сотрудник</td>\n",
       "      <td>0</td>\n",
       "      <td>112080.014102</td>\n",
       "      <td>приобретение автомобиля</td>\n",
       "    </tr>\n",
       "    <tr>\n",
       "      <td>2</td>\n",
       "      <td>0</td>\n",
       "      <td>-5623.422610</td>\n",
       "      <td>33</td>\n",
       "      <td>Среднее</td>\n",
       "      <td>1</td>\n",
       "      <td>женат / замужем</td>\n",
       "      <td>0</td>\n",
       "      <td>M</td>\n",
       "      <td>сотрудник</td>\n",
       "      <td>0</td>\n",
       "      <td>145885.952297</td>\n",
       "      <td>покупка жилья</td>\n",
       "    </tr>\n",
       "    <tr>\n",
       "      <td>3</td>\n",
       "      <td>3</td>\n",
       "      <td>-4124.747207</td>\n",
       "      <td>32</td>\n",
       "      <td>среднее</td>\n",
       "      <td>1</td>\n",
       "      <td>женат / замужем</td>\n",
       "      <td>0</td>\n",
       "      <td>M</td>\n",
       "      <td>сотрудник</td>\n",
       "      <td>0</td>\n",
       "      <td>267628.550329</td>\n",
       "      <td>дополнительное образование</td>\n",
       "    </tr>\n",
       "    <tr>\n",
       "      <td>4</td>\n",
       "      <td>0</td>\n",
       "      <td>340266.072047</td>\n",
       "      <td>53</td>\n",
       "      <td>среднее</td>\n",
       "      <td>1</td>\n",
       "      <td>гражданский брак</td>\n",
       "      <td>1</td>\n",
       "      <td>F</td>\n",
       "      <td>пенсионер</td>\n",
       "      <td>0</td>\n",
       "      <td>158616.077870</td>\n",
       "      <td>сыграть свадьбу</td>\n",
       "    </tr>\n",
       "    <tr>\n",
       "      <td>5</td>\n",
       "      <td>0</td>\n",
       "      <td>-926.185831</td>\n",
       "      <td>27</td>\n",
       "      <td>высшее</td>\n",
       "      <td>0</td>\n",
       "      <td>гражданский брак</td>\n",
       "      <td>1</td>\n",
       "      <td>M</td>\n",
       "      <td>компаньон</td>\n",
       "      <td>0</td>\n",
       "      <td>255763.565419</td>\n",
       "      <td>покупка жилья</td>\n",
       "    </tr>\n",
       "    <tr>\n",
       "      <td>6</td>\n",
       "      <td>0</td>\n",
       "      <td>-2879.202052</td>\n",
       "      <td>43</td>\n",
       "      <td>высшее</td>\n",
       "      <td>0</td>\n",
       "      <td>женат / замужем</td>\n",
       "      <td>0</td>\n",
       "      <td>F</td>\n",
       "      <td>компаньон</td>\n",
       "      <td>0</td>\n",
       "      <td>240525.971920</td>\n",
       "      <td>операции с жильем</td>\n",
       "    </tr>\n",
       "    <tr>\n",
       "      <td>7</td>\n",
       "      <td>0</td>\n",
       "      <td>-152.779569</td>\n",
       "      <td>50</td>\n",
       "      <td>СРЕДНЕЕ</td>\n",
       "      <td>1</td>\n",
       "      <td>женат / замужем</td>\n",
       "      <td>0</td>\n",
       "      <td>M</td>\n",
       "      <td>сотрудник</td>\n",
       "      <td>0</td>\n",
       "      <td>135823.934197</td>\n",
       "      <td>образование</td>\n",
       "    </tr>\n",
       "    <tr>\n",
       "      <td>8</td>\n",
       "      <td>2</td>\n",
       "      <td>-6929.865299</td>\n",
       "      <td>35</td>\n",
       "      <td>ВЫСШЕЕ</td>\n",
       "      <td>0</td>\n",
       "      <td>гражданский брак</td>\n",
       "      <td>1</td>\n",
       "      <td>F</td>\n",
       "      <td>сотрудник</td>\n",
       "      <td>0</td>\n",
       "      <td>95856.832424</td>\n",
       "      <td>на проведение свадьбы</td>\n",
       "    </tr>\n",
       "    <tr>\n",
       "      <td>9</td>\n",
       "      <td>0</td>\n",
       "      <td>-2188.756445</td>\n",
       "      <td>41</td>\n",
       "      <td>среднее</td>\n",
       "      <td>1</td>\n",
       "      <td>женат / замужем</td>\n",
       "      <td>0</td>\n",
       "      <td>M</td>\n",
       "      <td>сотрудник</td>\n",
       "      <td>0</td>\n",
       "      <td>144425.938277</td>\n",
       "      <td>покупка жилья для семьи</td>\n",
       "    </tr>\n",
       "  </tbody>\n",
       "</table>\n",
       "</div>"
      ],
      "text/plain": [
       "   children  days_employed  dob_years education  education_id  \\\n",
       "0         1   -8437.673028         42    высшее             0   \n",
       "1         1   -4024.803754         36   среднее             1   \n",
       "2         0   -5623.422610         33   Среднее             1   \n",
       "3         3   -4124.747207         32   среднее             1   \n",
       "4         0  340266.072047         53   среднее             1   \n",
       "5         0    -926.185831         27    высшее             0   \n",
       "6         0   -2879.202052         43    высшее             0   \n",
       "7         0    -152.779569         50   СРЕДНЕЕ             1   \n",
       "8         2   -6929.865299         35    ВЫСШЕЕ             0   \n",
       "9         0   -2188.756445         41   среднее             1   \n",
       "\n",
       "      family_status  family_status_id gender income_type  debt   total_income  \\\n",
       "0   женат / замужем                 0      F   сотрудник     0  253875.639453   \n",
       "1   женат / замужем                 0      F   сотрудник     0  112080.014102   \n",
       "2   женат / замужем                 0      M   сотрудник     0  145885.952297   \n",
       "3   женат / замужем                 0      M   сотрудник     0  267628.550329   \n",
       "4  гражданский брак                 1      F   пенсионер     0  158616.077870   \n",
       "5  гражданский брак                 1      M   компаньон     0  255763.565419   \n",
       "6   женат / замужем                 0      F   компаньон     0  240525.971920   \n",
       "7   женат / замужем                 0      M   сотрудник     0  135823.934197   \n",
       "8  гражданский брак                 1      F   сотрудник     0   95856.832424   \n",
       "9   женат / замужем                 0      M   сотрудник     0  144425.938277   \n",
       "\n",
       "                      purpose  \n",
       "0               покупка жилья  \n",
       "1     приобретение автомобиля  \n",
       "2               покупка жилья  \n",
       "3  дополнительное образование  \n",
       "4             сыграть свадьбу  \n",
       "5               покупка жилья  \n",
       "6           операции с жильем  \n",
       "7                 образование  \n",
       "8       на проведение свадьбы  \n",
       "9     покупка жилья для семьи  "
      ]
     },
     "metadata": {},
     "output_type": "display_data"
    }
   ],
   "source": [
    "#замена пропусков на нули\n",
    "df['days_employed'] = df['days_employed'].fillna(value=0)\n",
    "display(df.head(10))"
   ]
  },
  {
   "cell_type": "markdown",
   "metadata": {},
   "source": [
    "Пропущенных значений в столбце total_income составляет около 10% от общего числа строк. Как правило, банки требуют подтверждения совокупного дохода клиентов справками с места работы.Что могло послужить причиной пропусков в таблице? Причин может быть много. Например, акции для привлечения новых категорий заемщиков, у которых в текущий момент нет источника дохода, но представляющие потенциальный интерес для банка (студенты или родители, находящиеся в декретном отпуске).\n",
    "Этот параметр значителен для выполнения целей проекта, поэтому пропуски нельзя заменять нулями как в случае выше. Попробуем заменить их значением медианы дохода по каждой группе занятости."
   ]
  },
  {
   "cell_type": "code",
   "execution_count": 7,
   "metadata": {
    "scrolled": false
   },
   "outputs": [
    {
     "name": "stdout",
     "output_type": "stream",
     "text": [
      "income_type\n",
      "безработный        131339.751676\n",
      "в декрете           53829.130729\n",
      "госслужащий        150447.935283\n",
      "компаньон          172357.950966\n",
      "пенсионер          118514.486412\n",
      "предприниматель    499163.144947\n",
      "сотрудник          142594.396847\n",
      "студент             98201.625314\n",
      "Name: total_income, dtype: float64\n"
     ]
    }
   ],
   "source": [
    "#рассчет медианного дохода для каждой группы занятости\n",
    "median_income = df.groupby('income_type')['total_income'].median()\n",
    "print(median_income)\n",
    " \n",
    "#заполнение пропусков в столбе совокупного дохода на значение медианного дохода каждой группы занятости\n",
    "for inc_type in median_income.index:\n",
    "    df.loc[df['income_type'] == inc_type,'total_income'] = df.loc[df['income_type'] == inc_type,'total_income'].fillna(median_income[inc_type])"
   ]
  },
  {
   "cell_type": "code",
   "execution_count": 8,
   "metadata": {
    "scrolled": false
   },
   "outputs": [
    {
     "name": "stdout",
     "output_type": "stream",
     "text": [
      "children            0\n",
      "days_employed       0\n",
      "dob_years           0\n",
      "education           0\n",
      "education_id        0\n",
      "family_status       0\n",
      "family_status_id    0\n",
      "gender              0\n",
      "income_type         0\n",
      "debt                0\n",
      "total_income        0\n",
      "purpose             0\n",
      "dtype: int64\n"
     ]
    }
   ],
   "source": [
    "# <проверка: вычисление суммарного количества пропусков, выявленных в таблице df>\n",
    "print(df.isnull().sum()) "
   ]
  },
  {
   "cell_type": "markdown",
   "metadata": {},
   "source": [
    "**Вывод**"
   ]
  },
  {
   "cell_type": "markdown",
   "metadata": {},
   "source": [
    "При изучении данных мы обнаружили пропуски данных (значения типа NaN в столбцах days_employed и total_income). Для обработки пропусков мы выбрали метод заполнения медианой.\n",
    "Теперь в таблице нет пропусков и можно переходить к следующему этапу предобработки."
   ]
  },
  {
   "cell_type": "markdown",
   "metadata": {},
   "source": [
    "### Замена типа данных"
   ]
  },
  {
   "cell_type": "markdown",
   "metadata": {},
   "source": [
    "В начале проекта методом info было установлено, что данные содержат 2 столбца с вещественным типом данных (float64) и по 5 столбцов - с целочисленным (int64) и нечисловыми типами данных (object). Для увеличения точности последующих вычислений и избежания неявных ошибок, необходимо преобразовать тип данных float в int64. "
   ]
  },
  {
   "cell_type": "markdown",
   "metadata": {},
   "source": [
    "Для начала разберемся со столбцом days_employed - общий трудовой стаж в днях. \n",
    "Для перевода данных столбца в целые числа воспользуемся методом astype(), таким образом учитывая только дни, отработанные полностью.\n"
   ]
  },
  {
   "cell_type": "code",
   "execution_count": 9,
   "metadata": {},
   "outputs": [],
   "source": [
    "#перевод данных столбца days_employed в целые числа\n",
    "df['days_employed'] = df['days_employed'].astype('int')"
   ]
  },
  {
   "cell_type": "markdown",
   "metadata": {},
   "source": [
    "Также поступим со столбцом total_income, приведя ежемесячный доход клиентов банка в целое число. Отброшенная информация о неучтенных копейках не повлияет существенным образом на выводы о платежеспособности заемщиков."
   ]
  },
  {
   "cell_type": "code",
   "execution_count": 10,
   "metadata": {},
   "outputs": [],
   "source": [
    "#перевод данных столбца total_income в целые числа\n",
    "df['total_income'] = df['total_income'].astype('int')"
   ]
  },
  {
   "cell_type": "markdown",
   "metadata": {},
   "source": [
    "Проверим, остались ли в таблице df столбцы с типом данных  float после проведенных операций."
   ]
  },
  {
   "cell_type": "code",
   "execution_count": 11,
   "metadata": {
    "scrolled": false
   },
   "outputs": [
    {
     "name": "stdout",
     "output_type": "stream",
     "text": [
      "<class 'pandas.core.frame.DataFrame'>\n",
      "RangeIndex: 21525 entries, 0 to 21524\n",
      "Data columns (total 12 columns):\n",
      "children            21525 non-null int64\n",
      "days_employed       21525 non-null int64\n",
      "dob_years           21525 non-null int64\n",
      "education           21525 non-null object\n",
      "education_id        21525 non-null int64\n",
      "family_status       21525 non-null object\n",
      "family_status_id    21525 non-null int64\n",
      "gender              21525 non-null object\n",
      "income_type         21525 non-null object\n",
      "debt                21525 non-null int64\n",
      "total_income        21525 non-null int64\n",
      "purpose             21525 non-null object\n",
      "dtypes: int64(7), object(5)\n",
      "memory usage: 2.0+ MB\n"
     ]
    }
   ],
   "source": [
    "# проверка информации о данных в таблице df\n",
    "df.info() "
   ]
  },
  {
   "cell_type": "markdown",
   "metadata": {},
   "source": [
    "**Вывод**"
   ]
  },
  {
   "cell_type": "markdown",
   "metadata": {},
   "source": [
    "Были обработаны данные в таблице df, после чего не осталось столбцов с вещественными типами данных. Это поможет избежать ошибок в вычислениях, так как теперь все числовые данные унифицированы по типу."
   ]
  },
  {
   "cell_type": "markdown",
   "metadata": {},
   "source": [
    "### Обработка дубликатов"
   ]
  },
  {
   "cell_type": "markdown",
   "metadata": {},
   "source": [
    "Перед тем, как обработать дублирующие строки, взглянем на общий вид первых строк таблицы"
   ]
  },
  {
   "cell_type": "code",
   "execution_count": 12,
   "metadata": {},
   "outputs": [
    {
     "data": {
      "text/html": [
       "<div>\n",
       "<style scoped>\n",
       "    .dataframe tbody tr th:only-of-type {\n",
       "        vertical-align: middle;\n",
       "    }\n",
       "\n",
       "    .dataframe tbody tr th {\n",
       "        vertical-align: top;\n",
       "    }\n",
       "\n",
       "    .dataframe thead th {\n",
       "        text-align: right;\n",
       "    }\n",
       "</style>\n",
       "<table border=\"1\" class=\"dataframe\">\n",
       "  <thead>\n",
       "    <tr style=\"text-align: right;\">\n",
       "      <th></th>\n",
       "      <th>children</th>\n",
       "      <th>days_employed</th>\n",
       "      <th>dob_years</th>\n",
       "      <th>education</th>\n",
       "      <th>education_id</th>\n",
       "      <th>family_status</th>\n",
       "      <th>family_status_id</th>\n",
       "      <th>gender</th>\n",
       "      <th>income_type</th>\n",
       "      <th>debt</th>\n",
       "      <th>total_income</th>\n",
       "      <th>purpose</th>\n",
       "    </tr>\n",
       "  </thead>\n",
       "  <tbody>\n",
       "    <tr>\n",
       "      <td>0</td>\n",
       "      <td>1</td>\n",
       "      <td>-8437</td>\n",
       "      <td>42</td>\n",
       "      <td>высшее</td>\n",
       "      <td>0</td>\n",
       "      <td>женат / замужем</td>\n",
       "      <td>0</td>\n",
       "      <td>F</td>\n",
       "      <td>сотрудник</td>\n",
       "      <td>0</td>\n",
       "      <td>253875</td>\n",
       "      <td>покупка жилья</td>\n",
       "    </tr>\n",
       "    <tr>\n",
       "      <td>1</td>\n",
       "      <td>1</td>\n",
       "      <td>-4024</td>\n",
       "      <td>36</td>\n",
       "      <td>среднее</td>\n",
       "      <td>1</td>\n",
       "      <td>женат / замужем</td>\n",
       "      <td>0</td>\n",
       "      <td>F</td>\n",
       "      <td>сотрудник</td>\n",
       "      <td>0</td>\n",
       "      <td>112080</td>\n",
       "      <td>приобретение автомобиля</td>\n",
       "    </tr>\n",
       "    <tr>\n",
       "      <td>2</td>\n",
       "      <td>0</td>\n",
       "      <td>-5623</td>\n",
       "      <td>33</td>\n",
       "      <td>Среднее</td>\n",
       "      <td>1</td>\n",
       "      <td>женат / замужем</td>\n",
       "      <td>0</td>\n",
       "      <td>M</td>\n",
       "      <td>сотрудник</td>\n",
       "      <td>0</td>\n",
       "      <td>145885</td>\n",
       "      <td>покупка жилья</td>\n",
       "    </tr>\n",
       "    <tr>\n",
       "      <td>3</td>\n",
       "      <td>3</td>\n",
       "      <td>-4124</td>\n",
       "      <td>32</td>\n",
       "      <td>среднее</td>\n",
       "      <td>1</td>\n",
       "      <td>женат / замужем</td>\n",
       "      <td>0</td>\n",
       "      <td>M</td>\n",
       "      <td>сотрудник</td>\n",
       "      <td>0</td>\n",
       "      <td>267628</td>\n",
       "      <td>дополнительное образование</td>\n",
       "    </tr>\n",
       "    <tr>\n",
       "      <td>4</td>\n",
       "      <td>0</td>\n",
       "      <td>340266</td>\n",
       "      <td>53</td>\n",
       "      <td>среднее</td>\n",
       "      <td>1</td>\n",
       "      <td>гражданский брак</td>\n",
       "      <td>1</td>\n",
       "      <td>F</td>\n",
       "      <td>пенсионер</td>\n",
       "      <td>0</td>\n",
       "      <td>158616</td>\n",
       "      <td>сыграть свадьбу</td>\n",
       "    </tr>\n",
       "    <tr>\n",
       "      <td>5</td>\n",
       "      <td>0</td>\n",
       "      <td>-926</td>\n",
       "      <td>27</td>\n",
       "      <td>высшее</td>\n",
       "      <td>0</td>\n",
       "      <td>гражданский брак</td>\n",
       "      <td>1</td>\n",
       "      <td>M</td>\n",
       "      <td>компаньон</td>\n",
       "      <td>0</td>\n",
       "      <td>255763</td>\n",
       "      <td>покупка жилья</td>\n",
       "    </tr>\n",
       "    <tr>\n",
       "      <td>6</td>\n",
       "      <td>0</td>\n",
       "      <td>-2879</td>\n",
       "      <td>43</td>\n",
       "      <td>высшее</td>\n",
       "      <td>0</td>\n",
       "      <td>женат / замужем</td>\n",
       "      <td>0</td>\n",
       "      <td>F</td>\n",
       "      <td>компаньон</td>\n",
       "      <td>0</td>\n",
       "      <td>240525</td>\n",
       "      <td>операции с жильем</td>\n",
       "    </tr>\n",
       "    <tr>\n",
       "      <td>7</td>\n",
       "      <td>0</td>\n",
       "      <td>-152</td>\n",
       "      <td>50</td>\n",
       "      <td>СРЕДНЕЕ</td>\n",
       "      <td>1</td>\n",
       "      <td>женат / замужем</td>\n",
       "      <td>0</td>\n",
       "      <td>M</td>\n",
       "      <td>сотрудник</td>\n",
       "      <td>0</td>\n",
       "      <td>135823</td>\n",
       "      <td>образование</td>\n",
       "    </tr>\n",
       "    <tr>\n",
       "      <td>8</td>\n",
       "      <td>2</td>\n",
       "      <td>-6929</td>\n",
       "      <td>35</td>\n",
       "      <td>ВЫСШЕЕ</td>\n",
       "      <td>0</td>\n",
       "      <td>гражданский брак</td>\n",
       "      <td>1</td>\n",
       "      <td>F</td>\n",
       "      <td>сотрудник</td>\n",
       "      <td>0</td>\n",
       "      <td>95856</td>\n",
       "      <td>на проведение свадьбы</td>\n",
       "    </tr>\n",
       "    <tr>\n",
       "      <td>9</td>\n",
       "      <td>0</td>\n",
       "      <td>-2188</td>\n",
       "      <td>41</td>\n",
       "      <td>среднее</td>\n",
       "      <td>1</td>\n",
       "      <td>женат / замужем</td>\n",
       "      <td>0</td>\n",
       "      <td>M</td>\n",
       "      <td>сотрудник</td>\n",
       "      <td>0</td>\n",
       "      <td>144425</td>\n",
       "      <td>покупка жилья для семьи</td>\n",
       "    </tr>\n",
       "  </tbody>\n",
       "</table>\n",
       "</div>"
      ],
      "text/plain": [
       "   children  days_employed  dob_years education  education_id  \\\n",
       "0         1          -8437         42    высшее             0   \n",
       "1         1          -4024         36   среднее             1   \n",
       "2         0          -5623         33   Среднее             1   \n",
       "3         3          -4124         32   среднее             1   \n",
       "4         0         340266         53   среднее             1   \n",
       "5         0           -926         27    высшее             0   \n",
       "6         0          -2879         43    высшее             0   \n",
       "7         0           -152         50   СРЕДНЕЕ             1   \n",
       "8         2          -6929         35    ВЫСШЕЕ             0   \n",
       "9         0          -2188         41   среднее             1   \n",
       "\n",
       "      family_status  family_status_id gender income_type  debt  total_income  \\\n",
       "0   женат / замужем                 0      F   сотрудник     0        253875   \n",
       "1   женат / замужем                 0      F   сотрудник     0        112080   \n",
       "2   женат / замужем                 0      M   сотрудник     0        145885   \n",
       "3   женат / замужем                 0      M   сотрудник     0        267628   \n",
       "4  гражданский брак                 1      F   пенсионер     0        158616   \n",
       "5  гражданский брак                 1      M   компаньон     0        255763   \n",
       "6   женат / замужем                 0      F   компаньон     0        240525   \n",
       "7   женат / замужем                 0      M   сотрудник     0        135823   \n",
       "8  гражданский брак                 1      F   сотрудник     0         95856   \n",
       "9   женат / замужем                 0      M   сотрудник     0        144425   \n",
       "\n",
       "                      purpose  \n",
       "0               покупка жилья  \n",
       "1     приобретение автомобиля  \n",
       "2               покупка жилья  \n",
       "3  дополнительное образование  \n",
       "4             сыграть свадьбу  \n",
       "5               покупка жилья  \n",
       "6           операции с жильем  \n",
       "7                 образование  \n",
       "8       на проведение свадьбы  \n",
       "9     покупка жилья для семьи  "
      ]
     },
     "execution_count": 12,
     "metadata": {},
     "output_type": "execute_result"
    }
   ],
   "source": [
    "#получение первых 10 строк таблицы df\n",
    "df.head(10)"
   ]
  },
  {
   "cell_type": "markdown",
   "metadata": {},
   "source": [
    "Как видно из таблицы, нечисловые столбцы содержат разноформатную дублирующую информацию. Приведем эти столбцы в единый вид по нижнему регистру."
   ]
  },
  {
   "cell_type": "code",
   "execution_count": 13,
   "metadata": {},
   "outputs": [],
   "source": [
    "#перевод данных нечисловых столбцов к нижнему регистру\n",
    "df['education'] = df['education'].str.lower()\n",
    "df['family_status'] = df['family_status'].str.lower()\n",
    "df['income_type'] = df['income_type'].str.lower()\n",
    "df['purpose'] = df['purpose'].str.lower()"
   ]
  },
  {
   "cell_type": "markdown",
   "metadata": {},
   "source": [
    "Проверим наличие дубликатов методом duplicated(). Затем дубликаты удаляем и проверяем таблицу."
   ]
  },
  {
   "cell_type": "code",
   "execution_count": 14,
   "metadata": {},
   "outputs": [
    {
     "data": {
      "text/plain": [
       "71"
      ]
     },
     "execution_count": 14,
     "metadata": {},
     "output_type": "execute_result"
    }
   ],
   "source": [
    "#получение суммарного количества дубликатов в таблице df\n",
    "df.duplicated().sum() "
   ]
  },
  {
   "cell_type": "code",
   "execution_count": 15,
   "metadata": {},
   "outputs": [],
   "source": [
    "#удаление всех дубликатов из таблицы df\n",
    "df = df.drop_duplicates().reset_index(drop=True) "
   ]
  },
  {
   "cell_type": "code",
   "execution_count": 16,
   "metadata": {},
   "outputs": [
    {
     "name": "stdout",
     "output_type": "stream",
     "text": [
      "0\n"
     ]
    }
   ],
   "source": [
    "#проверка на отсутствие дубликатов\n",
    "print(df.duplicated().sum())"
   ]
  },
  {
   "cell_type": "markdown",
   "metadata": {},
   "source": [
    "**Вывод**"
   ]
  },
  {
   "cell_type": "markdown",
   "metadata": {},
   "source": [
    "Таблицу избавили от дубликатов специальным методом drop_duplicates.Появились они вероятнее всего вследствие технического сбоя в записи данных."
   ]
  },
  {
   "cell_type": "markdown",
   "metadata": {},
   "source": [
    "### Лемматизация"
   ]
  },
  {
   "cell_type": "markdown",
   "metadata": {},
   "source": [
    "Определим количество категорий займа."
   ]
  },
  {
   "cell_type": "code",
   "execution_count": 17,
   "metadata": {},
   "outputs": [
    {
     "name": "stdout",
     "output_type": "stream",
     "text": [
      "Всего уникальных значений в столбце purpose: 38 \n",
      "\n",
      "свадьба                                   791\n",
      "на проведение свадьбы                     768\n",
      "сыграть свадьбу                           765\n",
      "операции с недвижимостью                  675\n",
      "покупка коммерческой недвижимости         661\n",
      "операции с жильем                         652\n",
      "покупка жилья для сдачи                   651\n",
      "операции с коммерческой недвижимостью     650\n",
      "жилье                                     646\n",
      "покупка жилья                             646\n",
      "покупка жилья для семьи                   638\n",
      "строительство собственной недвижимости    635\n",
      "недвижимость                              633\n",
      "операции со своей недвижимостью           627\n",
      "строительство жилой недвижимости          624\n",
      "покупка недвижимости                      621\n",
      "покупка своего жилья                      620\n",
      "строительство недвижимости                619\n",
      "ремонт жилью                              607\n",
      "покупка жилой недвижимости                606\n",
      "на покупку своего автомобиля              505\n",
      "заняться высшим образованием              496\n",
      "автомобиль                                494\n",
      "сделка с подержанным автомобилем          486\n",
      "автомобили                                478\n",
      "свой автомобиль                           478\n",
      "на покупку подержанного автомобиля        478\n",
      "на покупку автомобиля                     471\n",
      "приобретение автомобиля                   461\n",
      "дополнительное образование                460\n",
      "сделка с автомобилем                      455\n",
      "высшее образование                        452\n",
      "образование                               447\n",
      "получение дополнительного образования     446\n",
      "получение образования                     442\n",
      "профильное образование                    436\n",
      "получение высшего образования             426\n",
      "заняться образованием                     408\n",
      "Name: purpose, dtype: int64\n"
     ]
    }
   ],
   "source": [
    "#импортируем библиотеку pymystem3\n",
    "from pymystem3 import Mystem\n",
    "m = Mystem()\n",
    "\n",
    "# определение количества уникальных значений\n",
    "print('Всего уникальных значений в столбце purpose:', len(list(df['purpose'].unique())), '\\n')\n",
    "\n",
    "# вывод всех значений столбца\n",
    "print(df['purpose'].value_counts())"
   ]
  },
  {
   "cell_type": "markdown",
   "metadata": {},
   "source": [
    "Как видно из выпавшего списка, всего уникальных значений целей кредита - 38. Изучив полученные данные, выделим следующие основные цели займа:\n",
    "1) Покупка недвижимости (леммы \"жильё\", \"недвижимость\");\n",
    "2) Покупка автомобиля (лемма \"автомобиль\");\n",
    "3) Получение образования (лемма \"образование\");\n",
    "4) Проведение свадьбы (лемма \"свадьба\");\n",
    "5) Стройтельство недвижимости (лемма \"строительство\");\n",
    "6) Ремонт недвижимости (лемма \"ремонт\").\n",
    "\n",
    "Для того, чтобы привести все имеющиеся значения столбца purpose к списку с лематизированными целями, необходимо сделать следующее:\n",
    "\n",
    "Создать новый датафрейм, в который поместить уникальные значения столбца purpose;\n",
    "Написать функцию, которая принимает на вход строку, лемматизирует её и проверяет вхождение определённых для каждой категории лемм в полученный список, после чего возвращает одну из категорий;\n",
    "Создать в новом датафрейме новый столбец, применив данную функцию к существующему столбцу. Таким образом каждому из большого количество уникальных значений столбца purpose будет сопоставлена одна из 6 определённых нами целей займа;\n",
    "С помощью функции merge объединить основной и созданный нами новый датафреймы.\n",
    "\n",
    "Также с помощью функции добавим к датафрейму столбец с цифровыми индексами для каждого типа займа. Для этого сначала составим словарь вида {'цель_займа' : 'индекс'}, а после в теле функции будем возвращать значения нового столбца по ключу."
   ]
  },
  {
   "cell_type": "code",
   "execution_count": 18,
   "metadata": {},
   "outputs": [
    {
     "data": {
      "text/html": [
       "<div>\n",
       "<style scoped>\n",
       "    .dataframe tbody tr th:only-of-type {\n",
       "        vertical-align: middle;\n",
       "    }\n",
       "\n",
       "    .dataframe tbody tr th {\n",
       "        vertical-align: top;\n",
       "    }\n",
       "\n",
       "    .dataframe thead th {\n",
       "        text-align: right;\n",
       "    }\n",
       "</style>\n",
       "<table border=\"1\" class=\"dataframe\">\n",
       "  <thead>\n",
       "    <tr style=\"text-align: right;\">\n",
       "      <th></th>\n",
       "      <th>children</th>\n",
       "      <th>days_employed</th>\n",
       "      <th>dob_years</th>\n",
       "      <th>education</th>\n",
       "      <th>education_id</th>\n",
       "      <th>family_status</th>\n",
       "      <th>family_status_id</th>\n",
       "      <th>gender</th>\n",
       "      <th>income_type</th>\n",
       "      <th>debt</th>\n",
       "      <th>total_income</th>\n",
       "      <th>purpose</th>\n",
       "      <th>purpose_cat</th>\n",
       "      <th>purpose_cat_id</th>\n",
       "    </tr>\n",
       "  </thead>\n",
       "  <tbody>\n",
       "    <tr>\n",
       "      <td>20704</td>\n",
       "      <td>0</td>\n",
       "      <td>-1477</td>\n",
       "      <td>44</td>\n",
       "      <td>высшее</td>\n",
       "      <td>0</td>\n",
       "      <td>женат / замужем</td>\n",
       "      <td>0</td>\n",
       "      <td>M</td>\n",
       "      <td>компаньон</td>\n",
       "      <td>0</td>\n",
       "      <td>2265604</td>\n",
       "      <td>ремонт жилью</td>\n",
       "      <td>Займ на ремонт недвижимости</td>\n",
       "      <td>5</td>\n",
       "    </tr>\n",
       "    <tr>\n",
       "      <td>8549</td>\n",
       "      <td>1</td>\n",
       "      <td>-2577</td>\n",
       "      <td>39</td>\n",
       "      <td>высшее</td>\n",
       "      <td>0</td>\n",
       "      <td>женат / замужем</td>\n",
       "      <td>0</td>\n",
       "      <td>M</td>\n",
       "      <td>компаньон</td>\n",
       "      <td>1</td>\n",
       "      <td>2200852</td>\n",
       "      <td>строительство недвижимости</td>\n",
       "      <td>Займ на строительство недвижимости</td>\n",
       "      <td>4</td>\n",
       "    </tr>\n",
       "    <tr>\n",
       "      <td>1295</td>\n",
       "      <td>1</td>\n",
       "      <td>-5248</td>\n",
       "      <td>35</td>\n",
       "      <td>среднее</td>\n",
       "      <td>1</td>\n",
       "      <td>гражданский брак</td>\n",
       "      <td>1</td>\n",
       "      <td>M</td>\n",
       "      <td>сотрудник</td>\n",
       "      <td>0</td>\n",
       "      <td>1726276</td>\n",
       "      <td>дополнительное образование</td>\n",
       "      <td>Займ на получение образования</td>\n",
       "      <td>2</td>\n",
       "    </tr>\n",
       "    <tr>\n",
       "      <td>4812</td>\n",
       "      <td>0</td>\n",
       "      <td>-4719</td>\n",
       "      <td>61</td>\n",
       "      <td>среднее</td>\n",
       "      <td>1</td>\n",
       "      <td>не женат / не замужем</td>\n",
       "      <td>4</td>\n",
       "      <td>F</td>\n",
       "      <td>сотрудник</td>\n",
       "      <td>0</td>\n",
       "      <td>1715018</td>\n",
       "      <td>покупка жилья для семьи</td>\n",
       "      <td>Займ на покупку недвижимости</td>\n",
       "      <td>0</td>\n",
       "    </tr>\n",
       "    <tr>\n",
       "      <td>2183</td>\n",
       "      <td>0</td>\n",
       "      <td>-5734</td>\n",
       "      <td>42</td>\n",
       "      <td>высшее</td>\n",
       "      <td>0</td>\n",
       "      <td>гражданский брак</td>\n",
       "      <td>1</td>\n",
       "      <td>M</td>\n",
       "      <td>компаньон</td>\n",
       "      <td>0</td>\n",
       "      <td>1711309</td>\n",
       "      <td>сыграть свадьбу</td>\n",
       "      <td>Займ на проведение свадьбы</td>\n",
       "      <td>3</td>\n",
       "    </tr>\n",
       "    <tr>\n",
       "      <td>16852</td>\n",
       "      <td>0</td>\n",
       "      <td>-2285</td>\n",
       "      <td>43</td>\n",
       "      <td>среднее</td>\n",
       "      <td>1</td>\n",
       "      <td>женат / замужем</td>\n",
       "      <td>0</td>\n",
       "      <td>M</td>\n",
       "      <td>компаньон</td>\n",
       "      <td>0</td>\n",
       "      <td>1597613</td>\n",
       "      <td>операции с недвижимостью</td>\n",
       "      <td>Займ на покупку недвижимости</td>\n",
       "      <td>0</td>\n",
       "    </tr>\n",
       "    <tr>\n",
       "      <td>15122</td>\n",
       "      <td>1</td>\n",
       "      <td>-333</td>\n",
       "      <td>41</td>\n",
       "      <td>высшее</td>\n",
       "      <td>0</td>\n",
       "      <td>гражданский брак</td>\n",
       "      <td>1</td>\n",
       "      <td>M</td>\n",
       "      <td>компаньон</td>\n",
       "      <td>0</td>\n",
       "      <td>1551152</td>\n",
       "      <td>свадьба</td>\n",
       "      <td>Займ на проведение свадьбы</td>\n",
       "      <td>3</td>\n",
       "    </tr>\n",
       "    <tr>\n",
       "      <td>14369</td>\n",
       "      <td>1</td>\n",
       "      <td>-3173</td>\n",
       "      <td>41</td>\n",
       "      <td>высшее</td>\n",
       "      <td>0</td>\n",
       "      <td>не женат / не замужем</td>\n",
       "      <td>4</td>\n",
       "      <td>F</td>\n",
       "      <td>компаньон</td>\n",
       "      <td>0</td>\n",
       "      <td>1427934</td>\n",
       "      <td>автомобиль</td>\n",
       "      <td>Займ на покупку автомобиля</td>\n",
       "      <td>1</td>\n",
       "    </tr>\n",
       "    <tr>\n",
       "      <td>11313</td>\n",
       "      <td>1</td>\n",
       "      <td>-10207</td>\n",
       "      <td>64</td>\n",
       "      <td>высшее</td>\n",
       "      <td>0</td>\n",
       "      <td>в разводе</td>\n",
       "      <td>3</td>\n",
       "      <td>M</td>\n",
       "      <td>компаньон</td>\n",
       "      <td>0</td>\n",
       "      <td>1350245</td>\n",
       "      <td>жилье</td>\n",
       "      <td>Займ на покупку недвижимости</td>\n",
       "      <td>0</td>\n",
       "    </tr>\n",
       "    <tr>\n",
       "      <td>5789</td>\n",
       "      <td>1</td>\n",
       "      <td>-1851</td>\n",
       "      <td>36</td>\n",
       "      <td>высшее</td>\n",
       "      <td>0</td>\n",
       "      <td>гражданский брак</td>\n",
       "      <td>1</td>\n",
       "      <td>F</td>\n",
       "      <td>сотрудник</td>\n",
       "      <td>0</td>\n",
       "      <td>1286280</td>\n",
       "      <td>покупка коммерческой недвижимости</td>\n",
       "      <td>Займ на покупку недвижимости</td>\n",
       "      <td>0</td>\n",
       "    </tr>\n",
       "  </tbody>\n",
       "</table>\n",
       "</div>"
      ],
      "text/plain": [
       "       children  days_employed  dob_years education  education_id  \\\n",
       "20704         0          -1477         44    высшее             0   \n",
       "8549          1          -2577         39    высшее             0   \n",
       "1295          1          -5248         35   среднее             1   \n",
       "4812          0          -4719         61   среднее             1   \n",
       "2183          0          -5734         42    высшее             0   \n",
       "16852         0          -2285         43   среднее             1   \n",
       "15122         1           -333         41    высшее             0   \n",
       "14369         1          -3173         41    высшее             0   \n",
       "11313         1         -10207         64    высшее             0   \n",
       "5789          1          -1851         36    высшее             0   \n",
       "\n",
       "               family_status  family_status_id gender income_type  debt  \\\n",
       "20704        женат / замужем                 0      M   компаньон     0   \n",
       "8549         женат / замужем                 0      M   компаньон     1   \n",
       "1295        гражданский брак                 1      M   сотрудник     0   \n",
       "4812   не женат / не замужем                 4      F   сотрудник     0   \n",
       "2183        гражданский брак                 1      M   компаньон     0   \n",
       "16852        женат / замужем                 0      M   компаньон     0   \n",
       "15122       гражданский брак                 1      M   компаньон     0   \n",
       "14369  не женат / не замужем                 4      F   компаньон     0   \n",
       "11313              в разводе                 3      M   компаньон     0   \n",
       "5789        гражданский брак                 1      F   сотрудник     0   \n",
       "\n",
       "       total_income                            purpose  \\\n",
       "20704       2265604                       ремонт жилью   \n",
       "8549        2200852         строительство недвижимости   \n",
       "1295        1726276         дополнительное образование   \n",
       "4812        1715018            покупка жилья для семьи   \n",
       "2183        1711309                    сыграть свадьбу   \n",
       "16852       1597613           операции с недвижимостью   \n",
       "15122       1551152                            свадьба   \n",
       "14369       1427934                         автомобиль   \n",
       "11313       1350245                              жилье   \n",
       "5789        1286280  покупка коммерческой недвижимости   \n",
       "\n",
       "                              purpose_cat  purpose_cat_id  \n",
       "20704         Займ на ремонт недвижимости               5  \n",
       "8549   Займ на строительство недвижимости               4  \n",
       "1295        Займ на получение образования               2  \n",
       "4812         Займ на покупку недвижимости               0  \n",
       "2183           Займ на проведение свадьбы               3  \n",
       "16852        Займ на покупку недвижимости               0  \n",
       "15122          Займ на проведение свадьбы               3  \n",
       "14369          Займ на покупку автомобиля               1  \n",
       "11313        Займ на покупку недвижимости               0  \n",
       "5789         Займ на покупку недвижимости               0  "
      ]
     },
     "metadata": {},
     "output_type": "display_data"
    }
   ],
   "source": [
    "# создаём новый датафрейм\n",
    "\n",
    "p_l = pd.DataFrame({'purpose' : df['purpose'].unique()})\n",
    "\n",
    "# функция для распределения лематизированных целей на шесть категорий\n",
    "def lemm_cat(row):\n",
    "    s = m.lemmatize(row['purpose'])\n",
    "    if ('жилье' in s) or ('недвижимость' in s):\n",
    "        if 'ремонт' in s:\n",
    "            return 'Займ на ремонт недвижимости'\n",
    "        elif 'строительство' in s:\n",
    "            return 'Займ на строительство недвижимости'\n",
    "        else:\n",
    "            return 'Займ на покупку недвижимости'\n",
    "    if 'автомобиль' in s:\n",
    "        return 'Займ на покупку автомобиля'\n",
    "    if 'образование' in s:\n",
    "        return 'Займ на получение образования'\n",
    "    if 'свадьба' in s:\n",
    "        return 'Займ на проведение свадьбы'\n",
    "\n",
    "# применим функцию для нового датафрейма и создадим новый столбец purpose_cat\n",
    "p_l['purpose_cat'] = p_l.apply(lemm_cat, axis=1)\n",
    "\n",
    "# создание словаря для последующего добавления столбца с цифровыми индексами для каждого типа займа\n",
    "purpose_cat_ids = {'Займ на покупку недвижимости' : 0,\n",
    "                  'Займ на покупку автомобиля' : 1,\n",
    "                  'Займ на получение образования' : 2,\n",
    "                  'Займ на проведение свадьбы' : 3,\n",
    "                  'Займ на строительство недвижимости' : 4,\n",
    "                  'Займ на ремонт недвижимости' : 5}\n",
    "\n",
    "# напишем функцию для присвоения цифрового индекса\n",
    "def purpose_id(row):\n",
    "    return purpose_cat_ids[row['purpose_cat']]\n",
    "\n",
    "# добавим цифровой индекс для каждой цели займа\n",
    "p_l['purpose_cat_id'] = p_l.apply(purpose_id, axis=1)\n",
    "\n",
    "# объединяем датафреймы\n",
    "data = df.merge(p_l, on = 'purpose')\n",
    "\n",
    "# посмотрим на объединённые данные\n",
    "display(data.sort_values(by = 'total_income', ascending = False).head(10))"
   ]
  },
  {
   "cell_type": "markdown",
   "metadata": {},
   "source": [
    "**Вывод**"
   ]
  },
  {
   "cell_type": "markdown",
   "metadata": {},
   "source": [
    "Вместо 38 изначальных целей займа, дублировавших друг друга по смыслу, у нас теперь 6 категорий, охватывающих все изначальные цели. Это в дальнейшем облегчит решение задач исследования, так как теперь группировать данные и отслеживать зависимости стало гораздо проще. \n",
    "Для этого мы:\n",
    "Определили и посчитали все уникальные значения столбца purpose;\n",
    "Выделили на основании полученных данных 6 основных категорий займа;\n",
    "Присвоили этим категориям цифровые индексы;\n",
    "С помощью функции сопоставили каждой из оригинальных целей одну из шести полученных категорий и соответствующий цифровой индекс;\n",
    "Добавили полученные значения в основные данные."
   ]
  },
  {
   "cell_type": "markdown",
   "metadata": {},
   "source": [
    "### Категоризация данных"
   ]
  },
  {
   "cell_type": "markdown",
   "metadata": {},
   "source": [
    "Для того, чтобы ответить на 3й вопрос в проекте (\"Есть ли зависимость между уровнем дохода и возвратом кредита в срок?\") необходимо эти уровни дохода определить, то есть категоризировать данные по столбцу total_income. Для этого сначала обозначим предполагаемые категории дохода и их цифровые индексы, а также границы каждой из категорий. Границы будем определять в процентном соотношении от размаха данных по столбцу total_income. Чтобы получить равнорелевантные категории, определим их границы через процентили. Предполагаемых категорий будет 4:\n",
    "\n",
    "0 - Невысокий доход - [min, 25-й процентиль]\n",
    "1 - Средний доход - [25-й процентиль, 50-й процентиль]\n",
    "2 - Высокий доход - [50-й процентиль, 75-й процентиль]\n",
    "3 - Сверхвысокий доход - [75-й процентиль, max]\n",
    "\n",
    "Для категоризации необходимо будет:\n",
    "\n",
    "Посчитать границы категорий\n",
    "Составить словарь с определениями наших категорий (индекс, название)\n",
    "Написать функцию, которая будет проверять вхождение аргумента в одну из категорий и возвращать её наименование\n",
    "Применить эту функцию к столбцу total_income и получить новый столбец total_income_cat\n",
    "Написать функцию, которая будет возвращать индекс категории по её имени из словаря\n",
    "Применить эту функцию к столбцу total_income_cat и получить новый столбец total_income_cat_id"
   ]
  },
  {
   "cell_type": "code",
   "execution_count": 23,
   "metadata": {},
   "outputs": [
    {
     "data": {
      "text/plain": [
       "count    2.145400e+04\n",
       "mean     1.653196e+05\n",
       "std      9.818730e+04\n",
       "min      2.066700e+04\n",
       "25%      1.076230e+05\n",
       "50%      1.425940e+05\n",
       "75%      1.958202e+05\n",
       "max      2.265604e+06\n",
       "Name: total_income, dtype: float64"
      ]
     },
     "metadata": {},
     "output_type": "display_data"
    },
    {
     "data": {
      "text/html": [
       "<div>\n",
       "<style scoped>\n",
       "    .dataframe tbody tr th:only-of-type {\n",
       "        vertical-align: middle;\n",
       "    }\n",
       "\n",
       "    .dataframe tbody tr th {\n",
       "        vertical-align: top;\n",
       "    }\n",
       "\n",
       "    .dataframe thead th {\n",
       "        text-align: right;\n",
       "    }\n",
       "</style>\n",
       "<table border=\"1\" class=\"dataframe\">\n",
       "  <thead>\n",
       "    <tr style=\"text-align: right;\">\n",
       "      <th></th>\n",
       "      <th>children</th>\n",
       "      <th>days_employed</th>\n",
       "      <th>dob_years</th>\n",
       "      <th>education</th>\n",
       "      <th>education_id</th>\n",
       "      <th>family_status</th>\n",
       "      <th>family_status_id</th>\n",
       "      <th>gender</th>\n",
       "      <th>income_type</th>\n",
       "      <th>debt</th>\n",
       "      <th>total_income</th>\n",
       "      <th>purpose</th>\n",
       "      <th>total_income_cat</th>\n",
       "    </tr>\n",
       "  </thead>\n",
       "  <tbody>\n",
       "    <tr>\n",
       "      <td>0</td>\n",
       "      <td>1</td>\n",
       "      <td>-8437</td>\n",
       "      <td>42</td>\n",
       "      <td>высшее</td>\n",
       "      <td>0</td>\n",
       "      <td>женат / замужем</td>\n",
       "      <td>0</td>\n",
       "      <td>F</td>\n",
       "      <td>сотрудник</td>\n",
       "      <td>0</td>\n",
       "      <td>253875</td>\n",
       "      <td>покупка жилья</td>\n",
       "      <td>Сверхвысокий доход</td>\n",
       "    </tr>\n",
       "    <tr>\n",
       "      <td>1</td>\n",
       "      <td>1</td>\n",
       "      <td>-4024</td>\n",
       "      <td>36</td>\n",
       "      <td>среднее</td>\n",
       "      <td>1</td>\n",
       "      <td>женат / замужем</td>\n",
       "      <td>0</td>\n",
       "      <td>F</td>\n",
       "      <td>сотрудник</td>\n",
       "      <td>0</td>\n",
       "      <td>112080</td>\n",
       "      <td>приобретение автомобиля</td>\n",
       "      <td>Средний доход</td>\n",
       "    </tr>\n",
       "    <tr>\n",
       "      <td>2</td>\n",
       "      <td>0</td>\n",
       "      <td>-5623</td>\n",
       "      <td>33</td>\n",
       "      <td>среднее</td>\n",
       "      <td>1</td>\n",
       "      <td>женат / замужем</td>\n",
       "      <td>0</td>\n",
       "      <td>M</td>\n",
       "      <td>сотрудник</td>\n",
       "      <td>0</td>\n",
       "      <td>145885</td>\n",
       "      <td>покупка жилья</td>\n",
       "      <td>Высокий доход</td>\n",
       "    </tr>\n",
       "    <tr>\n",
       "      <td>3</td>\n",
       "      <td>3</td>\n",
       "      <td>-4124</td>\n",
       "      <td>32</td>\n",
       "      <td>среднее</td>\n",
       "      <td>1</td>\n",
       "      <td>женат / замужем</td>\n",
       "      <td>0</td>\n",
       "      <td>M</td>\n",
       "      <td>сотрудник</td>\n",
       "      <td>0</td>\n",
       "      <td>267628</td>\n",
       "      <td>дополнительное образование</td>\n",
       "      <td>Сверхвысокий доход</td>\n",
       "    </tr>\n",
       "    <tr>\n",
       "      <td>4</td>\n",
       "      <td>0</td>\n",
       "      <td>340266</td>\n",
       "      <td>53</td>\n",
       "      <td>среднее</td>\n",
       "      <td>1</td>\n",
       "      <td>гражданский брак</td>\n",
       "      <td>1</td>\n",
       "      <td>F</td>\n",
       "      <td>пенсионер</td>\n",
       "      <td>0</td>\n",
       "      <td>158616</td>\n",
       "      <td>сыграть свадьбу</td>\n",
       "      <td>Высокий доход</td>\n",
       "    </tr>\n",
       "    <tr>\n",
       "      <td>5</td>\n",
       "      <td>0</td>\n",
       "      <td>-926</td>\n",
       "      <td>27</td>\n",
       "      <td>высшее</td>\n",
       "      <td>0</td>\n",
       "      <td>гражданский брак</td>\n",
       "      <td>1</td>\n",
       "      <td>M</td>\n",
       "      <td>компаньон</td>\n",
       "      <td>0</td>\n",
       "      <td>255763</td>\n",
       "      <td>покупка жилья</td>\n",
       "      <td>Сверхвысокий доход</td>\n",
       "    </tr>\n",
       "    <tr>\n",
       "      <td>6</td>\n",
       "      <td>0</td>\n",
       "      <td>-2879</td>\n",
       "      <td>43</td>\n",
       "      <td>высшее</td>\n",
       "      <td>0</td>\n",
       "      <td>женат / замужем</td>\n",
       "      <td>0</td>\n",
       "      <td>F</td>\n",
       "      <td>компаньон</td>\n",
       "      <td>0</td>\n",
       "      <td>240525</td>\n",
       "      <td>операции с жильем</td>\n",
       "      <td>Сверхвысокий доход</td>\n",
       "    </tr>\n",
       "    <tr>\n",
       "      <td>7</td>\n",
       "      <td>0</td>\n",
       "      <td>-152</td>\n",
       "      <td>50</td>\n",
       "      <td>среднее</td>\n",
       "      <td>1</td>\n",
       "      <td>женат / замужем</td>\n",
       "      <td>0</td>\n",
       "      <td>M</td>\n",
       "      <td>сотрудник</td>\n",
       "      <td>0</td>\n",
       "      <td>135823</td>\n",
       "      <td>образование</td>\n",
       "      <td>Средний доход</td>\n",
       "    </tr>\n",
       "    <tr>\n",
       "      <td>8</td>\n",
       "      <td>2</td>\n",
       "      <td>-6929</td>\n",
       "      <td>35</td>\n",
       "      <td>высшее</td>\n",
       "      <td>0</td>\n",
       "      <td>гражданский брак</td>\n",
       "      <td>1</td>\n",
       "      <td>F</td>\n",
       "      <td>сотрудник</td>\n",
       "      <td>0</td>\n",
       "      <td>95856</td>\n",
       "      <td>на проведение свадьбы</td>\n",
       "      <td>Невысокий доход</td>\n",
       "    </tr>\n",
       "    <tr>\n",
       "      <td>9</td>\n",
       "      <td>0</td>\n",
       "      <td>-2188</td>\n",
       "      <td>41</td>\n",
       "      <td>среднее</td>\n",
       "      <td>1</td>\n",
       "      <td>женат / замужем</td>\n",
       "      <td>0</td>\n",
       "      <td>M</td>\n",
       "      <td>сотрудник</td>\n",
       "      <td>0</td>\n",
       "      <td>144425</td>\n",
       "      <td>покупка жилья для семьи</td>\n",
       "      <td>Высокий доход</td>\n",
       "    </tr>\n",
       "  </tbody>\n",
       "</table>\n",
       "</div>"
      ],
      "text/plain": [
       "   children  days_employed  dob_years education  education_id  \\\n",
       "0         1          -8437         42    высшее             0   \n",
       "1         1          -4024         36   среднее             1   \n",
       "2         0          -5623         33   среднее             1   \n",
       "3         3          -4124         32   среднее             1   \n",
       "4         0         340266         53   среднее             1   \n",
       "5         0           -926         27    высшее             0   \n",
       "6         0          -2879         43    высшее             0   \n",
       "7         0           -152         50   среднее             1   \n",
       "8         2          -6929         35    высшее             0   \n",
       "9         0          -2188         41   среднее             1   \n",
       "\n",
       "      family_status  family_status_id gender income_type  debt  total_income  \\\n",
       "0   женат / замужем                 0      F   сотрудник     0        253875   \n",
       "1   женат / замужем                 0      F   сотрудник     0        112080   \n",
       "2   женат / замужем                 0      M   сотрудник     0        145885   \n",
       "3   женат / замужем                 0      M   сотрудник     0        267628   \n",
       "4  гражданский брак                 1      F   пенсионер     0        158616   \n",
       "5  гражданский брак                 1      M   компаньон     0        255763   \n",
       "6   женат / замужем                 0      F   компаньон     0        240525   \n",
       "7   женат / замужем                 0      M   сотрудник     0        135823   \n",
       "8  гражданский брак                 1      F   сотрудник     0         95856   \n",
       "9   женат / замужем                 0      M   сотрудник     0        144425   \n",
       "\n",
       "                      purpose    total_income_cat  \n",
       "0               покупка жилья  Сверхвысокий доход  \n",
       "1     приобретение автомобиля       Средний доход  \n",
       "2               покупка жилья       Высокий доход  \n",
       "3  дополнительное образование  Сверхвысокий доход  \n",
       "4             сыграть свадьбу       Высокий доход  \n",
       "5               покупка жилья  Сверхвысокий доход  \n",
       "6           операции с жильем  Сверхвысокий доход  \n",
       "7                 образование       Средний доход  \n",
       "8       на проведение свадьбы     Невысокий доход  \n",
       "9     покупка жилья для семьи       Высокий доход  "
      ]
     },
     "metadata": {},
     "output_type": "display_data"
    }
   ],
   "source": [
    "# смотрим на данные и записываем результат работы describe() в отдельный список, чтобы не пересчитывать значения каждый раз\n",
    "total_income_decription = list(df.total_income.describe())\n",
    "display(df.total_income.describe())\n",
    "\n",
    "# минимум, максимум\n",
    "min = total_income_decription[3]\n",
    "max = total_income_decription[7]\n",
    "\n",
    "# правая граница первой категории\n",
    "b_25 = total_income_decription[4]\n",
    "\n",
    "# правая граница второй категории\n",
    "b_50 = total_income_decription[5]\n",
    "\n",
    "# правая граница третьей категории\n",
    "b_75 = total_income_decription[6]\n",
    "\n",
    "# создание словаря\n",
    "\n",
    "total_income_cat_ids = {'Невысокий доход' : 0,\n",
    "                       'Средний доход' : 1,\n",
    "                       'Высокий доход' : 2,\n",
    "                       'Сверхвысокий доход' : 3}\n",
    "\n",
    "# функция для присвоения категории\n",
    "def income_cat(row):\n",
    "    s = row['total_income']\n",
    "    if s <= b_25:\n",
    "        return 'Невысокий доход'\n",
    "    if s <= b_50:\n",
    "        return 'Средний доход'\n",
    "    if s <= b_75:\n",
    "        return 'Высокий доход'\n",
    "    if s <= max:\n",
    "        return 'Сверхвысокий доход'\n",
    "\n",
    "# столбец с категориями дохода\n",
    "df['total_income_cat'] = df.apply(income_cat, axis=1)\n",
    "\n",
    "# функция для получения цифрового индекса\n",
    "def income_cat_id(row):\n",
    "    return total_income_cat_ids[row['total_income_cat']]\n",
    "\n",
    "# выведем что получилось\n",
    "\n",
    "display(df.head(10))    "
   ]
  },
  {
   "cell_type": "markdown",
   "metadata": {},
   "source": [
    "**Вывод**"
   ]
  },
  {
   "cell_type": "markdown",
   "metadata": {},
   "source": [
    "Чтобы ответить на один из вопросов проекта, данные были категоризованы по уровню дохода. Для этого было сделано следующее:\n",
    "\n",
    "Определено количество категорий, их границы, сопоставлены им цифровые индексы\n",
    "Написана функция, которая присваивает категорию дохода в зависимости от его значения\n",
    "Составлен словарь с названиями категорий и их цифровыми индексами\n",
    "Написана функция, возвращающая цифровой индекс категории по её названию\n",
    "Как результат, получили новые столбцы с категорией дохода и цифровым индексом данной категории."
   ]
  },
  {
   "cell_type": "markdown",
   "metadata": {},
   "source": [
    "## Шаг 3. Ответьте на вопросы"
   ]
  },
  {
   "cell_type": "markdown",
   "metadata": {},
   "source": [
    "- Есть ли зависимость между наличием детей и возвратом кредита в срок?"
   ]
  },
  {
   "cell_type": "code",
   "execution_count": 24,
   "metadata": {},
   "outputs": [
    {
     "name": "stdout",
     "output_type": "stream",
     "text": [
      " 0     14091\n",
      " 1      4808\n",
      " 2      2052\n",
      " 3       330\n",
      " 20       76\n",
      "-1        47\n",
      " 4        41\n",
      " 5         9\n",
      "Name: children, dtype: int64\n"
     ]
    }
   ],
   "source": [
    "#выведем данные по количеству детей в семьях заемщиков\n",
    "print(df['children'].value_counts())"
   ]
  },
  {
   "cell_type": "markdown",
   "metadata": {},
   "source": [
    "Вероятнее всего, значение -1 в в столбце children - это техническая ошибка, можно просто убрать знак - с помощью функции abs."
   ]
  },
  {
   "cell_type": "code",
   "execution_count": 25,
   "metadata": {},
   "outputs": [],
   "source": [
    "df['children'] = df['children'].apply(abs)"
   ]
  },
  {
   "cell_type": "code",
   "execution_count": 26,
   "metadata": {},
   "outputs": [
    {
     "data": {
      "text/html": [
       "<style  type=\"text/css\" >\n",
       "</style><table id=\"T_6e7ed02a_4067_11ec_a220_02420a3967b6\" ><thead>    <tr>        <th class=\"blank level0\" ></th>        <th class=\"col_heading level0 col0\" >no_debt</th>        <th class=\"col_heading level0 col1\" >debt</th>        <th class=\"col_heading level0 col2\" >percent</th>    </tr>    <tr>        <th class=\"index_name level0\" >children</th>        <th class=\"blank\" ></th>        <th class=\"blank\" ></th>        <th class=\"blank\" ></th>    </tr></thead><tbody>\n",
       "                <tr>\n",
       "                        <th id=\"T_6e7ed02a_4067_11ec_a220_02420a3967b6level0_row0\" class=\"row_heading level0 row0\" >0</th>\n",
       "                        <td id=\"T_6e7ed02a_4067_11ec_a220_02420a3967b6row0_col0\" class=\"data row0 col0\" >13028</td>\n",
       "                        <td id=\"T_6e7ed02a_4067_11ec_a220_02420a3967b6row0_col1\" class=\"data row0 col1\" >1063</td>\n",
       "                        <td id=\"T_6e7ed02a_4067_11ec_a220_02420a3967b6row0_col2\" class=\"data row0 col2\" >7.54%</td>\n",
       "            </tr>\n",
       "            <tr>\n",
       "                        <th id=\"T_6e7ed02a_4067_11ec_a220_02420a3967b6level0_row1\" class=\"row_heading level0 row1\" >1</th>\n",
       "                        <td id=\"T_6e7ed02a_4067_11ec_a220_02420a3967b6row1_col0\" class=\"data row1 col0\" >4410</td>\n",
       "                        <td id=\"T_6e7ed02a_4067_11ec_a220_02420a3967b6row1_col1\" class=\"data row1 col1\" >445</td>\n",
       "                        <td id=\"T_6e7ed02a_4067_11ec_a220_02420a3967b6row1_col2\" class=\"data row1 col2\" >9.17%</td>\n",
       "            </tr>\n",
       "            <tr>\n",
       "                        <th id=\"T_6e7ed02a_4067_11ec_a220_02420a3967b6level0_row2\" class=\"row_heading level0 row2\" >2</th>\n",
       "                        <td id=\"T_6e7ed02a_4067_11ec_a220_02420a3967b6row2_col0\" class=\"data row2 col0\" >1858</td>\n",
       "                        <td id=\"T_6e7ed02a_4067_11ec_a220_02420a3967b6row2_col1\" class=\"data row2 col1\" >194</td>\n",
       "                        <td id=\"T_6e7ed02a_4067_11ec_a220_02420a3967b6row2_col2\" class=\"data row2 col2\" >9.45%</td>\n",
       "            </tr>\n",
       "            <tr>\n",
       "                        <th id=\"T_6e7ed02a_4067_11ec_a220_02420a3967b6level0_row3\" class=\"row_heading level0 row3\" >3</th>\n",
       "                        <td id=\"T_6e7ed02a_4067_11ec_a220_02420a3967b6row3_col0\" class=\"data row3 col0\" >303</td>\n",
       "                        <td id=\"T_6e7ed02a_4067_11ec_a220_02420a3967b6row3_col1\" class=\"data row3 col1\" >27</td>\n",
       "                        <td id=\"T_6e7ed02a_4067_11ec_a220_02420a3967b6row3_col2\" class=\"data row3 col2\" >8.18%</td>\n",
       "            </tr>\n",
       "            <tr>\n",
       "                        <th id=\"T_6e7ed02a_4067_11ec_a220_02420a3967b6level0_row4\" class=\"row_heading level0 row4\" >4</th>\n",
       "                        <td id=\"T_6e7ed02a_4067_11ec_a220_02420a3967b6row4_col0\" class=\"data row4 col0\" >37</td>\n",
       "                        <td id=\"T_6e7ed02a_4067_11ec_a220_02420a3967b6row4_col1\" class=\"data row4 col1\" >4</td>\n",
       "                        <td id=\"T_6e7ed02a_4067_11ec_a220_02420a3967b6row4_col2\" class=\"data row4 col2\" >9.76%</td>\n",
       "            </tr>\n",
       "            <tr>\n",
       "                        <th id=\"T_6e7ed02a_4067_11ec_a220_02420a3967b6level0_row5\" class=\"row_heading level0 row5\" >5</th>\n",
       "                        <td id=\"T_6e7ed02a_4067_11ec_a220_02420a3967b6row5_col0\" class=\"data row5 col0\" >9</td>\n",
       "                        <td id=\"T_6e7ed02a_4067_11ec_a220_02420a3967b6row5_col1\" class=\"data row5 col1\" >0</td>\n",
       "                        <td id=\"T_6e7ed02a_4067_11ec_a220_02420a3967b6row5_col2\" class=\"data row5 col2\" >0.00%</td>\n",
       "            </tr>\n",
       "            <tr>\n",
       "                        <th id=\"T_6e7ed02a_4067_11ec_a220_02420a3967b6level0_row6\" class=\"row_heading level0 row6\" >20</th>\n",
       "                        <td id=\"T_6e7ed02a_4067_11ec_a220_02420a3967b6row6_col0\" class=\"data row6 col0\" >68</td>\n",
       "                        <td id=\"T_6e7ed02a_4067_11ec_a220_02420a3967b6row6_col1\" class=\"data row6 col1\" >8</td>\n",
       "                        <td id=\"T_6e7ed02a_4067_11ec_a220_02420a3967b6row6_col2\" class=\"data row6 col2\" >10.53%</td>\n",
       "            </tr>\n",
       "    </tbody></table>"
      ],
      "text/plain": [
       "<pandas.io.formats.style.Styler at 0x7f26a047cfd0>"
      ]
     },
     "metadata": {},
     "output_type": "display_data"
    }
   ],
   "source": [
    "df.groupby('children')['debt'].agg(['count', 'mean'])\n",
    "report1 = df.pivot_table(index = 'children', columns = 'debt', values = 'dob_years', aggfunc = 'count').fillna(0)\n",
    "report1.columns = ['no_debt','debt']\n",
    "report1['percent'] = report1['debt'] / (report1['debt'] + report1['no_debt'])\n",
    "display(report1.style.format({'percent':'{:.2%}', 'no_debt':'{:.0f}'}))"
   ]
  },
  {
   "cell_type": "markdown",
   "metadata": {},
   "source": [
    "**Вывод**"
   ]
  },
  {
   "cell_type": "markdown",
   "metadata": {},
   "source": [
    "Исходя из полученных данных можно сделать вывод, что зависимость между наличием детей и возвратом кредита в срок существует. Заёмщики без детей имеют самый низкий процент должников (не считая аномальной группы заёмщиков с 5-ю детьми, где должников нет вовсе). С увеличением числа детей процент должников в группе начинает возрастать (опять же за исключением групп с 3-мя и 5-ю детьми). В целом это логично - чем больше детей, тем выше финансовая нагрузка и выше риск невозврата займа в срок.\n",
    "\n",
    "Процент по категориям, в которых трое и более детей, может быть недостоверным, так как выборки довольно малы и потому нерепрезентативны."
   ]
  },
  {
   "cell_type": "markdown",
   "metadata": {},
   "source": [
    "- Есть ли зависимость между семейным положением и возвратом кредита в срок?"
   ]
  },
  {
   "cell_type": "markdown",
   "metadata": {},
   "source": [
    "Сгруппируем данные по столбцу family_status и применим к столбцу debt функции sum и count для получения числа должников и общего числа записей в группе соответственно. Эти данные запишем в новый датафрейм.\n",
    "Добавим в полученный датафрейм ещё один столбец, в который запишем отношение числа должников к общему числу в группе и умножим на 100. Результат округлим до 2 чисел после запятой. Таким образом получим процент должников в каждой группе."
   ]
  },
  {
   "cell_type": "code",
   "execution_count": 27,
   "metadata": {},
   "outputs": [
    {
     "data": {
      "text/html": [
       "<div>\n",
       "<style scoped>\n",
       "    .dataframe tbody tr th:only-of-type {\n",
       "        vertical-align: middle;\n",
       "    }\n",
       "\n",
       "    .dataframe tbody tr th {\n",
       "        vertical-align: top;\n",
       "    }\n",
       "\n",
       "    .dataframe thead tr th {\n",
       "        text-align: left;\n",
       "    }\n",
       "\n",
       "    .dataframe thead tr:last-of-type th {\n",
       "        text-align: right;\n",
       "    }\n",
       "</style>\n",
       "<table border=\"1\" class=\"dataframe\">\n",
       "  <thead>\n",
       "    <tr>\n",
       "      <th></th>\n",
       "      <th colspan=\"2\" halign=\"left\">debt</th>\n",
       "      <th>debt_ratio</th>\n",
       "    </tr>\n",
       "    <tr>\n",
       "      <th></th>\n",
       "      <th>sum</th>\n",
       "      <th>count</th>\n",
       "      <th></th>\n",
       "    </tr>\n",
       "    <tr>\n",
       "      <th>family_status</th>\n",
       "      <th></th>\n",
       "      <th></th>\n",
       "      <th></th>\n",
       "    </tr>\n",
       "  </thead>\n",
       "  <tbody>\n",
       "    <tr>\n",
       "      <td>не женат / не замужем</td>\n",
       "      <td>274</td>\n",
       "      <td>2810</td>\n",
       "      <td>9.75</td>\n",
       "    </tr>\n",
       "    <tr>\n",
       "      <td>гражданский брак</td>\n",
       "      <td>388</td>\n",
       "      <td>4151</td>\n",
       "      <td>9.35</td>\n",
       "    </tr>\n",
       "    <tr>\n",
       "      <td>женат / замужем</td>\n",
       "      <td>931</td>\n",
       "      <td>12339</td>\n",
       "      <td>7.55</td>\n",
       "    </tr>\n",
       "    <tr>\n",
       "      <td>в разводе</td>\n",
       "      <td>85</td>\n",
       "      <td>1195</td>\n",
       "      <td>7.11</td>\n",
       "    </tr>\n",
       "    <tr>\n",
       "      <td>вдовец / вдова</td>\n",
       "      <td>63</td>\n",
       "      <td>959</td>\n",
       "      <td>6.57</td>\n",
       "    </tr>\n",
       "  </tbody>\n",
       "</table>\n",
       "</div>"
      ],
      "text/plain": [
       "                      debt        debt_ratio\n",
       "                       sum  count           \n",
       "family_status                               \n",
       "не женат / не замужем  274   2810       9.75\n",
       "гражданский брак       388   4151       9.35\n",
       "женат / замужем        931  12339       7.55\n",
       "в разводе               85   1195       7.11\n",
       "вдовец / вдова          63    959       6.57"
      ]
     },
     "metadata": {},
     "output_type": "display_data"
    }
   ],
   "source": [
    "# создаём новый датафрейм с группировкой\n",
    "family_data = df.groupby('family_status').agg({'debt' : ['sum', 'count']})\n",
    "\n",
    "# добавляем столбец с процентом должников в каждой группе\n",
    "family_data['debt_ratio'] = round(family_data['debt']['sum'] / family_data['debt']['count'] * 100,2)\n",
    "\n",
    "# выводим полученную таблицу\n",
    "display(family_data.sort_values(by = 'debt_ratio', ascending = False))"
   ]
  },
  {
   "cell_type": "markdown",
   "metadata": {},
   "source": [
    "**Вывод**"
   ]
  },
  {
   "cell_type": "markdown",
   "metadata": {},
   "source": [
    "На основе полученных данных можно сделать вывод о том, что зависимость между семейным положением и возвратом кредита в срок существует. Самые высокие доли должников среди незамужних/неженатых и тех, кто предпочел не регистрировать брак официально. Должников среди состоящих (и состоявших) в официально зарегистрированных отношениях - существенно меньше. Такой результат связан с тем, что решение бытовых вопросов вскладчину всегда выходит экономичнее, поэтому в большинстве семей ведется совместный бюджет. А это, в свою очередь, что позволяет оптимизировать денежные потоки на актуальные цели."
   ]
  },
  {
   "cell_type": "markdown",
   "metadata": {},
   "source": [
    "- Есть ли зависимость между уровнем дохода и возвратом кредита в срок?"
   ]
  },
  {
   "cell_type": "markdown",
   "metadata": {},
   "source": [
    "\n",
    "Сгруппируем данные по столбцу total_income_cat и применим к столбцу debt функции sum и count для получения числа должников и общего числа записей в группе соответственно. Эти данные запишем в новый датафрейм\n",
    "Добавим в полученный датафрейм ещё один столбец, в который запишем отношение числа должников к общему числу в группе и умножим на 100. Результат округлим до 2 чисел после запятой. Таким образом получим процент должников в каждой группе"
   ]
  },
  {
   "cell_type": "code",
   "execution_count": 28,
   "metadata": {},
   "outputs": [
    {
     "data": {
      "text/html": [
       "<div>\n",
       "<style scoped>\n",
       "    .dataframe tbody tr th:only-of-type {\n",
       "        vertical-align: middle;\n",
       "    }\n",
       "\n",
       "    .dataframe tbody tr th {\n",
       "        vertical-align: top;\n",
       "    }\n",
       "\n",
       "    .dataframe thead tr th {\n",
       "        text-align: left;\n",
       "    }\n",
       "\n",
       "    .dataframe thead tr:last-of-type th {\n",
       "        text-align: right;\n",
       "    }\n",
       "</style>\n",
       "<table border=\"1\" class=\"dataframe\">\n",
       "  <thead>\n",
       "    <tr>\n",
       "      <th></th>\n",
       "      <th colspan=\"2\" halign=\"left\">debt</th>\n",
       "      <th>debt_ratio</th>\n",
       "    </tr>\n",
       "    <tr>\n",
       "      <th></th>\n",
       "      <th>sum</th>\n",
       "      <th>count</th>\n",
       "      <th></th>\n",
       "    </tr>\n",
       "    <tr>\n",
       "      <th>total_income_cat</th>\n",
       "      <th></th>\n",
       "      <th></th>\n",
       "      <th></th>\n",
       "    </tr>\n",
       "  </thead>\n",
       "  <tbody>\n",
       "    <tr>\n",
       "      <td>Средний доход</td>\n",
       "      <td>483</td>\n",
       "      <td>5479</td>\n",
       "      <td>8.82</td>\n",
       "    </tr>\n",
       "    <tr>\n",
       "      <td>Высокий доход</td>\n",
       "      <td>448</td>\n",
       "      <td>5247</td>\n",
       "      <td>8.54</td>\n",
       "    </tr>\n",
       "    <tr>\n",
       "      <td>Невысокий доход</td>\n",
       "      <td>427</td>\n",
       "      <td>5364</td>\n",
       "      <td>7.96</td>\n",
       "    </tr>\n",
       "    <tr>\n",
       "      <td>Сверхвысокий доход</td>\n",
       "      <td>383</td>\n",
       "      <td>5364</td>\n",
       "      <td>7.14</td>\n",
       "    </tr>\n",
       "  </tbody>\n",
       "</table>\n",
       "</div>"
      ],
      "text/plain": [
       "                   debt       debt_ratio\n",
       "                    sum count           \n",
       "total_income_cat                        \n",
       "Средний доход       483  5479       8.82\n",
       "Высокий доход       448  5247       8.54\n",
       "Невысокий доход     427  5364       7.96\n",
       "Сверхвысокий доход  383  5364       7.14"
      ]
     },
     "metadata": {},
     "output_type": "display_data"
    }
   ],
   "source": [
    "# создаём новый датафрейм с группировкой\n",
    "income_data = df.groupby('total_income_cat').agg({'debt' : ['sum', 'count']})\n",
    "\n",
    "# добавляем столбец с процентом должников к общему числу в группе\n",
    "income_data['debt_ratio'] = round(income_data['debt']['sum'] / income_data['debt']['count'] * 100, 2)\n",
    "\n",
    "# выводим полученную таблицу\n",
    "display(income_data.sort_values(by = 'debt_ratio', ascending = False))\n"
   ]
  },
  {
   "cell_type": "markdown",
   "metadata": {},
   "source": [
    "**Вывод**"
   ]
  },
  {
   "cell_type": "markdown",
   "metadata": {},
   "source": [
    "Прослеживается определенная логика между уровнем дохода и возвратом кредита в срок. \n",
    "Меньше всего должников в категории со сверхвысоким доходом (7,14 %). Наличие сверхвысокого дохода позволяет поддерживать финансовую дисциплину.\n",
    "\n",
    "Немного должников (7,96 %) и среди обладателей невысокого дохода, что может показаться контринтуитивным сначала.Однако, именно ограниченность бюджета, как правило, заставляет людей быть финансово дисциплинированными: выплачивать кредиты вовремя, избегать начисления штрафов и пеней, а также поддерживать хорошую кредитную историю.\n",
    "\n",
    "Остальные категории дохода (средний и высокий) имеют примерно равный процент должников (8,82 % и 8,54 % соответственно). Возможно, данным категориям уже не так страшны штрафы в силу более высокого дохода.\n",
    "\n",
    "Отвечая на вопрос, можно сказать, что зависимость между уровнем дохода и возвратом кредита в срок существует."
   ]
  },
  {
   "cell_type": "markdown",
   "metadata": {},
   "source": [
    "- Как разные цели кредита влияют на его возврат в срок?"
   ]
  },
  {
   "cell_type": "markdown",
   "metadata": {},
   "source": [
    "Создадим сводную таблицу, сгруппированную по целям кредита. В качестве значений, по которым мы хотим увидеть сводку, возмьём значения столбца debt. \n",
    "Добавим в полученный датафрейм ещё один столбец, в который запишем отношение числа должников к общему числу в группе и умножим на 100. Результат округлим до 2 чисел после запятой. Таким образом получим процент должников в каждой группе."
   ]
  },
  {
   "cell_type": "code",
   "execution_count": 29,
   "metadata": {},
   "outputs": [
    {
     "data": {
      "text/html": [
       "<div>\n",
       "<style scoped>\n",
       "    .dataframe tbody tr th:only-of-type {\n",
       "        vertical-align: middle;\n",
       "    }\n",
       "\n",
       "    .dataframe tbody tr th {\n",
       "        vertical-align: top;\n",
       "    }\n",
       "\n",
       "    .dataframe thead tr th {\n",
       "        text-align: left;\n",
       "    }\n",
       "\n",
       "    .dataframe thead tr:last-of-type th {\n",
       "        text-align: right;\n",
       "    }\n",
       "</style>\n",
       "<table border=\"1\" class=\"dataframe\">\n",
       "  <thead>\n",
       "    <tr>\n",
       "      <th></th>\n",
       "      <th>sum</th>\n",
       "      <th>count</th>\n",
       "      <th>mean</th>\n",
       "    </tr>\n",
       "    <tr>\n",
       "      <th></th>\n",
       "      <th>debt</th>\n",
       "      <th>debt</th>\n",
       "      <th>debt</th>\n",
       "    </tr>\n",
       "    <tr>\n",
       "      <th>purpose_cat</th>\n",
       "      <th></th>\n",
       "      <th></th>\n",
       "      <th></th>\n",
       "    </tr>\n",
       "  </thead>\n",
       "  <tbody>\n",
       "    <tr>\n",
       "      <td>Займ на покупку автомобиля</td>\n",
       "      <td>403</td>\n",
       "      <td>4306</td>\n",
       "      <td>9.36</td>\n",
       "    </tr>\n",
       "    <tr>\n",
       "      <td>Займ на покупку недвижимости</td>\n",
       "      <td>603</td>\n",
       "      <td>8326</td>\n",
       "      <td>7.24</td>\n",
       "    </tr>\n",
       "    <tr>\n",
       "      <td>Займ на получение образования</td>\n",
       "      <td>370</td>\n",
       "      <td>4013</td>\n",
       "      <td>9.22</td>\n",
       "    </tr>\n",
       "    <tr>\n",
       "      <td>Займ на проведение свадьбы</td>\n",
       "      <td>186</td>\n",
       "      <td>2324</td>\n",
       "      <td>8.00</td>\n",
       "    </tr>\n",
       "    <tr>\n",
       "      <td>Займ на ремонт недвижимости</td>\n",
       "      <td>35</td>\n",
       "      <td>607</td>\n",
       "      <td>5.77</td>\n",
       "    </tr>\n",
       "    <tr>\n",
       "      <td>Займ на строительство недвижимости</td>\n",
       "      <td>144</td>\n",
       "      <td>1878</td>\n",
       "      <td>7.67</td>\n",
       "    </tr>\n",
       "  </tbody>\n",
       "</table>\n",
       "</div>"
      ],
      "text/plain": [
       "                                    sum count  mean\n",
       "                                   debt  debt  debt\n",
       "purpose_cat                                        \n",
       "Займ на покупку автомобиля          403  4306  9.36\n",
       "Займ на покупку недвижимости        603  8326  7.24\n",
       "Займ на получение образования       370  4013  9.22\n",
       "Займ на проведение свадьбы          186  2324  8.00\n",
       "Займ на ремонт недвижимости          35   607  5.77\n",
       "Займ на строительство недвижимости  144  1878  7.67"
      ]
     },
     "metadata": {},
     "output_type": "display_data"
    }
   ],
   "source": [
    "# создадим новый датафрейм, куда сохраним сводную таблицу по должникам\n",
    "purpose_data = data.pivot_table(index = 'purpose_cat', values = 'debt', aggfunc = ['sum', 'count', 'mean'])\n",
    "purpose_data['mean'] = round(purpose_data['mean'] * 100, 2)\n",
    "\n",
    "# выводим полученную таблицу\n",
    "display(purpose_data)"
   ]
  },
  {
   "cell_type": "markdown",
   "metadata": {},
   "source": [
    "**Вывод**"
   ]
  },
  {
   "cell_type": "markdown",
   "metadata": {},
   "source": [
    "Можно проследить зависимость между целью кредита и процентом невозврата в срок:\n",
    "\n",
    "Самый низкий процент просрочек (5,77 %) - среди займов на ремонт, ввиду наличия сметы и сравнительно небольшой суммы кредита.\n",
    "Покупка и строительство недвижимости (7,24 % и 7,67 %) - серьёзные шаги, которые также предполагают серьёзный предварительный расчёт.\n",
    "Свадьба (8 %) - кредит на свадьбу берется из установки \"один раз в жизни свадьба\", закатывая порой мероприятия не по средствам.\n",
    "Займ на получение образования (9,22 %) - повышенный процент просрочек предположительно связан с тем, недавние выпускники не сразу находят высокооплачиваемую работу и им необходимо какое-то время для профессионального становления, и соответственно, повышения доходов.\n",
    "Автомобиль (9,36 %) - лидер по числу просрочек, так как многие берут автомобили в кредит не по карману, откуда и максимальный процент просрочек."
   ]
  },
  {
   "cell_type": "markdown",
   "metadata": {},
   "source": [
    "## Шаг 4. Общий вывод"
   ]
  },
  {
   "cell_type": "markdown",
   "metadata": {},
   "source": [
    "Основная задача этого проекта - выделить ненадежные группы заемщиков.\n",
    "В результате выявлена зависимость между наличием детей и возвратом кредита в срок: наиболее рискованно выдавать кредиты семьям с 1-2 детьми (9-10% процентов таких клиентов задерживают выплаты по кредитам). Процент по категориям, в которых трое и более детей, может быть недостоверным, так как выборки довольно малы и потому нерепрезентативны\n",
    "Также отслеживается зависимость между семейным положением и возвратом кредита в срок - холостые и люди в гражданском браке более склонны к задолженностям по кредиту.\n",
    "Выявлена взаимосвязь между уровнем дохода и возвратом кредита в срок - люди со средним доходом - самые рискованные плательщики (их 8.82%). Наименее рискованные плательщики - люди с высоким доходом.\n",
    "В результате исследования зависимости цели кредита и его возврата в срок, можно сделать вывод, что наиболее рискованные цели кредита - это категории, связанные с автомобилями и образованием. Они наиболее подвержены невозврату в срок.\n",
    "По полученным данным можно сделать вывод, что при любых условиях не менее 90% клиентов возвращают кредит в срок. Поэтому кредитование является довольно популярным бизнесом.\n",
    "Хорошие клиенты, которые возвращают кредит в срок:\n",
    "клиенты, не имеющие детей. 92,5% процентов таких клиентов возвращают кредит в срок;\n",
    "92.5% и 93.5% (соответственно) клиентов, находящихся в семейном положении \"вдовец/вдова\" и \"женат/замужем\" своевременно возвращают кредит;\n",
    "наименее рискованные плательщики - люди со сверхвысоким уровнем дохода - 93% таких клиентов возвращают кредиты в срок;\n",
    "наименее рискованные цели взятия кредита - это ремонт и покупка недвижимости."
   ]
  }
 ],
 "metadata": {
  "ExecuteTimeLog": [
   {
    "duration": 819,
    "start_time": "2021-10-18T21:59:34.408Z"
   },
   {
    "duration": 78,
    "start_time": "2021-10-18T22:00:12.041Z"
   },
   {
    "duration": 61,
    "start_time": "2021-10-18T22:00:35.879Z"
   },
   {
    "duration": 827,
    "start_time": "2021-10-19T04:25:19.898Z"
   },
   {
    "duration": 320,
    "start_time": "2021-10-19T04:26:00.326Z"
   },
   {
    "duration": 307,
    "start_time": "2021-10-19T04:26:13.980Z"
   },
   {
    "duration": 305,
    "start_time": "2021-10-19T04:26:15.172Z"
   },
   {
    "duration": 634,
    "start_time": "2021-10-19T04:26:24.060Z"
   },
   {
    "duration": 51,
    "start_time": "2021-10-19T04:26:24.696Z"
   },
   {
    "duration": 19,
    "start_time": "2021-10-19T04:26:24.749Z"
   },
   {
    "duration": 10,
    "start_time": "2021-10-19T04:27:54.988Z"
   },
   {
    "duration": 443,
    "start_time": "2021-10-19T19:58:34.514Z"
   },
   {
    "duration": 856,
    "start_time": "2021-10-19T20:02:34.973Z"
   },
   {
    "duration": 61,
    "start_time": "2021-10-19T20:02:35.831Z"
   },
   {
    "duration": 29,
    "start_time": "2021-10-19T20:02:35.895Z"
   },
   {
    "duration": 39,
    "start_time": "2021-10-19T20:02:35.927Z"
   },
   {
    "duration": 11,
    "start_time": "2021-10-19T20:02:35.969Z"
   },
   {
    "duration": 204,
    "start_time": "2021-10-20T01:03:07.227Z"
   },
   {
    "duration": 518,
    "start_time": "2021-10-20T01:03:15.114Z"
   },
   {
    "duration": 49,
    "start_time": "2021-10-20T01:03:15.634Z"
   },
   {
    "duration": 17,
    "start_time": "2021-10-20T01:03:15.685Z"
   },
   {
    "duration": 12,
    "start_time": "2021-10-20T01:03:15.704Z"
   },
   {
    "duration": 8,
    "start_time": "2021-10-20T01:03:15.718Z"
   },
   {
    "duration": 242,
    "start_time": "2021-10-20T01:18:52.627Z"
   },
   {
    "duration": 162,
    "start_time": "2021-10-20T01:19:00.351Z"
   },
   {
    "duration": 159,
    "start_time": "2021-10-20T01:19:19.948Z"
   },
   {
    "duration": 13,
    "start_time": "2021-10-20T01:24:32.061Z"
   },
   {
    "duration": 10,
    "start_time": "2021-10-20T01:24:52.871Z"
   },
   {
    "duration": 172,
    "start_time": "2021-10-20T01:24:59.824Z"
   },
   {
    "duration": 209,
    "start_time": "2021-10-20T01:25:09.475Z"
   },
   {
    "duration": 3872,
    "start_time": "2021-10-20T01:31:40.829Z"
   },
   {
    "duration": 9,
    "start_time": "2021-10-20T01:41:37.615Z"
   },
   {
    "duration": 9,
    "start_time": "2021-10-20T01:45:39.808Z"
   },
   {
    "duration": 9,
    "start_time": "2021-10-20T01:46:02.893Z"
   },
   {
    "duration": 10,
    "start_time": "2021-10-20T01:52:13.133Z"
   },
   {
    "duration": 2230,
    "start_time": "2021-10-21T00:34:06.391Z"
   },
   {
    "duration": 236,
    "start_time": "2021-10-21T00:35:37.603Z"
   },
   {
    "duration": 789,
    "start_time": "2021-10-21T00:35:52.119Z"
   },
   {
    "duration": 75,
    "start_time": "2021-10-21T00:35:52.911Z"
   },
   {
    "duration": 20,
    "start_time": "2021-10-21T00:35:52.988Z"
   },
   {
    "duration": 12,
    "start_time": "2021-10-21T00:35:53.010Z"
   },
   {
    "duration": 9,
    "start_time": "2021-10-21T00:35:53.024Z"
   },
   {
    "duration": 32,
    "start_time": "2021-10-21T00:35:53.035Z"
   },
   {
    "duration": 40,
    "start_time": "2021-10-21T00:35:53.069Z"
   },
   {
    "duration": 9,
    "start_time": "2021-10-21T00:35:53.112Z"
   },
   {
    "duration": 9,
    "start_time": "2021-10-21T00:39:35.137Z"
   },
   {
    "duration": 398,
    "start_time": "2021-10-21T22:46:03.908Z"
   },
   {
    "duration": 441,
    "start_time": "2021-10-21T22:46:43.124Z"
   },
   {
    "duration": 660,
    "start_time": "2021-10-21T22:46:50.458Z"
   },
   {
    "duration": 54,
    "start_time": "2021-10-21T22:46:51.120Z"
   },
   {
    "duration": 18,
    "start_time": "2021-10-21T22:46:51.176Z"
   },
   {
    "duration": 10,
    "start_time": "2021-10-21T22:46:51.197Z"
   },
   {
    "duration": 10,
    "start_time": "2021-10-21T22:46:51.209Z"
   },
   {
    "duration": 11,
    "start_time": "2021-10-21T22:46:51.220Z"
   },
   {
    "duration": 72,
    "start_time": "2021-10-21T22:46:51.232Z"
   },
   {
    "duration": 8,
    "start_time": "2021-10-21T22:46:51.307Z"
   },
   {
    "duration": 433,
    "start_time": "2021-10-21T22:46:51.317Z"
   },
   {
    "duration": 405,
    "start_time": "2021-10-21T22:49:53.603Z"
   },
   {
    "duration": 51,
    "start_time": "2021-10-21T22:50:03.998Z"
   },
   {
    "duration": 59,
    "start_time": "2021-10-21T22:51:29.220Z"
   },
   {
    "duration": 352,
    "start_time": "2021-10-21T22:52:50.976Z"
   },
   {
    "duration": 607,
    "start_time": "2021-10-21T22:53:01.035Z"
   },
   {
    "duration": 54,
    "start_time": "2021-10-21T22:53:01.644Z"
   },
   {
    "duration": 19,
    "start_time": "2021-10-21T22:53:01.700Z"
   },
   {
    "duration": 14,
    "start_time": "2021-10-21T22:53:01.721Z"
   },
   {
    "duration": 9,
    "start_time": "2021-10-21T22:53:01.736Z"
   },
   {
    "duration": 32,
    "start_time": "2021-10-21T22:53:01.747Z"
   },
   {
    "duration": 43,
    "start_time": "2021-10-21T22:53:01.780Z"
   },
   {
    "duration": 9,
    "start_time": "2021-10-21T22:53:01.825Z"
   },
   {
    "duration": 421,
    "start_time": "2021-10-21T22:53:01.836Z"
   },
   {
    "duration": 368,
    "start_time": "2021-10-21T22:53:08.273Z"
   },
   {
    "duration": 24,
    "start_time": "2021-10-21T22:53:23.000Z"
   },
   {
    "duration": 12,
    "start_time": "2021-10-21T22:57:19.771Z"
   },
   {
    "duration": 10522,
    "start_time": "2021-10-21T23:33:46.200Z"
   },
   {
    "duration": 1928,
    "start_time": "2021-10-21T23:33:54.796Z"
   },
   {
    "duration": 771,
    "start_time": "2021-10-21T23:34:02.000Z"
   },
   {
    "duration": 55,
    "start_time": "2021-10-21T23:34:02.773Z"
   },
   {
    "duration": 21,
    "start_time": "2021-10-21T23:34:02.830Z"
   },
   {
    "duration": 16,
    "start_time": "2021-10-21T23:34:02.852Z"
   },
   {
    "duration": 12,
    "start_time": "2021-10-21T23:34:02.870Z"
   },
   {
    "duration": 13,
    "start_time": "2021-10-21T23:34:02.884Z"
   },
   {
    "duration": 45,
    "start_time": "2021-10-21T23:34:02.899Z"
   },
   {
    "duration": 9,
    "start_time": "2021-10-21T23:34:02.945Z"
   },
   {
    "duration": 11546,
    "start_time": "2021-10-21T23:34:02.956Z"
   },
   {
    "duration": 2005,
    "start_time": "2021-10-21T23:34:12.500Z"
   },
   {
    "duration": 11189,
    "start_time": "2021-10-21T23:34:24.884Z"
   },
   {
    "duration": 1961,
    "start_time": "2021-10-21T23:34:34.114Z"
   },
   {
    "duration": 1957,
    "start_time": "2021-10-21T23:34:34.119Z"
   },
   {
    "duration": 9752,
    "start_time": "2021-10-21T23:34:41.293Z"
   },
   {
    "duration": 1988,
    "start_time": "2021-10-21T23:34:49.059Z"
   },
   {
    "duration": 11,
    "start_time": "2021-10-21T23:34:55.491Z"
   },
   {
    "duration": 1945,
    "start_time": "2021-10-21T23:35:36.775Z"
   },
   {
    "duration": 11,
    "start_time": "2021-10-21T23:35:40.988Z"
   },
   {
    "duration": 12,
    "start_time": "2021-10-21T23:35:45.893Z"
   },
   {
    "duration": 976,
    "start_time": "2021-10-21T23:35:59.779Z"
   },
   {
    "duration": 55,
    "start_time": "2021-10-21T23:36:00.757Z"
   },
   {
    "duration": 19,
    "start_time": "2021-10-21T23:36:00.814Z"
   },
   {
    "duration": 22,
    "start_time": "2021-10-21T23:36:00.835Z"
   },
   {
    "duration": 17,
    "start_time": "2021-10-21T23:36:00.859Z"
   },
   {
    "duration": 10,
    "start_time": "2021-10-21T23:36:00.878Z"
   },
   {
    "duration": 56,
    "start_time": "2021-10-21T23:36:00.889Z"
   },
   {
    "duration": 9,
    "start_time": "2021-10-21T23:36:00.947Z"
   },
   {
    "duration": 18,
    "start_time": "2021-10-21T23:36:00.958Z"
   },
   {
    "duration": 15,
    "start_time": "2021-10-21T23:36:00.978Z"
   },
   {
    "duration": 4,
    "start_time": "2021-10-21T23:43:33.269Z"
   },
   {
    "duration": 12,
    "start_time": "2021-10-21T23:43:34.634Z"
   },
   {
    "duration": 11,
    "start_time": "2021-10-21T23:46:24.975Z"
   },
   {
    "duration": 599,
    "start_time": "2021-10-21T23:46:30.978Z"
   },
   {
    "duration": 53,
    "start_time": "2021-10-21T23:46:31.578Z"
   },
   {
    "duration": 19,
    "start_time": "2021-10-21T23:46:31.633Z"
   },
   {
    "duration": 12,
    "start_time": "2021-10-21T23:46:31.654Z"
   },
   {
    "duration": 13,
    "start_time": "2021-10-21T23:46:31.668Z"
   },
   {
    "duration": 9,
    "start_time": "2021-10-21T23:46:31.682Z"
   },
   {
    "duration": 41,
    "start_time": "2021-10-21T23:46:31.692Z"
   },
   {
    "duration": 8,
    "start_time": "2021-10-21T23:46:31.736Z"
   },
   {
    "duration": 32,
    "start_time": "2021-10-21T23:46:31.746Z"
   },
   {
    "duration": 9,
    "start_time": "2021-10-21T23:46:31.780Z"
   },
   {
    "duration": 12,
    "start_time": "2021-10-21T23:46:31.791Z"
   },
   {
    "duration": 408,
    "start_time": "2021-10-22T00:23:43.384Z"
   },
   {
    "duration": 634,
    "start_time": "2021-10-22T00:23:57.252Z"
   },
   {
    "duration": 54,
    "start_time": "2021-10-22T00:23:57.888Z"
   },
   {
    "duration": 19,
    "start_time": "2021-10-22T00:23:57.945Z"
   },
   {
    "duration": 16,
    "start_time": "2021-10-22T00:23:57.966Z"
   },
   {
    "duration": 9,
    "start_time": "2021-10-22T00:23:57.984Z"
   },
   {
    "duration": 9,
    "start_time": "2021-10-22T00:23:57.994Z"
   },
   {
    "duration": 43,
    "start_time": "2021-10-22T00:23:58.005Z"
   },
   {
    "duration": 34,
    "start_time": "2021-10-22T00:23:58.050Z"
   },
   {
    "duration": 3,
    "start_time": "2021-10-22T00:23:58.086Z"
   },
   {
    "duration": 6,
    "start_time": "2021-10-22T00:23:58.091Z"
   },
   {
    "duration": 14,
    "start_time": "2021-10-22T00:23:58.098Z"
   },
   {
    "duration": 377,
    "start_time": "2021-10-22T00:23:58.114Z"
   },
   {
    "duration": 11,
    "start_time": "2021-10-22T00:27:30.407Z"
   },
   {
    "duration": 12,
    "start_time": "2021-10-22T00:28:03.489Z"
   },
   {
    "duration": 3,
    "start_time": "2021-10-22T00:32:20.263Z"
   },
   {
    "duration": 42,
    "start_time": "2021-10-22T00:38:57.422Z"
   },
   {
    "duration": 27,
    "start_time": "2021-10-22T00:44:08.673Z"
   },
   {
    "duration": 18,
    "start_time": "2021-10-22T00:44:22.085Z"
   },
   {
    "duration": 49,
    "start_time": "2021-10-22T21:59:44.891Z"
   },
   {
    "duration": 26,
    "start_time": "2021-10-22T21:59:47.338Z"
   },
   {
    "duration": 17,
    "start_time": "2021-10-22T22:11:18.184Z"
   },
   {
    "duration": 21,
    "start_time": "2021-10-22T22:11:57.951Z"
   },
   {
    "duration": 17,
    "start_time": "2021-10-22T22:13:08.316Z"
   },
   {
    "duration": 16,
    "start_time": "2021-10-22T22:19:34.862Z"
   },
   {
    "duration": 465,
    "start_time": "2021-10-23T00:33:57.567Z"
   },
   {
    "duration": 905,
    "start_time": "2021-10-23T00:34:06.235Z"
   },
   {
    "duration": 69,
    "start_time": "2021-10-23T00:34:07.143Z"
   },
   {
    "duration": 29,
    "start_time": "2021-10-23T00:34:07.215Z"
   },
   {
    "duration": 16,
    "start_time": "2021-10-23T00:34:07.257Z"
   },
   {
    "duration": 12,
    "start_time": "2021-10-23T00:34:07.275Z"
   },
   {
    "duration": 14,
    "start_time": "2021-10-23T00:34:07.289Z"
   },
   {
    "duration": 98,
    "start_time": "2021-10-23T00:34:07.305Z"
   },
   {
    "duration": 11,
    "start_time": "2021-10-23T00:34:07.406Z"
   },
   {
    "duration": 11,
    "start_time": "2021-10-23T00:34:07.419Z"
   },
   {
    "duration": 25,
    "start_time": "2021-10-23T00:34:07.432Z"
   },
   {
    "duration": 21,
    "start_time": "2021-10-23T00:34:07.460Z"
   },
   {
    "duration": 17,
    "start_time": "2021-10-23T00:34:07.483Z"
   },
   {
    "duration": 79,
    "start_time": "2021-10-23T00:34:07.503Z"
   },
   {
    "duration": 34,
    "start_time": "2021-10-23T00:34:07.585Z"
   },
   {
    "duration": 49,
    "start_time": "2021-10-23T00:34:07.621Z"
   },
   {
    "duration": 23,
    "start_time": "2021-10-23T00:34:07.672Z"
   },
   {
    "duration": 482,
    "start_time": "2021-10-23T00:34:07.697Z"
   },
   {
    "duration": 403,
    "start_time": "2021-10-23T00:36:28.641Z"
   },
   {
    "duration": 415,
    "start_time": "2021-10-23T00:36:41.354Z"
   },
   {
    "duration": 4348,
    "start_time": "2021-10-23T01:08:40.385Z"
   },
   {
    "duration": 4444,
    "start_time": "2021-10-23T01:08:53.931Z"
   },
   {
    "duration": 334,
    "start_time": "2021-10-23T09:20:34.759Z"
   },
   {
    "duration": 215,
    "start_time": "2021-10-23T09:20:48.270Z"
   },
   {
    "duration": 220,
    "start_time": "2021-10-23T09:20:53.755Z"
   },
   {
    "duration": 214,
    "start_time": "2021-10-23T09:21:59.830Z"
   },
   {
    "duration": 225,
    "start_time": "2021-10-23T09:25:26.755Z"
   },
   {
    "duration": 226,
    "start_time": "2021-10-23T09:28:53.858Z"
   },
   {
    "duration": 677,
    "start_time": "2021-10-23T09:29:00.569Z"
   },
   {
    "duration": 363,
    "start_time": "2021-10-23T09:29:01.249Z"
   },
   {
    "duration": 32,
    "start_time": "2021-10-23T09:29:01.615Z"
   },
   {
    "duration": 16,
    "start_time": "2021-10-23T09:29:01.650Z"
   },
   {
    "duration": 16,
    "start_time": "2021-10-23T09:29:01.668Z"
   },
   {
    "duration": 18,
    "start_time": "2021-10-23T09:29:01.687Z"
   },
   {
    "duration": 81,
    "start_time": "2021-10-23T09:29:01.707Z"
   },
   {
    "duration": 38,
    "start_time": "2021-10-23T09:29:01.792Z"
   },
   {
    "duration": 5,
    "start_time": "2021-10-23T09:29:01.833Z"
   },
   {
    "duration": 22,
    "start_time": "2021-10-23T09:29:01.840Z"
   },
   {
    "duration": 33,
    "start_time": "2021-10-23T09:29:01.865Z"
   },
   {
    "duration": 19,
    "start_time": "2021-10-23T09:29:01.900Z"
   },
   {
    "duration": 62,
    "start_time": "2021-10-23T09:29:01.929Z"
   },
   {
    "duration": 50,
    "start_time": "2021-10-23T09:29:01.993Z"
   },
   {
    "duration": 29,
    "start_time": "2021-10-23T09:29:02.046Z"
   },
   {
    "duration": 23,
    "start_time": "2021-10-23T09:29:02.077Z"
   },
   {
    "duration": 707,
    "start_time": "2021-10-23T09:29:02.103Z"
   },
   {
    "duration": 214,
    "start_time": "2021-10-23T09:29:12.735Z"
   },
   {
    "duration": 227,
    "start_time": "2021-10-23T09:29:36.302Z"
   },
   {
    "duration": 237,
    "start_time": "2021-10-23T09:29:53.517Z"
   },
   {
    "duration": 4540,
    "start_time": "2021-10-23T09:36:36.450Z"
   },
   {
    "duration": 28,
    "start_time": "2021-10-23T09:37:25.742Z"
   },
   {
    "duration": 12,
    "start_time": "2021-10-23T09:42:54.213Z"
   },
   {
    "duration": 4484,
    "start_time": "2021-10-23T09:45:51.190Z"
   },
   {
    "duration": 3504,
    "start_time": "2021-10-23T10:15:52.582Z"
   },
   {
    "duration": 1992,
    "start_time": "2021-10-23T10:16:09.497Z"
   },
   {
    "duration": 1976,
    "start_time": "2021-10-23T10:17:19.153Z"
   },
   {
    "duration": 210,
    "start_time": "2021-10-23T11:28:04.162Z"
   },
   {
    "duration": 699,
    "start_time": "2021-10-23T11:28:17.344Z"
   },
   {
    "duration": 68,
    "start_time": "2021-10-23T11:28:18.048Z"
   },
   {
    "duration": 33,
    "start_time": "2021-10-23T11:28:18.119Z"
   },
   {
    "duration": 15,
    "start_time": "2021-10-23T11:28:18.155Z"
   },
   {
    "duration": 15,
    "start_time": "2021-10-23T11:28:18.172Z"
   },
   {
    "duration": 49,
    "start_time": "2021-10-23T11:28:18.190Z"
   },
   {
    "duration": 58,
    "start_time": "2021-10-23T11:28:18.241Z"
   },
   {
    "duration": 27,
    "start_time": "2021-10-23T11:28:18.303Z"
   },
   {
    "duration": 5,
    "start_time": "2021-10-23T11:28:18.333Z"
   },
   {
    "duration": 5,
    "start_time": "2021-10-23T11:28:18.341Z"
   },
   {
    "duration": 15,
    "start_time": "2021-10-23T11:28:18.349Z"
   },
   {
    "duration": 18,
    "start_time": "2021-10-23T11:28:18.367Z"
   },
   {
    "duration": 96,
    "start_time": "2021-10-23T11:28:18.387Z"
   },
   {
    "duration": 50,
    "start_time": "2021-10-23T11:28:18.486Z"
   },
   {
    "duration": 28,
    "start_time": "2021-10-23T11:28:18.538Z"
   },
   {
    "duration": 23,
    "start_time": "2021-10-23T11:28:18.568Z"
   },
   {
    "duration": 276,
    "start_time": "2021-10-23T11:28:18.593Z"
   },
   {
    "duration": -16,
    "start_time": "2021-10-23T11:28:18.888Z"
   },
   {
    "duration": -18,
    "start_time": "2021-10-23T11:28:18.891Z"
   },
   {
    "duration": 213,
    "start_time": "2021-10-23T11:28:36.879Z"
   },
   {
    "duration": 153,
    "start_time": "2021-10-23T11:28:38.096Z"
   },
   {
    "duration": 367,
    "start_time": "2021-11-06T02:30:24.698Z"
   },
   {
    "duration": 745,
    "start_time": "2021-11-06T02:30:33.390Z"
   },
   {
    "duration": 73,
    "start_time": "2021-11-06T02:30:34.137Z"
   },
   {
    "duration": 32,
    "start_time": "2021-11-06T02:30:34.213Z"
   },
   {
    "duration": 33,
    "start_time": "2021-11-06T02:30:34.249Z"
   },
   {
    "duration": 12,
    "start_time": "2021-11-06T02:30:34.285Z"
   },
   {
    "duration": 13,
    "start_time": "2021-11-06T02:30:34.299Z"
   },
   {
    "duration": 95,
    "start_time": "2021-11-06T02:30:34.315Z"
   },
   {
    "duration": 10,
    "start_time": "2021-11-06T02:30:34.414Z"
   },
   {
    "duration": 6,
    "start_time": "2021-11-06T02:30:34.427Z"
   },
   {
    "duration": 32,
    "start_time": "2021-11-06T02:30:34.435Z"
   },
   {
    "duration": 16,
    "start_time": "2021-11-06T02:30:34.470Z"
   },
   {
    "duration": 18,
    "start_time": "2021-11-06T02:30:34.488Z"
   },
   {
    "duration": 89,
    "start_time": "2021-11-06T02:30:34.508Z"
   },
   {
    "duration": 34,
    "start_time": "2021-11-06T02:30:34.599Z"
   },
   {
    "duration": 48,
    "start_time": "2021-11-06T02:30:34.636Z"
   },
   {
    "duration": 23,
    "start_time": "2021-11-06T02:30:34.686Z"
   },
   {
    "duration": 368,
    "start_time": "2021-11-06T02:30:34.712Z"
   },
   {
    "duration": 23,
    "start_time": "2021-11-06T02:30:35.059Z"
   },
   {
    "duration": 22,
    "start_time": "2021-11-06T02:30:35.062Z"
   },
   {
    "duration": 336,
    "start_time": "2021-11-06T02:49:26.292Z"
   },
   {
    "duration": 759,
    "start_time": "2021-11-06T02:49:34.363Z"
   },
   {
    "duration": 65,
    "start_time": "2021-11-06T02:49:35.124Z"
   },
   {
    "duration": 30,
    "start_time": "2021-11-06T02:49:35.192Z"
   },
   {
    "duration": 15,
    "start_time": "2021-11-06T02:49:35.224Z"
   },
   {
    "duration": 36,
    "start_time": "2021-11-06T02:49:35.241Z"
   },
   {
    "duration": 13,
    "start_time": "2021-11-06T02:49:35.280Z"
   },
   {
    "duration": 88,
    "start_time": "2021-11-06T02:49:35.296Z"
   },
   {
    "duration": 11,
    "start_time": "2021-11-06T02:49:35.388Z"
   },
   {
    "duration": 5,
    "start_time": "2021-11-06T02:49:35.402Z"
   },
   {
    "duration": 4,
    "start_time": "2021-11-06T02:49:35.410Z"
   },
   {
    "duration": 51,
    "start_time": "2021-11-06T02:49:35.417Z"
   },
   {
    "duration": 19,
    "start_time": "2021-11-06T02:49:35.470Z"
   },
   {
    "duration": 392,
    "start_time": "2021-11-06T02:49:35.492Z"
   },
   {
    "duration": 4,
    "start_time": "2021-11-06T02:49:35.882Z"
   },
   {
    "duration": 0,
    "start_time": "2021-11-06T02:49:35.888Z"
   },
   {
    "duration": -2,
    "start_time": "2021-11-06T02:49:35.891Z"
   },
   {
    "duration": -26,
    "start_time": "2021-11-06T02:49:35.917Z"
   },
   {
    "duration": -30,
    "start_time": "2021-11-06T02:49:35.922Z"
   },
   {
    "duration": -31,
    "start_time": "2021-11-06T02:49:35.925Z"
   },
   {
    "duration": -37,
    "start_time": "2021-11-06T02:49:35.933Z"
   },
   {
    "duration": 319,
    "start_time": "2021-11-06T02:49:42.316Z"
   },
   {
    "duration": 726,
    "start_time": "2021-11-06T02:50:13.880Z"
   },
   {
    "duration": 66,
    "start_time": "2021-11-06T02:50:14.608Z"
   },
   {
    "duration": 28,
    "start_time": "2021-11-06T02:50:14.677Z"
   },
   {
    "duration": 16,
    "start_time": "2021-11-06T02:50:14.708Z"
   },
   {
    "duration": 12,
    "start_time": "2021-11-06T02:50:14.727Z"
   },
   {
    "duration": 14,
    "start_time": "2021-11-06T02:50:14.768Z"
   },
   {
    "duration": 86,
    "start_time": "2021-11-06T02:50:14.784Z"
   },
   {
    "duration": 10,
    "start_time": "2021-11-06T02:50:14.874Z"
   },
   {
    "duration": 5,
    "start_time": "2021-11-06T02:50:14.887Z"
   },
   {
    "duration": 6,
    "start_time": "2021-11-06T02:50:14.894Z"
   },
   {
    "duration": 16,
    "start_time": "2021-11-06T02:50:14.902Z"
   },
   {
    "duration": 59,
    "start_time": "2021-11-06T02:50:14.920Z"
   },
   {
    "duration": 62,
    "start_time": "2021-11-06T02:50:14.982Z"
   },
   {
    "duration": 36,
    "start_time": "2021-11-06T02:50:15.066Z"
   },
   {
    "duration": 28,
    "start_time": "2021-11-06T02:50:15.105Z"
   },
   {
    "duration": 52,
    "start_time": "2021-11-06T02:50:15.136Z"
   },
   {
    "duration": 387,
    "start_time": "2021-11-06T02:50:15.190Z"
   },
   {
    "duration": 13,
    "start_time": "2021-11-06T02:50:15.566Z"
   },
   {
    "duration": 12,
    "start_time": "2021-11-06T02:50:15.569Z"
   },
   {
    "duration": 301,
    "start_time": "2021-11-06T02:56:32.421Z"
   },
   {
    "duration": 1777,
    "start_time": "2021-11-06T02:56:44.650Z"
   },
   {
    "duration": 295,
    "start_time": "2021-11-06T02:57:19.014Z"
   },
   {
    "duration": 333,
    "start_time": "2021-11-06T02:57:34.990Z"
   },
   {
    "duration": 781,
    "start_time": "2021-11-06T02:57:42.542Z"
   },
   {
    "duration": 63,
    "start_time": "2021-11-06T02:57:43.326Z"
   },
   {
    "duration": 29,
    "start_time": "2021-11-06T02:57:43.392Z"
   },
   {
    "duration": 18,
    "start_time": "2021-11-06T02:57:43.423Z"
   },
   {
    "duration": 28,
    "start_time": "2021-11-06T02:57:43.443Z"
   },
   {
    "duration": 13,
    "start_time": "2021-11-06T02:57:43.473Z"
   },
   {
    "duration": 88,
    "start_time": "2021-11-06T02:57:43.489Z"
   },
   {
    "duration": 11,
    "start_time": "2021-11-06T02:57:43.580Z"
   },
   {
    "duration": 5,
    "start_time": "2021-11-06T02:57:43.594Z"
   },
   {
    "duration": 7,
    "start_time": "2021-11-06T02:57:43.601Z"
   },
   {
    "duration": 19,
    "start_time": "2021-11-06T02:57:43.610Z"
   },
   {
    "duration": 51,
    "start_time": "2021-11-06T02:57:43.631Z"
   },
   {
    "duration": 59,
    "start_time": "2021-11-06T02:57:43.685Z"
   },
   {
    "duration": 54,
    "start_time": "2021-11-06T02:57:43.746Z"
   },
   {
    "duration": 28,
    "start_time": "2021-11-06T02:57:43.802Z"
   },
   {
    "duration": 48,
    "start_time": "2021-11-06T02:57:43.832Z"
   },
   {
    "duration": 389,
    "start_time": "2021-11-06T02:57:43.883Z"
   },
   {
    "duration": -58,
    "start_time": "2021-11-06T02:57:44.332Z"
   },
   {
    "duration": -59,
    "start_time": "2021-11-06T02:57:44.335Z"
   },
   {
    "duration": 287,
    "start_time": "2021-11-06T02:58:32.044Z"
   },
   {
    "duration": 19,
    "start_time": "2021-11-06T03:04:09.005Z"
   },
   {
    "duration": 310,
    "start_time": "2021-11-06T03:10:03.060Z"
   },
   {
    "duration": 288,
    "start_time": "2021-11-06T03:10:47.109Z"
   },
   {
    "duration": 11,
    "start_time": "2021-11-06T03:10:56.616Z"
   },
   {
    "duration": 4535,
    "start_time": "2021-11-06T04:02:54.164Z"
   },
   {
    "duration": 745,
    "start_time": "2021-11-06T04:03:07.192Z"
   },
   {
    "duration": 67,
    "start_time": "2021-11-06T04:03:07.940Z"
   },
   {
    "duration": 29,
    "start_time": "2021-11-06T04:03:08.010Z"
   },
   {
    "duration": 33,
    "start_time": "2021-11-06T04:03:08.042Z"
   },
   {
    "duration": 12,
    "start_time": "2021-11-06T04:03:08.078Z"
   },
   {
    "duration": 16,
    "start_time": "2021-11-06T04:03:08.092Z"
   },
   {
    "duration": 90,
    "start_time": "2021-11-06T04:03:08.110Z"
   },
   {
    "duration": 12,
    "start_time": "2021-11-06T04:03:08.204Z"
   },
   {
    "duration": 8,
    "start_time": "2021-11-06T04:03:08.219Z"
   },
   {
    "duration": 5,
    "start_time": "2021-11-06T04:03:08.230Z"
   },
   {
    "duration": 42,
    "start_time": "2021-11-06T04:03:08.238Z"
   },
   {
    "duration": 18,
    "start_time": "2021-11-06T04:03:08.283Z"
   },
   {
    "duration": 89,
    "start_time": "2021-11-06T04:03:08.304Z"
   },
   {
    "duration": 37,
    "start_time": "2021-11-06T04:03:08.395Z"
   },
   {
    "duration": 51,
    "start_time": "2021-11-06T04:03:08.434Z"
   },
   {
    "duration": 24,
    "start_time": "2021-11-06T04:03:08.487Z"
   },
   {
    "duration": 20,
    "start_time": "2021-11-06T04:03:08.513Z"
   },
   {
    "duration": 396,
    "start_time": "2021-11-06T04:03:08.535Z"
   },
   {
    "duration": -42,
    "start_time": "2021-11-06T04:03:08.975Z"
   },
   {
    "duration": -172,
    "start_time": "2021-11-06T04:04:31.967Z"
   },
   {
    "duration": 4583,
    "start_time": "2021-11-06T04:04:40.709Z"
   },
   {
    "duration": 733,
    "start_time": "2021-11-06T04:04:53.786Z"
   },
   {
    "duration": 65,
    "start_time": "2021-11-06T04:04:54.521Z"
   },
   {
    "duration": 29,
    "start_time": "2021-11-06T04:04:54.588Z"
   },
   {
    "duration": 14,
    "start_time": "2021-11-06T04:04:54.619Z"
   },
   {
    "duration": 36,
    "start_time": "2021-11-06T04:04:54.636Z"
   },
   {
    "duration": 16,
    "start_time": "2021-11-06T04:04:54.674Z"
   },
   {
    "duration": 91,
    "start_time": "2021-11-06T04:04:54.692Z"
   },
   {
    "duration": 11,
    "start_time": "2021-11-06T04:04:54.787Z"
   },
   {
    "duration": 6,
    "start_time": "2021-11-06T04:04:54.800Z"
   },
   {
    "duration": 12,
    "start_time": "2021-11-06T04:04:54.808Z"
   },
   {
    "duration": 25,
    "start_time": "2021-11-06T04:04:54.822Z"
   },
   {
    "duration": 18,
    "start_time": "2021-11-06T04:04:54.868Z"
   },
   {
    "duration": 92,
    "start_time": "2021-11-06T04:04:54.889Z"
   },
   {
    "duration": 38,
    "start_time": "2021-11-06T04:04:54.984Z"
   },
   {
    "duration": 56,
    "start_time": "2021-11-06T04:04:55.025Z"
   },
   {
    "duration": 25,
    "start_time": "2021-11-06T04:04:55.084Z"
   },
   {
    "duration": 21,
    "start_time": "2021-11-06T04:04:55.112Z"
   },
   {
    "duration": -466,
    "start_time": "2021-11-06T04:05:03.680Z"
   },
   {
    "duration": 7459,
    "start_time": "2021-11-06T04:05:03.676Z"
   },
   {
    "duration": 297,
    "start_time": "2021-11-06T04:11:27.743Z"
   },
   {
    "duration": 717,
    "start_time": "2021-11-06T04:12:44.020Z"
   },
   {
    "duration": 67,
    "start_time": "2021-11-06T04:12:44.740Z"
   },
   {
    "duration": 28,
    "start_time": "2021-11-06T04:12:44.811Z"
   },
   {
    "duration": 31,
    "start_time": "2021-11-06T04:12:44.841Z"
   },
   {
    "duration": 11,
    "start_time": "2021-11-06T04:12:44.875Z"
   },
   {
    "duration": 12,
    "start_time": "2021-11-06T04:12:44.888Z"
   },
   {
    "duration": 89,
    "start_time": "2021-11-06T04:12:44.902Z"
   },
   {
    "duration": 11,
    "start_time": "2021-11-06T04:12:44.993Z"
   },
   {
    "duration": 10,
    "start_time": "2021-11-06T04:12:45.007Z"
   },
   {
    "duration": 18,
    "start_time": "2021-11-06T04:12:45.020Z"
   },
   {
    "duration": 34,
    "start_time": "2021-11-06T04:12:45.040Z"
   },
   {
    "duration": 17,
    "start_time": "2021-11-06T04:12:45.076Z"
   },
   {
    "duration": 83,
    "start_time": "2021-11-06T04:12:45.096Z"
   },
   {
    "duration": 35,
    "start_time": "2021-11-06T04:12:45.182Z"
   },
   {
    "duration": 49,
    "start_time": "2021-11-06T04:12:45.220Z"
   },
   {
    "duration": 23,
    "start_time": "2021-11-06T04:12:45.272Z"
   },
   {
    "duration": 15,
    "start_time": "2021-11-06T04:12:45.297Z"
   },
   {
    "duration": 382,
    "start_time": "2021-11-06T04:12:45.315Z"
   },
   {
    "duration": -197,
    "start_time": "2021-11-06T04:12:45.897Z"
   },
   {
    "duration": -199,
    "start_time": "2021-11-06T04:12:45.901Z"
   },
   {
    "duration": 1021,
    "start_time": "2021-11-06T04:14:08.699Z"
   },
   {
    "duration": 78,
    "start_time": "2021-11-06T04:14:36.083Z"
   },
   {
    "duration": 77,
    "start_time": "2021-11-06T04:15:17.232Z"
   },
   {
    "duration": 772,
    "start_time": "2021-11-06T04:16:39.940Z"
   },
   {
    "duration": 65,
    "start_time": "2021-11-06T04:16:40.715Z"
   },
   {
    "duration": 28,
    "start_time": "2021-11-06T04:16:40.783Z"
   },
   {
    "duration": 15,
    "start_time": "2021-11-06T04:16:40.814Z"
   },
   {
    "duration": 35,
    "start_time": "2021-11-06T04:16:40.832Z"
   },
   {
    "duration": 13,
    "start_time": "2021-11-06T04:16:40.870Z"
   },
   {
    "duration": 85,
    "start_time": "2021-11-06T04:16:40.886Z"
   },
   {
    "duration": 11,
    "start_time": "2021-11-06T04:16:40.974Z"
   },
   {
    "duration": 5,
    "start_time": "2021-11-06T04:16:40.989Z"
   },
   {
    "duration": 6,
    "start_time": "2021-11-06T04:16:40.997Z"
   },
   {
    "duration": 16,
    "start_time": "2021-11-06T04:16:41.006Z"
   },
   {
    "duration": 54,
    "start_time": "2021-11-06T04:16:41.024Z"
   },
   {
    "duration": 63,
    "start_time": "2021-11-06T04:16:41.080Z"
   },
   {
    "duration": 54,
    "start_time": "2021-11-06T04:16:41.146Z"
   },
   {
    "duration": 30,
    "start_time": "2021-11-06T04:16:41.202Z"
   },
   {
    "duration": 48,
    "start_time": "2021-11-06T04:16:41.234Z"
   },
   {
    "duration": 16,
    "start_time": "2021-11-06T04:16:41.285Z"
   },
   {
    "duration": 1063,
    "start_time": "2021-11-06T04:16:41.304Z"
   },
   {
    "duration": 7963,
    "start_time": "2021-11-06T04:16:42.370Z"
   },
   {
    "duration": -149,
    "start_time": "2021-11-06T04:16:50.485Z"
   },
   {
    "duration": 304,
    "start_time": "2021-11-06T12:17:29.110Z"
   },
   {
    "duration": 262,
    "start_time": "2021-11-06T12:28:29.310Z"
   },
   {
    "duration": 252,
    "start_time": "2021-11-06T12:28:59.680Z"
   },
   {
    "duration": 302,
    "start_time": "2021-11-06T12:29:12.997Z"
   },
   {
    "duration": 551,
    "start_time": "2021-11-06T12:30:43.300Z"
   },
   {
    "duration": 50,
    "start_time": "2021-11-06T12:30:43.853Z"
   },
   {
    "duration": 20,
    "start_time": "2021-11-06T12:30:43.905Z"
   },
   {
    "duration": 17,
    "start_time": "2021-11-06T12:30:43.927Z"
   },
   {
    "duration": 10,
    "start_time": "2021-11-06T12:30:43.946Z"
   },
   {
    "duration": 10,
    "start_time": "2021-11-06T12:30:43.958Z"
   },
   {
    "duration": 42,
    "start_time": "2021-11-06T12:30:43.970Z"
   },
   {
    "duration": 38,
    "start_time": "2021-11-06T12:30:44.014Z"
   },
   {
    "duration": 6,
    "start_time": "2021-11-06T12:30:44.054Z"
   },
   {
    "duration": 4,
    "start_time": "2021-11-06T12:30:44.062Z"
   },
   {
    "duration": 13,
    "start_time": "2021-11-06T12:30:44.068Z"
   },
   {
    "duration": 12,
    "start_time": "2021-11-06T12:30:44.083Z"
   },
   {
    "duration": 67,
    "start_time": "2021-11-06T12:30:44.097Z"
   },
   {
    "duration": 25,
    "start_time": "2021-11-06T12:30:44.165Z"
   },
   {
    "duration": 20,
    "start_time": "2021-11-06T12:30:44.192Z"
   },
   {
    "duration": 32,
    "start_time": "2021-11-06T12:30:44.213Z"
   },
   {
    "duration": 1083,
    "start_time": "2021-11-06T12:30:44.247Z"
   },
   {
    "duration": 2031,
    "start_time": "2021-11-06T12:30:43.301Z"
   },
   {
    "duration": 2031,
    "start_time": "2021-11-06T12:30:43.303Z"
   },
   {
    "duration": 1037,
    "start_time": "2021-11-06T12:35:11.841Z"
   },
   {
    "duration": 1093,
    "start_time": "2021-11-06T12:35:38.726Z"
   },
   {
    "duration": 646,
    "start_time": "2021-11-06T12:36:52.480Z"
   },
   {
    "duration": 663,
    "start_time": "2021-11-06T12:38:11.299Z"
   },
   {
    "duration": 6566,
    "start_time": "2021-11-06T12:40:18.277Z"
   },
   {
    "duration": 2994,
    "start_time": "2021-11-06T12:40:39.241Z"
   },
   {
    "duration": 276,
    "start_time": "2021-11-06T12:43:26.499Z"
   },
   {
    "duration": 438,
    "start_time": "2021-11-06T12:44:18.160Z"
   },
   {
    "duration": 615,
    "start_time": "2021-11-06T12:44:36.132Z"
   },
   {
    "duration": 52,
    "start_time": "2021-11-06T12:44:36.749Z"
   },
   {
    "duration": 18,
    "start_time": "2021-11-06T12:44:36.803Z"
   },
   {
    "duration": 13,
    "start_time": "2021-11-06T12:44:36.822Z"
   },
   {
    "duration": 8,
    "start_time": "2021-11-06T12:44:36.843Z"
   },
   {
    "duration": 8,
    "start_time": "2021-11-06T12:44:36.853Z"
   },
   {
    "duration": 41,
    "start_time": "2021-11-06T12:44:36.862Z"
   },
   {
    "duration": 8,
    "start_time": "2021-11-06T12:44:36.905Z"
   },
   {
    "duration": 31,
    "start_time": "2021-11-06T12:44:36.915Z"
   },
   {
    "duration": 5,
    "start_time": "2021-11-06T12:44:36.948Z"
   },
   {
    "duration": 12,
    "start_time": "2021-11-06T12:44:36.954Z"
   },
   {
    "duration": 10,
    "start_time": "2021-11-06T12:44:36.968Z"
   },
   {
    "duration": 41,
    "start_time": "2021-11-06T12:44:36.980Z"
   },
   {
    "duration": 42,
    "start_time": "2021-11-06T12:44:37.023Z"
   },
   {
    "duration": 20,
    "start_time": "2021-11-06T12:44:37.067Z"
   },
   {
    "duration": 16,
    "start_time": "2021-11-06T12:44:37.089Z"
   },
   {
    "duration": 722,
    "start_time": "2021-11-06T12:44:37.106Z"
   },
   {
    "duration": 72,
    "start_time": "2021-11-06T12:44:37.830Z"
   },
   {
    "duration": 57,
    "start_time": "2021-11-06T12:45:45.384Z"
   },
   {
    "duration": 37,
    "start_time": "2021-11-06T13:24:52.800Z"
   },
   {
    "duration": 16,
    "start_time": "2021-11-06T13:25:17.179Z"
   },
   {
    "duration": 87,
    "start_time": "2021-11-06T13:25:51.321Z"
   },
   {
    "duration": 14,
    "start_time": "2021-11-06T13:26:19.929Z"
   },
   {
    "duration": 739,
    "start_time": "2021-11-06T13:41:40.165Z"
   },
   {
    "duration": 249,
    "start_time": "2021-11-06T14:40:21.714Z"
   },
   {
    "duration": 253,
    "start_time": "2021-11-06T15:16:21.973Z"
   },
   {
    "duration": 565,
    "start_time": "2021-11-06T15:16:37.477Z"
   },
   {
    "duration": 53,
    "start_time": "2021-11-06T15:16:38.044Z"
   },
   {
    "duration": 19,
    "start_time": "2021-11-06T15:16:38.100Z"
   },
   {
    "duration": 11,
    "start_time": "2021-11-06T15:16:38.120Z"
   },
   {
    "duration": 18,
    "start_time": "2021-11-06T15:16:38.133Z"
   },
   {
    "duration": 9,
    "start_time": "2021-11-06T15:16:38.153Z"
   },
   {
    "duration": 43,
    "start_time": "2021-11-06T15:16:38.164Z"
   },
   {
    "duration": 9,
    "start_time": "2021-11-06T15:16:38.209Z"
   },
   {
    "duration": 5,
    "start_time": "2021-11-06T15:16:38.245Z"
   },
   {
    "duration": 9,
    "start_time": "2021-11-06T15:16:38.251Z"
   },
   {
    "duration": 12,
    "start_time": "2021-11-06T15:16:38.262Z"
   },
   {
    "duration": 11,
    "start_time": "2021-11-06T15:16:38.276Z"
   },
   {
    "duration": 63,
    "start_time": "2021-11-06T15:16:38.289Z"
   },
   {
    "duration": 25,
    "start_time": "2021-11-06T15:16:38.354Z"
   },
   {
    "duration": 37,
    "start_time": "2021-11-06T15:16:38.381Z"
   },
   {
    "duration": 24,
    "start_time": "2021-11-06T15:16:38.420Z"
   },
   {
    "duration": 324,
    "start_time": "2021-11-06T15:16:38.446Z"
   },
   {
    "duration": 2001,
    "start_time": "2021-11-06T15:16:36.771Z"
   },
   {
    "duration": 1999,
    "start_time": "2021-11-06T15:16:36.774Z"
   },
   {
    "duration": 251,
    "start_time": "2021-11-06T15:17:12.648Z"
   },
   {
    "duration": 249,
    "start_time": "2021-11-06T15:21:50.558Z"
   },
   {
    "duration": 616,
    "start_time": "2021-11-06T15:25:19.217Z"
   },
   {
    "duration": 52,
    "start_time": "2021-11-06T15:25:19.835Z"
   },
   {
    "duration": 17,
    "start_time": "2021-11-06T15:25:19.889Z"
   },
   {
    "duration": 12,
    "start_time": "2021-11-06T15:25:19.908Z"
   },
   {
    "duration": 26,
    "start_time": "2021-11-06T15:25:19.921Z"
   },
   {
    "duration": 8,
    "start_time": "2021-11-06T15:25:19.949Z"
   },
   {
    "duration": 43,
    "start_time": "2021-11-06T15:25:19.959Z"
   },
   {
    "duration": 8,
    "start_time": "2021-11-06T15:25:20.005Z"
   },
   {
    "duration": 29,
    "start_time": "2021-11-06T15:25:20.015Z"
   },
   {
    "duration": 4,
    "start_time": "2021-11-06T15:25:20.046Z"
   },
   {
    "duration": 23,
    "start_time": "2021-11-06T15:25:20.052Z"
   },
   {
    "duration": 11,
    "start_time": "2021-11-06T15:25:20.077Z"
   },
   {
    "duration": 54,
    "start_time": "2021-11-06T15:25:20.090Z"
   },
   {
    "duration": 27,
    "start_time": "2021-11-06T15:25:20.146Z"
   },
   {
    "duration": 21,
    "start_time": "2021-11-06T15:25:20.174Z"
   },
   {
    "duration": 16,
    "start_time": "2021-11-06T15:25:20.197Z"
   },
   {
    "duration": 348,
    "start_time": "2021-11-06T15:25:20.215Z"
   },
   {
    "duration": 1979,
    "start_time": "2021-11-06T15:25:18.586Z"
   },
   {
    "duration": 1953,
    "start_time": "2021-11-06T15:25:18.613Z"
   },
   {
    "duration": 11,
    "start_time": "2021-11-06T15:25:45.425Z"
   },
   {
    "duration": 715,
    "start_time": "2021-11-06T15:25:51.651Z"
   },
   {
    "duration": 250,
    "start_time": "2021-11-06T15:26:23.862Z"
   },
   {
    "duration": 23,
    "start_time": "2021-11-06T15:38:57.439Z"
   },
   {
    "duration": 17,
    "start_time": "2021-11-06T15:40:44.263Z"
   },
   {
    "duration": 14,
    "start_time": "2021-11-06T15:42:24.633Z"
   },
   {
    "duration": 19,
    "start_time": "2021-11-06T15:44:29.596Z"
   },
   {
    "duration": 604,
    "start_time": "2021-11-06T15:47:35.329Z"
   },
   {
    "duration": 31,
    "start_time": "2021-11-06T15:48:24.436Z"
   },
   {
    "duration": 340,
    "start_time": "2021-11-06T20:18:02.201Z"
   },
   {
    "duration": 825,
    "start_time": "2021-11-06T20:18:10.098Z"
   },
   {
    "duration": 64,
    "start_time": "2021-11-06T20:18:10.926Z"
   },
   {
    "duration": 40,
    "start_time": "2021-11-06T20:18:10.993Z"
   },
   {
    "duration": 15,
    "start_time": "2021-11-06T20:18:11.035Z"
   },
   {
    "duration": 16,
    "start_time": "2021-11-06T20:18:11.052Z"
   },
   {
    "duration": 16,
    "start_time": "2021-11-06T20:18:11.070Z"
   },
   {
    "duration": 97,
    "start_time": "2021-11-06T20:18:11.089Z"
   },
   {
    "duration": 11,
    "start_time": "2021-11-06T20:18:11.189Z"
   },
   {
    "duration": 28,
    "start_time": "2021-11-06T20:18:11.203Z"
   },
   {
    "duration": 20,
    "start_time": "2021-11-06T20:18:11.234Z"
   },
   {
    "duration": 29,
    "start_time": "2021-11-06T20:18:11.257Z"
   },
   {
    "duration": 19,
    "start_time": "2021-11-06T20:18:11.289Z"
   },
   {
    "duration": 79,
    "start_time": "2021-11-06T20:18:11.311Z"
   },
   {
    "duration": 56,
    "start_time": "2021-11-06T20:18:11.393Z"
   },
   {
    "duration": 29,
    "start_time": "2021-11-06T20:18:11.453Z"
   },
   {
    "duration": 49,
    "start_time": "2021-11-06T20:18:11.485Z"
   },
   {
    "duration": 21,
    "start_time": "2021-11-06T20:18:11.537Z"
   },
   {
    "duration": 1027,
    "start_time": "2021-11-06T20:18:11.561Z"
   },
   {
    "duration": 440,
    "start_time": "2021-11-06T20:18:12.590Z"
   },
   {
    "duration": 19,
    "start_time": "2021-11-06T20:18:13.033Z"
   },
   {
    "duration": 805,
    "start_time": "2021-11-06T20:18:13.056Z"
   },
   {
    "duration": 12,
    "start_time": "2021-11-06T20:20:24.704Z"
   },
   {
    "duration": 25,
    "start_time": "2021-11-06T20:20:47.166Z"
   },
   {
    "duration": 35,
    "start_time": "2021-11-06T20:21:03.302Z"
   },
   {
    "duration": 7,
    "start_time": "2021-11-06T20:26:31.530Z"
   },
   {
    "duration": 718,
    "start_time": "2021-11-06T20:26:40.360Z"
   },
   {
    "duration": 64,
    "start_time": "2021-11-06T20:26:41.081Z"
   },
   {
    "duration": 28,
    "start_time": "2021-11-06T20:26:41.149Z"
   },
   {
    "duration": 16,
    "start_time": "2021-11-06T20:26:41.180Z"
   },
   {
    "duration": 37,
    "start_time": "2021-11-06T20:26:41.199Z"
   },
   {
    "duration": 17,
    "start_time": "2021-11-06T20:26:41.239Z"
   },
   {
    "duration": 118,
    "start_time": "2021-11-06T20:26:41.259Z"
   },
   {
    "duration": 16,
    "start_time": "2021-11-06T20:26:41.382Z"
   },
   {
    "duration": 5,
    "start_time": "2021-11-06T20:26:41.402Z"
   },
   {
    "duration": 5,
    "start_time": "2021-11-06T20:26:41.430Z"
   },
   {
    "duration": 22,
    "start_time": "2021-11-06T20:26:41.438Z"
   },
   {
    "duration": 25,
    "start_time": "2021-11-06T20:26:41.462Z"
   },
   {
    "duration": 128,
    "start_time": "2021-11-06T20:26:41.490Z"
   },
   {
    "duration": 56,
    "start_time": "2021-11-06T20:26:41.621Z"
   },
   {
    "duration": 64,
    "start_time": "2021-11-06T20:26:41.679Z"
   },
   {
    "duration": 32,
    "start_time": "2021-11-06T20:26:41.745Z"
   },
   {
    "duration": 22,
    "start_time": "2021-11-06T20:26:41.779Z"
   },
   {
    "duration": 1027,
    "start_time": "2021-11-06T20:26:41.803Z"
   },
   {
    "duration": 424,
    "start_time": "2021-11-06T20:26:42.833Z"
   },
   {
    "duration": 6,
    "start_time": "2021-11-06T20:26:43.259Z"
   },
   {
    "duration": 15,
    "start_time": "2021-11-06T20:26:43.268Z"
   },
   {
    "duration": 687,
    "start_time": "2021-11-06T20:26:43.286Z"
   },
   {
    "duration": 14,
    "start_time": "2021-11-06T20:28:15.066Z"
   },
   {
    "duration": 38,
    "start_time": "2021-11-06T20:28:30.605Z"
   },
   {
    "duration": 778,
    "start_time": "2021-11-06T20:32:21.257Z"
   },
   {
    "duration": 69,
    "start_time": "2021-11-06T20:32:22.037Z"
   },
   {
    "duration": 36,
    "start_time": "2021-11-06T20:32:22.110Z"
   },
   {
    "duration": 19,
    "start_time": "2021-11-06T20:32:22.149Z"
   },
   {
    "duration": 16,
    "start_time": "2021-11-06T20:32:22.171Z"
   },
   {
    "duration": 42,
    "start_time": "2021-11-06T20:32:22.190Z"
   },
   {
    "duration": 60,
    "start_time": "2021-11-06T20:32:22.234Z"
   },
   {
    "duration": 32,
    "start_time": "2021-11-06T20:32:22.297Z"
   },
   {
    "duration": 5,
    "start_time": "2021-11-06T20:32:22.332Z"
   },
   {
    "duration": 10,
    "start_time": "2021-11-06T20:32:22.340Z"
   },
   {
    "duration": 18,
    "start_time": "2021-11-06T20:32:22.352Z"
   },
   {
    "duration": 18,
    "start_time": "2021-11-06T20:32:22.372Z"
   },
   {
    "duration": 91,
    "start_time": "2021-11-06T20:32:22.392Z"
   },
   {
    "duration": 49,
    "start_time": "2021-11-06T20:32:22.485Z"
   },
   {
    "duration": 29,
    "start_time": "2021-11-06T20:32:22.536Z"
   },
   {
    "duration": 23,
    "start_time": "2021-11-06T20:32:22.567Z"
   },
   {
    "duration": 48,
    "start_time": "2021-11-06T20:32:22.593Z"
   },
   {
    "duration": 1034,
    "start_time": "2021-11-06T20:32:22.644Z"
   },
   {
    "duration": 650,
    "start_time": "2021-11-06T20:32:23.682Z"
   },
   {
    "duration": 8,
    "start_time": "2021-11-06T20:32:24.335Z"
   },
   {
    "duration": 20,
    "start_time": "2021-11-06T20:32:24.346Z"
   },
   {
    "duration": 800,
    "start_time": "2021-11-06T20:32:24.369Z"
   },
   {
    "duration": 37,
    "start_time": "2021-11-06T20:37:20.476Z"
   },
   {
    "duration": 30,
    "start_time": "2021-11-06T20:37:30.234Z"
   },
   {
    "duration": 28,
    "start_time": "2021-11-06T20:38:24.294Z"
   },
   {
    "duration": 29,
    "start_time": "2021-11-06T20:39:41.577Z"
   },
   {
    "duration": 88,
    "start_time": "2021-11-06T20:40:04.079Z"
   },
   {
    "duration": 37,
    "start_time": "2021-11-06T20:40:39.711Z"
   },
   {
    "duration": 1010,
    "start_time": "2021-11-06T20:45:00.674Z"
   },
   {
    "duration": 94,
    "start_time": "2021-11-06T20:45:01.688Z"
   },
   {
    "duration": 49,
    "start_time": "2021-11-06T20:45:01.787Z"
   },
   {
    "duration": 23,
    "start_time": "2021-11-06T20:45:01.840Z"
   },
   {
    "duration": 19,
    "start_time": "2021-11-06T20:45:01.867Z"
   },
   {
    "duration": 53,
    "start_time": "2021-11-06T20:45:01.889Z"
   },
   {
    "duration": 112,
    "start_time": "2021-11-06T20:45:01.945Z"
   },
   {
    "duration": 17,
    "start_time": "2021-11-06T20:45:02.063Z"
   },
   {
    "duration": 7,
    "start_time": "2021-11-06T20:45:02.084Z"
   },
   {
    "duration": 37,
    "start_time": "2021-11-06T20:45:02.094Z"
   },
   {
    "duration": 24,
    "start_time": "2021-11-06T20:45:02.135Z"
   },
   {
    "duration": 28,
    "start_time": "2021-11-06T20:45:02.163Z"
   },
   {
    "duration": 118,
    "start_time": "2021-11-06T20:45:02.194Z"
   },
   {
    "duration": 62,
    "start_time": "2021-11-06T20:45:02.315Z"
   },
   {
    "duration": 57,
    "start_time": "2021-11-06T20:45:02.381Z"
   },
   {
    "duration": 35,
    "start_time": "2021-11-06T20:45:02.441Z"
   },
   {
    "duration": 50,
    "start_time": "2021-11-06T20:45:02.479Z"
   },
   {
    "duration": 1474,
    "start_time": "2021-11-06T20:45:02.532Z"
   },
   {
    "duration": 440,
    "start_time": "2021-11-06T20:45:04.009Z"
   },
   {
    "duration": 9,
    "start_time": "2021-11-06T20:45:04.452Z"
   },
   {
    "duration": 16,
    "start_time": "2021-11-06T20:45:04.464Z"
   },
   {
    "duration": 751,
    "start_time": "2021-11-06T20:45:04.483Z"
   },
   {
    "duration": 36,
    "start_time": "2021-11-06T20:45:05.238Z"
   },
   {
    "duration": 30,
    "start_time": "2021-11-06T20:47:51.876Z"
   },
   {
    "duration": 28,
    "start_time": "2021-11-06T20:47:57.851Z"
   },
   {
    "duration": 373,
    "start_time": "2021-11-06T20:50:08.662Z"
   },
   {
    "duration": 29,
    "start_time": "2021-11-06T20:50:33.273Z"
   },
   {
    "duration": 30,
    "start_time": "2021-11-06T20:51:28.745Z"
   },
   {
    "duration": 55,
    "start_time": "2021-11-06T21:04:13.949Z"
   },
   {
    "duration": 287,
    "start_time": "2021-11-06T21:04:35.578Z"
   },
   {
    "duration": 1050,
    "start_time": "2021-11-06T21:04:56.042Z"
   },
   {
    "duration": 92,
    "start_time": "2021-11-06T21:04:57.095Z"
   },
   {
    "duration": 45,
    "start_time": "2021-11-06T21:04:57.192Z"
   },
   {
    "duration": 16,
    "start_time": "2021-11-06T21:04:57.240Z"
   },
   {
    "duration": 13,
    "start_time": "2021-11-06T21:04:57.258Z"
   },
   {
    "duration": 60,
    "start_time": "2021-11-06T21:04:57.274Z"
   },
   {
    "duration": 64,
    "start_time": "2021-11-06T21:04:57.337Z"
   },
   {
    "duration": 35,
    "start_time": "2021-11-06T21:04:57.407Z"
   },
   {
    "duration": 6,
    "start_time": "2021-11-06T21:04:57.445Z"
   },
   {
    "duration": 6,
    "start_time": "2021-11-06T21:04:57.453Z"
   },
   {
    "duration": 21,
    "start_time": "2021-11-06T21:04:57.462Z"
   },
   {
    "duration": 51,
    "start_time": "2021-11-06T21:04:57.485Z"
   },
   {
    "duration": 64,
    "start_time": "2021-11-06T21:04:57.540Z"
   },
   {
    "duration": 47,
    "start_time": "2021-11-06T21:04:57.607Z"
   },
   {
    "duration": 28,
    "start_time": "2021-11-06T21:04:57.657Z"
   },
   {
    "duration": 54,
    "start_time": "2021-11-06T21:04:57.687Z"
   },
   {
    "duration": 22,
    "start_time": "2021-11-06T21:04:57.744Z"
   },
   {
    "duration": 1054,
    "start_time": "2021-11-06T21:04:57.769Z"
   },
   {
    "duration": 441,
    "start_time": "2021-11-06T21:04:58.825Z"
   },
   {
    "duration": 9,
    "start_time": "2021-11-06T21:04:59.269Z"
   },
   {
    "duration": 14,
    "start_time": "2021-11-06T21:04:59.280Z"
   },
   {
    "duration": 827,
    "start_time": "2021-11-06T21:04:59.297Z"
   },
   {
    "duration": 37,
    "start_time": "2021-11-06T21:05:00.131Z"
   },
   {
    "duration": 26,
    "start_time": "2021-11-06T21:05:00.171Z"
   },
   {
    "duration": 393,
    "start_time": "2021-11-06T21:05:00.199Z"
   },
   {
    "duration": 276,
    "start_time": "2021-11-06T21:05:02.550Z"
   },
   {
    "duration": 55,
    "start_time": "2021-11-06T21:05:14.070Z"
   },
   {
    "duration": 53,
    "start_time": "2021-11-06T21:08:57.590Z"
   },
   {
    "duration": 53,
    "start_time": "2021-11-06T21:10:21.919Z"
   },
   {
    "duration": 554,
    "start_time": "2021-11-07T09:48:12.291Z"
   },
   {
    "duration": 51,
    "start_time": "2021-11-07T09:48:12.847Z"
   },
   {
    "duration": 18,
    "start_time": "2021-11-07T09:48:12.900Z"
   },
   {
    "duration": 12,
    "start_time": "2021-11-07T09:48:12.920Z"
   },
   {
    "duration": 8,
    "start_time": "2021-11-07T09:48:12.933Z"
   },
   {
    "duration": 9,
    "start_time": "2021-11-07T09:48:12.942Z"
   },
   {
    "duration": 57,
    "start_time": "2021-11-07T09:48:12.953Z"
   },
   {
    "duration": 8,
    "start_time": "2021-11-07T09:48:13.013Z"
   },
   {
    "duration": 6,
    "start_time": "2021-11-07T09:48:13.022Z"
   },
   {
    "duration": 6,
    "start_time": "2021-11-07T09:48:13.030Z"
   },
   {
    "duration": 15,
    "start_time": "2021-11-07T09:48:13.037Z"
   },
   {
    "duration": 11,
    "start_time": "2021-11-07T09:48:13.053Z"
   },
   {
    "duration": 57,
    "start_time": "2021-11-07T09:48:13.066Z"
   },
   {
    "duration": 25,
    "start_time": "2021-11-07T09:48:13.124Z"
   },
   {
    "duration": 44,
    "start_time": "2021-11-07T09:48:13.150Z"
   },
   {
    "duration": 16,
    "start_time": "2021-11-07T09:48:13.195Z"
   },
   {
    "duration": 12,
    "start_time": "2021-11-07T09:48:13.212Z"
   },
   {
    "duration": 708,
    "start_time": "2021-11-07T09:48:13.225Z"
   },
   {
    "duration": 243,
    "start_time": "2021-11-07T09:48:13.935Z"
   },
   {
    "duration": 11,
    "start_time": "2021-11-07T09:48:14.180Z"
   },
   {
    "duration": 11,
    "start_time": "2021-11-07T09:48:14.193Z"
   },
   {
    "duration": 354,
    "start_time": "2021-11-07T09:48:14.205Z"
   },
   {
    "duration": 21,
    "start_time": "2021-11-07T09:48:14.563Z"
   },
   {
    "duration": 16,
    "start_time": "2021-11-07T09:48:14.585Z"
   },
   {
    "duration": 33,
    "start_time": "2021-11-07T09:48:14.602Z"
   },
   {
    "duration": 788,
    "start_time": "2021-11-07T12:44:41.583Z"
   },
   {
    "duration": 64,
    "start_time": "2021-11-07T12:44:42.374Z"
   },
   {
    "duration": 29,
    "start_time": "2021-11-07T12:44:42.441Z"
   },
   {
    "duration": 16,
    "start_time": "2021-11-07T12:44:42.473Z"
   },
   {
    "duration": 11,
    "start_time": "2021-11-07T12:44:42.491Z"
   },
   {
    "duration": 14,
    "start_time": "2021-11-07T12:44:42.504Z"
   },
   {
    "duration": 99,
    "start_time": "2021-11-07T12:44:42.520Z"
   },
   {
    "duration": 12,
    "start_time": "2021-11-07T12:44:42.621Z"
   },
   {
    "duration": 30,
    "start_time": "2021-11-07T12:44:42.637Z"
   },
   {
    "duration": 4,
    "start_time": "2021-11-07T12:44:42.670Z"
   },
   {
    "duration": 24,
    "start_time": "2021-11-07T12:44:42.676Z"
   },
   {
    "duration": 18,
    "start_time": "2021-11-07T12:44:42.702Z"
   },
   {
    "duration": 89,
    "start_time": "2021-11-07T12:44:42.722Z"
   },
   {
    "duration": 33,
    "start_time": "2021-11-07T12:44:42.814Z"
   },
   {
    "duration": 41,
    "start_time": "2021-11-07T12:44:42.850Z"
   },
   {
    "duration": 23,
    "start_time": "2021-11-07T12:44:42.893Z"
   },
   {
    "duration": 18,
    "start_time": "2021-11-07T12:44:42.919Z"
   },
   {
    "duration": 991,
    "start_time": "2021-11-07T12:44:42.968Z"
   },
   {
    "duration": 449,
    "start_time": "2021-11-07T12:44:43.966Z"
   },
   {
    "duration": 7,
    "start_time": "2021-11-07T12:44:44.417Z"
   },
   {
    "duration": 15,
    "start_time": "2021-11-07T12:44:44.426Z"
   },
   {
    "duration": 289767,
    "start_time": "2021-11-07T12:44:44.443Z"
   },
   {
    "duration": 33,
    "start_time": "2021-11-07T12:49:34.212Z"
   },
   {
    "duration": 38,
    "start_time": "2021-11-07T12:49:34.247Z"
   },
   {
    "duration": 59,
    "start_time": "2021-11-07T12:49:34.287Z"
   },
   {
    "duration": 10,
    "start_time": "2021-11-07T13:02:18.172Z"
   },
   {
    "duration": 93,
    "start_time": "2021-11-07T14:21:37.919Z"
   },
   {
    "duration": 91,
    "start_time": "2021-11-07T14:21:50.111Z"
   },
   {
    "duration": 93,
    "start_time": "2021-11-07T14:22:19.370Z"
   },
   {
    "duration": 93,
    "start_time": "2021-11-07T14:22:33.556Z"
   },
   {
    "duration": 324,
    "start_time": "2021-11-07T14:24:31.614Z"
   },
   {
    "duration": 271,
    "start_time": "2021-11-07T14:24:45.714Z"
   },
   {
    "duration": 327,
    "start_time": "2021-11-07T14:25:43.429Z"
   },
   {
    "duration": 273,
    "start_time": "2021-11-07T14:26:02.424Z"
   },
   {
    "duration": 832,
    "start_time": "2021-11-07T14:26:16.278Z"
   },
   {
    "duration": 91,
    "start_time": "2021-11-07T14:26:17.112Z"
   },
   {
    "duration": 40,
    "start_time": "2021-11-07T14:26:17.207Z"
   },
   {
    "duration": 16,
    "start_time": "2021-11-07T14:26:17.249Z"
   },
   {
    "duration": 11,
    "start_time": "2021-11-07T14:26:17.268Z"
   },
   {
    "duration": 55,
    "start_time": "2021-11-07T14:26:17.283Z"
   },
   {
    "duration": 85,
    "start_time": "2021-11-07T14:26:17.340Z"
   },
   {
    "duration": 13,
    "start_time": "2021-11-07T14:26:17.429Z"
   },
   {
    "duration": 6,
    "start_time": "2021-11-07T14:26:17.445Z"
   },
   {
    "duration": 6,
    "start_time": "2021-11-07T14:26:17.455Z"
   },
   {
    "duration": 60,
    "start_time": "2021-11-07T14:26:17.464Z"
   },
   {
    "duration": 18,
    "start_time": "2021-11-07T14:26:17.527Z"
   },
   {
    "duration": 77,
    "start_time": "2021-11-07T14:26:17.548Z"
   },
   {
    "duration": 36,
    "start_time": "2021-11-07T14:26:17.628Z"
   },
   {
    "duration": 28,
    "start_time": "2021-11-07T14:26:17.666Z"
   },
   {
    "duration": 47,
    "start_time": "2021-11-07T14:26:17.696Z"
   },
   {
    "duration": 26,
    "start_time": "2021-11-07T14:26:17.745Z"
   },
   {
    "duration": 1105,
    "start_time": "2021-11-07T14:26:17.775Z"
   },
   {
    "duration": 481,
    "start_time": "2021-11-07T14:26:18.884Z"
   },
   {
    "duration": 6,
    "start_time": "2021-11-07T14:26:19.368Z"
   },
   {
    "duration": 13,
    "start_time": "2021-11-07T14:26:19.376Z"
   },
   {
    "duration": 786,
    "start_time": "2021-11-07T14:26:19.392Z"
   },
   {
    "duration": 45,
    "start_time": "2021-11-07T14:26:20.183Z"
   },
   {
    "duration": 28,
    "start_time": "2021-11-07T14:26:20.231Z"
   },
   {
    "duration": 83,
    "start_time": "2021-11-07T14:26:20.262Z"
   },
   {
    "duration": 373,
    "start_time": "2021-11-07T14:32:24.507Z"
   },
   {
    "duration": 265,
    "start_time": "2021-11-07T14:33:22.446Z"
   },
   {
    "duration": 5,
    "start_time": "2021-11-07T14:36:22.534Z"
   },
   {
    "duration": 5,
    "start_time": "2021-11-07T14:36:30.393Z"
   },
   {
    "duration": 279,
    "start_time": "2021-11-07T14:36:46.715Z"
   },
   {
    "duration": 281,
    "start_time": "2021-11-07T14:36:54.649Z"
   },
   {
    "duration": 275,
    "start_time": "2021-11-07T14:37:03.680Z"
   },
   {
    "duration": 8,
    "start_time": "2021-11-07T14:40:27.947Z"
   },
   {
    "duration": 298,
    "start_time": "2021-11-07T14:44:42.487Z"
   },
   {
    "duration": 89,
    "start_time": "2021-11-07T14:44:58.429Z"
   },
   {
    "duration": 244,
    "start_time": "2021-11-07T14:45:15.391Z"
   },
   {
    "duration": 284,
    "start_time": "2021-11-07T14:45:20.615Z"
   },
   {
    "duration": 97,
    "start_time": "2021-11-07T14:47:02.288Z"
   },
   {
    "duration": 4,
    "start_time": "2021-11-07T14:47:32.922Z"
   },
   {
    "duration": 3,
    "start_time": "2021-11-07T14:47:36.234Z"
   },
   {
    "duration": 10,
    "start_time": "2021-11-07T14:47:49.290Z"
   },
   {
    "duration": 267,
    "start_time": "2021-11-07T14:55:08.683Z"
   },
   {
    "duration": 270,
    "start_time": "2021-11-07T14:55:18.775Z"
   },
   {
    "duration": 5,
    "start_time": "2021-11-07T14:57:48.390Z"
   },
   {
    "duration": 13,
    "start_time": "2021-11-07T15:00:45.677Z"
   },
   {
    "duration": 14,
    "start_time": "2021-11-07T15:01:23.519Z"
   },
   {
    "duration": 30,
    "start_time": "2021-11-07T15:05:19.674Z"
   },
   {
    "duration": 92,
    "start_time": "2021-11-07T15:09:25.145Z"
   },
   {
    "duration": 104,
    "start_time": "2021-11-07T15:13:56.819Z"
   },
   {
    "duration": 342,
    "start_time": "2021-11-07T15:14:09.268Z"
   },
   {
    "duration": 276,
    "start_time": "2021-11-07T15:14:15.366Z"
   },
   {
    "duration": 453,
    "start_time": "2021-11-07T15:14:25.957Z"
   },
   {
    "duration": 376,
    "start_time": "2021-11-07T15:16:04.493Z"
   },
   {
    "duration": 264,
    "start_time": "2021-11-07T15:16:16.187Z"
   },
   {
    "duration": 483,
    "start_time": "2021-11-07T15:16:59.165Z"
   },
   {
    "duration": 265,
    "start_time": "2021-11-07T15:19:19.543Z"
   },
   {
    "duration": 767,
    "start_time": "2021-11-07T15:19:51.285Z"
   },
   {
    "duration": 66,
    "start_time": "2021-11-07T15:19:52.055Z"
   },
   {
    "duration": 29,
    "start_time": "2021-11-07T15:19:52.124Z"
   },
   {
    "duration": 15,
    "start_time": "2021-11-07T15:19:52.155Z"
   },
   {
    "duration": 11,
    "start_time": "2021-11-07T15:19:52.173Z"
   },
   {
    "duration": 53,
    "start_time": "2021-11-07T15:19:52.186Z"
   },
   {
    "duration": 58,
    "start_time": "2021-11-07T15:19:52.241Z"
   },
   {
    "duration": 11,
    "start_time": "2021-11-07T15:19:52.323Z"
   },
   {
    "duration": 5,
    "start_time": "2021-11-07T15:19:52.337Z"
   },
   {
    "duration": 6,
    "start_time": "2021-11-07T15:19:52.345Z"
   },
   {
    "duration": 25,
    "start_time": "2021-11-07T15:19:52.353Z"
   },
   {
    "duration": 43,
    "start_time": "2021-11-07T15:19:52.381Z"
   },
   {
    "duration": 63,
    "start_time": "2021-11-07T15:19:52.427Z"
   },
   {
    "duration": 50,
    "start_time": "2021-11-07T15:19:52.493Z"
   },
   {
    "duration": 27,
    "start_time": "2021-11-07T15:19:52.545Z"
   },
   {
    "duration": 48,
    "start_time": "2021-11-07T15:19:52.574Z"
   },
   {
    "duration": 18,
    "start_time": "2021-11-07T15:19:52.625Z"
   },
   {
    "duration": 1021,
    "start_time": "2021-11-07T15:19:52.645Z"
   },
   {
    "duration": 494,
    "start_time": "2021-11-07T15:19:53.669Z"
   },
   {
    "duration": 4,
    "start_time": "2021-11-07T15:19:54.166Z"
   },
   {
    "duration": 444,
    "start_time": "2021-11-07T15:19:54.173Z"
   },
   {
    "duration": 6,
    "start_time": "2021-11-07T15:19:54.622Z"
   },
   {
    "duration": 11,
    "start_time": "2021-11-07T15:19:54.632Z"
   },
   {
    "duration": 760,
    "start_time": "2021-11-07T15:19:54.646Z"
   },
   {
    "duration": 44,
    "start_time": "2021-11-07T15:19:55.410Z"
   },
   {
    "duration": 28,
    "start_time": "2021-11-07T15:19:55.456Z"
   },
   {
    "duration": 87,
    "start_time": "2021-11-07T15:19:55.487Z"
   },
   {
    "duration": 502,
    "start_time": "2021-11-07T15:25:25.022Z"
   },
   {
    "duration": 267,
    "start_time": "2021-11-07T15:25:43.029Z"
   },
   {
    "duration": 364,
    "start_time": "2021-11-07T15:25:53.218Z"
   },
   {
    "duration": 528,
    "start_time": "2021-11-07T15:26:57.106Z"
   },
   {
    "duration": 677,
    "start_time": "2021-11-07T15:28:45.255Z"
   },
   {
    "duration": 44,
    "start_time": "2021-11-07T15:29:13.012Z"
   },
   {
    "duration": 85,
    "start_time": "2021-11-07T15:30:11.503Z"
   },
   {
    "duration": 44,
    "start_time": "2021-11-07T15:30:46.162Z"
   },
   {
    "duration": 47,
    "start_time": "2021-11-07T15:31:18.035Z"
   },
   {
    "duration": 132,
    "start_time": "2021-11-07T15:36:40.460Z"
   },
   {
    "duration": 773,
    "start_time": "2021-11-07T15:36:49.350Z"
   },
   {
    "duration": 69,
    "start_time": "2021-11-07T15:36:50.126Z"
   },
   {
    "duration": 30,
    "start_time": "2021-11-07T15:36:50.198Z"
   },
   {
    "duration": 23,
    "start_time": "2021-11-07T15:36:50.231Z"
   },
   {
    "duration": 12,
    "start_time": "2021-11-07T15:36:50.257Z"
   },
   {
    "duration": 51,
    "start_time": "2021-11-07T15:36:50.271Z"
   },
   {
    "duration": 59,
    "start_time": "2021-11-07T15:36:50.325Z"
   },
   {
    "duration": 11,
    "start_time": "2021-11-07T15:36:50.388Z"
   },
   {
    "duration": 5,
    "start_time": "2021-11-07T15:36:50.424Z"
   },
   {
    "duration": 12,
    "start_time": "2021-11-07T15:36:50.431Z"
   },
   {
    "duration": 18,
    "start_time": "2021-11-07T15:36:50.446Z"
   },
   {
    "duration": 18,
    "start_time": "2021-11-07T15:36:50.466Z"
   },
   {
    "duration": 89,
    "start_time": "2021-11-07T15:36:50.487Z"
   },
   {
    "duration": 46,
    "start_time": "2021-11-07T15:36:50.579Z"
   },
   {
    "duration": 29,
    "start_time": "2021-11-07T15:36:50.628Z"
   },
   {
    "duration": 23,
    "start_time": "2021-11-07T15:36:50.660Z"
   },
   {
    "duration": 50,
    "start_time": "2021-11-07T15:36:50.685Z"
   },
   {
    "duration": 1024,
    "start_time": "2021-11-07T15:36:50.738Z"
   },
   {
    "duration": 175,
    "start_time": "2021-11-07T15:36:51.765Z"
   },
   {
    "duration": 815,
    "start_time": "2021-11-07T15:36:51.128Z"
   },
   {
    "duration": 812,
    "start_time": "2021-11-07T15:36:51.133Z"
   },
   {
    "duration": 774,
    "start_time": "2021-11-07T15:36:51.172Z"
   },
   {
    "duration": 772,
    "start_time": "2021-11-07T15:36:51.176Z"
   },
   {
    "duration": 769,
    "start_time": "2021-11-07T15:36:51.181Z"
   },
   {
    "duration": 746,
    "start_time": "2021-11-07T15:36:51.205Z"
   },
   {
    "duration": 744,
    "start_time": "2021-11-07T15:36:51.208Z"
   },
   {
    "duration": 740,
    "start_time": "2021-11-07T15:36:51.214Z"
   },
   {
    "duration": 736,
    "start_time": "2021-11-07T15:36:51.219Z"
   },
   {
    "duration": 48,
    "start_time": "2021-11-07T15:37:18.868Z"
   },
   {
    "duration": 49,
    "start_time": "2021-11-07T15:50:20.784Z"
   },
   {
    "duration": 5,
    "start_time": "2021-11-07T15:50:50.018Z"
   },
   {
    "duration": 4,
    "start_time": "2021-11-07T16:01:44.004Z"
   },
   {
    "duration": 3,
    "start_time": "2021-11-07T16:01:45.167Z"
   },
   {
    "duration": 389,
    "start_time": "2021-11-07T16:06:00.854Z"
   },
   {
    "duration": 265,
    "start_time": "2021-11-07T16:06:21.460Z"
   },
   {
    "duration": 294,
    "start_time": "2021-11-07T16:14:08.310Z"
   },
   {
    "duration": 266,
    "start_time": "2021-11-07T16:16:25.163Z"
   },
   {
    "duration": 75,
    "start_time": "2021-11-07T16:18:01.491Z"
   },
   {
    "duration": 73,
    "start_time": "2021-11-07T16:18:03.626Z"
   },
   {
    "duration": 786,
    "start_time": "2021-11-07T16:25:35.493Z"
   },
   {
    "duration": 68,
    "start_time": "2021-11-07T16:25:36.281Z"
   },
   {
    "duration": 34,
    "start_time": "2021-11-07T16:25:36.352Z"
   },
   {
    "duration": 34,
    "start_time": "2021-11-07T16:25:36.390Z"
   },
   {
    "duration": 14,
    "start_time": "2021-11-07T16:25:36.427Z"
   },
   {
    "duration": 23,
    "start_time": "2021-11-07T16:25:36.443Z"
   },
   {
    "duration": 92,
    "start_time": "2021-11-07T16:25:36.469Z"
   },
   {
    "duration": 10,
    "start_time": "2021-11-07T16:25:36.565Z"
   },
   {
    "duration": 5,
    "start_time": "2021-11-07T16:25:36.579Z"
   },
   {
    "duration": 6,
    "start_time": "2021-11-07T16:25:36.586Z"
   },
   {
    "duration": 16,
    "start_time": "2021-11-07T16:25:36.623Z"
   },
   {
    "duration": 18,
    "start_time": "2021-11-07T16:25:36.641Z"
   },
   {
    "duration": 85,
    "start_time": "2021-11-07T16:25:36.662Z"
   },
   {
    "duration": 37,
    "start_time": "2021-11-07T16:25:36.750Z"
   },
   {
    "duration": 50,
    "start_time": "2021-11-07T16:25:36.789Z"
   },
   {
    "duration": 23,
    "start_time": "2021-11-07T16:25:36.842Z"
   },
   {
    "duration": 18,
    "start_time": "2021-11-07T16:25:36.868Z"
   },
   {
    "duration": 1437,
    "start_time": "2021-11-07T16:25:36.889Z"
   },
   {
    "duration": 49,
    "start_time": "2021-11-07T16:25:38.328Z"
   },
   {
    "duration": 67,
    "start_time": "2021-11-07T16:25:38.379Z"
   },
   {
    "duration": 427,
    "start_time": "2021-11-07T16:25:38.450Z"
   },
   {
    "duration": 7,
    "start_time": "2021-11-07T16:25:38.880Z"
   },
   {
    "duration": 37,
    "start_time": "2021-11-07T16:25:38.891Z"
   },
   {
    "duration": 827,
    "start_time": "2021-11-07T16:25:38.932Z"
   },
   {
    "duration": 59,
    "start_time": "2021-11-07T16:25:39.763Z"
   },
   {
    "duration": 35,
    "start_time": "2021-11-07T16:25:39.825Z"
   },
   {
    "duration": 93,
    "start_time": "2021-11-07T16:25:39.863Z"
   },
   {
    "duration": 564,
    "start_time": "2021-11-08T07:31:15.022Z"
   },
   {
    "duration": 778,
    "start_time": "2021-11-08T07:31:26.597Z"
   },
   {
    "duration": 67,
    "start_time": "2021-11-08T07:31:27.379Z"
   },
   {
    "duration": 28,
    "start_time": "2021-11-08T07:31:27.449Z"
   },
   {
    "duration": 16,
    "start_time": "2021-11-08T07:31:27.480Z"
   },
   {
    "duration": 28,
    "start_time": "2021-11-08T07:31:27.500Z"
   },
   {
    "duration": 20,
    "start_time": "2021-11-08T07:31:27.530Z"
   },
   {
    "duration": 87,
    "start_time": "2021-11-08T07:31:27.552Z"
   },
   {
    "duration": 10,
    "start_time": "2021-11-08T07:31:27.643Z"
   },
   {
    "duration": 8,
    "start_time": "2021-11-08T07:31:27.656Z"
   },
   {
    "duration": 7,
    "start_time": "2021-11-08T07:31:27.666Z"
   },
   {
    "duration": 47,
    "start_time": "2021-11-08T07:31:27.676Z"
   },
   {
    "duration": 19,
    "start_time": "2021-11-08T07:31:27.726Z"
   },
   {
    "duration": 82,
    "start_time": "2021-11-08T07:31:27.748Z"
   },
   {
    "duration": 34,
    "start_time": "2021-11-08T07:31:27.832Z"
   },
   {
    "duration": 29,
    "start_time": "2021-11-08T07:31:27.868Z"
   },
   {
    "duration": 44,
    "start_time": "2021-11-08T07:31:27.899Z"
   },
   {
    "duration": 21,
    "start_time": "2021-11-08T07:31:27.946Z"
   },
   {
    "duration": 998,
    "start_time": "2021-11-08T07:31:27.969Z"
   },
   {
    "duration": 58,
    "start_time": "2021-11-08T07:31:28.970Z"
   },
   {
    "duration": 45,
    "start_time": "2021-11-08T07:31:29.031Z"
   },
   {
    "duration": 5190,
    "start_time": "2021-11-08T07:31:29.078Z"
   },
   {
    "duration": -163,
    "start_time": "2021-11-08T07:31:34.436Z"
   },
   {
    "duration": -164,
    "start_time": "2021-11-08T07:31:34.439Z"
   },
   {
    "duration": -166,
    "start_time": "2021-11-08T07:31:34.443Z"
   },
   {
    "duration": -166,
    "start_time": "2021-11-08T07:31:34.446Z"
   },
   {
    "duration": -168,
    "start_time": "2021-11-08T07:31:34.450Z"
   },
   {
    "duration": -174,
    "start_time": "2021-11-08T07:31:34.458Z"
   },
   {
    "duration": -176,
    "start_time": "2021-11-08T07:31:34.462Z"
   },
   {
    "duration": 16,
    "start_time": "2021-11-08T07:31:48.928Z"
   },
   {
    "duration": 15,
    "start_time": "2021-11-08T07:32:56.422Z"
   },
   {
    "duration": 784,
    "start_time": "2021-11-08T07:36:51.194Z"
   },
   {
    "duration": 67,
    "start_time": "2021-11-08T07:36:51.981Z"
   },
   {
    "duration": 31,
    "start_time": "2021-11-08T07:36:52.052Z"
   },
   {
    "duration": 38,
    "start_time": "2021-11-08T07:36:52.086Z"
   },
   {
    "duration": 12,
    "start_time": "2021-11-08T07:36:52.127Z"
   },
   {
    "duration": 27,
    "start_time": "2021-11-08T07:36:52.141Z"
   },
   {
    "duration": 89,
    "start_time": "2021-11-08T07:36:52.170Z"
   },
   {
    "duration": 11,
    "start_time": "2021-11-08T07:36:52.263Z"
   },
   {
    "duration": 6,
    "start_time": "2021-11-08T07:36:52.277Z"
   },
   {
    "duration": 5,
    "start_time": "2021-11-08T07:36:52.285Z"
   },
   {
    "duration": 46,
    "start_time": "2021-11-08T07:36:52.292Z"
   },
   {
    "duration": 18,
    "start_time": "2021-11-08T07:36:52.340Z"
   },
   {
    "duration": 91,
    "start_time": "2021-11-08T07:36:52.360Z"
   },
   {
    "duration": 37,
    "start_time": "2021-11-08T07:36:52.454Z"
   },
   {
    "duration": 50,
    "start_time": "2021-11-08T07:36:52.495Z"
   },
   {
    "duration": 25,
    "start_time": "2021-11-08T07:36:52.548Z"
   },
   {
    "duration": 46,
    "start_time": "2021-11-08T07:36:52.577Z"
   },
   {
    "duration": 1003,
    "start_time": "2021-11-08T07:36:52.626Z"
   },
   {
    "duration": 47,
    "start_time": "2021-11-08T07:36:53.631Z"
   },
   {
    "duration": 68,
    "start_time": "2021-11-08T07:36:53.681Z"
   },
   {
    "duration": 20,
    "start_time": "2021-11-08T07:36:53.753Z"
   },
   {
    "duration": 53,
    "start_time": "2021-11-08T07:36:53.776Z"
   },
   {
    "duration": 425,
    "start_time": "2021-11-08T07:36:53.836Z"
   },
   {
    "duration": 9,
    "start_time": "2021-11-08T07:36:54.264Z"
   },
   {
    "duration": 14,
    "start_time": "2021-11-08T07:36:54.276Z"
   },
   {
    "duration": 796,
    "start_time": "2021-11-08T07:36:54.293Z"
   },
   {
    "duration": 42,
    "start_time": "2021-11-08T07:36:55.092Z"
   },
   {
    "duration": 28,
    "start_time": "2021-11-08T07:36:55.136Z"
   },
   {
    "duration": 78,
    "start_time": "2021-11-08T07:36:55.166Z"
   },
   {
    "duration": 727,
    "start_time": "2021-11-08T07:38:19.758Z"
   },
   {
    "duration": 67,
    "start_time": "2021-11-08T07:38:20.488Z"
   },
   {
    "duration": 31,
    "start_time": "2021-11-08T07:38:20.559Z"
   },
   {
    "duration": 39,
    "start_time": "2021-11-08T07:38:20.594Z"
   },
   {
    "duration": 11,
    "start_time": "2021-11-08T07:38:20.636Z"
   },
   {
    "duration": 20,
    "start_time": "2021-11-08T07:38:20.650Z"
   },
   {
    "duration": 97,
    "start_time": "2021-11-08T07:38:20.673Z"
   },
   {
    "duration": 10,
    "start_time": "2021-11-08T07:38:20.774Z"
   },
   {
    "duration": 8,
    "start_time": "2021-11-08T07:38:20.787Z"
   },
   {
    "duration": 27,
    "start_time": "2021-11-08T07:38:20.797Z"
   },
   {
    "duration": 21,
    "start_time": "2021-11-08T07:38:20.826Z"
   },
   {
    "duration": 17,
    "start_time": "2021-11-08T07:38:20.849Z"
   },
   {
    "duration": 88,
    "start_time": "2021-11-08T07:38:20.869Z"
   },
   {
    "duration": 35,
    "start_time": "2021-11-08T07:38:20.959Z"
   },
   {
    "duration": 46,
    "start_time": "2021-11-08T07:38:20.996Z"
   },
   {
    "duration": 26,
    "start_time": "2021-11-08T07:38:21.045Z"
   },
   {
    "duration": 49,
    "start_time": "2021-11-08T07:38:21.074Z"
   },
   {
    "duration": 996,
    "start_time": "2021-11-08T07:38:21.126Z"
   },
   {
    "duration": 48,
    "start_time": "2021-11-08T07:38:22.125Z"
   },
   {
    "duration": 67,
    "start_time": "2021-11-08T07:38:22.176Z"
   },
   {
    "duration": 19,
    "start_time": "2021-11-08T07:38:22.245Z"
   },
   {
    "duration": 16,
    "start_time": "2021-11-08T07:38:22.267Z"
   },
   {
    "duration": 122,
    "start_time": "2021-11-08T07:38:22.287Z"
   },
   {
    "duration": 17,
    "start_time": "2021-11-08T07:38:22.395Z"
   },
   {
    "duration": 15,
    "start_time": "2021-11-08T07:38:22.398Z"
   },
   {
    "duration": 13,
    "start_time": "2021-11-08T07:38:22.402Z"
   },
   {
    "duration": 12,
    "start_time": "2021-11-08T07:38:22.405Z"
   },
   {
    "duration": 9,
    "start_time": "2021-11-08T07:38:22.409Z"
   },
   {
    "duration": 8,
    "start_time": "2021-11-08T07:38:22.412Z"
   },
   {
    "duration": 5,
    "start_time": "2021-11-08T07:38:22.416Z"
   },
   {
    "duration": 98,
    "start_time": "2021-11-08T07:38:33.174Z"
   },
   {
    "duration": 135,
    "start_time": "2021-11-08T07:38:39.975Z"
   },
   {
    "duration": 98,
    "start_time": "2021-11-08T07:40:21.302Z"
   },
   {
    "duration": 98,
    "start_time": "2021-11-08T07:40:27.834Z"
   },
   {
    "duration": 90,
    "start_time": "2021-11-08T07:41:06.610Z"
   },
   {
    "duration": 702,
    "start_time": "2021-11-08T07:41:52.655Z"
   },
   {
    "duration": 63,
    "start_time": "2021-11-08T07:41:53.360Z"
   },
   {
    "duration": 28,
    "start_time": "2021-11-08T07:41:53.426Z"
   },
   {
    "duration": 15,
    "start_time": "2021-11-08T07:41:53.456Z"
   },
   {
    "duration": 11,
    "start_time": "2021-11-08T07:41:53.474Z"
   },
   {
    "duration": 53,
    "start_time": "2021-11-08T07:41:53.488Z"
   },
   {
    "duration": 58,
    "start_time": "2021-11-08T07:41:53.543Z"
   },
   {
    "duration": 13,
    "start_time": "2021-11-08T07:41:53.624Z"
   },
   {
    "duration": 5,
    "start_time": "2021-11-08T07:41:53.641Z"
   },
   {
    "duration": 7,
    "start_time": "2021-11-08T07:41:53.649Z"
   },
   {
    "duration": 18,
    "start_time": "2021-11-08T07:41:53.658Z"
   },
   {
    "duration": 61,
    "start_time": "2021-11-08T07:41:53.678Z"
   },
   {
    "duration": 84,
    "start_time": "2021-11-08T07:41:53.742Z"
   },
   {
    "duration": 36,
    "start_time": "2021-11-08T07:41:53.829Z"
   },
   {
    "duration": 60,
    "start_time": "2021-11-08T07:41:53.868Z"
   },
   {
    "duration": 26,
    "start_time": "2021-11-08T07:41:53.930Z"
   },
   {
    "duration": 23,
    "start_time": "2021-11-08T07:41:53.959Z"
   },
   {
    "duration": 1004,
    "start_time": "2021-11-08T07:41:53.985Z"
   },
   {
    "duration": 62,
    "start_time": "2021-11-08T07:41:54.993Z"
   },
   {
    "duration": 51,
    "start_time": "2021-11-08T07:41:55.058Z"
   },
   {
    "duration": 19,
    "start_time": "2021-11-08T07:41:55.124Z"
   },
   {
    "duration": 17,
    "start_time": "2021-11-08T07:41:55.146Z"
   },
   {
    "duration": 98,
    "start_time": "2021-11-08T07:41:55.167Z"
   },
   {
    "duration": -256,
    "start_time": "2021-11-08T07:41:55.524Z"
   },
   {
    "duration": -258,
    "start_time": "2021-11-08T07:41:55.528Z"
   },
   {
    "duration": -290,
    "start_time": "2021-11-08T07:41:55.561Z"
   },
   {
    "duration": -292,
    "start_time": "2021-11-08T07:41:55.564Z"
   },
   {
    "duration": -294,
    "start_time": "2021-11-08T07:41:55.568Z"
   },
   {
    "duration": -296,
    "start_time": "2021-11-08T07:41:55.571Z"
   },
   {
    "duration": -299,
    "start_time": "2021-11-08T07:41:55.575Z"
   },
   {
    "duration": 734,
    "start_time": "2021-11-08T07:42:28.382Z"
   },
   {
    "duration": 67,
    "start_time": "2021-11-08T07:42:29.119Z"
   },
   {
    "duration": 28,
    "start_time": "2021-11-08T07:42:29.189Z"
   },
   {
    "duration": 14,
    "start_time": "2021-11-08T07:42:29.222Z"
   },
   {
    "duration": 12,
    "start_time": "2021-11-08T07:42:29.239Z"
   },
   {
    "duration": 19,
    "start_time": "2021-11-08T07:42:29.253Z"
   },
   {
    "duration": 99,
    "start_time": "2021-11-08T07:42:29.275Z"
   },
   {
    "duration": 11,
    "start_time": "2021-11-08T07:42:29.378Z"
   },
   {
    "duration": 28,
    "start_time": "2021-11-08T07:42:29.394Z"
   },
   {
    "duration": 7,
    "start_time": "2021-11-08T07:42:29.425Z"
   },
   {
    "duration": 20,
    "start_time": "2021-11-08T07:42:29.434Z"
   },
   {
    "duration": 18,
    "start_time": "2021-11-08T07:42:29.458Z"
   },
   {
    "duration": 93,
    "start_time": "2021-11-08T07:42:29.479Z"
   },
   {
    "duration": 35,
    "start_time": "2021-11-08T07:42:29.574Z"
   },
   {
    "duration": 29,
    "start_time": "2021-11-08T07:42:29.623Z"
   },
   {
    "duration": 22,
    "start_time": "2021-11-08T07:42:29.655Z"
   },
   {
    "duration": 46,
    "start_time": "2021-11-08T07:42:29.679Z"
   },
   {
    "duration": 988,
    "start_time": "2021-11-08T07:42:29.728Z"
   },
   {
    "duration": 46,
    "start_time": "2021-11-08T07:42:30.723Z"
   },
   {
    "duration": 68,
    "start_time": "2021-11-08T07:42:30.772Z"
   },
   {
    "duration": 32,
    "start_time": "2021-11-08T07:42:30.843Z"
   },
   {
    "duration": 17,
    "start_time": "2021-11-08T07:42:30.878Z"
   },
   {
    "duration": 436,
    "start_time": "2021-11-08T07:42:30.900Z"
   },
   {
    "duration": 7,
    "start_time": "2021-11-08T07:42:31.338Z"
   },
   {
    "duration": 16,
    "start_time": "2021-11-08T07:42:31.348Z"
   },
   {
    "duration": 767,
    "start_time": "2021-11-08T07:42:31.367Z"
   },
   {
    "duration": 33,
    "start_time": "2021-11-08T07:42:32.137Z"
   },
   {
    "duration": 53,
    "start_time": "2021-11-08T07:42:32.172Z"
   },
   {
    "duration": 52,
    "start_time": "2021-11-08T07:42:32.228Z"
   }
  ],
  "kernelspec": {
   "display_name": "Python 3 (ipykernel)",
   "language": "python",
   "name": "python3"
  },
  "language_info": {
   "codemirror_mode": {
    "name": "ipython",
    "version": 3
   },
   "file_extension": ".py",
   "mimetype": "text/x-python",
   "name": "python",
   "nbconvert_exporter": "python",
   "pygments_lexer": "ipython3",
   "version": "3.9.12"
  },
  "toc": {
   "base_numbering": 1,
   "nav_menu": {},
   "number_sections": true,
   "sideBar": true,
   "skip_h1_title": true,
   "title_cell": "Table of Contents",
   "title_sidebar": "Contents",
   "toc_cell": false,
   "toc_position": {},
   "toc_section_display": true,
   "toc_window_display": false
  }
 },
 "nbformat": 4,
 "nbformat_minor": 2
}
