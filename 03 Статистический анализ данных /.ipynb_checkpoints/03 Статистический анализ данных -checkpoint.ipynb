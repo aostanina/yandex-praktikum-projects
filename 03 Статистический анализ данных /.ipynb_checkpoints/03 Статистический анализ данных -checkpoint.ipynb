{
 "cells": [
  {
   "cell_type": "markdown",
   "metadata": {
    "toc": true
   },
   "source": [
    "<h1>Определение перспективного тарифа для телеком-компании<span class=\"tocSkip\"></span></h1>\n",
    "<div class=\"toc\"><ul class=\"toc-item\"><li><span><a href=\"#Открываем-файл-с-данными-и-изучаем-общую-информацию\" data-toc-modified-id=\"Открываем-файл-с-данными-и-изучаем-общую-информацию-1\"><span class=\"toc-item-num\">1&nbsp;&nbsp;</span>Открываем файл с данными и изучаем общую информацию</a></span><ul class=\"toc-item\"><li><span><a href=\"#Вывод\" data-toc-modified-id=\"Вывод-1.1\"><span class=\"toc-item-num\">1.1&nbsp;&nbsp;</span>Вывод</a></span></li></ul></li><li><span><a href=\"#Предобработка-данных\" data-toc-modified-id=\"Предобработка-данных-2\"><span class=\"toc-item-num\">2&nbsp;&nbsp;</span>Предобработка данных</a></span><ul class=\"toc-item\"><li><span><a href=\"#Приведение-данных-к-нужным-типам\" data-toc-modified-id=\"Приведение-данных-к-нужным-типам-2.1\"><span class=\"toc-item-num\">2.1&nbsp;&nbsp;</span>Приведение данных к нужным типам</a></span><ul class=\"toc-item\"><li><span><a href=\"#Таблица-calls-(информация-о-звонках)\" data-toc-modified-id=\"Таблица-calls-(информация-о-звонках)-2.1.1\"><span class=\"toc-item-num\">2.1.1&nbsp;&nbsp;</span>Таблица calls (информация о звонках)</a></span></li><li><span><a href=\"#Таблица-internet-(информация-об-интернет-сессиях)\" data-toc-modified-id=\"Таблица-internet-(информация-об-интернет-сессиях)-2.1.2\"><span class=\"toc-item-num\">2.1.2&nbsp;&nbsp;</span>Таблица internet (информация об интернет-сессиях)</a></span></li><li><span><a href=\"#Таблица-messages-(информация-о-сообщениях)\" data-toc-modified-id=\"Таблица-messages-(информация-о-сообщениях)-2.1.3\"><span class=\"toc-item-num\">2.1.3&nbsp;&nbsp;</span>Таблица messages (информация о сообщениях)</a></span></li><li><span><a href=\"#Таблица-tariffs-(информация-о-тарифах)\" data-toc-modified-id=\"Таблица-tariffs-(информация-о-тарифах)-2.1.4\"><span class=\"toc-item-num\">2.1.4&nbsp;&nbsp;</span>Таблица tariffs (информация о тарифах)</a></span></li><li><span><a href=\"#Таблица-users-(информация-о-пользователях)\" data-toc-modified-id=\"Таблица-users-(информация-о-пользователях)-2.1.5\"><span class=\"toc-item-num\">2.1.5&nbsp;&nbsp;</span>Таблица users (информация о пользователях)</a></span></li></ul></li><li><span><a href=\"#Ошибки-в-данных\" data-toc-modified-id=\"Ошибки-в-данных-2.2\"><span class=\"toc-item-num\">2.2&nbsp;&nbsp;</span>Ошибки в данных</a></span><ul class=\"toc-item\"><li><span><a href=\"#Подготовка-функций-и-дополнительных-переменных\" data-toc-modified-id=\"Подготовка-функций-и-дополнительных-переменных-2.2.1\"><span class=\"toc-item-num\">2.2.1&nbsp;&nbsp;</span>Подготовка функций и дополнительных переменных</a></span></li><li><span><a href=\"#Таблица-calls\" data-toc-modified-id=\"Таблица-calls-2.2.2\"><span class=\"toc-item-num\">2.2.2&nbsp;&nbsp;</span>Таблица calls</a></span></li><li><span><a href=\"#Таблица-internet\" data-toc-modified-id=\"Таблица-internet-2.2.3\"><span class=\"toc-item-num\">2.2.3&nbsp;&nbsp;</span>Таблица internet</a></span></li><li><span><a href=\"#Таблица-messages\" data-toc-modified-id=\"Таблица-messages-2.2.4\"><span class=\"toc-item-num\">2.2.4&nbsp;&nbsp;</span>Таблица messages</a></span></li><li><span><a href=\"#Таблица-users\" data-toc-modified-id=\"Таблица-users-2.2.5\"><span class=\"toc-item-num\">2.2.5&nbsp;&nbsp;</span>Таблица users</a></span></li><li><span><a href=\"#Вывод\" data-toc-modified-id=\"Вывод-2.2.6\"><span class=\"toc-item-num\">2.2.6&nbsp;&nbsp;</span>Вывод</a></span></li></ul></li><li><span><a href=\"#Расчёт-показателей-для-каждого-пользователя\" data-toc-modified-id=\"Расчёт-показателей-для-каждого-пользователя-2.3\"><span class=\"toc-item-num\">2.3&nbsp;&nbsp;</span>Расчёт показателей для каждого пользователя</a></span><ul class=\"toc-item\"><li><span><a href=\"#Вывод\" data-toc-modified-id=\"Вывод-2.3.1\"><span class=\"toc-item-num\">2.3.1&nbsp;&nbsp;</span>Вывод</a></span></li></ul></li><li><span><a href=\"#Вывод-по-разделу-&quot;Подготовка-данных&quot;\" data-toc-modified-id=\"Вывод-по-разделу-&quot;Подготовка-данных&quot;-2.4\"><span class=\"toc-item-num\">2.4&nbsp;&nbsp;</span>Вывод по разделу \"Подготовка данных\"</a></span></li></ul></li><li><span><a href=\"#Анализ-данных\" data-toc-modified-id=\"Анализ-данных-3\"><span class=\"toc-item-num\">3&nbsp;&nbsp;</span>Анализ данных</a></span><ul class=\"toc-item\"><li><span><a href=\"#Вывод\" data-toc-modified-id=\"Вывод-3.1\"><span class=\"toc-item-num\">3.1&nbsp;&nbsp;</span>Вывод</a></span></li></ul></li><li><span><a href=\"#Проверка-гипотез\" data-toc-modified-id=\"Проверка-гипотез-4\"><span class=\"toc-item-num\">4&nbsp;&nbsp;</span>Проверка гипотез</a></span><ul class=\"toc-item\"><li><span><a href=\"#Гипотеза-№1---средняя-выручка-пользователей-тарифов-&quot;Ультра&quot;-и-&quot;Смарт&quot;-различается\" data-toc-modified-id=\"Гипотеза-№1---средняя-выручка-пользователей-тарифов-&quot;Ультра&quot;-и-&quot;Смарт&quot;-различается-4.1\"><span class=\"toc-item-num\">4.1&nbsp;&nbsp;</span>Гипотеза №1 - средняя выручка пользователей тарифов \"Ультра\" и \"Смарт\" различается</a></span></li><li><span><a href=\"#Гипотеза-№2---средняя-выручка-пользователей-из-Москвы-отличается-от-выручки-пользователей-из-других-регионов\" data-toc-modified-id=\"Гипотеза-№2---средняя-выручка-пользователей-из-Москвы-отличается-от-выручки-пользователей-из-других-регионов-4.2\"><span class=\"toc-item-num\">4.2&nbsp;&nbsp;</span>Гипотеза №2 - средняя выручка пользователей из Москвы отличается от выручки пользователей из других регионов</a></span></li><li><span><a href=\"#Вывод\" data-toc-modified-id=\"Вывод-4.3\"><span class=\"toc-item-num\">4.3&nbsp;&nbsp;</span>Вывод</a></span></li></ul></li><li><span><a href=\"#Общий-вывод\" data-toc-modified-id=\"Общий-вывод-5\"><span class=\"toc-item-num\">5&nbsp;&nbsp;</span>Общий вывод</a></span></li></ul></div>"
   ]
  },
  {
   "cell_type": "markdown",
   "metadata": {},
   "source": [
    "# Описание проекта\n",
    "Вы аналитик компании «Мегалайн» — федерального оператора сотовой связи. Клиентам предлагают два тарифных плана: «Смарт» и «Ультра». Чтобы скорректировать рекламный бюджет, коммерческий департамент хочет понять, какой тариф приносит больше денег.\n",
    "Вам предстоит сделать предварительный анализ тарифов на небольшой выборке клиентов. В вашем распоряжении данные 500 пользователей «Мегалайна»: кто они, откуда, каким тарифом пользуются, сколько звонков и сообщений каждый отправил за 2018 год. Нужно проанализировать поведение клиентов и сделать вывод — какой тариф лучше.\n",
    "Описание тарифов\n",
    "- Тариф «Смарт»\n",
    "Ежемесячная плата: 550 рублей\n",
    "Включено 500 минут разговора, 50 сообщений и 15 Гб интернет-трафика\n",
    "Стоимость услуг сверх тарифного пакета: 1. минута разговора: 3 рубля («Мегалайн» всегда округляет вверх значения минут и мегабайтов. Если пользователь проговорил всего 1 секунду, в тарифе засчитывается целая минута); 2. сообщение: 3 рубля; 3. 1 Гб интернет-трафика: 200 рублей.\n",
    "- Тариф «Ультра»\n",
    "Ежемесячная плата: 1950 рублей\n",
    "Включено 3000 минут разговора, 1000 сообщений и 30 Гб интернет-трафика\n",
    "Стоимость услуг сверх тарифного пакета: 1. минута разговора: 1 рубль; 2. сообщение: 1 рубль; 3. 1 Гб интернет-трафика: 150 рублей.\n",
    "\n",
    "*Примечание:\n",
    "«Мегалайн» всегда округляет секунды до минут, а мегабайты — до гигабайт. Каждый звонок округляется отдельно: даже если он длился всего 1 секунду, будет засчитан как 1 минута.\n",
    "Для веб-трафика отдельные сессии не считаются. Вместо этого общая сумма за месяц округляется в бо́льшую сторону. Если абонент использует 1025 мегабайт в этом месяце, с него возьмут плату за 2 гигабайта.*\n",
    "\n",
    "В ходе проекта нам необходимо будет не только изучить данные, произвести предобработку (включая приведение к нужному типу и исправление ошибок), описать поведение клиентов из выборки, но и проверить две гипотезы. \n",
    "Первая гипотеза: средняя выручка пользователей тарифов «Ультра» и «Смарт» различаются;\n",
    "Вторая гипотеза: средняя выручка пользователей из Москвы отличается от выручки пользователей из других регионов.\n",
    "\n",
    "**Описание данных**\n",
    "\n",
    "*Таблица users (информация о пользователях)*:\n",
    "user_id — уникальный идентификатор пользователя\n",
    "first_name — имя пользователя\n",
    "last_name — фамилия пользователя\n",
    "age — возраст пользователя (годы)\n",
    "reg_date — дата подключения тарифа (день, месяц, год)\n",
    "churn_date — дата прекращения пользования тарифом (если значение пропущено, то тариф ещё действовал на момент выгрузки данных)\n",
    "city — город проживания пользователя\n",
    "tarif — название тарифного плана\n",
    "\n",
    "*Таблица calls (информация о звонках)*:\n",
    "id — уникальный номер звонка\n",
    "call_date — дата звонка\n",
    "duration — длительность звонка в минутах\n",
    "user_id — идентификатор пользователя, сделавшего звонок\n",
    "\n",
    "*Таблица messages (информация о сообщениях)*:\n",
    "id — уникальный номер сообщения\n",
    "message_date — дата сообщения\n",
    "user_id — идентификатор пользователя, отправившего сообщение\n",
    "\n",
    "*Таблица internet (информация об интернет-сессиях)*:\n",
    "id — уникальный номер сессии\n",
    "mb_used — объём потраченного за сессию интернет-трафика (в мегабайтах)\n",
    "session_date — дата интернет-сессии\n",
    "user_id — идентификатор пользователя\n",
    "\n",
    "*Таблица tariffs (информация о тарифах)*:\n",
    "tariff_name — название тарифа\n",
    "rub_monthly_fee — ежемесячная абонентская плата в рублях\n",
    "minutes_included — количество минут разговора в месяц, включённых в абонентскую плату\n",
    "messages_included — количество сообщений в месяц, включённых в абонентскую плату\n",
    "mb_per_month_included — объём интернет-трафика, включённого в абонентскую плату (в мегабайтах)\n",
    "rub_per_minute — стоимость минуты разговора сверх тарифного пакета (например, если в тарифе 100 минут разговора в месяц, то со 101 минуты будет взиматься плата)\n",
    "rub_per_message — стоимость отправки сообщения сверх тарифного пакета\n",
    "rub_per_gb — стоимость дополнительного гигабайта интернет-трафика сверх тарифного пакета (1 гигабайт = 1024 мегабайта)\n"
   ]
  },
  {
   "cell_type": "code",
   "execution_count": 1,
   "metadata": {},
   "outputs": [],
   "source": [
    "# импортируем необходимые библиотеки\n",
    "from IPython.display import display\n",
    "import pandas as pd\n",
    "import matplotlib.pyplot as plt\n",
    "import numpy as np\n",
    "from scipy import stats as st\n",
    "\n",
    "# отключаем предупреждения фильтрации\n",
    "import warnings\n",
    "warnings.filterwarnings(\"ignore\") "
   ]
  },
  {
   "cell_type": "markdown",
   "metadata": {},
   "source": [
    "## Открываем файл с данными и изучаем общую информацию"
   ]
  },
  {
   "cell_type": "code",
   "execution_count": 2,
   "metadata": {},
   "outputs": [
    {
     "name": "stdout",
     "output_type": "stream",
     "text": [
      "<class 'pandas.core.frame.DataFrame'>\n",
      "RangeIndex: 202607 entries, 0 to 202606\n",
      "Data columns (total 4 columns):\n",
      "id           202607 non-null object\n",
      "call_date    202607 non-null object\n",
      "duration     202607 non-null float64\n",
      "user_id      202607 non-null int64\n",
      "dtypes: float64(1), int64(1), object(2)\n",
      "memory usage: 28.6 MB\n"
     ]
    },
    {
     "data": {
      "text/plain": [
       "None"
      ]
     },
     "metadata": {},
     "output_type": "display_data"
    },
    {
     "data": {
      "text/html": [
       "<div>\n",
       "<style scoped>\n",
       "    .dataframe tbody tr th:only-of-type {\n",
       "        vertical-align: middle;\n",
       "    }\n",
       "\n",
       "    .dataframe tbody tr th {\n",
       "        vertical-align: top;\n",
       "    }\n",
       "\n",
       "    .dataframe thead th {\n",
       "        text-align: right;\n",
       "    }\n",
       "</style>\n",
       "<table border=\"1\" class=\"dataframe\">\n",
       "  <thead>\n",
       "    <tr style=\"text-align: right;\">\n",
       "      <th></th>\n",
       "      <th>id</th>\n",
       "      <th>call_date</th>\n",
       "      <th>duration</th>\n",
       "      <th>user_id</th>\n",
       "    </tr>\n",
       "  </thead>\n",
       "  <tbody>\n",
       "    <tr>\n",
       "      <td>0</td>\n",
       "      <td>1000_0</td>\n",
       "      <td>2018-07-25</td>\n",
       "      <td>0.00</td>\n",
       "      <td>1000</td>\n",
       "    </tr>\n",
       "    <tr>\n",
       "      <td>1</td>\n",
       "      <td>1000_1</td>\n",
       "      <td>2018-08-17</td>\n",
       "      <td>0.00</td>\n",
       "      <td>1000</td>\n",
       "    </tr>\n",
       "    <tr>\n",
       "      <td>2</td>\n",
       "      <td>1000_2</td>\n",
       "      <td>2018-06-11</td>\n",
       "      <td>2.85</td>\n",
       "      <td>1000</td>\n",
       "    </tr>\n",
       "    <tr>\n",
       "      <td>3</td>\n",
       "      <td>1000_3</td>\n",
       "      <td>2018-09-21</td>\n",
       "      <td>13.80</td>\n",
       "      <td>1000</td>\n",
       "    </tr>\n",
       "    <tr>\n",
       "      <td>4</td>\n",
       "      <td>1000_4</td>\n",
       "      <td>2018-12-15</td>\n",
       "      <td>5.18</td>\n",
       "      <td>1000</td>\n",
       "    </tr>\n",
       "  </tbody>\n",
       "</table>\n",
       "</div>"
      ],
      "text/plain": [
       "       id   call_date  duration  user_id\n",
       "0  1000_0  2018-07-25      0.00     1000\n",
       "1  1000_1  2018-08-17      0.00     1000\n",
       "2  1000_2  2018-06-11      2.85     1000\n",
       "3  1000_3  2018-09-21     13.80     1000\n",
       "4  1000_4  2018-12-15      5.18     1000"
      ]
     },
     "metadata": {},
     "output_type": "display_data"
    },
    {
     "data": {
      "text/html": [
       "<div>\n",
       "<style scoped>\n",
       "    .dataframe tbody tr th:only-of-type {\n",
       "        vertical-align: middle;\n",
       "    }\n",
       "\n",
       "    .dataframe tbody tr th {\n",
       "        vertical-align: top;\n",
       "    }\n",
       "\n",
       "    .dataframe thead th {\n",
       "        text-align: right;\n",
       "    }\n",
       "</style>\n",
       "<table border=\"1\" class=\"dataframe\">\n",
       "  <thead>\n",
       "    <tr style=\"text-align: right;\">\n",
       "      <th></th>\n",
       "      <th>count</th>\n",
       "      <th>mean</th>\n",
       "      <th>std</th>\n",
       "      <th>min</th>\n",
       "      <th>25%</th>\n",
       "      <th>50%</th>\n",
       "      <th>75%</th>\n",
       "      <th>max</th>\n",
       "    </tr>\n",
       "  </thead>\n",
       "  <tbody>\n",
       "    <tr>\n",
       "      <td>duration</td>\n",
       "      <td>202607.0</td>\n",
       "      <td>6.755887</td>\n",
       "      <td>5.843365</td>\n",
       "      <td>0.0</td>\n",
       "      <td>1.3</td>\n",
       "      <td>6.0</td>\n",
       "      <td>10.7</td>\n",
       "      <td>38.0</td>\n",
       "    </tr>\n",
       "    <tr>\n",
       "      <td>user_id</td>\n",
       "      <td>202607.0</td>\n",
       "      <td>1253.940619</td>\n",
       "      <td>144.722751</td>\n",
       "      <td>1000.0</td>\n",
       "      <td>1126.0</td>\n",
       "      <td>1260.0</td>\n",
       "      <td>1379.0</td>\n",
       "      <td>1499.0</td>\n",
       "    </tr>\n",
       "  </tbody>\n",
       "</table>\n",
       "</div>"
      ],
      "text/plain": [
       "             count         mean         std     min     25%     50%     75%  \\\n",
       "duration  202607.0     6.755887    5.843365     0.0     1.3     6.0    10.7   \n",
       "user_id   202607.0  1253.940619  144.722751  1000.0  1126.0  1260.0  1379.0   \n",
       "\n",
       "             max  \n",
       "duration    38.0  \n",
       "user_id   1499.0  "
      ]
     },
     "metadata": {},
     "output_type": "display_data"
    },
    {
     "name": "stdout",
     "output_type": "stream",
     "text": [
      "<class 'pandas.core.frame.DataFrame'>\n",
      "RangeIndex: 149396 entries, 0 to 149395\n",
      "Data columns (total 5 columns):\n",
      "Unnamed: 0      149396 non-null int64\n",
      "id              149396 non-null object\n",
      "mb_used         149396 non-null float64\n",
      "session_date    149396 non-null object\n",
      "user_id         149396 non-null int64\n",
      "dtypes: float64(1), int64(2), object(2)\n",
      "memory usage: 22.2 MB\n"
     ]
    },
    {
     "data": {
      "text/plain": [
       "None"
      ]
     },
     "metadata": {},
     "output_type": "display_data"
    },
    {
     "data": {
      "text/html": [
       "<div>\n",
       "<style scoped>\n",
       "    .dataframe tbody tr th:only-of-type {\n",
       "        vertical-align: middle;\n",
       "    }\n",
       "\n",
       "    .dataframe tbody tr th {\n",
       "        vertical-align: top;\n",
       "    }\n",
       "\n",
       "    .dataframe thead th {\n",
       "        text-align: right;\n",
       "    }\n",
       "</style>\n",
       "<table border=\"1\" class=\"dataframe\">\n",
       "  <thead>\n",
       "    <tr style=\"text-align: right;\">\n",
       "      <th></th>\n",
       "      <th>Unnamed: 0</th>\n",
       "      <th>id</th>\n",
       "      <th>mb_used</th>\n",
       "      <th>session_date</th>\n",
       "      <th>user_id</th>\n",
       "    </tr>\n",
       "  </thead>\n",
       "  <tbody>\n",
       "    <tr>\n",
       "      <td>0</td>\n",
       "      <td>0</td>\n",
       "      <td>1000_0</td>\n",
       "      <td>112.95</td>\n",
       "      <td>2018-11-25</td>\n",
       "      <td>1000</td>\n",
       "    </tr>\n",
       "    <tr>\n",
       "      <td>1</td>\n",
       "      <td>1</td>\n",
       "      <td>1000_1</td>\n",
       "      <td>1052.81</td>\n",
       "      <td>2018-09-07</td>\n",
       "      <td>1000</td>\n",
       "    </tr>\n",
       "    <tr>\n",
       "      <td>2</td>\n",
       "      <td>2</td>\n",
       "      <td>1000_2</td>\n",
       "      <td>1197.26</td>\n",
       "      <td>2018-06-25</td>\n",
       "      <td>1000</td>\n",
       "    </tr>\n",
       "    <tr>\n",
       "      <td>3</td>\n",
       "      <td>3</td>\n",
       "      <td>1000_3</td>\n",
       "      <td>550.27</td>\n",
       "      <td>2018-08-22</td>\n",
       "      <td>1000</td>\n",
       "    </tr>\n",
       "    <tr>\n",
       "      <td>4</td>\n",
       "      <td>4</td>\n",
       "      <td>1000_4</td>\n",
       "      <td>302.56</td>\n",
       "      <td>2018-09-24</td>\n",
       "      <td>1000</td>\n",
       "    </tr>\n",
       "  </tbody>\n",
       "</table>\n",
       "</div>"
      ],
      "text/plain": [
       "   Unnamed: 0      id  mb_used session_date  user_id\n",
       "0           0  1000_0   112.95   2018-11-25     1000\n",
       "1           1  1000_1  1052.81   2018-09-07     1000\n",
       "2           2  1000_2  1197.26   2018-06-25     1000\n",
       "3           3  1000_3   550.27   2018-08-22     1000\n",
       "4           4  1000_4   302.56   2018-09-24     1000"
      ]
     },
     "metadata": {},
     "output_type": "display_data"
    },
    {
     "data": {
      "text/html": [
       "<div>\n",
       "<style scoped>\n",
       "    .dataframe tbody tr th:only-of-type {\n",
       "        vertical-align: middle;\n",
       "    }\n",
       "\n",
       "    .dataframe tbody tr th {\n",
       "        vertical-align: top;\n",
       "    }\n",
       "\n",
       "    .dataframe thead th {\n",
       "        text-align: right;\n",
       "    }\n",
       "</style>\n",
       "<table border=\"1\" class=\"dataframe\">\n",
       "  <thead>\n",
       "    <tr style=\"text-align: right;\">\n",
       "      <th></th>\n",
       "      <th>count</th>\n",
       "      <th>mean</th>\n",
       "      <th>std</th>\n",
       "      <th>min</th>\n",
       "      <th>25%</th>\n",
       "      <th>50%</th>\n",
       "      <th>75%</th>\n",
       "      <th>max</th>\n",
       "    </tr>\n",
       "  </thead>\n",
       "  <tbody>\n",
       "    <tr>\n",
       "      <td>Unnamed: 0</td>\n",
       "      <td>149396.0</td>\n",
       "      <td>74697.500000</td>\n",
       "      <td>43127.054745</td>\n",
       "      <td>0.0</td>\n",
       "      <td>37348.7500</td>\n",
       "      <td>74697.500</td>\n",
       "      <td>112046.2500</td>\n",
       "      <td>149395.00</td>\n",
       "    </tr>\n",
       "    <tr>\n",
       "      <td>mb_used</td>\n",
       "      <td>149396.0</td>\n",
       "      <td>370.192426</td>\n",
       "      <td>278.300951</td>\n",
       "      <td>0.0</td>\n",
       "      <td>138.1875</td>\n",
       "      <td>348.015</td>\n",
       "      <td>559.5525</td>\n",
       "      <td>1724.83</td>\n",
       "    </tr>\n",
       "    <tr>\n",
       "      <td>user_id</td>\n",
       "      <td>149396.0</td>\n",
       "      <td>1252.099842</td>\n",
       "      <td>144.050823</td>\n",
       "      <td>1000.0</td>\n",
       "      <td>1130.0000</td>\n",
       "      <td>1251.000</td>\n",
       "      <td>1380.0000</td>\n",
       "      <td>1499.00</td>\n",
       "    </tr>\n",
       "  </tbody>\n",
       "</table>\n",
       "</div>"
      ],
      "text/plain": [
       "               count          mean           std     min         25%  \\\n",
       "Unnamed: 0  149396.0  74697.500000  43127.054745     0.0  37348.7500   \n",
       "mb_used     149396.0    370.192426    278.300951     0.0    138.1875   \n",
       "user_id     149396.0   1252.099842    144.050823  1000.0   1130.0000   \n",
       "\n",
       "                  50%          75%        max  \n",
       "Unnamed: 0  74697.500  112046.2500  149395.00  \n",
       "mb_used       348.015     559.5525    1724.83  \n",
       "user_id      1251.000    1380.0000    1499.00  "
      ]
     },
     "metadata": {},
     "output_type": "display_data"
    },
    {
     "name": "stdout",
     "output_type": "stream",
     "text": [
      "<class 'pandas.core.frame.DataFrame'>\n",
      "RangeIndex: 123036 entries, 0 to 123035\n",
      "Data columns (total 3 columns):\n",
      "id              123036 non-null object\n",
      "message_date    123036 non-null object\n",
      "user_id         123036 non-null int64\n",
      "dtypes: int64(1), object(2)\n",
      "memory usage: 16.4 MB\n"
     ]
    },
    {
     "data": {
      "text/plain": [
       "None"
      ]
     },
     "metadata": {},
     "output_type": "display_data"
    },
    {
     "data": {
      "text/html": [
       "<div>\n",
       "<style scoped>\n",
       "    .dataframe tbody tr th:only-of-type {\n",
       "        vertical-align: middle;\n",
       "    }\n",
       "\n",
       "    .dataframe tbody tr th {\n",
       "        vertical-align: top;\n",
       "    }\n",
       "\n",
       "    .dataframe thead th {\n",
       "        text-align: right;\n",
       "    }\n",
       "</style>\n",
       "<table border=\"1\" class=\"dataframe\">\n",
       "  <thead>\n",
       "    <tr style=\"text-align: right;\">\n",
       "      <th></th>\n",
       "      <th>id</th>\n",
       "      <th>message_date</th>\n",
       "      <th>user_id</th>\n",
       "    </tr>\n",
       "  </thead>\n",
       "  <tbody>\n",
       "    <tr>\n",
       "      <td>0</td>\n",
       "      <td>1000_0</td>\n",
       "      <td>2018-06-27</td>\n",
       "      <td>1000</td>\n",
       "    </tr>\n",
       "    <tr>\n",
       "      <td>1</td>\n",
       "      <td>1000_1</td>\n",
       "      <td>2018-10-08</td>\n",
       "      <td>1000</td>\n",
       "    </tr>\n",
       "    <tr>\n",
       "      <td>2</td>\n",
       "      <td>1000_2</td>\n",
       "      <td>2018-08-04</td>\n",
       "      <td>1000</td>\n",
       "    </tr>\n",
       "    <tr>\n",
       "      <td>3</td>\n",
       "      <td>1000_3</td>\n",
       "      <td>2018-06-16</td>\n",
       "      <td>1000</td>\n",
       "    </tr>\n",
       "    <tr>\n",
       "      <td>4</td>\n",
       "      <td>1000_4</td>\n",
       "      <td>2018-12-05</td>\n",
       "      <td>1000</td>\n",
       "    </tr>\n",
       "  </tbody>\n",
       "</table>\n",
       "</div>"
      ],
      "text/plain": [
       "       id message_date  user_id\n",
       "0  1000_0   2018-06-27     1000\n",
       "1  1000_1   2018-10-08     1000\n",
       "2  1000_2   2018-08-04     1000\n",
       "3  1000_3   2018-06-16     1000\n",
       "4  1000_4   2018-12-05     1000"
      ]
     },
     "metadata": {},
     "output_type": "display_data"
    },
    {
     "data": {
      "text/html": [
       "<div>\n",
       "<style scoped>\n",
       "    .dataframe tbody tr th:only-of-type {\n",
       "        vertical-align: middle;\n",
       "    }\n",
       "\n",
       "    .dataframe tbody tr th {\n",
       "        vertical-align: top;\n",
       "    }\n",
       "\n",
       "    .dataframe thead th {\n",
       "        text-align: right;\n",
       "    }\n",
       "</style>\n",
       "<table border=\"1\" class=\"dataframe\">\n",
       "  <thead>\n",
       "    <tr style=\"text-align: right;\">\n",
       "      <th></th>\n",
       "      <th>count</th>\n",
       "      <th>mean</th>\n",
       "      <th>std</th>\n",
       "      <th>min</th>\n",
       "      <th>25%</th>\n",
       "      <th>50%</th>\n",
       "      <th>75%</th>\n",
       "      <th>max</th>\n",
       "    </tr>\n",
       "  </thead>\n",
       "  <tbody>\n",
       "    <tr>\n",
       "      <td>user_id</td>\n",
       "      <td>123036.0</td>\n",
       "      <td>1256.98941</td>\n",
       "      <td>143.523967</td>\n",
       "      <td>1000.0</td>\n",
       "      <td>1134.0</td>\n",
       "      <td>1271.0</td>\n",
       "      <td>1381.0</td>\n",
       "      <td>1499.0</td>\n",
       "    </tr>\n",
       "  </tbody>\n",
       "</table>\n",
       "</div>"
      ],
      "text/plain": [
       "            count        mean         std     min     25%     50%     75%  \\\n",
       "user_id  123036.0  1256.98941  143.523967  1000.0  1134.0  1271.0  1381.0   \n",
       "\n",
       "            max  \n",
       "user_id  1499.0  "
      ]
     },
     "metadata": {},
     "output_type": "display_data"
    },
    {
     "name": "stdout",
     "output_type": "stream",
     "text": [
      "<class 'pandas.core.frame.DataFrame'>\n",
      "RangeIndex: 2 entries, 0 to 1\n",
      "Data columns (total 8 columns):\n",
      "messages_included        2 non-null int64\n",
      "mb_per_month_included    2 non-null int64\n",
      "minutes_included         2 non-null int64\n",
      "rub_monthly_fee          2 non-null int64\n",
      "rub_per_gb               2 non-null int64\n",
      "rub_per_message          2 non-null int64\n",
      "rub_per_minute           2 non-null int64\n",
      "tariff_name              2 non-null object\n",
      "dtypes: int64(7), object(1)\n",
      "memory usage: 364.0 bytes\n"
     ]
    },
    {
     "data": {
      "text/plain": [
       "None"
      ]
     },
     "metadata": {},
     "output_type": "display_data"
    },
    {
     "data": {
      "text/html": [
       "<div>\n",
       "<style scoped>\n",
       "    .dataframe tbody tr th:only-of-type {\n",
       "        vertical-align: middle;\n",
       "    }\n",
       "\n",
       "    .dataframe tbody tr th {\n",
       "        vertical-align: top;\n",
       "    }\n",
       "\n",
       "    .dataframe thead th {\n",
       "        text-align: right;\n",
       "    }\n",
       "</style>\n",
       "<table border=\"1\" class=\"dataframe\">\n",
       "  <thead>\n",
       "    <tr style=\"text-align: right;\">\n",
       "      <th></th>\n",
       "      <th>messages_included</th>\n",
       "      <th>mb_per_month_included</th>\n",
       "      <th>minutes_included</th>\n",
       "      <th>rub_monthly_fee</th>\n",
       "      <th>rub_per_gb</th>\n",
       "      <th>rub_per_message</th>\n",
       "      <th>rub_per_minute</th>\n",
       "      <th>tariff_name</th>\n",
       "    </tr>\n",
       "  </thead>\n",
       "  <tbody>\n",
       "    <tr>\n",
       "      <td>0</td>\n",
       "      <td>50</td>\n",
       "      <td>15360</td>\n",
       "      <td>500</td>\n",
       "      <td>550</td>\n",
       "      <td>200</td>\n",
       "      <td>3</td>\n",
       "      <td>3</td>\n",
       "      <td>smart</td>\n",
       "    </tr>\n",
       "    <tr>\n",
       "      <td>1</td>\n",
       "      <td>1000</td>\n",
       "      <td>30720</td>\n",
       "      <td>3000</td>\n",
       "      <td>1950</td>\n",
       "      <td>150</td>\n",
       "      <td>1</td>\n",
       "      <td>1</td>\n",
       "      <td>ultra</td>\n",
       "    </tr>\n",
       "  </tbody>\n",
       "</table>\n",
       "</div>"
      ],
      "text/plain": [
       "   messages_included  mb_per_month_included  minutes_included  \\\n",
       "0                 50                  15360               500   \n",
       "1               1000                  30720              3000   \n",
       "\n",
       "   rub_monthly_fee  rub_per_gb  rub_per_message  rub_per_minute tariff_name  \n",
       "0              550         200                3               3       smart  \n",
       "1             1950         150                1               1       ultra  "
      ]
     },
     "metadata": {},
     "output_type": "display_data"
    },
    {
     "data": {
      "text/html": [
       "<div>\n",
       "<style scoped>\n",
       "    .dataframe tbody tr th:only-of-type {\n",
       "        vertical-align: middle;\n",
       "    }\n",
       "\n",
       "    .dataframe tbody tr th {\n",
       "        vertical-align: top;\n",
       "    }\n",
       "\n",
       "    .dataframe thead th {\n",
       "        text-align: right;\n",
       "    }\n",
       "</style>\n",
       "<table border=\"1\" class=\"dataframe\">\n",
       "  <thead>\n",
       "    <tr style=\"text-align: right;\">\n",
       "      <th></th>\n",
       "      <th>count</th>\n",
       "      <th>mean</th>\n",
       "      <th>std</th>\n",
       "      <th>min</th>\n",
       "      <th>25%</th>\n",
       "      <th>50%</th>\n",
       "      <th>75%</th>\n",
       "      <th>max</th>\n",
       "    </tr>\n",
       "  </thead>\n",
       "  <tbody>\n",
       "    <tr>\n",
       "      <td>messages_included</td>\n",
       "      <td>2.0</td>\n",
       "      <td>525.0</td>\n",
       "      <td>671.751442</td>\n",
       "      <td>50.0</td>\n",
       "      <td>287.5</td>\n",
       "      <td>525.0</td>\n",
       "      <td>762.5</td>\n",
       "      <td>1000.0</td>\n",
       "    </tr>\n",
       "    <tr>\n",
       "      <td>mb_per_month_included</td>\n",
       "      <td>2.0</td>\n",
       "      <td>23040.0</td>\n",
       "      <td>10861.160159</td>\n",
       "      <td>15360.0</td>\n",
       "      <td>19200.0</td>\n",
       "      <td>23040.0</td>\n",
       "      <td>26880.0</td>\n",
       "      <td>30720.0</td>\n",
       "    </tr>\n",
       "    <tr>\n",
       "      <td>minutes_included</td>\n",
       "      <td>2.0</td>\n",
       "      <td>1750.0</td>\n",
       "      <td>1767.766953</td>\n",
       "      <td>500.0</td>\n",
       "      <td>1125.0</td>\n",
       "      <td>1750.0</td>\n",
       "      <td>2375.0</td>\n",
       "      <td>3000.0</td>\n",
       "    </tr>\n",
       "    <tr>\n",
       "      <td>rub_monthly_fee</td>\n",
       "      <td>2.0</td>\n",
       "      <td>1250.0</td>\n",
       "      <td>989.949494</td>\n",
       "      <td>550.0</td>\n",
       "      <td>900.0</td>\n",
       "      <td>1250.0</td>\n",
       "      <td>1600.0</td>\n",
       "      <td>1950.0</td>\n",
       "    </tr>\n",
       "    <tr>\n",
       "      <td>rub_per_gb</td>\n",
       "      <td>2.0</td>\n",
       "      <td>175.0</td>\n",
       "      <td>35.355339</td>\n",
       "      <td>150.0</td>\n",
       "      <td>162.5</td>\n",
       "      <td>175.0</td>\n",
       "      <td>187.5</td>\n",
       "      <td>200.0</td>\n",
       "    </tr>\n",
       "    <tr>\n",
       "      <td>rub_per_message</td>\n",
       "      <td>2.0</td>\n",
       "      <td>2.0</td>\n",
       "      <td>1.414214</td>\n",
       "      <td>1.0</td>\n",
       "      <td>1.5</td>\n",
       "      <td>2.0</td>\n",
       "      <td>2.5</td>\n",
       "      <td>3.0</td>\n",
       "    </tr>\n",
       "    <tr>\n",
       "      <td>rub_per_minute</td>\n",
       "      <td>2.0</td>\n",
       "      <td>2.0</td>\n",
       "      <td>1.414214</td>\n",
       "      <td>1.0</td>\n",
       "      <td>1.5</td>\n",
       "      <td>2.0</td>\n",
       "      <td>2.5</td>\n",
       "      <td>3.0</td>\n",
       "    </tr>\n",
       "  </tbody>\n",
       "</table>\n",
       "</div>"
      ],
      "text/plain": [
       "                       count     mean           std      min      25%  \\\n",
       "messages_included        2.0    525.0    671.751442     50.0    287.5   \n",
       "mb_per_month_included    2.0  23040.0  10861.160159  15360.0  19200.0   \n",
       "minutes_included         2.0   1750.0   1767.766953    500.0   1125.0   \n",
       "rub_monthly_fee          2.0   1250.0    989.949494    550.0    900.0   \n",
       "rub_per_gb               2.0    175.0     35.355339    150.0    162.5   \n",
       "rub_per_message          2.0      2.0      1.414214      1.0      1.5   \n",
       "rub_per_minute           2.0      2.0      1.414214      1.0      1.5   \n",
       "\n",
       "                           50%      75%      max  \n",
       "messages_included        525.0    762.5   1000.0  \n",
       "mb_per_month_included  23040.0  26880.0  30720.0  \n",
       "minutes_included        1750.0   2375.0   3000.0  \n",
       "rub_monthly_fee         1250.0   1600.0   1950.0  \n",
       "rub_per_gb               175.0    187.5    200.0  \n",
       "rub_per_message            2.0      2.5      3.0  \n",
       "rub_per_minute             2.0      2.5      3.0  "
      ]
     },
     "metadata": {},
     "output_type": "display_data"
    },
    {
     "name": "stdout",
     "output_type": "stream",
     "text": [
      "<class 'pandas.core.frame.DataFrame'>\n",
      "RangeIndex: 500 entries, 0 to 499\n",
      "Data columns (total 8 columns):\n",
      "user_id       500 non-null int64\n",
      "age           500 non-null int64\n",
      "churn_date    38 non-null object\n",
      "city          500 non-null object\n",
      "first_name    500 non-null object\n",
      "last_name     500 non-null object\n",
      "reg_date      500 non-null object\n",
      "tariff        500 non-null object\n",
      "dtypes: int64(2), object(6)\n",
      "memory usage: 229.6 KB\n"
     ]
    },
    {
     "data": {
      "text/plain": [
       "None"
      ]
     },
     "metadata": {},
     "output_type": "display_data"
    },
    {
     "data": {
      "text/html": [
       "<div>\n",
       "<style scoped>\n",
       "    .dataframe tbody tr th:only-of-type {\n",
       "        vertical-align: middle;\n",
       "    }\n",
       "\n",
       "    .dataframe tbody tr th {\n",
       "        vertical-align: top;\n",
       "    }\n",
       "\n",
       "    .dataframe thead th {\n",
       "        text-align: right;\n",
       "    }\n",
       "</style>\n",
       "<table border=\"1\" class=\"dataframe\">\n",
       "  <thead>\n",
       "    <tr style=\"text-align: right;\">\n",
       "      <th></th>\n",
       "      <th>user_id</th>\n",
       "      <th>age</th>\n",
       "      <th>churn_date</th>\n",
       "      <th>city</th>\n",
       "      <th>first_name</th>\n",
       "      <th>last_name</th>\n",
       "      <th>reg_date</th>\n",
       "      <th>tariff</th>\n",
       "    </tr>\n",
       "  </thead>\n",
       "  <tbody>\n",
       "    <tr>\n",
       "      <td>0</td>\n",
       "      <td>1000</td>\n",
       "      <td>52</td>\n",
       "      <td>NaN</td>\n",
       "      <td>Краснодар</td>\n",
       "      <td>Рафаил</td>\n",
       "      <td>Верещагин</td>\n",
       "      <td>2018-05-25</td>\n",
       "      <td>ultra</td>\n",
       "    </tr>\n",
       "    <tr>\n",
       "      <td>1</td>\n",
       "      <td>1001</td>\n",
       "      <td>41</td>\n",
       "      <td>NaN</td>\n",
       "      <td>Москва</td>\n",
       "      <td>Иван</td>\n",
       "      <td>Ежов</td>\n",
       "      <td>2018-11-01</td>\n",
       "      <td>smart</td>\n",
       "    </tr>\n",
       "    <tr>\n",
       "      <td>2</td>\n",
       "      <td>1002</td>\n",
       "      <td>59</td>\n",
       "      <td>NaN</td>\n",
       "      <td>Стерлитамак</td>\n",
       "      <td>Евгений</td>\n",
       "      <td>Абрамович</td>\n",
       "      <td>2018-06-17</td>\n",
       "      <td>smart</td>\n",
       "    </tr>\n",
       "    <tr>\n",
       "      <td>3</td>\n",
       "      <td>1003</td>\n",
       "      <td>23</td>\n",
       "      <td>NaN</td>\n",
       "      <td>Москва</td>\n",
       "      <td>Белла</td>\n",
       "      <td>Белякова</td>\n",
       "      <td>2018-08-17</td>\n",
       "      <td>ultra</td>\n",
       "    </tr>\n",
       "    <tr>\n",
       "      <td>4</td>\n",
       "      <td>1004</td>\n",
       "      <td>68</td>\n",
       "      <td>NaN</td>\n",
       "      <td>Новокузнецк</td>\n",
       "      <td>Татьяна</td>\n",
       "      <td>Авдеенко</td>\n",
       "      <td>2018-05-14</td>\n",
       "      <td>ultra</td>\n",
       "    </tr>\n",
       "  </tbody>\n",
       "</table>\n",
       "</div>"
      ],
      "text/plain": [
       "   user_id  age churn_date         city first_name  last_name    reg_date  \\\n",
       "0     1000   52        NaN    Краснодар     Рафаил  Верещагин  2018-05-25   \n",
       "1     1001   41        NaN       Москва       Иван       Ежов  2018-11-01   \n",
       "2     1002   59        NaN  Стерлитамак    Евгений  Абрамович  2018-06-17   \n",
       "3     1003   23        NaN       Москва      Белла   Белякова  2018-08-17   \n",
       "4     1004   68        NaN  Новокузнецк    Татьяна   Авдеенко  2018-05-14   \n",
       "\n",
       "  tariff  \n",
       "0  ultra  \n",
       "1  smart  \n",
       "2  smart  \n",
       "3  ultra  \n",
       "4  ultra  "
      ]
     },
     "metadata": {},
     "output_type": "display_data"
    },
    {
     "data": {
      "text/html": [
       "<div>\n",
       "<style scoped>\n",
       "    .dataframe tbody tr th:only-of-type {\n",
       "        vertical-align: middle;\n",
       "    }\n",
       "\n",
       "    .dataframe tbody tr th {\n",
       "        vertical-align: top;\n",
       "    }\n",
       "\n",
       "    .dataframe thead th {\n",
       "        text-align: right;\n",
       "    }\n",
       "</style>\n",
       "<table border=\"1\" class=\"dataframe\">\n",
       "  <thead>\n",
       "    <tr style=\"text-align: right;\">\n",
       "      <th></th>\n",
       "      <th>count</th>\n",
       "      <th>mean</th>\n",
       "      <th>std</th>\n",
       "      <th>min</th>\n",
       "      <th>25%</th>\n",
       "      <th>50%</th>\n",
       "      <th>75%</th>\n",
       "      <th>max</th>\n",
       "    </tr>\n",
       "  </thead>\n",
       "  <tbody>\n",
       "    <tr>\n",
       "      <td>user_id</td>\n",
       "      <td>500.0</td>\n",
       "      <td>1249.500</td>\n",
       "      <td>144.481833</td>\n",
       "      <td>1000.0</td>\n",
       "      <td>1124.75</td>\n",
       "      <td>1249.5</td>\n",
       "      <td>1374.25</td>\n",
       "      <td>1499.0</td>\n",
       "    </tr>\n",
       "    <tr>\n",
       "      <td>age</td>\n",
       "      <td>500.0</td>\n",
       "      <td>46.588</td>\n",
       "      <td>16.667630</td>\n",
       "      <td>18.0</td>\n",
       "      <td>32.00</td>\n",
       "      <td>46.0</td>\n",
       "      <td>62.00</td>\n",
       "      <td>75.0</td>\n",
       "    </tr>\n",
       "  </tbody>\n",
       "</table>\n",
       "</div>"
      ],
      "text/plain": [
       "         count      mean         std     min      25%     50%      75%     max\n",
       "user_id  500.0  1249.500  144.481833  1000.0  1124.75  1249.5  1374.25  1499.0\n",
       "age      500.0    46.588   16.667630    18.0    32.00    46.0    62.00    75.0"
      ]
     },
     "metadata": {},
     "output_type": "display_data"
    }
   ],
   "source": [
    "# загружаем датасеты\n",
    "calls_data = pd.read_csv('/datasets/calls.csv')\n",
    "internet_data = pd.read_csv('/datasets/internet.csv')\n",
    "messages_data = pd.read_csv('/datasets/messages.csv')\n",
    "tariffs_data = pd.read_csv('/datasets/tariffs.csv')\n",
    "users_data = pd.read_csv('/datasets/users.csv')\n",
    "\n",
    "# выводим общую информацию для изучения\n",
    "for i in [calls_data, internet_data, messages_data, tariffs_data, users_data]:\n",
    "    display(i.info(memory_usage='deep'))\n",
    "    display(i.head())\n",
    "    display(i.describe().T)"
   ]
  },
  {
   "cell_type": "markdown",
   "metadata": {},
   "source": [
    "### Вывод"
   ]
  },
  {
   "cell_type": "markdown",
   "metadata": {},
   "source": [
    "В датасете calls.csv 4 параметра (2 количественных и 2 качественных). Параметр call_date имеет неверный тип данных - object вместо datetime, параметры duration и user_id имеют избыточные типы данных: float64 вместо float32 и int64 вместо uint16 соответственно.\n",
    "В датасете internet.csv 4 параметра (2 количественных и 2 качественных) и 1 лишний столбец, дублирующий индекс, от него нужно будет избавиться. Параметр session_date имеет неверный тип данных - object вместо datetime, параметры mb_used и user_id имеют избыточные типы данных: float64 вместо float32 и int64 вместо uint16 соответственно.\n",
    "В датасете messages.csv 3 параметра (1 количественный и 2 качественных). Параметр message_date имеет неверный тип данных - object вместо datetime, параметр user_id имеет избыточный тип данных: int64 вместо uint16 соответственно.\n",
    "В датасете tariffs.csv 8 параметров (7 количественных и 1 качественный). Все количественные параметры имеют избыточные типы данных: int64 вместо uint16.\n",
    "В датасете users.csv 8 параметров (2 количественных и 6 качественных). Параметры churn_date и reg_date имеют неверный тип данных - object вместо datetime, параметры user_id и age имеют избыточные типы данных: int64 вместо uint16 и int64 вместо uint8 соответственно. Параметр churn_date имеет 92,4% пропусков (это логично, но неудобно для последующей работы, пропуски нужно будет обработать)."
   ]
  },
  {
   "cell_type": "markdown",
   "metadata": {},
   "source": [
    "Рассмотрим подробнее столбец mb_used: определим количество нулевых значений, причину их возникновения и обработаем строки с нулевым значением интернет-трафика"
   ]
  },
  {
   "cell_type": "code",
   "execution_count": 3,
   "metadata": {},
   "outputs": [
    {
     "data": {
      "text/plain": [
       "0.00      19598\n",
       "197.56        9\n",
       "447.30        9\n",
       "335.91        9\n",
       "108.95        8\n",
       "          ...  \n",
       "72.49         1\n",
       "846.22        1\n",
       "429.17        1\n",
       "899.03        1\n",
       "483.87        1\n",
       "Name: mb_used, Length: 70003, dtype: int64"
      ]
     },
     "execution_count": 3,
     "metadata": {},
     "output_type": "execute_result"
    }
   ],
   "source": [
    "# посмотрим на значения трафика и определим количество нулевых значений в столбце mb_used\n",
    "internet_data['mb_used'].value_counts()"
   ]
  },
  {
   "cell_type": "markdown",
   "metadata": {},
   "source": [
    "Оказалось, что в столбце больше всего строк с нулевым значением трафика - 19598, что составляет около 13% от всего числа строк. \n",
    "Такие значения трафика в 0 Мб - возможно являются отклоненными соединениями (вероятнее всего из-за плохого качества соединения/проблем с передачей сотовых данных). Цифра представляется реалистичной, однако нулевые строки желательно удалить, так как важных сведений они не несут."
   ]
  },
  {
   "cell_type": "code",
   "execution_count": 4,
   "metadata": {},
   "outputs": [],
   "source": [
    "# удалим строки с нулевым значением интернет-трафика\n",
    "internet_data= internet_data.query('mb_used > 0')"
   ]
  },
  {
   "cell_type": "markdown",
   "metadata": {},
   "source": [
    "Теперь столбец с интернет-трафиком избавлен от аномальной информации, что впоследствие поможет совершать более точные операции с данными."
   ]
  },
  {
   "cell_type": "markdown",
   "metadata": {},
   "source": [
    "## Предобработка данных"
   ]
  },
  {
   "cell_type": "markdown",
   "metadata": {},
   "source": [
    "### Приведение данных к нужным типам"
   ]
  },
  {
   "cell_type": "markdown",
   "metadata": {},
   "source": [
    "После того, как были изучены таблицы с данными, можно приступить к приведению данных к нужному типу."
   ]
  },
  {
   "cell_type": "markdown",
   "metadata": {},
   "source": [
    "#### Таблица calls (информация о звонках)"
   ]
  },
  {
   "cell_type": "code",
   "execution_count": 5,
   "metadata": {},
   "outputs": [
    {
     "name": "stdout",
     "output_type": "stream",
     "text": [
      "Общая информация о датасете \"calls.csv\" после приведения типов \n",
      "\n",
      "<class 'pandas.core.frame.DataFrame'>\n",
      "RangeIndex: 202607 entries, 0 to 202606\n",
      "Data columns (total 4 columns):\n",
      "id           202607 non-null object\n",
      "call_date    202607 non-null datetime64[ns]\n",
      "duration     202607 non-null float32\n",
      "user_id      202607 non-null uint16\n",
      "dtypes: datetime64[ns](1), float32(1), object(1), uint16(1)\n",
      "memory usage: 15.2 MB\n",
      "\n",
      "\n"
     ]
    },
    {
     "data": {
      "text/html": [
       "<div>\n",
       "<style scoped>\n",
       "    .dataframe tbody tr th:only-of-type {\n",
       "        vertical-align: middle;\n",
       "    }\n",
       "\n",
       "    .dataframe tbody tr th {\n",
       "        vertical-align: top;\n",
       "    }\n",
       "\n",
       "    .dataframe thead th {\n",
       "        text-align: right;\n",
       "    }\n",
       "</style>\n",
       "<table border=\"1\" class=\"dataframe\">\n",
       "  <thead>\n",
       "    <tr style=\"text-align: right;\">\n",
       "      <th></th>\n",
       "      <th>count</th>\n",
       "      <th>mean</th>\n",
       "      <th>std</th>\n",
       "      <th>min</th>\n",
       "      <th>25%</th>\n",
       "      <th>50%</th>\n",
       "      <th>75%</th>\n",
       "      <th>max</th>\n",
       "    </tr>\n",
       "  </thead>\n",
       "  <tbody>\n",
       "    <tr>\n",
       "      <td>duration</td>\n",
       "      <td>202607.0</td>\n",
       "      <td>7.158198</td>\n",
       "      <td>5.959173</td>\n",
       "      <td>0.0</td>\n",
       "      <td>2.0</td>\n",
       "      <td>6.0</td>\n",
       "      <td>11.0</td>\n",
       "      <td>38.0</td>\n",
       "    </tr>\n",
       "    <tr>\n",
       "      <td>user_id</td>\n",
       "      <td>202607.0</td>\n",
       "      <td>1253.940619</td>\n",
       "      <td>144.722751</td>\n",
       "      <td>1000.0</td>\n",
       "      <td>1126.0</td>\n",
       "      <td>1260.0</td>\n",
       "      <td>1379.0</td>\n",
       "      <td>1499.0</td>\n",
       "    </tr>\n",
       "  </tbody>\n",
       "</table>\n",
       "</div>"
      ],
      "text/plain": [
       "             count         mean         std     min     25%     50%     75%  \\\n",
       "duration  202607.0     7.158198    5.959173     0.0     2.0     6.0    11.0   \n",
       "user_id   202607.0  1253.940619  144.722751  1000.0  1126.0  1260.0  1379.0   \n",
       "\n",
       "             max  \n",
       "duration    38.0  \n",
       "user_id   1499.0  "
      ]
     },
     "metadata": {},
     "output_type": "display_data"
    }
   ],
   "source": [
    "# пишем функцию для приведения столбцов, содержащих даты к нужному типу\n",
    "def convert_date(dname, dcolumn, dformat):\n",
    "    try:\n",
    "        return pd.to_datetime(dname[dcolumn], format=dformat)\n",
    "    except:\n",
    "        print(f'Проверь значения в столбце {dcolumn}')\n",
    "\n",
    "# пишем функцию для приведения столбцов с числовыми значениями к нужному типу\n",
    "def convert_numeric(dname, dcolumn, dtype):\n",
    "    try:\n",
    "        return dname[dcolumn].astype(dtype)\n",
    "    except:\n",
    "        print(f'Проверь значения в столбце {dcolumn}')\n",
    "\n",
    "# дата звонка (образец формата 2021-01-01)\n",
    "calls_data['call_date'] = convert_date(calls_data, 'call_date', '%Y-%m-%d')\n",
    "\n",
    "# длительность и user_id\n",
    "# при приведении типа по столбцу `duration` сначала произведём округление до большего целого, исходя из условий тарификации\n",
    "calls_data['duration'] = np.ceil(calls_data['duration']).astype('float32')\n",
    "calls_data['user_id'] = convert_numeric(calls_data, 'user_id', 'uint16')\n",
    "\n",
    "# проверим\n",
    "print('Общая информация о датасете \"calls.csv\" после приведения типов', '\\n')\n",
    "calls_data.info(memory_usage='deep')\n",
    "print('\\n')\n",
    "display(calls_data.describe().T)"
   ]
  },
  {
   "cell_type": "markdown",
   "metadata": {},
   "source": [
    "Приведение типов прошло успешно."
   ]
  },
  {
   "cell_type": "markdown",
   "metadata": {},
   "source": [
    "#### Таблица internet (информация об интернет-сессиях)"
   ]
  },
  {
   "cell_type": "code",
   "execution_count": 6,
   "metadata": {},
   "outputs": [
    {
     "name": "stdout",
     "output_type": "stream",
     "text": [
      "Общая информация о датасете \"internet.csv\" после приведения типов \n",
      "\n",
      "<class 'pandas.core.frame.DataFrame'>\n",
      "Int64Index: 129798 entries, 0 to 149395\n",
      "Data columns (total 5 columns):\n",
      "Unnamed: 0      129798 non-null int64\n",
      "id              129798 non-null object\n",
      "mb_used         129798 non-null float64\n",
      "session_date    129798 non-null datetime64[ns]\n",
      "user_id         129798 non-null uint16\n",
      "dtypes: datetime64[ns](1), float64(1), int64(1), object(1), uint16(1)\n",
      "memory usage: 12.2 MB\n",
      "\n",
      "\n"
     ]
    },
    {
     "data": {
      "text/html": [
       "<div>\n",
       "<style scoped>\n",
       "    .dataframe tbody tr th:only-of-type {\n",
       "        vertical-align: middle;\n",
       "    }\n",
       "\n",
       "    .dataframe tbody tr th {\n",
       "        vertical-align: top;\n",
       "    }\n",
       "\n",
       "    .dataframe thead th {\n",
       "        text-align: right;\n",
       "    }\n",
       "</style>\n",
       "<table border=\"1\" class=\"dataframe\">\n",
       "  <thead>\n",
       "    <tr style=\"text-align: right;\">\n",
       "      <th></th>\n",
       "      <th>count</th>\n",
       "      <th>mean</th>\n",
       "      <th>std</th>\n",
       "      <th>min</th>\n",
       "      <th>25%</th>\n",
       "      <th>50%</th>\n",
       "      <th>75%</th>\n",
       "      <th>max</th>\n",
       "    </tr>\n",
       "  </thead>\n",
       "  <tbody>\n",
       "    <tr>\n",
       "      <td>Unnamed: 0</td>\n",
       "      <td>129798.0</td>\n",
       "      <td>74978.644879</td>\n",
       "      <td>43047.137838</td>\n",
       "      <td>0.00</td>\n",
       "      <td>37675.25</td>\n",
       "      <td>75253.00</td>\n",
       "      <td>112247.7500</td>\n",
       "      <td>149395.00</td>\n",
       "    </tr>\n",
       "    <tr>\n",
       "      <td>mb_used</td>\n",
       "      <td>129798.0</td>\n",
       "      <td>426.087210</td>\n",
       "      <td>255.596447</td>\n",
       "      <td>0.03</td>\n",
       "      <td>227.46</td>\n",
       "      <td>400.54</td>\n",
       "      <td>592.9475</td>\n",
       "      <td>1724.83</td>\n",
       "    </tr>\n",
       "    <tr>\n",
       "      <td>user_id</td>\n",
       "      <td>129798.0</td>\n",
       "      <td>1253.046318</td>\n",
       "      <td>143.782672</td>\n",
       "      <td>1000.00</td>\n",
       "      <td>1132.00</td>\n",
       "      <td>1252.00</td>\n",
       "      <td>1380.0000</td>\n",
       "      <td>1499.00</td>\n",
       "    </tr>\n",
       "  </tbody>\n",
       "</table>\n",
       "</div>"
      ],
      "text/plain": [
       "               count          mean           std      min       25%       50%  \\\n",
       "Unnamed: 0  129798.0  74978.644879  43047.137838     0.00  37675.25  75253.00   \n",
       "mb_used     129798.0    426.087210    255.596447     0.03    227.46    400.54   \n",
       "user_id     129798.0   1253.046318    143.782672  1000.00   1132.00   1252.00   \n",
       "\n",
       "                    75%        max  \n",
       "Unnamed: 0  112247.7500  149395.00  \n",
       "mb_used        592.9475    1724.83  \n",
       "user_id       1380.0000    1499.00  "
      ]
     },
     "metadata": {},
     "output_type": "display_data"
    }
   ],
   "source": [
    "# дата сессии (образец формата 2021-01-01)\n",
    "internet_data['session_date'] = convert_date(internet_data, 'session_date', '%Y-%m-%d')\n",
    "    \n",
    "internet_data['user_id'] = convert_numeric(internet_data, 'user_id', 'uint16')\n",
    "\n",
    "# проверим\n",
    "print('Общая информация о датасете \"internet.csv\" после приведения типов', '\\n')\n",
    "internet_data.info(memory_usage='deep')\n",
    "print('\\n')\n",
    "display(internet_data.describe().T)"
   ]
  },
  {
   "cell_type": "markdown",
   "metadata": {},
   "source": [
    "Приведение типов прошло успешно."
   ]
  },
  {
   "cell_type": "code",
   "execution_count": 7,
   "metadata": {},
   "outputs": [
    {
     "data": {
      "text/html": [
       "<div>\n",
       "<style scoped>\n",
       "    .dataframe tbody tr th:only-of-type {\n",
       "        vertical-align: middle;\n",
       "    }\n",
       "\n",
       "    .dataframe tbody tr th {\n",
       "        vertical-align: top;\n",
       "    }\n",
       "\n",
       "    .dataframe thead th {\n",
       "        text-align: right;\n",
       "    }\n",
       "</style>\n",
       "<table border=\"1\" class=\"dataframe\">\n",
       "  <thead>\n",
       "    <tr style=\"text-align: right;\">\n",
       "      <th></th>\n",
       "      <th>Unnamed: 0</th>\n",
       "      <th>id</th>\n",
       "      <th>mb_used</th>\n",
       "      <th>session_date</th>\n",
       "      <th>user_id</th>\n",
       "      <th>month</th>\n",
       "    </tr>\n",
       "  </thead>\n",
       "  <tbody>\n",
       "    <tr>\n",
       "      <td>0</td>\n",
       "      <td>0</td>\n",
       "      <td>1000_0</td>\n",
       "      <td>112.95</td>\n",
       "      <td>2018-11-25</td>\n",
       "      <td>1000</td>\n",
       "      <td>2018-11-01</td>\n",
       "    </tr>\n",
       "    <tr>\n",
       "      <td>1</td>\n",
       "      <td>1</td>\n",
       "      <td>1000_1</td>\n",
       "      <td>1052.81</td>\n",
       "      <td>2018-09-07</td>\n",
       "      <td>1000</td>\n",
       "      <td>2018-09-01</td>\n",
       "    </tr>\n",
       "    <tr>\n",
       "      <td>2</td>\n",
       "      <td>2</td>\n",
       "      <td>1000_2</td>\n",
       "      <td>1197.26</td>\n",
       "      <td>2018-06-25</td>\n",
       "      <td>1000</td>\n",
       "      <td>2018-06-01</td>\n",
       "    </tr>\n",
       "    <tr>\n",
       "      <td>3</td>\n",
       "      <td>3</td>\n",
       "      <td>1000_3</td>\n",
       "      <td>550.27</td>\n",
       "      <td>2018-08-22</td>\n",
       "      <td>1000</td>\n",
       "      <td>2018-08-01</td>\n",
       "    </tr>\n",
       "    <tr>\n",
       "      <td>4</td>\n",
       "      <td>4</td>\n",
       "      <td>1000_4</td>\n",
       "      <td>302.56</td>\n",
       "      <td>2018-09-24</td>\n",
       "      <td>1000</td>\n",
       "      <td>2018-09-01</td>\n",
       "    </tr>\n",
       "  </tbody>\n",
       "</table>\n",
       "</div>"
      ],
      "text/plain": [
       "   Unnamed: 0      id  mb_used session_date  user_id      month\n",
       "0           0  1000_0   112.95   2018-11-25     1000 2018-11-01\n",
       "1           1  1000_1  1052.81   2018-09-07     1000 2018-09-01\n",
       "2           2  1000_2  1197.26   2018-06-25     1000 2018-06-01\n",
       "3           3  1000_3   550.27   2018-08-22     1000 2018-08-01\n",
       "4           4  1000_4   302.56   2018-09-24     1000 2018-09-01"
      ]
     },
     "execution_count": 7,
     "metadata": {},
     "output_type": "execute_result"
    }
   ],
   "source": [
    "# Добавим столбец месяц к таблице\n",
    "internet_data['month'] = internet_data['session_date'].values.astype('datetime64[M]')\n",
    "internet_data.head()"
   ]
  },
  {
   "cell_type": "code",
   "execution_count": 8,
   "metadata": {},
   "outputs": [
    {
     "data": {
      "text/html": [
       "<div>\n",
       "<style scoped>\n",
       "    .dataframe tbody tr th:only-of-type {\n",
       "        vertical-align: middle;\n",
       "    }\n",
       "\n",
       "    .dataframe tbody tr th {\n",
       "        vertical-align: top;\n",
       "    }\n",
       "\n",
       "    .dataframe thead th {\n",
       "        text-align: right;\n",
       "    }\n",
       "</style>\n",
       "<table border=\"1\" class=\"dataframe\">\n",
       "  <thead>\n",
       "    <tr style=\"text-align: right;\">\n",
       "      <th></th>\n",
       "      <th>user_id</th>\n",
       "      <th>month</th>\n",
       "      <th>count</th>\n",
       "      <th>sum</th>\n",
       "    </tr>\n",
       "  </thead>\n",
       "  <tbody>\n",
       "    <tr>\n",
       "      <td>0</td>\n",
       "      <td>1000</td>\n",
       "      <td>2018-05-01</td>\n",
       "      <td>4</td>\n",
       "      <td>2253.49</td>\n",
       "    </tr>\n",
       "    <tr>\n",
       "      <td>1</td>\n",
       "      <td>1000</td>\n",
       "      <td>2018-06-01</td>\n",
       "      <td>44</td>\n",
       "      <td>23233.77</td>\n",
       "    </tr>\n",
       "    <tr>\n",
       "      <td>2</td>\n",
       "      <td>1000</td>\n",
       "      <td>2018-07-01</td>\n",
       "      <td>28</td>\n",
       "      <td>14003.64</td>\n",
       "    </tr>\n",
       "    <tr>\n",
       "      <td>3</td>\n",
       "      <td>1000</td>\n",
       "      <td>2018-08-01</td>\n",
       "      <td>27</td>\n",
       "      <td>14055.93</td>\n",
       "    </tr>\n",
       "    <tr>\n",
       "      <td>4</td>\n",
       "      <td>1000</td>\n",
       "      <td>2018-09-01</td>\n",
       "      <td>25</td>\n",
       "      <td>14568.91</td>\n",
       "    </tr>\n",
       "  </tbody>\n",
       "</table>\n",
       "</div>"
      ],
      "text/plain": [
       "   user_id      month  count       sum\n",
       "0     1000 2018-05-01      4   2253.49\n",
       "1     1000 2018-06-01     44  23233.77\n",
       "2     1000 2018-07-01     28  14003.64\n",
       "3     1000 2018-08-01     27  14055.93\n",
       "4     1000 2018-09-01     25  14568.91"
      ]
     },
     "execution_count": 8,
     "metadata": {},
     "output_type": "execute_result"
    }
   ],
   "source": [
    "# Сгруппируем данные помесячно и посчитаем количество использованных Мб по каждому пользователю\n",
    "internet_data_month = internet_data.groupby(['user_id','month'])['mb_used'].agg(['count','sum']).reset_index()\n",
    "internet_data_month.head()\n"
   ]
  },
  {
   "cell_type": "code",
   "execution_count": 9,
   "metadata": {},
   "outputs": [
    {
     "data": {
      "text/html": [
       "<div>\n",
       "<style scoped>\n",
       "    .dataframe tbody tr th:only-of-type {\n",
       "        vertical-align: middle;\n",
       "    }\n",
       "\n",
       "    .dataframe tbody tr th {\n",
       "        vertical-align: top;\n",
       "    }\n",
       "\n",
       "    .dataframe thead th {\n",
       "        text-align: right;\n",
       "    }\n",
       "</style>\n",
       "<table border=\"1\" class=\"dataframe\">\n",
       "  <thead>\n",
       "    <tr style=\"text-align: right;\">\n",
       "      <th></th>\n",
       "      <th>user_id</th>\n",
       "      <th>month</th>\n",
       "      <th>count</th>\n",
       "      <th>sum</th>\n",
       "      <th>gb</th>\n",
       "      <th>gb_used</th>\n",
       "    </tr>\n",
       "  </thead>\n",
       "  <tbody>\n",
       "    <tr>\n",
       "      <td>0</td>\n",
       "      <td>1000</td>\n",
       "      <td>2018-05-01</td>\n",
       "      <td>4</td>\n",
       "      <td>2253.49</td>\n",
       "      <td>2.200674</td>\n",
       "      <td>3.0</td>\n",
       "    </tr>\n",
       "    <tr>\n",
       "      <td>1</td>\n",
       "      <td>1000</td>\n",
       "      <td>2018-06-01</td>\n",
       "      <td>44</td>\n",
       "      <td>23233.77</td>\n",
       "      <td>22.689229</td>\n",
       "      <td>23.0</td>\n",
       "    </tr>\n",
       "    <tr>\n",
       "      <td>2</td>\n",
       "      <td>1000</td>\n",
       "      <td>2018-07-01</td>\n",
       "      <td>28</td>\n",
       "      <td>14003.64</td>\n",
       "      <td>13.675430</td>\n",
       "      <td>14.0</td>\n",
       "    </tr>\n",
       "    <tr>\n",
       "      <td>3</td>\n",
       "      <td>1000</td>\n",
       "      <td>2018-08-01</td>\n",
       "      <td>27</td>\n",
       "      <td>14055.93</td>\n",
       "      <td>13.726494</td>\n",
       "      <td>14.0</td>\n",
       "    </tr>\n",
       "    <tr>\n",
       "      <td>4</td>\n",
       "      <td>1000</td>\n",
       "      <td>2018-09-01</td>\n",
       "      <td>25</td>\n",
       "      <td>14568.91</td>\n",
       "      <td>14.227451</td>\n",
       "      <td>15.0</td>\n",
       "    </tr>\n",
       "  </tbody>\n",
       "</table>\n",
       "</div>"
      ],
      "text/plain": [
       "   user_id      month  count       sum         gb  gb_used\n",
       "0     1000 2018-05-01      4   2253.49   2.200674      3.0\n",
       "1     1000 2018-06-01     44  23233.77  22.689229     23.0\n",
       "2     1000 2018-07-01     28  14003.64  13.675430     14.0\n",
       "3     1000 2018-08-01     27  14055.93  13.726494     14.0\n",
       "4     1000 2018-09-01     25  14568.91  14.227451     15.0"
      ]
     },
     "execution_count": 9,
     "metadata": {},
     "output_type": "execute_result"
    }
   ],
   "source": [
    "# добавим новый столбец с указанием количества потребленных гигабайтов за месяц для каждого пользователя \n",
    "internet_data_month['gb'] = internet_data_month['sum'] / 1024 \n",
    "internet_data_month['gb_used'] = internet_data_month['gb'].apply(np.ceil)\n",
    "internet_data_month.head()"
   ]
  },
  {
   "cell_type": "code",
   "execution_count": 10,
   "metadata": {},
   "outputs": [
    {
     "data": {
      "text/html": [
       "<div>\n",
       "<style scoped>\n",
       "    .dataframe tbody tr th:only-of-type {\n",
       "        vertical-align: middle;\n",
       "    }\n",
       "\n",
       "    .dataframe tbody tr th {\n",
       "        vertical-align: top;\n",
       "    }\n",
       "\n",
       "    .dataframe thead th {\n",
       "        text-align: right;\n",
       "    }\n",
       "</style>\n",
       "<table border=\"1\" class=\"dataframe\">\n",
       "  <thead>\n",
       "    <tr style=\"text-align: right;\">\n",
       "      <th></th>\n",
       "      <th>Unnamed: 0</th>\n",
       "      <th>id</th>\n",
       "      <th>mb_used</th>\n",
       "      <th>session_date</th>\n",
       "      <th>user_id</th>\n",
       "      <th>month</th>\n",
       "    </tr>\n",
       "  </thead>\n",
       "  <tbody>\n",
       "    <tr>\n",
       "      <td>0</td>\n",
       "      <td>0</td>\n",
       "      <td>1000_0</td>\n",
       "      <td>112.95</td>\n",
       "      <td>2018-11-25</td>\n",
       "      <td>1000</td>\n",
       "      <td>2018-11-01</td>\n",
       "    </tr>\n",
       "    <tr>\n",
       "      <td>1</td>\n",
       "      <td>1</td>\n",
       "      <td>1000_1</td>\n",
       "      <td>1052.81</td>\n",
       "      <td>2018-09-07</td>\n",
       "      <td>1000</td>\n",
       "      <td>2018-09-01</td>\n",
       "    </tr>\n",
       "    <tr>\n",
       "      <td>2</td>\n",
       "      <td>2</td>\n",
       "      <td>1000_2</td>\n",
       "      <td>1197.26</td>\n",
       "      <td>2018-06-25</td>\n",
       "      <td>1000</td>\n",
       "      <td>2018-06-01</td>\n",
       "    </tr>\n",
       "    <tr>\n",
       "      <td>3</td>\n",
       "      <td>3</td>\n",
       "      <td>1000_3</td>\n",
       "      <td>550.27</td>\n",
       "      <td>2018-08-22</td>\n",
       "      <td>1000</td>\n",
       "      <td>2018-08-01</td>\n",
       "    </tr>\n",
       "    <tr>\n",
       "      <td>4</td>\n",
       "      <td>4</td>\n",
       "      <td>1000_4</td>\n",
       "      <td>302.56</td>\n",
       "      <td>2018-09-24</td>\n",
       "      <td>1000</td>\n",
       "      <td>2018-09-01</td>\n",
       "    </tr>\n",
       "  </tbody>\n",
       "</table>\n",
       "</div>"
      ],
      "text/plain": [
       "   Unnamed: 0      id  mb_used session_date  user_id      month\n",
       "0           0  1000_0   112.95   2018-11-25     1000 2018-11-01\n",
       "1           1  1000_1  1052.81   2018-09-07     1000 2018-09-01\n",
       "2           2  1000_2  1197.26   2018-06-25     1000 2018-06-01\n",
       "3           3  1000_3   550.27   2018-08-22     1000 2018-08-01\n",
       "4           4  1000_4   302.56   2018-09-24     1000 2018-09-01"
      ]
     },
     "execution_count": 10,
     "metadata": {},
     "output_type": "execute_result"
    }
   ],
   "source": [
    "internet_data.head()"
   ]
  },
  {
   "cell_type": "markdown",
   "metadata": {},
   "source": [
    "#### Таблица messages (информация о сообщениях)"
   ]
  },
  {
   "cell_type": "code",
   "execution_count": 11,
   "metadata": {},
   "outputs": [
    {
     "name": "stdout",
     "output_type": "stream",
     "text": [
      "Общая информация о датасете \"messages.csv\" после приведения типов \n",
      "\n",
      "<class 'pandas.core.frame.DataFrame'>\n",
      "RangeIndex: 123036 entries, 0 to 123035\n",
      "Data columns (total 3 columns):\n",
      "id              123036 non-null object\n",
      "message_date    123036 non-null datetime64[ns]\n",
      "user_id         123036 non-null uint16\n",
      "dtypes: datetime64[ns](1), object(1), uint16(1)\n",
      "memory usage: 8.8 MB\n",
      "\n",
      "\n"
     ]
    },
    {
     "data": {
      "text/html": [
       "<div>\n",
       "<style scoped>\n",
       "    .dataframe tbody tr th:only-of-type {\n",
       "        vertical-align: middle;\n",
       "    }\n",
       "\n",
       "    .dataframe tbody tr th {\n",
       "        vertical-align: top;\n",
       "    }\n",
       "\n",
       "    .dataframe thead th {\n",
       "        text-align: right;\n",
       "    }\n",
       "</style>\n",
       "<table border=\"1\" class=\"dataframe\">\n",
       "  <thead>\n",
       "    <tr style=\"text-align: right;\">\n",
       "      <th></th>\n",
       "      <th>count</th>\n",
       "      <th>mean</th>\n",
       "      <th>std</th>\n",
       "      <th>min</th>\n",
       "      <th>25%</th>\n",
       "      <th>50%</th>\n",
       "      <th>75%</th>\n",
       "      <th>max</th>\n",
       "    </tr>\n",
       "  </thead>\n",
       "  <tbody>\n",
       "    <tr>\n",
       "      <td>user_id</td>\n",
       "      <td>123036.0</td>\n",
       "      <td>1256.98941</td>\n",
       "      <td>143.523967</td>\n",
       "      <td>1000.0</td>\n",
       "      <td>1134.0</td>\n",
       "      <td>1271.0</td>\n",
       "      <td>1381.0</td>\n",
       "      <td>1499.0</td>\n",
       "    </tr>\n",
       "  </tbody>\n",
       "</table>\n",
       "</div>"
      ],
      "text/plain": [
       "            count        mean         std     min     25%     50%     75%  \\\n",
       "user_id  123036.0  1256.98941  143.523967  1000.0  1134.0  1271.0  1381.0   \n",
       "\n",
       "            max  \n",
       "user_id  1499.0  "
      ]
     },
     "metadata": {},
     "output_type": "display_data"
    }
   ],
   "source": [
    "# дата сообщения (образец формата 2021-01-01)\n",
    "messages_data['message_date'] = convert_date(messages_data, 'message_date', '%Y-%m-%d')\n",
    "\n",
    "# user_id\n",
    "messages_data['user_id'] = convert_numeric(messages_data, 'user_id', 'uint16')\n",
    "\n",
    "# проверим\n",
    "print('Общая информация о датасете \"messages.csv\" после приведения типов', '\\n')\n",
    "messages_data.info(memory_usage='deep')\n",
    "print('\\n')\n",
    "display(messages_data.describe().T)"
   ]
  },
  {
   "cell_type": "markdown",
   "metadata": {},
   "source": [
    "Приведение типов прошло успешно."
   ]
  },
  {
   "cell_type": "markdown",
   "metadata": {},
   "source": [
    "#### Таблица tariffs (информация о тарифах)"
   ]
  },
  {
   "cell_type": "code",
   "execution_count": 12,
   "metadata": {},
   "outputs": [
    {
     "name": "stdout",
     "output_type": "stream",
     "text": [
      "<class 'pandas.core.frame.DataFrame'>\n",
      "RangeIndex: 2 entries, 0 to 1\n",
      "Data columns (total 8 columns):\n",
      "messages_included        2 non-null uint16\n",
      "mb_per_month_included    2 non-null uint16\n",
      "minutes_included         2 non-null uint16\n",
      "rub_monthly_fee          2 non-null uint16\n",
      "rub_per_gb               2 non-null uint16\n",
      "rub_per_message          2 non-null uint16\n",
      "rub_per_minute           2 non-null uint16\n",
      "tariff_name              2 non-null object\n",
      "dtypes: object(1), uint16(7)\n",
      "memory usage: 280.0 bytes\n"
     ]
    },
    {
     "data": {
      "text/html": [
       "<div>\n",
       "<style scoped>\n",
       "    .dataframe tbody tr th:only-of-type {\n",
       "        vertical-align: middle;\n",
       "    }\n",
       "\n",
       "    .dataframe tbody tr th {\n",
       "        vertical-align: top;\n",
       "    }\n",
       "\n",
       "    .dataframe thead th {\n",
       "        text-align: right;\n",
       "    }\n",
       "</style>\n",
       "<table border=\"1\" class=\"dataframe\">\n",
       "  <thead>\n",
       "    <tr style=\"text-align: right;\">\n",
       "      <th></th>\n",
       "      <th>count</th>\n",
       "      <th>mean</th>\n",
       "      <th>std</th>\n",
       "      <th>min</th>\n",
       "      <th>25%</th>\n",
       "      <th>50%</th>\n",
       "      <th>75%</th>\n",
       "      <th>max</th>\n",
       "    </tr>\n",
       "  </thead>\n",
       "  <tbody>\n",
       "    <tr>\n",
       "      <td>messages_included</td>\n",
       "      <td>2.0</td>\n",
       "      <td>525.0</td>\n",
       "      <td>671.751442</td>\n",
       "      <td>50.0</td>\n",
       "      <td>287.5</td>\n",
       "      <td>525.0</td>\n",
       "      <td>762.5</td>\n",
       "      <td>1000.0</td>\n",
       "    </tr>\n",
       "    <tr>\n",
       "      <td>mb_per_month_included</td>\n",
       "      <td>2.0</td>\n",
       "      <td>23040.0</td>\n",
       "      <td>10861.160159</td>\n",
       "      <td>15360.0</td>\n",
       "      <td>19200.0</td>\n",
       "      <td>23040.0</td>\n",
       "      <td>26880.0</td>\n",
       "      <td>30720.0</td>\n",
       "    </tr>\n",
       "    <tr>\n",
       "      <td>minutes_included</td>\n",
       "      <td>2.0</td>\n",
       "      <td>1750.0</td>\n",
       "      <td>1767.766953</td>\n",
       "      <td>500.0</td>\n",
       "      <td>1125.0</td>\n",
       "      <td>1750.0</td>\n",
       "      <td>2375.0</td>\n",
       "      <td>3000.0</td>\n",
       "    </tr>\n",
       "    <tr>\n",
       "      <td>rub_monthly_fee</td>\n",
       "      <td>2.0</td>\n",
       "      <td>1250.0</td>\n",
       "      <td>989.949494</td>\n",
       "      <td>550.0</td>\n",
       "      <td>900.0</td>\n",
       "      <td>1250.0</td>\n",
       "      <td>1600.0</td>\n",
       "      <td>1950.0</td>\n",
       "    </tr>\n",
       "    <tr>\n",
       "      <td>rub_per_gb</td>\n",
       "      <td>2.0</td>\n",
       "      <td>175.0</td>\n",
       "      <td>35.355339</td>\n",
       "      <td>150.0</td>\n",
       "      <td>162.5</td>\n",
       "      <td>175.0</td>\n",
       "      <td>187.5</td>\n",
       "      <td>200.0</td>\n",
       "    </tr>\n",
       "    <tr>\n",
       "      <td>rub_per_message</td>\n",
       "      <td>2.0</td>\n",
       "      <td>2.0</td>\n",
       "      <td>1.414214</td>\n",
       "      <td>1.0</td>\n",
       "      <td>1.5</td>\n",
       "      <td>2.0</td>\n",
       "      <td>2.5</td>\n",
       "      <td>3.0</td>\n",
       "    </tr>\n",
       "    <tr>\n",
       "      <td>rub_per_minute</td>\n",
       "      <td>2.0</td>\n",
       "      <td>2.0</td>\n",
       "      <td>1.414214</td>\n",
       "      <td>1.0</td>\n",
       "      <td>1.5</td>\n",
       "      <td>2.0</td>\n",
       "      <td>2.5</td>\n",
       "      <td>3.0</td>\n",
       "    </tr>\n",
       "  </tbody>\n",
       "</table>\n",
       "</div>"
      ],
      "text/plain": [
       "                       count     mean           std      min      25%  \\\n",
       "messages_included        2.0    525.0    671.751442     50.0    287.5   \n",
       "mb_per_month_included    2.0  23040.0  10861.160159  15360.0  19200.0   \n",
       "minutes_included         2.0   1750.0   1767.766953    500.0   1125.0   \n",
       "rub_monthly_fee          2.0   1250.0    989.949494    550.0    900.0   \n",
       "rub_per_gb               2.0    175.0     35.355339    150.0    162.5   \n",
       "rub_per_message          2.0      2.0      1.414214      1.0      1.5   \n",
       "rub_per_minute           2.0      2.0      1.414214      1.0      1.5   \n",
       "\n",
       "                           50%      75%      max  \n",
       "messages_included        525.0    762.5   1000.0  \n",
       "mb_per_month_included  23040.0  26880.0  30720.0  \n",
       "minutes_included        1750.0   2375.0   3000.0  \n",
       "rub_monthly_fee         1250.0   1600.0   1950.0  \n",
       "rub_per_gb               175.0    187.5    200.0  \n",
       "rub_per_message            2.0      2.5      3.0  \n",
       "rub_per_minute             2.0      2.5      3.0  "
      ]
     },
     "metadata": {},
     "output_type": "display_data"
    }
   ],
   "source": [
    "# приведём типы данных к более оптимальному\n",
    "tariffs_data = tariffs_data.astype('uint16', errors='ignore')\n",
    "\n",
    "# проверим\n",
    "tariffs_data.info(memory_usage='deep')\n",
    "display(tariffs_data.describe().T) "
   ]
  },
  {
   "cell_type": "markdown",
   "metadata": {},
   "source": [
    "Приведение типов прошло успешно."
   ]
  },
  {
   "cell_type": "markdown",
   "metadata": {},
   "source": [
    "#### Таблица users (информация о пользователях)"
   ]
  },
  {
   "cell_type": "code",
   "execution_count": 13,
   "metadata": {},
   "outputs": [
    {
     "name": "stdout",
     "output_type": "stream",
     "text": [
      "<class 'pandas.core.frame.DataFrame'>\n",
      "RangeIndex: 500 entries, 0 to 499\n",
      "Data columns (total 8 columns):\n",
      "user_id       500 non-null uint16\n",
      "age           500 non-null uint8\n",
      "churn_date    38 non-null datetime64[ns]\n",
      "city          500 non-null object\n",
      "first_name    500 non-null object\n",
      "last_name     500 non-null object\n",
      "reg_date      500 non-null datetime64[ns]\n",
      "tariff        500 non-null object\n",
      "dtypes: datetime64[ns](2), object(4), uint16(1), uint8(1)\n",
      "memory usage: 181.5 KB\n"
     ]
    },
    {
     "data": {
      "text/html": [
       "<div>\n",
       "<style scoped>\n",
       "    .dataframe tbody tr th:only-of-type {\n",
       "        vertical-align: middle;\n",
       "    }\n",
       "\n",
       "    .dataframe tbody tr th {\n",
       "        vertical-align: top;\n",
       "    }\n",
       "\n",
       "    .dataframe thead th {\n",
       "        text-align: right;\n",
       "    }\n",
       "</style>\n",
       "<table border=\"1\" class=\"dataframe\">\n",
       "  <thead>\n",
       "    <tr style=\"text-align: right;\">\n",
       "      <th></th>\n",
       "      <th>count</th>\n",
       "      <th>mean</th>\n",
       "      <th>std</th>\n",
       "      <th>min</th>\n",
       "      <th>25%</th>\n",
       "      <th>50%</th>\n",
       "      <th>75%</th>\n",
       "      <th>max</th>\n",
       "    </tr>\n",
       "  </thead>\n",
       "  <tbody>\n",
       "    <tr>\n",
       "      <td>user_id</td>\n",
       "      <td>500.0</td>\n",
       "      <td>1249.500</td>\n",
       "      <td>144.481833</td>\n",
       "      <td>1000.0</td>\n",
       "      <td>1124.75</td>\n",
       "      <td>1249.5</td>\n",
       "      <td>1374.25</td>\n",
       "      <td>1499.0</td>\n",
       "    </tr>\n",
       "    <tr>\n",
       "      <td>age</td>\n",
       "      <td>500.0</td>\n",
       "      <td>46.588</td>\n",
       "      <td>16.667630</td>\n",
       "      <td>18.0</td>\n",
       "      <td>32.00</td>\n",
       "      <td>46.0</td>\n",
       "      <td>62.00</td>\n",
       "      <td>75.0</td>\n",
       "    </tr>\n",
       "  </tbody>\n",
       "</table>\n",
       "</div>"
      ],
      "text/plain": [
       "         count      mean         std     min      25%     50%      75%     max\n",
       "user_id  500.0  1249.500  144.481833  1000.0  1124.75  1249.5  1374.25  1499.0\n",
       "age      500.0    46.588   16.667630    18.0    32.00    46.0    62.00    75.0"
      ]
     },
     "metadata": {},
     "output_type": "display_data"
    }
   ],
   "source": [
    "# даты регистрации и расторжения контракта (образец 2021-01-01)\n",
    "users_data['reg_date'] = convert_date(users_data, 'reg_date', '%Y-%m-%d')\n",
    "users_data['churn_date'] = convert_date(users_data, 'churn_date', '%Y-%m-%d')\n",
    "\n",
    "# user_id и возраст\n",
    "users_data['user_id'] = convert_numeric(users_data, 'user_id', 'uint16')\n",
    "users_data['age'] = convert_numeric(users_data, 'age', 'uint8')\n",
    "\n",
    "# проверим\n",
    "users_data.info(memory_usage='deep')\n",
    "display(users_data.describe().T)"
   ]
  },
  {
   "cell_type": "markdown",
   "metadata": {},
   "source": [
    "Приведение типов прошло успешно.\n",
    "\n",
    "Мы привели данные, имевшие неверный/избыточный тип к верным типам. За счёт этого удалось снизить использование памяти во всех датасетах."
   ]
  },
  {
   "cell_type": "markdown",
   "metadata": {},
   "source": [
    "### Ошибки в данных"
   ]
  },
  {
   "cell_type": "markdown",
   "metadata": {},
   "source": [
    "Разберём ошибки, которые были обнаружены и описаны в начале.\n",
    "\n",
    "Пропуски в столбце churn_date датасета users.csv: данные пропуски по сути своей ошибками не являются, они лишь свидетельствуют о том, что на момент подготовки данных пользователь не явлляся клиентом сотового оператора. С учётом того, данных были собраны за 2018 год, эти пропуски можно заполнить датой 1 января 2019 года. На исследования это не повлияет, т.к. дата выходит за исследуемый диапазон.\n",
    "Нулевые значения длительности звонков в датасете: в постановке задачи указано, что это не ошибка в данных (нулями обозначены пропущенные звонки), поэтому их не нужно удалять.\n",
    "В датасете internet.csv присутствует лишний столбец, дублирующий индекс этого датасета. От него нужно будет избавиться\n",
    "Для поиска возможных ошибок в других столбцах, необходимо изучить содержащиеся в них данные. Для качественных категорий это можно сделать с помощью метода value_counts(), для количественных - построить диаграмму размаха и гистограмму при помощи автоматизации. \n",
    "\n",
    "Определим параметры, подлежащие изучению:\n",
    "\n",
    "**calls.csv**\n",
    "- id - номер сессии, в исследовании не используется;\n",
    "- call_date - пропуски отсутствуют, данные приведены к нужному типу, нужно будет проверить даты на вхождение в исследуемый период и удалить то, что не входит в него;\n",
    "- duration - выведем диаграмму размаха и гистограмму;\n",
    "- user_id - пропусков нет.\n",
    "\n",
    "**internet.csv**\n",
    "- id - номер сессии, в исследовании не используется;\n",
    "- mb_used - выведем диаграмму размаха и гистограмму;\n",
    "- session_date - пропуски отсутствуют, данные приведены к нужному типу, нужно будет проверить даты на вхождение в исследуемый период и удалить то, что не входит в него;\n",
    "- user_id - пропусков нет.\n",
    "\n",
    "**messages.csv**\n",
    "- id - номер сессии, в исследовании не используется;\n",
    "- message_date - пропуски отсутствуют, данные приведены к нужному типу, нужно будет проверить даты на вхождение в исследуемый период и удалить то, что не входит в него;\n",
    "- user_id - пропусков нет.\n",
    "\n",
    "**tariffs.csv**\n",
    "- датасет был предобработан на предыдущем этапе - ошибок в данных нет.\n",
    "\n",
    "**users.csv**\n",
    "- user_id - пропусков нет;\n",
    "- first_name - в исследовании не используется;\n",
    "- last_name - в исследовании не используется;\n",
    "- age - выведем диаграмму размаха и гистограмму;\n",
    "- reg_date - проверим наличие клиентов, ставших абонентами после 2018 года;\n",
    "- churn_date - проверим наличие клиентов, переставших быть абонентами до 2018 года;\n",
    "- city - в исследовании не используется;\n",
    "- tariff - изучим с помощью метода value_counts()."
   ]
  },
  {
   "cell_type": "markdown",
   "metadata": {},
   "source": [
    "#### Подготовка функций и дополнительных переменных"
   ]
  },
  {
   "cell_type": "code",
   "execution_count": 14,
   "metadata": {},
   "outputs": [],
   "source": [
    "# создадим словарь, в котором каждый параметр будет сопровождаться наименованием и единицей измерения\n",
    "labels = {\n",
    "    'calls_data_duration':['Длительность звонка','мин'],\n",
    "    'internet_data_mb_used':['Использованный трафик','Мб'],\n",
    "    'users_data_age':['Возраст','лет']}\n",
    "\n",
    "# сформируем строку с указанием описания выборки\n",
    "data_period = ' (данные за 2018 год по тарифам \"Смарт\" и \"Ультра\")'\n",
    "\n",
    "# напишем функцию, которая будет выводить нам графики\n",
    "def explore_data(dset, dname, dcolumn, dbins):\n",
    "    ax=dset.boxplot(dcolumn)\n",
    "    ax.set_title(labels[dname+'_'+str(dcolumn)][0]+data_period)\n",
    "    ax.set_ylabel(labels[dname+'_'+str(dcolumn)][1])\n",
    "    plt.show()\n",
    "    ax=dset[dcolumn].hist(bins=dbins, range=(dset[dcolumn].min(),dset[dcolumn].max()))\n",
    "    ax.set_title(labels[dname+'_'+str(dcolumn)][0]+data_period)\n",
    "    ax.set_xlabel(labels[dname+'_'+str(dcolumn)][1])\n",
    "    plt.show()"
   ]
  },
  {
   "cell_type": "markdown",
   "metadata": {},
   "source": [
    "#### Таблица calls "
   ]
  },
  {
   "cell_type": "code",
   "execution_count": 15,
   "metadata": {},
   "outputs": [
    {
     "name": "stdout",
     "output_type": "stream",
     "text": [
      "Звонков вне исследуемого периода не обнаружено\n"
     ]
    },
    {
     "data": {
      "image/png": "[encoded data removed]",
      "text/plain": [
       "<Figure size 432x288 with 1 Axes>"
      ]
     },
     "metadata": {
      "needs_background": "light"
     },
     "output_type": "display_data"
    },
    {
     "data": {
      "image/png": "[encoded data removed]",
      "text/plain": [
       "<Figure size 432x288 with 1 Axes>"
      ]
     },
     "metadata": {
      "needs_background": "light"
     },
     "output_type": "display_data"
    }
   ],
   "source": [
    "# проверим даты звонков на вхождение в исследуемый период\n",
    "out_of_bounds = len(calls_data.query('(2019 <= call_date.dt.year) or (call_date.dt.year <= 2017)'))\n",
    "if out_of_bounds == 0:\n",
    "    print('Звонков вне исследуемого периода не обнаружено')\n",
    "else:\n",
    "    print(f'Обнаружено {out_of_bounds} звонков вне исследуемого периода:')\n",
    "    display(calls_data.query('(2019 <= call_date.dt.year) or (call_date.dt.year <= 2017)'))\n",
    "\n",
    "# посмотрим на распределение длительности звонков\n",
    "explore_data(calls_data, 'calls_data', 'duration', 50)"
   ]
  },
  {
   "cell_type": "markdown",
   "metadata": {},
   "source": [
    "#### Таблица internet"
   ]
  },
  {
   "cell_type": "code",
   "execution_count": 16,
   "metadata": {},
   "outputs": [
    {
     "name": "stdout",
     "output_type": "stream",
     "text": [
      "Интернет-сессий вне исследуемого периода не обнаружено\n"
     ]
    },
    {
     "data": {
      "image/png": "[encoded data removed]",
      "text/plain": [
       "<Figure size 432x288 with 1 Axes>"
      ]
     },
     "metadata": {
      "needs_background": "light"
     },
     "output_type": "display_data"
    },
    {
     "data": {
      "image/png": "[encoded data removed]",
      "text/plain": [
       "<Figure size 432x288 with 1 Axes>"
      ]
     },
     "metadata": {
      "needs_background": "light"
     },
     "output_type": "display_data"
    },
    {
     "name": "stdout",
     "output_type": "stream",
     "text": [
      "<class 'pandas.core.frame.DataFrame'>\n",
      "Int64Index: 129798 entries, 0 to 149395\n",
      "Data columns (total 5 columns):\n",
      "id              129798 non-null object\n",
      "mb_used         129798 non-null float64\n",
      "session_date    129798 non-null datetime64[ns]\n",
      "user_id         129798 non-null uint16\n",
      "month           129798 non-null datetime64[ns]\n",
      "dtypes: datetime64[ns](2), float64(1), object(1), uint16(1)\n",
      "memory usage: 17.2 MB\n"
     ]
    },
    {
     "data": {
      "text/plain": [
       "None"
      ]
     },
     "metadata": {},
     "output_type": "display_data"
    }
   ],
   "source": [
    "# проверим даты сессий на вхождение в исследуемый период\n",
    "out_of_bounds = len(internet_data.query('(2019 <= session_date.dt.year) or (session_date.dt.year <= 2017)'))\n",
    "if out_of_bounds == 0:\n",
    "    print('Интернет-сессий вне исследуемого периода не обнаружено')\n",
    "else:\n",
    "    print(f'Обнаружено {out_of_bounds} интернет-сессий вне исследуемого периода:')\n",
    "    display(internet_data.query('(2019 <= session_date.dt.year) or (session_date.dt.year <= 2017)'))\n",
    "\n",
    "# посмотрим на распределение длительности звонков\n",
    "explore_data(internet_data, 'internet_data', 'mb_used', 50)\n",
    "\n",
    "# удалим ненужный столбец\n",
    "internet_data.drop(internet_data.columns[0], axis=1, inplace=True)\n",
    "\n",
    "# посмотрим на результаты\n",
    "display(internet_data.info(memory_usage='deep'))"
   ]
  },
  {
   "cell_type": "markdown",
   "metadata": {},
   "source": [
    "#### Таблица messages"
   ]
  },
  {
   "cell_type": "code",
   "execution_count": 17,
   "metadata": {},
   "outputs": [
    {
     "name": "stdout",
     "output_type": "stream",
     "text": [
      "Сообщений вне исследуемого периода не обнаружено\n"
     ]
    }
   ],
   "source": [
    "# проверим даты сообщений на вхождение в исследуемый период\n",
    "out_of_bounds = len(messages_data.query('(2019 <= message_date.dt.year) or (message_date.dt.year <= 2017)'))\n",
    "if out_of_bounds == 0:\n",
    "    print('Сообщений вне исследуемого периода не обнаружено')\n",
    "else:\n",
    "    print(f'Обнаружено {out_of_bounds} Сообщений вне исследуемого периода:')\n",
    "    display(messages_data.query('(2019 <= message_date.dt.year) or (message_date.dt.year <= 2017)'))"
   ]
  },
  {
   "cell_type": "markdown",
   "metadata": {},
   "source": [
    "#### Таблица users"
   ]
  },
  {
   "cell_type": "code",
   "execution_count": 18,
   "metadata": {},
   "outputs": [
    {
     "name": "stdout",
     "output_type": "stream",
     "text": [
      "Подключившихся вне исследуемого периода не обнаружено\n",
      "Отключившихся вне исследуемого периода не обнаружено\n"
     ]
    },
    {
     "data": {
      "image/png": "[encoded data removed]",
      "text/plain": [
       "<Figure size 432x288 with 1 Axes>"
      ]
     },
     "metadata": {
      "needs_background": "light"
     },
     "output_type": "display_data"
    },
    {
     "data": {
      "image/png": "[encoded data removed]",
      "text/plain": [
       "<Figure size 432x288 with 1 Axes>"
      ]
     },
     "metadata": {
      "needs_background": "light"
     },
     "output_type": "display_data"
    }
   ],
   "source": [
    "# проверим, нет ли подключившихся после 2018 года\n",
    "out_of_bounds = len(users_data.query('reg_date.dt.year >= 2019'))\n",
    "if out_of_bounds == 0:\n",
    "    print('Подключившихся вне исследуемого периода не обнаружено')\n",
    "else:\n",
    "    print(f'Обнаружено {out_of_bounds} абонентов, подключившихся вне исследуемого периода:')\n",
    "    display(users_data.query('reg_date.dt.year >= 2019'))\n",
    "\n",
    "# проверим, нет ли расторгнувших договор до 2018 года\n",
    "out_of_bounds = len(users_data.query('churn_date.dt.year <= 2017'))\n",
    "if out_of_bounds == 0:\n",
    "    print('Отключившихся вне исследуемого периода не обнаружено')\n",
    "else:\n",
    "    print(f'Обнаружено {out_of_bounds} абонентов, отключившихся вне исследуемого периода:')\n",
    "    display(users_data.query('churn_date.dt.year <= 2017'))\n",
    "\n",
    "# посмотрим на распределение длительности звонков\n",
    "explore_data(users_data, 'users_data', 'age', 50)"
   ]
  },
  {
   "cell_type": "markdown",
   "metadata": {},
   "source": [
    "Грубых ошибок нет, записей, не соответствующих исследуемому периоду не обнаружено.\n",
    "\n",
    "Далее заполним пропуски в столбце churn_date датой 1 января 2019 года, как было указано ранее."
   ]
  },
  {
   "cell_type": "code",
   "execution_count": 19,
   "metadata": {},
   "outputs": [
    {
     "name": "stdout",
     "output_type": "stream",
     "text": [
      "<class 'pandas.core.frame.DataFrame'>\n",
      "RangeIndex: 500 entries, 0 to 499\n",
      "Data columns (total 8 columns):\n",
      "user_id       500 non-null uint16\n",
      "age           500 non-null uint8\n",
      "churn_date    500 non-null datetime64[ns]\n",
      "city          500 non-null object\n",
      "first_name    500 non-null object\n",
      "last_name     500 non-null object\n",
      "reg_date      500 non-null datetime64[ns]\n",
      "tariff        500 non-null object\n",
      "dtypes: datetime64[ns](2), object(4), uint16(1), uint8(1)\n",
      "memory usage: 181.5 KB\n"
     ]
    },
    {
     "data": {
      "text/plain": [
       "None"
      ]
     },
     "metadata": {},
     "output_type": "display_data"
    }
   ],
   "source": [
    "# заполним пропуски первым января 2019 года\n",
    "users_data = users_data.fillna(value={'churn_date':pd.to_datetime('2019-01-01', format='%Y-%m-%d')})\n",
    "\n",
    "# проверим\n",
    "display(users_data.info(memory_usage='deep'))"
   ]
  },
  {
   "cell_type": "markdown",
   "metadata": {},
   "source": [
    "#### Вывод"
   ]
  },
  {
   "cell_type": "markdown",
   "metadata": {},
   "source": [
    "Нами были исследованы данные на предмет следующих ошибок:\n",
    "\n",
    "- Выбивающиеся значения, не характерные для данного параметра\n",
    "- Выход значений даты за пределы исследуемого периода \n",
    "- Также удалили лишний столбец в датасете internet.csv, дублирующий индекс данного датасета. \n",
    "- Пропуски заполнили индикаторным значением - датой 1 января 2019, которая выходит за границы исследуемого периода."
   ]
  },
  {
   "cell_type": "markdown",
   "metadata": {},
   "source": [
    "### Расчёт показателей для каждого пользователя"
   ]
  },
  {
   "cell_type": "markdown",
   "metadata": {},
   "source": [
    "Необходимо посчитать следующие параметры:\n",
    "\n",
    "- количество сделанных звонков и израсходованных минут разговора по месяцам\n",
    "- количество отправленных сообщений по месяцам\n",
    "- объем израсходованного интернет-трафика по месяцам\n",
    "- помесячную выручку с каждого пользователя\n",
    "\n",
    "Для этого нам необходимо будет сделать следующее:\n",
    "\n",
    "- в каждом датасете добавить столбец с месяцем\n",
    "- сгруппировать датасеты по user_id и месяцу\n",
    "- посчитать необходимые показатели\n",
    "- объединить данные в общий датасет по столбцам user_id и месяц\n",
    "- в объединённом датасете посчитать и добавить столбец с помесячной выручкой"
   ]
  },
  {
   "cell_type": "code",
   "execution_count": 22,
   "metadata": {},
   "outputs": [
    {
     "name": "stdout",
     "output_type": "stream",
     "text": [
      "Сумма минут до объединения: 1450301.0\n",
      "Сумма сообщений до объединения: 123036\n",
      "Сумма использованных Гб до объединения: 55599.0\n"
     ]
    }
   ],
   "source": [
    "# выполним проверку на сумму минут, Гб и сообщений в исходных таблицах до объединения\n",
    "print('Сумма минут до объединения:', calls_data['duration'].sum())\n",
    "print('Сумма сообщений до объединения:', len(messages_data['message_date'].index))\n",
    "print('Сумма использованных Гб до объединения:',internet_data_month['gb_used'].sum())\n",
    "\n"
   ]
  },
  {
   "cell_type": "code",
   "execution_count": 23,
   "metadata": {},
   "outputs": [
    {
     "name": "stdout",
     "output_type": "stream",
     "text": [
      "Звонки + сообщения, строк: 3213\n",
      "Звонки + сообщения + интернет, строк: 3214\n",
      "Пользователи + звонки + сообщения + интернет, строк: 3214\n",
      "<class 'pandas.core.frame.DataFrame'>\n",
      "Int64Index: 3214 entries, 0 to 3213\n",
      "Data columns (total 17 columns):\n",
      "user_id           3214 non-null uint64\n",
      "month             3214 non-null datetime64[ns]\n",
      "duration          3174 non-null float32\n",
      "calls_count       3174 non-null float64\n",
      "messages_count    2717 non-null float64\n",
      "count             3201 non-null float64\n",
      "sum               3201 non-null float64\n",
      "gb                3201 non-null float64\n",
      "gb_used           3201 non-null float64\n",
      "age               3214 non-null uint8\n",
      "churn_date        3214 non-null datetime64[ns]\n",
      "city              3214 non-null object\n",
      "first_name        3214 non-null object\n",
      "last_name         3214 non-null object\n",
      "reg_date          3214 non-null datetime64[ns]\n",
      "tariff            3214 non-null object\n",
      "take              2665 non-null float64\n",
      "dtypes: datetime64[ns](3), float32(1), float64(7), object(4), uint64(1), uint8(1)\n",
      "memory usage: 1.4 MB\n"
     ]
    },
    {
     "data": {
      "text/plain": [
       "None"
      ]
     },
     "metadata": {},
     "output_type": "display_data"
    },
    {
     "data": {
      "text/html": [
       "<div>\n",
       "<style scoped>\n",
       "    .dataframe tbody tr th:only-of-type {\n",
       "        vertical-align: middle;\n",
       "    }\n",
       "\n",
       "    .dataframe tbody tr th {\n",
       "        vertical-align: top;\n",
       "    }\n",
       "\n",
       "    .dataframe thead th {\n",
       "        text-align: right;\n",
       "    }\n",
       "</style>\n",
       "<table border=\"1\" class=\"dataframe\">\n",
       "  <thead>\n",
       "    <tr style=\"text-align: right;\">\n",
       "      <th></th>\n",
       "      <th>user_id</th>\n",
       "      <th>month</th>\n",
       "      <th>duration</th>\n",
       "      <th>calls_count</th>\n",
       "      <th>messages_count</th>\n",
       "      <th>count</th>\n",
       "      <th>sum</th>\n",
       "      <th>gb</th>\n",
       "      <th>gb_used</th>\n",
       "      <th>age</th>\n",
       "      <th>churn_date</th>\n",
       "      <th>city</th>\n",
       "      <th>first_name</th>\n",
       "      <th>last_name</th>\n",
       "      <th>reg_date</th>\n",
       "      <th>tariff</th>\n",
       "      <th>take</th>\n",
       "    </tr>\n",
       "  </thead>\n",
       "  <tbody>\n",
       "    <tr>\n",
       "      <td>0</td>\n",
       "      <td>1000</td>\n",
       "      <td>2018-05-01</td>\n",
       "      <td>159.0</td>\n",
       "      <td>22.0</td>\n",
       "      <td>22.0</td>\n",
       "      <td>4.0</td>\n",
       "      <td>2253.49</td>\n",
       "      <td>2.200674</td>\n",
       "      <td>3.0</td>\n",
       "      <td>52</td>\n",
       "      <td>2019-01-01</td>\n",
       "      <td>Краснодар</td>\n",
       "      <td>Рафаил</td>\n",
       "      <td>Верещагин</td>\n",
       "      <td>2018-05-25</td>\n",
       "      <td>ultra</td>\n",
       "      <td>1950.0</td>\n",
       "    </tr>\n",
       "    <tr>\n",
       "      <td>1</td>\n",
       "      <td>1000</td>\n",
       "      <td>2018-06-01</td>\n",
       "      <td>172.0</td>\n",
       "      <td>43.0</td>\n",
       "      <td>60.0</td>\n",
       "      <td>44.0</td>\n",
       "      <td>23233.77</td>\n",
       "      <td>22.689229</td>\n",
       "      <td>23.0</td>\n",
       "      <td>52</td>\n",
       "      <td>2019-01-01</td>\n",
       "      <td>Краснодар</td>\n",
       "      <td>Рафаил</td>\n",
       "      <td>Верещагин</td>\n",
       "      <td>2018-05-25</td>\n",
       "      <td>ultra</td>\n",
       "      <td>1950.0</td>\n",
       "    </tr>\n",
       "    <tr>\n",
       "      <td>2</td>\n",
       "      <td>1000</td>\n",
       "      <td>2018-07-01</td>\n",
       "      <td>340.0</td>\n",
       "      <td>47.0</td>\n",
       "      <td>75.0</td>\n",
       "      <td>28.0</td>\n",
       "      <td>14003.64</td>\n",
       "      <td>13.675430</td>\n",
       "      <td>14.0</td>\n",
       "      <td>52</td>\n",
       "      <td>2019-01-01</td>\n",
       "      <td>Краснодар</td>\n",
       "      <td>Рафаил</td>\n",
       "      <td>Верещагин</td>\n",
       "      <td>2018-05-25</td>\n",
       "      <td>ultra</td>\n",
       "      <td>1950.0</td>\n",
       "    </tr>\n",
       "    <tr>\n",
       "      <td>3</td>\n",
       "      <td>1000</td>\n",
       "      <td>2018-08-01</td>\n",
       "      <td>408.0</td>\n",
       "      <td>52.0</td>\n",
       "      <td>81.0</td>\n",
       "      <td>27.0</td>\n",
       "      <td>14055.93</td>\n",
       "      <td>13.726494</td>\n",
       "      <td>14.0</td>\n",
       "      <td>52</td>\n",
       "      <td>2019-01-01</td>\n",
       "      <td>Краснодар</td>\n",
       "      <td>Рафаил</td>\n",
       "      <td>Верещагин</td>\n",
       "      <td>2018-05-25</td>\n",
       "      <td>ultra</td>\n",
       "      <td>1950.0</td>\n",
       "    </tr>\n",
       "    <tr>\n",
       "      <td>4</td>\n",
       "      <td>1000</td>\n",
       "      <td>2018-09-01</td>\n",
       "      <td>466.0</td>\n",
       "      <td>58.0</td>\n",
       "      <td>57.0</td>\n",
       "      <td>25.0</td>\n",
       "      <td>14568.91</td>\n",
       "      <td>14.227451</td>\n",
       "      <td>15.0</td>\n",
       "      <td>52</td>\n",
       "      <td>2019-01-01</td>\n",
       "      <td>Краснодар</td>\n",
       "      <td>Рафаил</td>\n",
       "      <td>Верещагин</td>\n",
       "      <td>2018-05-25</td>\n",
       "      <td>ultra</td>\n",
       "      <td>1950.0</td>\n",
       "    </tr>\n",
       "  </tbody>\n",
       "</table>\n",
       "</div>"
      ],
      "text/plain": [
       "   user_id      month  duration  calls_count  messages_count  count       sum  \\\n",
       "0     1000 2018-05-01     159.0         22.0            22.0    4.0   2253.49   \n",
       "1     1000 2018-06-01     172.0         43.0            60.0   44.0  23233.77   \n",
       "2     1000 2018-07-01     340.0         47.0            75.0   28.0  14003.64   \n",
       "3     1000 2018-08-01     408.0         52.0            81.0   27.0  14055.93   \n",
       "4     1000 2018-09-01     466.0         58.0            57.0   25.0  14568.91   \n",
       "\n",
       "          gb  gb_used  age churn_date       city first_name  last_name  \\\n",
       "0   2.200674      3.0   52 2019-01-01  Краснодар     Рафаил  Верещагин   \n",
       "1  22.689229     23.0   52 2019-01-01  Краснодар     Рафаил  Верещагин   \n",
       "2  13.675430     14.0   52 2019-01-01  Краснодар     Рафаил  Верещагин   \n",
       "3  13.726494     14.0   52 2019-01-01  Краснодар     Рафаил  Верещагин   \n",
       "4  14.227451     15.0   52 2019-01-01  Краснодар     Рафаил  Верещагин   \n",
       "\n",
       "    reg_date tariff    take  \n",
       "0 2018-05-25  ultra  1950.0  \n",
       "1 2018-05-25  ultra  1950.0  \n",
       "2 2018-05-25  ultra  1950.0  \n",
       "3 2018-05-25  ultra  1950.0  \n",
       "4 2018-05-25  ultra  1950.0  "
      ]
     },
     "metadata": {},
     "output_type": "display_data"
    },
    {
     "data": {
      "text/html": [
       "<div>\n",
       "<style scoped>\n",
       "    .dataframe tbody tr th:only-of-type {\n",
       "        vertical-align: middle;\n",
       "    }\n",
       "\n",
       "    .dataframe tbody tr th {\n",
       "        vertical-align: top;\n",
       "    }\n",
       "\n",
       "    .dataframe thead th {\n",
       "        text-align: right;\n",
       "    }\n",
       "</style>\n",
       "<table border=\"1\" class=\"dataframe\">\n",
       "  <thead>\n",
       "    <tr style=\"text-align: right;\">\n",
       "      <th></th>\n",
       "      <th>count</th>\n",
       "      <th>mean</th>\n",
       "      <th>std</th>\n",
       "      <th>min</th>\n",
       "      <th>25%</th>\n",
       "      <th>50%</th>\n",
       "      <th>75%</th>\n",
       "      <th>max</th>\n",
       "    </tr>\n",
       "  </thead>\n",
       "  <tbody>\n",
       "    <tr>\n",
       "      <td>user_id</td>\n",
       "      <td>3214.0</td>\n",
       "      <td>1251.590230</td>\n",
       "      <td>144.659172</td>\n",
       "      <td>1000.000000</td>\n",
       "      <td>1125.000000</td>\n",
       "      <td>1253.000000</td>\n",
       "      <td>1378.750000</td>\n",
       "      <td>1499.000000</td>\n",
       "    </tr>\n",
       "    <tr>\n",
       "      <td>duration</td>\n",
       "      <td>3174.0</td>\n",
       "      <td>456.931641</td>\n",
       "      <td>238.031265</td>\n",
       "      <td>0.000000</td>\n",
       "      <td>290.000000</td>\n",
       "      <td>447.000000</td>\n",
       "      <td>592.000000</td>\n",
       "      <td>1673.000000</td>\n",
       "    </tr>\n",
       "    <tr>\n",
       "      <td>calls_count</td>\n",
       "      <td>3174.0</td>\n",
       "      <td>63.833333</td>\n",
       "      <td>32.678036</td>\n",
       "      <td>1.000000</td>\n",
       "      <td>41.000000</td>\n",
       "      <td>63.000000</td>\n",
       "      <td>83.000000</td>\n",
       "      <td>244.000000</td>\n",
       "    </tr>\n",
       "    <tr>\n",
       "      <td>messages_count</td>\n",
       "      <td>2717.0</td>\n",
       "      <td>45.283769</td>\n",
       "      <td>35.051363</td>\n",
       "      <td>1.000000</td>\n",
       "      <td>19.000000</td>\n",
       "      <td>38.000000</td>\n",
       "      <td>63.000000</td>\n",
       "      <td>224.000000</td>\n",
       "    </tr>\n",
       "    <tr>\n",
       "      <td>count</td>\n",
       "      <td>3201.0</td>\n",
       "      <td>40.549203</td>\n",
       "      <td>16.145999</td>\n",
       "      <td>1.000000</td>\n",
       "      <td>30.000000</td>\n",
       "      <td>41.000000</td>\n",
       "      <td>51.000000</td>\n",
       "      <td>101.000000</td>\n",
       "    </tr>\n",
       "    <tr>\n",
       "      <td>sum</td>\n",
       "      <td>3201.0</td>\n",
       "      <td>17277.496948</td>\n",
       "      <td>7506.295851</td>\n",
       "      <td>201.070000</td>\n",
       "      <td>12550.910000</td>\n",
       "      <td>16963.980000</td>\n",
       "      <td>21436.370000</td>\n",
       "      <td>49745.690000</td>\n",
       "    </tr>\n",
       "    <tr>\n",
       "      <td>gb</td>\n",
       "      <td>3201.0</td>\n",
       "      <td>16.872556</td>\n",
       "      <td>7.330367</td>\n",
       "      <td>0.196357</td>\n",
       "      <td>12.256748</td>\n",
       "      <td>16.566387</td>\n",
       "      <td>20.933955</td>\n",
       "      <td>48.579775</td>\n",
       "    </tr>\n",
       "    <tr>\n",
       "      <td>gb_used</td>\n",
       "      <td>3201.0</td>\n",
       "      <td>17.369260</td>\n",
       "      <td>7.332836</td>\n",
       "      <td>1.000000</td>\n",
       "      <td>13.000000</td>\n",
       "      <td>17.000000</td>\n",
       "      <td>21.000000</td>\n",
       "      <td>49.000000</td>\n",
       "    </tr>\n",
       "    <tr>\n",
       "      <td>age</td>\n",
       "      <td>3214.0</td>\n",
       "      <td>46.641568</td>\n",
       "      <td>16.586109</td>\n",
       "      <td>18.000000</td>\n",
       "      <td>32.000000</td>\n",
       "      <td>46.000000</td>\n",
       "      <td>62.000000</td>\n",
       "      <td>75.000000</td>\n",
       "    </tr>\n",
       "    <tr>\n",
       "      <td>take</td>\n",
       "      <td>2665.0</td>\n",
       "      <td>1490.117824</td>\n",
       "      <td>795.935673</td>\n",
       "      <td>550.000000</td>\n",
       "      <td>730.000000</td>\n",
       "      <td>1550.000000</td>\n",
       "      <td>1950.000000</td>\n",
       "      <td>6671.000000</td>\n",
       "    </tr>\n",
       "  </tbody>\n",
       "</table>\n",
       "</div>"
      ],
      "text/plain": [
       "                 count          mean          std          min           25%  \\\n",
       "user_id         3214.0   1251.590230   144.659172  1000.000000   1125.000000   \n",
       "duration        3174.0    456.931641   238.031265     0.000000    290.000000   \n",
       "calls_count     3174.0     63.833333    32.678036     1.000000     41.000000   \n",
       "messages_count  2717.0     45.283769    35.051363     1.000000     19.000000   \n",
       "count           3201.0     40.549203    16.145999     1.000000     30.000000   \n",
       "sum             3201.0  17277.496948  7506.295851   201.070000  12550.910000   \n",
       "gb              3201.0     16.872556     7.330367     0.196357     12.256748   \n",
       "gb_used         3201.0     17.369260     7.332836     1.000000     13.000000   \n",
       "age             3214.0     46.641568    16.586109    18.000000     32.000000   \n",
       "take            2665.0   1490.117824   795.935673   550.000000    730.000000   \n",
       "\n",
       "                         50%           75%           max  \n",
       "user_id          1253.000000   1378.750000   1499.000000  \n",
       "duration          447.000000    592.000000   1673.000000  \n",
       "calls_count        63.000000     83.000000    244.000000  \n",
       "messages_count     38.000000     63.000000    224.000000  \n",
       "count              41.000000     51.000000    101.000000  \n",
       "sum             16963.980000  21436.370000  49745.690000  \n",
       "gb                 16.566387     20.933955     48.579775  \n",
       "gb_used            17.000000     21.000000     49.000000  \n",
       "age                46.000000     62.000000     75.000000  \n",
       "take             1550.000000   1950.000000   6671.000000  "
      ]
     },
     "metadata": {},
     "output_type": "display_data"
    }
   ],
   "source": [
    "# извлекаем месяц и добавляем его в новый столбец\n",
    "calls_data['month'] = calls_data['call_date'] - pd.to_timedelta(calls_data['call_date'].dt.day-1, unit='D')\n",
    "messages_data['month'] = messages_data['message_date'] - pd.to_timedelta(messages_data['message_date'].dt.day-1, unit='D')\n",
    "internet_data['month'] = internet_data['session_date'] - pd.to_timedelta(internet_data['session_date'].dt.day-1, unit='D')\n",
    "\n",
    "# сгруппируем данные и перезапишем их в имеющиеся датасеты\n",
    "calls_data = calls_data.pivot_table(index=['user_id', 'month'], aggfunc={'duration':'sum', 'id':'count'}).reset_index()\n",
    "messages_data = messages_data.pivot_table(index=['user_id', 'month'], aggfunc={'id':'count'}).reset_index()\n",
    "internet_data = internet_data_month.pivot_table(index=['user_id', 'month'], aggfunc={'gb_used':'sum'}).reset_index()\n",
    "\n",
    "# перед объединением таблиц необходимо переименовать столбцы в некоторых датасетах и удалить лишние столбцы\n",
    "# переименовываем столбцы `id` в их новое смысловое значение (количество звонков и количество сообщений)\n",
    "calls_data = calls_data.rename({'id':'calls_count'}, axis=1)\n",
    "messages_data = messages_data.rename({'id':'messages_count'}, axis=1)\n",
    "\n",
    "\n",
    "# объединим в один датасет с данные по звонкам и сообщениям\n",
    "merged_data = calls_data.merge(messages_data, how = 'outer', left_on=['user_id', 'month'], right_on=['user_id', 'month'])\n",
    "#Код ревьюера:\n",
    "print('Звонки + сообщения, строк:', merged_data.shape[0])\n",
    "\n",
    "# добавим в общий датасет данные по интернет-трафику\n",
    "merged_data = merged_data.merge(internet_data_month, how = 'outer', left_on=['user_id', 'month'], right_on=['user_id', 'month'])\n",
    "#Код ревьюера:\n",
    "print('Звонки + сообщения + интернет, строк:', merged_data.shape[0])\n",
    "\n",
    "# присоединим в общий датасет пользователей по столбцу `user_id`\n",
    "merged_data = merged_data.merge(users_data, how = 'left', left_on='user_id', right_on='user_id')\n",
    "#Код ревьюера:\n",
    "print('Пользователи + звонки + сообщения + интернет, строк:', merged_data.shape[0])\n",
    "\n",
    "# посчитаем помесячную выручку\n",
    "def calc_monthly_take(row):\n",
    "    tname = list(users_data[users_data['user_id'] == row['user_id']]['tariff'])[0]\n",
    "    trf = tariffs_data[tariffs_data['tariff_name'] == tname]\n",
    "    dur = row['duration']\n",
    "    gbs = row['gb_used']\n",
    "    msg = row['messages_count']\n",
    "    fee = int(trf['rub_monthly_fee'])\n",
    "    mlim = int(trf['minutes_included'])\n",
    "    gblim = int(trf['mb_per_month_included']/1024)\n",
    "    msglim = int(trf['messages_included'])\n",
    "    moverdraft = int(dur >= mlim)\n",
    "    gboverdraft = int(gbs >= gblim)\n",
    "    msgoverdraft = int(msg >= msglim)\n",
    "    take = fee + int(trf['rub_per_minute'])*(dur - mlim)*moverdraft + int(trf['rub_per_gb'])*(gbs-gblim)*gboverdraft + int()*(msg-msglim)*msgoverdraft\n",
    "    return take\n",
    "\n",
    "merged_data['take'] = merged_data.apply(calc_monthly_take, axis=1)\n",
    "\n",
    "# посмотрим на новый датасет\n",
    "display(merged_data.info(memory_usage='deep'))\n",
    "display(merged_data.head())\n",
    "display(merged_data.describe().T)"
   ]
  },
  {
   "cell_type": "code",
   "execution_count": 24,
   "metadata": {},
   "outputs": [
    {
     "name": "stdout",
     "output_type": "stream",
     "text": [
      "Сумма минут после объединения: 1450301.0\n",
      "Сумма сообщений после объединения: 123036.0\n",
      "Сумма использованных Гб после объединения: 55599.0\n"
     ]
    }
   ],
   "source": [
    "# выполним проверку на сумму минут, Гб и сообщений в исходных таблицах после объединения\n",
    "print('Сумма минут после объединения:', merged_data['duration'].sum())\n",
    "print('Сумма сообщений после объединения:', merged_data['messages_count'].sum())\n",
    "print('Сумма использованных Гб после объединения:', merged_data['gb_used'].sum())"
   ]
  },
  {
   "cell_type": "code",
   "execution_count": 25,
   "metadata": {},
   "outputs": [
    {
     "data": {
      "text/html": [
       "<div>\n",
       "<style scoped>\n",
       "    .dataframe tbody tr th:only-of-type {\n",
       "        vertical-align: middle;\n",
       "    }\n",
       "\n",
       "    .dataframe tbody tr th {\n",
       "        vertical-align: top;\n",
       "    }\n",
       "\n",
       "    .dataframe thead th {\n",
       "        text-align: right;\n",
       "    }\n",
       "</style>\n",
       "<table border=\"1\" class=\"dataframe\">\n",
       "  <thead>\n",
       "    <tr style=\"text-align: right;\">\n",
       "      <th></th>\n",
       "      <th>user_id</th>\n",
       "      <th>month</th>\n",
       "      <th>duration</th>\n",
       "      <th>calls_count</th>\n",
       "      <th>messages_count</th>\n",
       "      <th>count</th>\n",
       "      <th>sum</th>\n",
       "      <th>gb</th>\n",
       "      <th>gb_used</th>\n",
       "      <th>age</th>\n",
       "      <th>churn_date</th>\n",
       "      <th>city</th>\n",
       "      <th>first_name</th>\n",
       "      <th>last_name</th>\n",
       "      <th>reg_date</th>\n",
       "      <th>tariff</th>\n",
       "      <th>take</th>\n",
       "    </tr>\n",
       "  </thead>\n",
       "  <tbody>\n",
       "    <tr>\n",
       "      <td>8</td>\n",
       "      <td>1001</td>\n",
       "      <td>2018-11-01</td>\n",
       "      <td>430.0</td>\n",
       "      <td>59.0</td>\n",
       "      <td>NaN</td>\n",
       "      <td>47.0</td>\n",
       "      <td>18429.34</td>\n",
       "      <td>17.997402</td>\n",
       "      <td>18.0</td>\n",
       "      <td>41</td>\n",
       "      <td>2019-01-01</td>\n",
       "      <td>Москва</td>\n",
       "      <td>Иван</td>\n",
       "      <td>Ежов</td>\n",
       "      <td>2018-11-01</td>\n",
       "      <td>smart</td>\n",
       "      <td>NaN</td>\n",
       "    </tr>\n",
       "    <tr>\n",
       "      <td>9</td>\n",
       "      <td>1001</td>\n",
       "      <td>2018-12-01</td>\n",
       "      <td>414.0</td>\n",
       "      <td>63.0</td>\n",
       "      <td>NaN</td>\n",
       "      <td>35.0</td>\n",
       "      <td>14036.66</td>\n",
       "      <td>13.707676</td>\n",
       "      <td>14.0</td>\n",
       "      <td>41</td>\n",
       "      <td>2019-01-01</td>\n",
       "      <td>Москва</td>\n",
       "      <td>Иван</td>\n",
       "      <td>Ежов</td>\n",
       "      <td>2018-11-01</td>\n",
       "      <td>smart</td>\n",
       "      <td>NaN</td>\n",
       "    </tr>\n",
       "    <tr>\n",
       "      <td>42</td>\n",
       "      <td>1006</td>\n",
       "      <td>2018-02-01</td>\n",
       "      <td>42.0</td>\n",
       "      <td>3.0</td>\n",
       "      <td>NaN</td>\n",
       "      <td>4.0</td>\n",
       "      <td>1392.15</td>\n",
       "      <td>1.359521</td>\n",
       "      <td>2.0</td>\n",
       "      <td>21</td>\n",
       "      <td>2019-01-01</td>\n",
       "      <td>Ульяновск</td>\n",
       "      <td>Леонид</td>\n",
       "      <td>Ермолаев</td>\n",
       "      <td>2018-02-26</td>\n",
       "      <td>smart</td>\n",
       "      <td>NaN</td>\n",
       "    </tr>\n",
       "    <tr>\n",
       "      <td>43</td>\n",
       "      <td>1006</td>\n",
       "      <td>2018-03-01</td>\n",
       "      <td>286.0</td>\n",
       "      <td>46.0</td>\n",
       "      <td>NaN</td>\n",
       "      <td>43.0</td>\n",
       "      <td>17287.93</td>\n",
       "      <td>16.882744</td>\n",
       "      <td>17.0</td>\n",
       "      <td>21</td>\n",
       "      <td>2019-01-01</td>\n",
       "      <td>Ульяновск</td>\n",
       "      <td>Леонид</td>\n",
       "      <td>Ермолаев</td>\n",
       "      <td>2018-02-26</td>\n",
       "      <td>smart</td>\n",
       "      <td>NaN</td>\n",
       "    </tr>\n",
       "    <tr>\n",
       "      <td>44</td>\n",
       "      <td>1006</td>\n",
       "      <td>2018-04-01</td>\n",
       "      <td>356.0</td>\n",
       "      <td>47.0</td>\n",
       "      <td>NaN</td>\n",
       "      <td>33.0</td>\n",
       "      <td>13936.70</td>\n",
       "      <td>13.610059</td>\n",
       "      <td>14.0</td>\n",
       "      <td>21</td>\n",
       "      <td>2019-01-01</td>\n",
       "      <td>Ульяновск</td>\n",
       "      <td>Леонид</td>\n",
       "      <td>Ермолаев</td>\n",
       "      <td>2018-02-26</td>\n",
       "      <td>smart</td>\n",
       "      <td>NaN</td>\n",
       "    </tr>\n",
       "  </tbody>\n",
       "</table>\n",
       "</div>"
      ],
      "text/plain": [
       "    user_id      month  duration  calls_count  messages_count  count  \\\n",
       "8      1001 2018-11-01     430.0         59.0             NaN   47.0   \n",
       "9      1001 2018-12-01     414.0         63.0             NaN   35.0   \n",
       "42     1006 2018-02-01      42.0          3.0             NaN    4.0   \n",
       "43     1006 2018-03-01     286.0         46.0             NaN   43.0   \n",
       "44     1006 2018-04-01     356.0         47.0             NaN   33.0   \n",
       "\n",
       "         sum         gb  gb_used  age churn_date       city first_name  \\\n",
       "8   18429.34  17.997402     18.0   41 2019-01-01     Москва       Иван   \n",
       "9   14036.66  13.707676     14.0   41 2019-01-01     Москва       Иван   \n",
       "42   1392.15   1.359521      2.0   21 2019-01-01  Ульяновск     Леонид   \n",
       "43  17287.93  16.882744     17.0   21 2019-01-01  Ульяновск     Леонид   \n",
       "44  13936.70  13.610059     14.0   21 2019-01-01  Ульяновск     Леонид   \n",
       "\n",
       "   last_name   reg_date tariff  take  \n",
       "8       Ежов 2018-11-01  smart   NaN  \n",
       "9       Ежов 2018-11-01  smart   NaN  \n",
       "42  Ермолаев 2018-02-26  smart   NaN  \n",
       "43  Ермолаев 2018-02-26  smart   NaN  \n",
       "44  Ермолаев 2018-02-26  smart   NaN  "
      ]
     },
     "metadata": {},
     "output_type": "display_data"
    },
    {
     "data": {
      "text/html": [
       "<div>\n",
       "<style scoped>\n",
       "    .dataframe tbody tr th:only-of-type {\n",
       "        vertical-align: middle;\n",
       "    }\n",
       "\n",
       "    .dataframe tbody tr th {\n",
       "        vertical-align: top;\n",
       "    }\n",
       "\n",
       "    .dataframe thead th {\n",
       "        text-align: right;\n",
       "    }\n",
       "</style>\n",
       "<table border=\"1\" class=\"dataframe\">\n",
       "  <thead>\n",
       "    <tr style=\"text-align: right;\">\n",
       "      <th></th>\n",
       "      <th>count</th>\n",
       "      <th>unique</th>\n",
       "      <th>top</th>\n",
       "      <th>freq</th>\n",
       "      <th>first</th>\n",
       "      <th>last</th>\n",
       "    </tr>\n",
       "  </thead>\n",
       "  <tbody>\n",
       "    <tr>\n",
       "      <td>churn_date</td>\n",
       "      <td>549</td>\n",
       "      <td>10</td>\n",
       "      <td>2019-01-01</td>\n",
       "      <td>501</td>\n",
       "      <td>2018-08-17</td>\n",
       "      <td>2019-01-01</td>\n",
       "    </tr>\n",
       "    <tr>\n",
       "      <td>reg_date</td>\n",
       "      <td>549</td>\n",
       "      <td>88</td>\n",
       "      <td>2018-01-04</td>\n",
       "      <td>20</td>\n",
       "      <td>2018-01-04</td>\n",
       "      <td>2018-12-23</td>\n",
       "    </tr>\n",
       "  </tbody>\n",
       "</table>\n",
       "</div>"
      ],
      "text/plain": [
       "           count unique        top freq      first       last\n",
       "churn_date   549     10 2019-01-01  501 2018-08-17 2019-01-01\n",
       "reg_date     549     88 2018-01-04   20 2018-01-04 2018-12-23"
      ]
     },
     "metadata": {},
     "output_type": "display_data"
    }
   ],
   "source": [
    "# посмотрим на первые 5 значений выборки с пропусками\n",
    "display(merged_data[merged_data['take'].isnull()].head())\n",
    "\n",
    "# оценим значения столбцов с датой подключения и датой отключения для этой выборки\n",
    "display(merged_data[merged_data['take'].isnull()].loc[:,['churn_date', 'reg_date']].describe().T)"
   ]
  },
  {
   "cell_type": "code",
   "execution_count": 26,
   "metadata": {},
   "outputs": [],
   "source": [
    "# перед расчетом выручки заполним пропуски в столбцах значениями, равными нулю. Это пригодится для рассчета выручки  в размере абонентской платы\n",
    "merged_data['duration'] = merged_data['duration'].fillna(value='0')\n",
    "merged_data['messages_count'] = merged_data['messages_count'].fillna(value='0')\n",
    "merged_data['gb_used'] = merged_data['gb_used'].fillna(value='0')\n",
    "merged_data['calls_count'] = merged_data['calls_count'].fillna(value='0')\n",
    "merged_data['count'] = merged_data['count'].fillna(value='0')\n",
    "merged_data['sum'] = merged_data['sum'].fillna(value='0')\n",
    "merged_data['gb'] = merged_data['gb'].fillna(value='0')"
   ]
  },
  {
   "cell_type": "code",
   "execution_count": 27,
   "metadata": {},
   "outputs": [
    {
     "data": {
      "text/plain": [
       "user_id                   uint64\n",
       "month             datetime64[ns]\n",
       "duration                  object\n",
       "calls_count               object\n",
       "messages_count            object\n",
       "count                     object\n",
       "sum                       object\n",
       "gb                        object\n",
       "gb_used                   object\n",
       "age                        uint8\n",
       "churn_date        datetime64[ns]\n",
       "city                      object\n",
       "first_name                object\n",
       "last_name                 object\n",
       "reg_date          datetime64[ns]\n",
       "tariff                    object\n",
       "take                     float64\n",
       "dtype: object"
      ]
     },
     "execution_count": 27,
     "metadata": {},
     "output_type": "execute_result"
    }
   ],
   "source": [
    "# проверим типы данных столбцов\n",
    "merged_data.dtypes"
   ]
  },
  {
   "cell_type": "code",
   "execution_count": 28,
   "metadata": {},
   "outputs": [],
   "source": [
    "# поменяем типы данных на корректный, без этого расчет выручки не осуществится\n",
    "merged_data[\"duration\"] = merged_data['duration'].astype('float32')\n",
    "merged_data[\"calls_count\"] = merged_data['calls_count'].astype('float64')\n",
    "merged_data[\"messages_count\"] = merged_data['messages_count'].astype('uint16')\n",
    "merged_data[\"count\"] = merged_data['count'].astype('uint16') \n",
    "merged_data[\"sum\"] = merged_data['sum'].astype('uint16')\n",
    "merged_data[\"gb\"] = merged_data['gb'].astype('float64')\n",
    "merged_data[\"gb_used\"] = merged_data['gb_used'].astype('float64')"
   ]
  },
  {
   "cell_type": "code",
   "execution_count": 29,
   "metadata": {},
   "outputs": [
    {
     "name": "stdout",
     "output_type": "stream",
     "text": [
      "<class 'pandas.core.frame.DataFrame'>\n",
      "Int64Index: 3214 entries, 0 to 3213\n",
      "Data columns (total 17 columns):\n",
      "user_id           3214 non-null uint64\n",
      "month             3214 non-null datetime64[ns]\n",
      "duration          3214 non-null float32\n",
      "calls_count       3214 non-null float64\n",
      "messages_count    3214 non-null uint16\n",
      "count             3214 non-null uint16\n",
      "sum               3214 non-null uint16\n",
      "gb                3214 non-null float64\n",
      "gb_used           3214 non-null float64\n",
      "age               3214 non-null uint8\n",
      "churn_date        3214 non-null datetime64[ns]\n",
      "city              3214 non-null object\n",
      "first_name        3214 non-null object\n",
      "last_name         3214 non-null object\n",
      "reg_date          3214 non-null datetime64[ns]\n",
      "tariff            3214 non-null object\n",
      "take              3214 non-null float64\n",
      "dtypes: datetime64[ns](3), float32(1), float64(4), object(4), uint16(3), uint64(1), uint8(1)\n",
      "memory usage: 1.3 MB\n"
     ]
    },
    {
     "data": {
      "text/plain": [
       "None"
      ]
     },
     "metadata": {},
     "output_type": "display_data"
    },
    {
     "data": {
      "text/html": [
       "<div>\n",
       "<style scoped>\n",
       "    .dataframe tbody tr th:only-of-type {\n",
       "        vertical-align: middle;\n",
       "    }\n",
       "\n",
       "    .dataframe tbody tr th {\n",
       "        vertical-align: top;\n",
       "    }\n",
       "\n",
       "    .dataframe thead th {\n",
       "        text-align: right;\n",
       "    }\n",
       "</style>\n",
       "<table border=\"1\" class=\"dataframe\">\n",
       "  <thead>\n",
       "    <tr style=\"text-align: right;\">\n",
       "      <th></th>\n",
       "      <th>user_id</th>\n",
       "      <th>month</th>\n",
       "      <th>duration</th>\n",
       "      <th>calls_count</th>\n",
       "      <th>messages_count</th>\n",
       "      <th>count</th>\n",
       "      <th>sum</th>\n",
       "      <th>gb</th>\n",
       "      <th>gb_used</th>\n",
       "      <th>age</th>\n",
       "      <th>churn_date</th>\n",
       "      <th>city</th>\n",
       "      <th>first_name</th>\n",
       "      <th>last_name</th>\n",
       "      <th>reg_date</th>\n",
       "      <th>tariff</th>\n",
       "      <th>take</th>\n",
       "    </tr>\n",
       "  </thead>\n",
       "  <tbody>\n",
       "    <tr>\n",
       "      <td>0</td>\n",
       "      <td>1000</td>\n",
       "      <td>2018-05-01</td>\n",
       "      <td>159.0</td>\n",
       "      <td>22.0</td>\n",
       "      <td>22</td>\n",
       "      <td>4</td>\n",
       "      <td>2253</td>\n",
       "      <td>2.200674</td>\n",
       "      <td>3.0</td>\n",
       "      <td>52</td>\n",
       "      <td>2019-01-01</td>\n",
       "      <td>Краснодар</td>\n",
       "      <td>Рафаил</td>\n",
       "      <td>Верещагин</td>\n",
       "      <td>2018-05-25</td>\n",
       "      <td>ultra</td>\n",
       "      <td>1950.0</td>\n",
       "    </tr>\n",
       "    <tr>\n",
       "      <td>1</td>\n",
       "      <td>1000</td>\n",
       "      <td>2018-06-01</td>\n",
       "      <td>172.0</td>\n",
       "      <td>43.0</td>\n",
       "      <td>60</td>\n",
       "      <td>44</td>\n",
       "      <td>23233</td>\n",
       "      <td>22.689229</td>\n",
       "      <td>23.0</td>\n",
       "      <td>52</td>\n",
       "      <td>2019-01-01</td>\n",
       "      <td>Краснодар</td>\n",
       "      <td>Рафаил</td>\n",
       "      <td>Верещагин</td>\n",
       "      <td>2018-05-25</td>\n",
       "      <td>ultra</td>\n",
       "      <td>1950.0</td>\n",
       "    </tr>\n",
       "    <tr>\n",
       "      <td>2</td>\n",
       "      <td>1000</td>\n",
       "      <td>2018-07-01</td>\n",
       "      <td>340.0</td>\n",
       "      <td>47.0</td>\n",
       "      <td>75</td>\n",
       "      <td>28</td>\n",
       "      <td>14003</td>\n",
       "      <td>13.675430</td>\n",
       "      <td>14.0</td>\n",
       "      <td>52</td>\n",
       "      <td>2019-01-01</td>\n",
       "      <td>Краснодар</td>\n",
       "      <td>Рафаил</td>\n",
       "      <td>Верещагин</td>\n",
       "      <td>2018-05-25</td>\n",
       "      <td>ultra</td>\n",
       "      <td>1950.0</td>\n",
       "    </tr>\n",
       "    <tr>\n",
       "      <td>3</td>\n",
       "      <td>1000</td>\n",
       "      <td>2018-08-01</td>\n",
       "      <td>408.0</td>\n",
       "      <td>52.0</td>\n",
       "      <td>81</td>\n",
       "      <td>27</td>\n",
       "      <td>14055</td>\n",
       "      <td>13.726494</td>\n",
       "      <td>14.0</td>\n",
       "      <td>52</td>\n",
       "      <td>2019-01-01</td>\n",
       "      <td>Краснодар</td>\n",
       "      <td>Рафаил</td>\n",
       "      <td>Верещагин</td>\n",
       "      <td>2018-05-25</td>\n",
       "      <td>ultra</td>\n",
       "      <td>1950.0</td>\n",
       "    </tr>\n",
       "    <tr>\n",
       "      <td>4</td>\n",
       "      <td>1000</td>\n",
       "      <td>2018-09-01</td>\n",
       "      <td>466.0</td>\n",
       "      <td>58.0</td>\n",
       "      <td>57</td>\n",
       "      <td>25</td>\n",
       "      <td>14568</td>\n",
       "      <td>14.227451</td>\n",
       "      <td>15.0</td>\n",
       "      <td>52</td>\n",
       "      <td>2019-01-01</td>\n",
       "      <td>Краснодар</td>\n",
       "      <td>Рафаил</td>\n",
       "      <td>Верещагин</td>\n",
       "      <td>2018-05-25</td>\n",
       "      <td>ultra</td>\n",
       "      <td>1950.0</td>\n",
       "    </tr>\n",
       "  </tbody>\n",
       "</table>\n",
       "</div>"
      ],
      "text/plain": [
       "   user_id      month  duration  calls_count  messages_count  count    sum  \\\n",
       "0     1000 2018-05-01     159.0         22.0              22      4   2253   \n",
       "1     1000 2018-06-01     172.0         43.0              60     44  23233   \n",
       "2     1000 2018-07-01     340.0         47.0              75     28  14003   \n",
       "3     1000 2018-08-01     408.0         52.0              81     27  14055   \n",
       "4     1000 2018-09-01     466.0         58.0              57     25  14568   \n",
       "\n",
       "          gb  gb_used  age churn_date       city first_name  last_name  \\\n",
       "0   2.200674      3.0   52 2019-01-01  Краснодар     Рафаил  Верещагин   \n",
       "1  22.689229     23.0   52 2019-01-01  Краснодар     Рафаил  Верещагин   \n",
       "2  13.675430     14.0   52 2019-01-01  Краснодар     Рафаил  Верещагин   \n",
       "3  13.726494     14.0   52 2019-01-01  Краснодар     Рафаил  Верещагин   \n",
       "4  14.227451     15.0   52 2019-01-01  Краснодар     Рафаил  Верещагин   \n",
       "\n",
       "    reg_date tariff    take  \n",
       "0 2018-05-25  ultra  1950.0  \n",
       "1 2018-05-25  ultra  1950.0  \n",
       "2 2018-05-25  ultra  1950.0  \n",
       "3 2018-05-25  ultra  1950.0  \n",
       "4 2018-05-25  ultra  1950.0  "
      ]
     },
     "metadata": {},
     "output_type": "display_data"
    },
    {
     "data": {
      "text/html": [
       "<div>\n",
       "<style scoped>\n",
       "    .dataframe tbody tr th:only-of-type {\n",
       "        vertical-align: middle;\n",
       "    }\n",
       "\n",
       "    .dataframe tbody tr th {\n",
       "        vertical-align: top;\n",
       "    }\n",
       "\n",
       "    .dataframe thead th {\n",
       "        text-align: right;\n",
       "    }\n",
       "</style>\n",
       "<table border=\"1\" class=\"dataframe\">\n",
       "  <thead>\n",
       "    <tr style=\"text-align: right;\">\n",
       "      <th></th>\n",
       "      <th>count</th>\n",
       "      <th>mean</th>\n",
       "      <th>std</th>\n",
       "      <th>min</th>\n",
       "      <th>25%</th>\n",
       "      <th>50%</th>\n",
       "      <th>75%</th>\n",
       "      <th>max</th>\n",
       "    </tr>\n",
       "  </thead>\n",
       "  <tbody>\n",
       "    <tr>\n",
       "      <td>user_id</td>\n",
       "      <td>3214.0</td>\n",
       "      <td>1251.590230</td>\n",
       "      <td>144.659172</td>\n",
       "      <td>1000.0</td>\n",
       "      <td>1125.000000</td>\n",
       "      <td>1253.000000</td>\n",
       "      <td>1378.750000</td>\n",
       "      <td>1499.000000</td>\n",
       "    </tr>\n",
       "    <tr>\n",
       "      <td>duration</td>\n",
       "      <td>3214.0</td>\n",
       "      <td>451.244873</td>\n",
       "      <td>241.909973</td>\n",
       "      <td>0.0</td>\n",
       "      <td>282.000000</td>\n",
       "      <td>443.000000</td>\n",
       "      <td>589.000000</td>\n",
       "      <td>1673.000000</td>\n",
       "    </tr>\n",
       "    <tr>\n",
       "      <td>calls_count</td>\n",
       "      <td>3214.0</td>\n",
       "      <td>63.038892</td>\n",
       "      <td>33.236368</td>\n",
       "      <td>0.0</td>\n",
       "      <td>40.000000</td>\n",
       "      <td>62.000000</td>\n",
       "      <td>82.000000</td>\n",
       "      <td>244.000000</td>\n",
       "    </tr>\n",
       "    <tr>\n",
       "      <td>messages_count</td>\n",
       "      <td>3214.0</td>\n",
       "      <td>38.281269</td>\n",
       "      <td>36.148326</td>\n",
       "      <td>0.0</td>\n",
       "      <td>9.000000</td>\n",
       "      <td>30.000000</td>\n",
       "      <td>57.000000</td>\n",
       "      <td>224.000000</td>\n",
       "    </tr>\n",
       "    <tr>\n",
       "      <td>count</td>\n",
       "      <td>3214.0</td>\n",
       "      <td>40.385190</td>\n",
       "      <td>16.317606</td>\n",
       "      <td>0.0</td>\n",
       "      <td>30.000000</td>\n",
       "      <td>41.000000</td>\n",
       "      <td>51.000000</td>\n",
       "      <td>101.000000</td>\n",
       "    </tr>\n",
       "    <tr>\n",
       "      <td>sum</td>\n",
       "      <td>3214.0</td>\n",
       "      <td>17207.112943</td>\n",
       "      <td>7570.964206</td>\n",
       "      <td>0.0</td>\n",
       "      <td>12491.250000</td>\n",
       "      <td>16942.500000</td>\n",
       "      <td>21424.000000</td>\n",
       "      <td>49745.000000</td>\n",
       "    </tr>\n",
       "    <tr>\n",
       "      <td>gb</td>\n",
       "      <td>3214.0</td>\n",
       "      <td>16.804309</td>\n",
       "      <td>7.393514</td>\n",
       "      <td>0.0</td>\n",
       "      <td>12.199111</td>\n",
       "      <td>16.546069</td>\n",
       "      <td>20.922485</td>\n",
       "      <td>48.579775</td>\n",
       "    </tr>\n",
       "    <tr>\n",
       "      <td>gb_used</td>\n",
       "      <td>3214.0</td>\n",
       "      <td>17.299004</td>\n",
       "      <td>7.400584</td>\n",
       "      <td>0.0</td>\n",
       "      <td>13.000000</td>\n",
       "      <td>17.000000</td>\n",
       "      <td>21.000000</td>\n",
       "      <td>49.000000</td>\n",
       "    </tr>\n",
       "    <tr>\n",
       "      <td>age</td>\n",
       "      <td>3214.0</td>\n",
       "      <td>46.641568</td>\n",
       "      <td>16.586109</td>\n",
       "      <td>18.0</td>\n",
       "      <td>32.000000</td>\n",
       "      <td>46.000000</td>\n",
       "      <td>62.000000</td>\n",
       "      <td>75.000000</td>\n",
       "    </tr>\n",
       "    <tr>\n",
       "      <td>take</td>\n",
       "      <td>3214.0</td>\n",
       "      <td>1517.009023</td>\n",
       "      <td>798.489284</td>\n",
       "      <td>550.0</td>\n",
       "      <td>750.000000</td>\n",
       "      <td>1619.500000</td>\n",
       "      <td>1950.000000</td>\n",
       "      <td>6671.000000</td>\n",
       "    </tr>\n",
       "  </tbody>\n",
       "</table>\n",
       "</div>"
      ],
      "text/plain": [
       "                 count          mean          std     min           25%  \\\n",
       "user_id         3214.0   1251.590230   144.659172  1000.0   1125.000000   \n",
       "duration        3214.0    451.244873   241.909973     0.0    282.000000   \n",
       "calls_count     3214.0     63.038892    33.236368     0.0     40.000000   \n",
       "messages_count  3214.0     38.281269    36.148326     0.0      9.000000   \n",
       "count           3214.0     40.385190    16.317606     0.0     30.000000   \n",
       "sum             3214.0  17207.112943  7570.964206     0.0  12491.250000   \n",
       "gb              3214.0     16.804309     7.393514     0.0     12.199111   \n",
       "gb_used         3214.0     17.299004     7.400584     0.0     13.000000   \n",
       "age             3214.0     46.641568    16.586109    18.0     32.000000   \n",
       "take            3214.0   1517.009023   798.489284   550.0    750.000000   \n",
       "\n",
       "                         50%           75%           max  \n",
       "user_id          1253.000000   1378.750000   1499.000000  \n",
       "duration          443.000000    589.000000   1673.000000  \n",
       "calls_count        62.000000     82.000000    244.000000  \n",
       "messages_count     30.000000     57.000000    224.000000  \n",
       "count              41.000000     51.000000    101.000000  \n",
       "sum             16942.500000  21424.000000  49745.000000  \n",
       "gb                 16.546069     20.922485     48.579775  \n",
       "gb_used            17.000000     21.000000     49.000000  \n",
       "age                46.000000     62.000000     75.000000  \n",
       "take             1619.500000   1950.000000   6671.000000  "
      ]
     },
     "metadata": {},
     "output_type": "display_data"
    }
   ],
   "source": [
    "# пересчитаем помесячную выручку\n",
    "def calc_monthly_take(row):\n",
    "    tname = list(users_data[users_data['user_id'] == row['user_id']]['tariff'])[0]\n",
    "    trf = tariffs_data[tariffs_data['tariff_name'] == tname]\n",
    "    dur = row['duration']\n",
    "    gbs = row['gb_used']\n",
    "    msg = row['messages_count']\n",
    "    fee = int(trf['rub_monthly_fee'])\n",
    "    mlim = int(trf['minutes_included'])\n",
    "    gblim = int(trf['mb_per_month_included']/1024)\n",
    "    msglim = int(trf['messages_included'])\n",
    "    moverdraft = int(dur >= mlim)\n",
    "    gboverdraft = int(gbs >= gblim)\n",
    "    msgoverdraft = int(msg >= msglim)\n",
    "    take = fee + int(trf['rub_per_minute'])*(dur - mlim)*moverdraft + int(trf['rub_per_gb'])*(gbs-gblim)*gboverdraft + int()*(msg-msglim)*msgoverdraft\n",
    "    return take\n",
    "\n",
    "merged_data['take'] = merged_data.apply(calc_monthly_take, axis=1)\n",
    "\n",
    "# посмотрим на новый датасет\n",
    "display(merged_data.info(memory_usage='deep'))\n",
    "display(merged_data.head())\n",
    "display(merged_data.describe().T)"
   ]
  },
  {
   "cell_type": "markdown",
   "metadata": {},
   "source": [
    "#### Вывод"
   ]
  },
  {
   "cell_type": "markdown",
   "metadata": {},
   "source": [
    "Были рассчитаны новые помесячные показатели для каждого абонента:\n",
    "\n",
    "- Количество сделанных звонков и израсходованных минут разговора\n",
    "- Количество отправленный сообщений\n",
    "- Объём израсходованного интернет-трафика\n",
    "- Выручка с каждого пользователя\n",
    "- Старые и новые показатели были сгруппированы и объединены в общий датасет для удобства\n",
    "- Данные в общем датасете были приведены к необходимым типам"
   ]
  },
  {
   "cell_type": "markdown",
   "metadata": {},
   "source": [
    "### Вывод по разделу \"Подготовка данных\""
   ]
  },
  {
   "cell_type": "markdown",
   "metadata": {},
   "source": [
    "В данном разделе выполнили множество операций, необходимых для подготовки данных, среди которых:\n",
    "\n",
    "- Привели данные к нужным типам\n",
    "- Нашли и устранили ошибки в данных (пропуски, лишние столбцы)\n",
    "- Рассчитали новые параметры, которые требуются для дальнейшего анализа"
   ]
  },
  {
   "cell_type": "markdown",
   "metadata": {},
   "source": [
    "## Анализ данных"
   ]
  },
  {
   "cell_type": "markdown",
   "metadata": {},
   "source": [
    "В данном разделе предстоит описать поведение клиентов, исходя из выборки. Для этого необходимо для каждого тарифного плана ответить на определенные вопросы и выполнить следующие действия:\n",
    "\n",
    "- Сколько минут разговора требуется пользователям ежемесячно?\n",
    "- Сколько сообщений требуется пользователям ежемесячно?\n",
    "- Какой объём интернет-трафика требуется пользователям ежемесячно?\n",
    "- Какую выручку приносят пользователи каждого из тарифов?\n",
    "- посчитать среднее, дисперсию и стандартное отклонение для каждого показателя\n",
    "- построить гистограммы и описать распределения"
   ]
  },
  {
   "cell_type": "markdown",
   "metadata": {},
   "source": [
    "Ответим на первые четыре вопроса "
   ]
  },
  {
   "cell_type": "code",
   "execution_count": 34,
   "metadata": {
    "scrolled": false
   },
   "outputs": [
    {
     "name": "stdout",
     "output_type": "stream",
     "text": [
      "Оценим ежемесячные потребности пользователей тарифа ultra\n"
     ]
    },
    {
     "data": {
      "image/png": "[encoded data removed]",
      "text/plain": [
       "<Figure size 432x288 with 1 Axes>"
      ]
     },
     "metadata": {
      "needs_background": "light"
     },
     "output_type": "display_data"
    },
    {
     "name": "stdout",
     "output_type": "stream",
     "text": [
      "Потребности большинства пользователей тарифа ultra не превышают 1454 мин в месяц \n",
      "\n"
     ]
    },
    {
     "data": {
      "image/png": "[encoded data removed]",
      "text/plain": [
       "<Figure size 432x288 with 1 Axes>"
      ]
     },
     "metadata": {
      "needs_background": "light"
     },
     "output_type": "display_data"
    },
    {
     "name": "stdout",
     "output_type": "stream",
     "text": [
      "Потребности большинства пользователей тарифа ultra не превышают 50 Гб в месяц \n",
      "\n"
     ]
    },
    {
     "data": {
      "image/png": "[encoded data removed]",
      "text/plain": [
       "<Figure size 432x288 with 1 Axes>"
      ]
     },
     "metadata": {
      "needs_background": "light"
     },
     "output_type": "display_data"
    },
    {
     "name": "stdout",
     "output_type": "stream",
     "text": [
      "Потребности большинства пользователей тарифа ultra не превышают 188 смс в месяц \n",
      "\n",
      "Оценим ежемесячные потребности пользователей тарифа smart\n"
     ]
    },
    {
     "data": {
      "image/png": "[encoded data removed]",
      "text/plain": [
       "<Figure size 432x288 with 1 Axes>"
      ]
     },
     "metadata": {
      "needs_background": "light"
     },
     "output_type": "display_data"
    },
    {
     "name": "stdout",
     "output_type": "stream",
     "text": [
      "Потребности большинства пользователей тарифа smart не превышают 940 мин в месяц \n",
      "\n"
     ]
    },
    {
     "data": {
      "image/png": "[encoded data removed]",
      "text/plain": [
       "<Figure size 432x288 with 1 Axes>"
      ]
     },
     "metadata": {
      "needs_background": "light"
     },
     "output_type": "display_data"
    },
    {
     "name": "stdout",
     "output_type": "stream",
     "text": [
      "Потребности большинства пользователей тарифа smart не превышают 30 Гб в месяц \n",
      "\n"
     ]
    },
    {
     "data": {
      "image/png": "[encoded data removed]",
      "text/plain": [
       "<Figure size 432x288 with 1 Axes>"
      ]
     },
     "metadata": {
      "needs_background": "light"
     },
     "output_type": "display_data"
    },
    {
     "name": "stdout",
     "output_type": "stream",
     "text": [
      "Потребности большинства пользователей тарифа smart не превышают 112 смс в месяц \n",
      "\n"
     ]
    }
   ],
   "source": [
    "# создадим словарь с наименованиями и единицами измерений для всех параметров\n",
    "labels={\n",
    "    'duration':['Средний ежемесячный расход звонков', 'мин'],\n",
    "    'gb_used':['Средний ежемесячный расход трафика','Гб'],\n",
    "    'messages_count':['Средний ежемесячный расход сообщений','смс'],\n",
    "    'take':['Средняя выручка','₽']}\n",
    "\n",
    "# оцениваем ежемесячные потребности в услугах пользователей тарифов\n",
    "for i in list(merged_data['tariff'].unique()):\n",
    "    print(f'Оценим ежемесячные потребности пользователей тарифа {i}')\n",
    "    for j in ['duration', 'gb_used', 'messages_count']:\n",
    "        unit_name=labels[j][1]\n",
    "        ax=merged_data[merged_data['tariff'] == i].boxplot(column=j)\n",
    "        ax.set_title(labels[j][0])\n",
    "        ax.set_ylabel(unit_name)\n",
    "        plt.show()\n",
    "        q1=merged_data[merged_data['tariff'] == i][j].describe()[4]\n",
    "        q3=merged_data[merged_data['tariff'] == i][j].describe()[6]\n",
    "        r_margin=round(q3 + 1.5*(q3-q1))\n",
    "        print(f'Потребности большинства пользователей тарифа {i} не превышают {r_margin} {unit_name} в месяц','\\n')"
   ]
  },
  {
   "cell_type": "markdown",
   "metadata": {},
   "source": [
    "**Посчитаем показатели распределения, построим гистограммы и опишем распределение**"
   ]
  },
  {
   "cell_type": "code",
   "execution_count": 35,
   "metadata": {
    "scrolled": false
   },
   "outputs": [
    {
     "name": "stdout",
     "output_type": "stream",
     "text": [
      "Изучим показатели по тарифу ultra\n"
     ]
    },
    {
     "data": {
      "image/png": "[encoded data removed]",
      "text/plain": [
       "<Figure size 432x288 with 1 Axes>"
      ]
     },
     "metadata": {
      "needs_background": "light"
     },
     "output_type": "display_data"
    },
    {
     "name": "stdout",
     "output_type": "stream",
     "text": [
      "Средний ежемесячный расход звонков имеет среднее значение 526.62 мин\n",
      "Средний ежемесячный расход звонков имеет дисперсию 100771.23 мин\n",
      "Средний ежемесячный расход звонков имеет стандартное отклонение 317.44 мин\n"
     ]
    },
    {
     "data": {
      "image/png": "[encoded data removed]",
      "text/plain": [
       "<Figure size 432x288 with 1 Axes>"
      ]
     },
     "metadata": {
      "needs_background": "light"
     },
     "output_type": "display_data"
    },
    {
     "name": "stdout",
     "output_type": "stream",
     "text": [
      "Средний ежемесячный расход трафика имеет среднее значение 19.49 Гб\n",
      "Средний ежемесячный расход трафика имеет дисперсию 96.99 Гб\n",
      "Средний ежемесячный расход трафика имеет стандартное отклонение 9.85 Гб\n"
     ]
    },
    {
     "data": {
      "image/png": "[encoded data removed]",
      "text/plain": [
       "<Figure size 432x288 with 1 Axes>"
      ]
     },
     "metadata": {
      "needs_background": "light"
     },
     "output_type": "display_data"
    },
    {
     "name": "stdout",
     "output_type": "stream",
     "text": [
      "Средний ежемесячный расход сообщений имеет среднее значение 49.36 смс\n",
      "Средний ежемесячный расход сообщений имеет дисперсию 2282.95 смс\n",
      "Средний ежемесячный расход сообщений имеет стандартное отклонение 47.78 смс\n"
     ]
    },
    {
     "data": {
      "image/png": "[encoded data removed]",
      "text/plain": [
       "<Figure size 432x288 with 1 Axes>"
      ]
     },
     "metadata": {
      "needs_background": "light"
     },
     "output_type": "display_data"
    },
    {
     "name": "stdout",
     "output_type": "stream",
     "text": [
      "Средняя выручка имеет среднее значение 2070.15 ₽\n",
      "Средняя выручка имеет дисперсию 141373.07 ₽\n",
      "Средняя выручка имеет стандартное отклонение 376.0 ₽\n",
      "\n",
      "\n",
      "Изучим показатели по тарифу smart\n"
     ]
    },
    {
     "data": {
      "image/png": "[encoded data removed]",
      "text/plain": [
       "<Figure size 432x288 with 1 Axes>"
      ]
     },
     "metadata": {
      "needs_background": "light"
     },
     "output_type": "display_data"
    },
    {
     "name": "stdout",
     "output_type": "stream",
     "text": [
      "Средний ежемесячный расход звонков имеет среднее значение 417.93 мин\n",
      "Средний ежемесячный расход звонков имеет дисперсию 36203.07 мин\n",
      "Средний ежемесячный расход звонков имеет стандартное отклонение 190.27 мин\n"
     ]
    },
    {
     "data": {
      "image/png": "[encoded data removed]",
      "text/plain": [
       "<Figure size 432x288 with 1 Axes>"
      ]
     },
     "metadata": {
      "needs_background": "light"
     },
     "output_type": "display_data"
    },
    {
     "name": "stdout",
     "output_type": "stream",
     "text": [
      "Средний ежемесячный расход трафика имеет среднее значение 16.33 Гб\n",
      "Средний ежемесячный расход трафика имеет дисперсию 33.01 Гб\n",
      "Средний ежемесячный расход трафика имеет стандартное отклонение 5.75 Гб\n"
     ]
    },
    {
     "data": {
      "image/png": "[encoded data removed]",
      "text/plain": [
       "<Figure size 432x288 with 1 Axes>"
      ]
     },
     "metadata": {
      "needs_background": "light"
     },
     "output_type": "display_data"
    },
    {
     "name": "stdout",
     "output_type": "stream",
     "text": [
      "Средний ежемесячный расход сообщений имеет среднее значение 33.38 смс\n",
      "Средний ежемесячный расход сообщений имеет дисперсию 796.46 смс\n",
      "Средний ежемесячный расход сообщений имеет стандартное отклонение 28.22 смс\n"
     ]
    },
    {
     "data": {
      "image/png": "[encoded data removed]",
      "text/plain": [
       "<Figure size 432x288 with 1 Axes>"
      ]
     },
     "metadata": {
      "needs_background": "light"
     },
     "output_type": "display_data"
    },
    {
     "name": "stdout",
     "output_type": "stream",
     "text": [
      "Средняя выручка имеет среднее значение 1272.57 ₽\n",
      "Средняя выручка имеет дисперсию 661620.02 ₽\n",
      "Средняя выручка имеет стандартное отклонение 813.4 ₽\n",
      "\n",
      "\n"
     ]
    }
   ],
   "source": [
    "# выведем гистограммы и посчитаем основные показатели распределения\n",
    "for i in list(merged_data['tariff'].unique()):\n",
    "    print(f'Изучим показатели по тарифу {i}')\n",
    "    for j in ['duration', 'gb_used', 'messages_count', 'take']:\n",
    "        mean_value = round(np.mean(merged_data[merged_data['tariff'] == i][j]), 2)\n",
    "        variance = round(np.var(merged_data[merged_data['tariff'] == i][j]), 2)\n",
    "        std_dev = round(np.std(merged_data[merged_data['tariff'] == i][j]), 2)\n",
    "        ax=merged_data[merged_data['tariff'] == i][j].hist(bins=30)\n",
    "        ax.set_title(labels[j][0])\n",
    "        ax.set_xlabel(labels[j][1])\n",
    "        plt.show()\n",
    "        print(labels[j][0]+' имеет среднее значение', mean_value, labels[j][1])\n",
    "        print(labels[j][0]+' имеет дисперсию', variance, labels[j][1])\n",
    "        print(labels[j][0]+' имеет стандартное отклонение', std_dev, labels[j][1])\n",
    "    print('\\n')"
   ]
  },
  {
   "cell_type": "markdown",
   "metadata": {},
   "source": [
    "**Опишем распределения**\n",
    "\n",
    "*Для тарифа \"Ультра\"*:\n",
    "\n",
    "- Средний ежемесячный расход - распределение имеет положительную скошенность\n",
    "- Средний ежемесячный расход трафика - распределение нормальное\n",
    "- Средний ежемесячный расход сообщений - наиболее близким к полученной картине является экспоненциальное распределение\n",
    "- Средняя выручка - распределение не совпадает с каким-либо из известных. Основная часть данных имеет значение, равное абонентской плате (ранее мы установили, что большая часть пользователей тарифа не выходит за лимиты, входящие в стандартный пакет)\n",
    "\n",
    "\n",
    "*Для тарифа \"Смарт\"*:\n",
    "\n",
    "- Средний ежемесячный расход - похоже на распределение Пуассона\n",
    "- Средний ежемесячный расход трафика - нормальное распределение\n",
    "- Средний ежемесячный расход сообщений - наиболее близким к полученной картине является экспоненциальное распределение\n",
    "- Средняя выручка - похоже на экспоненциальное распределение с выдающимся пиком при значении, равно абонентской плате по тарифу"
   ]
  },
  {
   "cell_type": "markdown",
   "metadata": {},
   "source": [
    "### Вывод"
   ]
  },
  {
   "cell_type": "markdown",
   "metadata": {},
   "source": [
    "Исходя из полученных данных можно сделать следюущие заключения:\n",
    "\n",
    "- Более 25% пользователей тарифа smart имеют перерасход по количеству звонков и смс\n",
    "- Более 50% пользователей тарифа smart имеют перерасход по использованному трафику\n",
    "- Пользователи тарифа ultra из нашей выборки никогда не расходуют пакет минут, смс и гигабайт полностью.\n",
    "- Не более 25% пользователей тарифа ultra имеют перерасход по использованному трафику"
   ]
  },
  {
   "cell_type": "markdown",
   "metadata": {},
   "source": [
    "## Проверка гипотез"
   ]
  },
  {
   "cell_type": "markdown",
   "metadata": {},
   "source": [
    "### Гипотеза №1 - средняя выручка пользователей тарифов \"Ультра\" и \"Смарт\" различается"
   ]
  },
  {
   "cell_type": "markdown",
   "metadata": {},
   "source": [
    "Учитывая, что ранее выяснили, что распределение выручки не соответствует нормальному, мы не можем применить для проверки этой гипотезы критерий Стьюдента. Поэтому, основываясь на картине распределения выручки, мы будем проверять данную гипотезу прямым сравнением средних значений.\n",
    "\n",
    "Сформулируем гипотезы:\n",
    "\n",
    "H0: средние значения выручки пользователей тарифов \"Ультра\" и \"Смарт\" равны\n",
    "H1: средние значения выручки пользователей тарифов \"Ультра\" и \"Смарт\" различаются"
   ]
  },
  {
   "cell_type": "code",
   "execution_count": 36,
   "metadata": {},
   "outputs": [
    {
     "name": "stdout",
     "output_type": "stream",
     "text": [
      "Средняя выручка пользователей тарифа \"smart\" составляет 1272.5737999102737\n",
      "Средняя выручка пользователей тарифа \"ultra\" составляет 2070.1522842639592\n"
     ]
    }
   ],
   "source": [
    "# сформируем выборки\n",
    "sample_1 = merged_data[merged_data['tariff'] == 'smart']['take']\n",
    "sample_2 = merged_data[merged_data['tariff'] == 'ultra']['take']\n",
    "\n",
    "# считаем средние\n",
    "smart_take_mean = sample_1.mean()\n",
    "ultra_take_mean = sample_2.mean()\n",
    "\n",
    "# выводим значения на экран\n",
    "print(f'Средняя выручка пользователей тарифа \"smart\" составляет {smart_take_mean}')\n",
    "print(f'Средняя выручка пользователей тарифа \"ultra\" составляет {ultra_take_mean}')"
   ]
  },
  {
   "cell_type": "markdown",
   "metadata": {},
   "source": [
    "**Гипотеза №1 подтверждена - средняя выручка пользователей тарифов \"Ультра\" и \"Смарт\" различаются.**"
   ]
  },
  {
   "cell_type": "code",
   "execution_count": 37,
   "metadata": {},
   "outputs": [
    {
     "name": "stdout",
     "output_type": "stream",
     "text": [
      "p-значение: 3.798003235009034e-261\n",
      "Отвергаем нулевую гипотезу\n"
     ]
    }
   ],
   "source": [
    "# выборки не изменились, используем те же, что и ранее\n",
    "# значение уровня статистической значимости принимаем равным 0,05\n",
    "alpha = 0.05\n",
    "\n",
    "# как мы увидели ранее, дисперсии наших выборов сильно различаются, поэтому параметр equal_var будет иметь значение False\n",
    "# проведём тест\n",
    "results = st.ttest_ind(sample_1, sample_2, equal_var=False)\n",
    "\n",
    "# выведем результаты теста\n",
    "print('p-значение:', results.pvalue)\n",
    "\n",
    "# из условия задачи нам не важно, в какую сторону отличаются средние, поэтому оценка будет двусторонней\n",
    "if results.pvalue < alpha / 2:\n",
    "    print(\"Отвергаем нулевую гипотезу\")\n",
    "else:\n",
    "    print('Не получилось отвергнуть нулевую гипотезу')"
   ]
  },
  {
   "cell_type": "markdown",
   "metadata": {},
   "source": [
    "###  Гипотеза №2 - средняя выручка пользователей из Москвы отличается от выручки пользователей из других регионов"
   ]
  },
  {
   "cell_type": "markdown",
   "metadata": {},
   "source": [
    "Для проверки данной гипотезы сначала нужно изучить распределение параметров в выборке.\n",
    "\n",
    "Сформулируем гипотезы:\n",
    "\n",
    "H0: средние значения выручки пользователей из Москвы и из других регионов равны\n",
    "H1: средние значения выручки пользователей из Москвы и из других регионов различаются"
   ]
  },
  {
   "cell_type": "code",
   "execution_count": 38,
   "metadata": {},
   "outputs": [
    {
     "data": {
      "image/png": "[encoded data removed]",
      "text/plain": [
       "<Figure size 432x288 with 1 Axes>"
      ]
     },
     "metadata": {
      "needs_background": "light"
     },
     "output_type": "display_data"
    },
    {
     "data": {
      "image/png": "[encoded data removed]",
      "text/plain": [
       "<Figure size 432x288 with 1 Axes>"
      ]
     },
     "metadata": {
      "needs_background": "light"
     },
     "output_type": "display_data"
    }
   ],
   "source": [
    "# сформируем выборки\n",
    "sample_1 = merged_data[merged_data['city'] == 'Москва']['take']\n",
    "sample_2 = merged_data[merged_data['city'] != 'Москва']['take']\n",
    "\n",
    "# посмотрим на распределения\n",
    "sample_1.hist(bins=30)\n",
    "plt.show()\n",
    "sample_2.hist(bins=30)\n",
    "plt.show()"
   ]
  },
  {
   "cell_type": "markdown",
   "metadata": {},
   "source": [
    "Распределение не похоже на нормальное, поэтому критерий Стьюдента использовать нельзя, сравним средние значения выборок."
   ]
  },
  {
   "cell_type": "code",
   "execution_count": 39,
   "metadata": {},
   "outputs": [
    {
     "name": "stdout",
     "output_type": "stream",
     "text": [
      "Средняя выручка пользователей из Москвы составляет 1539.1767594108019\n",
      "Средняя выручка пользователей из регионов составляет 1511.8056089127929\n"
     ]
    }
   ],
   "source": [
    "# считаем средние\n",
    "moscow_take_mean = sample_1.mean()\n",
    "regions_take_mean = sample_2.mean()\n",
    "\n",
    "# выводим значения на экран\n",
    "print(f'Средняя выручка пользователей из Москвы составляет {moscow_take_mean}')\n",
    "print(f'Средняя выручка пользователей из регионов составляет {regions_take_mean}')"
   ]
  },
  {
   "cell_type": "markdown",
   "metadata": {},
   "source": [
    "**Гипотеза №2 подтверждена - разница в средней выручке пользователей из Москвы и из других регионов есть.**"
   ]
  },
  {
   "cell_type": "markdown",
   "metadata": {},
   "source": [
    "### Вывод"
   ]
  },
  {
   "cell_type": "markdown",
   "metadata": {},
   "source": [
    "В результате проверки гипотез подтвердили гипотезу №1 и выяснили, что средняя выручка пользователей представленных тарифов различается. Гипотезу №2 также подтвердили и выяснили, что средняя выручка пользователей из Москвы хоть и незначительно, но выше средней выручки по всем остальным регионам (почти на 68 рублей)."
   ]
  },
  {
   "cell_type": "code",
   "execution_count": 40,
   "metadata": {},
   "outputs": [
    {
     "name": "stdout",
     "output_type": "stream",
     "text": [
      "Выборки 1 и 2 имеют дисперсии 566064.73 и 653985.7, соответственно\n",
      "p-значение: 0.425625168367989\n",
      "Не получилось отвергнуть нулевую гипотезу\n"
     ]
    }
   ],
   "source": [
    "# выборки не изменились, используем те же, что и ранее\n",
    "# сначала сравним дисперсии выборок\n",
    "sample_1_var = round(np.var(sample_1), 2)\n",
    "sample_2_var = round(np.var(sample_2), 2)\n",
    "print(f'Выборки 1 и 2 имеют дисперсии {sample_1_var} и {sample_2_var}, соответственно')\n",
    "\n",
    "# значение уровня статистической значимости пинимаем равным 0,05\n",
    "alpha = 0.05\n",
    "\n",
    "# параметр equal_var будет иметь значение False\n",
    "# проведём тест\n",
    "results = st.ttest_ind(sample_1, sample_2, equal_var=False)\n",
    "\n",
    "# выведем результаты теста\n",
    "print('p-значение:', results.pvalue)\n",
    "\n",
    "# не забываем, что из условия задачи нам не важно, в какую сторону отличаются средние, поэтому оценка будет двусторонней\n",
    "if results.pvalue < alpha / 2:\n",
    "    print(\"Отвергаем нулевую гипотезу\")\n",
    "else:\n",
    "    print('Не получилось отвергнуть нулевую гипотезу')"
   ]
  },
  {
   "cell_type": "markdown",
   "metadata": {},
   "source": [
    "## Общий вывод"
   ]
  },
  {
   "cell_type": "markdown",
   "metadata": {},
   "source": [
    "В нашем распоряжении были данные 500 пользователей \"Мегалайна\" за 2018 год. В работе выполнено следующее:\n",
    "Изучены представленные датасеты, содержащие данные о 500 пользователях, их личные данные, место проживания, подключенный тариф, дата подключения и отключения тарифа (если есть), данные об объеме используемого трафика, сообщениях и телефонных звонках (их продолжительность). В отдельном датасете находились данные о тарифах и их условиях, в ключая лимиты трафика, сообщений и минут в рамках тарифа, а также их стоимость при перерасходе по тарифу.\n",
    "Имеющиеся данные были обработаны, из них получена сводная таблица с указанием места проживания, значений расходов трафика, сообщений, минут и ежемесячного платежа для каждого пользователя.\n",
    "Построены наглядные графики сравнения ежемесячных расходов пользователей для тарифов \"Смарт\" и \"Ультра\", проанализировав которые стало более явно видно поведение пользователей и получилось сделать вывод, что, в целом, пользоватли тарифа \"Ультра\" пользуются интернетом, смс и телефонной связью в среднем больше, чем пользователи тарифа \"Смарт\". Коммерческому департаменту следует принять меры по дальнейшему стимулированию пользования этим тарифом.\n",
    "Абоненты тарифа \"Смарт\" могут пользоваться сотовой связью с минимальными расходами (низкой абонентской платой), однако у них часто возникают перерасходы по пакетам услуг и возможно стоит пересмотреть содержание пакета услуг в сторону оптимизации  и нахождения выгодного для всех баланса выручки и стоимости абонентской платы.\n",
    "Проверены гипотезы при пороговом значении в 5%, в результате которых выявлено, что средняя выручка с пользователей тарифов \"Смарт\" и \"Ультра\" различается (примерно в 1.5 раза). При этом гипотеза, что средняя выручка пользователей города Москва и других регионов различаются, не подтвердилась.\n",
    "    \n",
    "Обобщая результаты, можно сказать, что хоть тариф Смарт и более популярный (пользователей, подключившихся к нему, в выборке больше > чем в 2 раза), но среднемесячный доход с пользователя выше на тарифе \"Ультра\", поэтому он более перспективен для рекламных кампаний. \n",
    "В связи с тем, что разница абонентской платы между рассматриваемыми тарифами существенно отличается, можно подумать о введении дополнительного промежуточного тарифа с усредненными лимитами, который мог бы подойти определенным пользователям."
   ]
  }
 ],
 "metadata": {
  "ExecuteTimeLog": [
   {
    "duration": 104,
    "start_time": "2021-11-11T22:46:41.046Z"
   },
   {
    "duration": 102,
    "start_time": "2021-11-11T22:47:00.827Z"
   },
   {
    "duration": 1332,
    "start_time": "2021-11-11T22:53:36.356Z"
   },
   {
    "duration": 473,
    "start_time": "2021-11-11T22:57:34.871Z"
   },
   {
    "duration": 1344,
    "start_time": "2021-11-11T22:57:45.741Z"
   },
   {
    "duration": 369,
    "start_time": "2021-11-11T22:57:47.088Z"
   },
   {
    "duration": 528,
    "start_time": "2021-11-11T22:58:27.967Z"
   },
   {
    "duration": 1502,
    "start_time": "2021-11-11T22:58:47.646Z"
   },
   {
    "duration": 1390,
    "start_time": "2021-11-11T23:07:30.104Z"
   },
   {
    "duration": 1503,
    "start_time": "2021-11-11T23:07:31.497Z"
   },
   {
    "duration": 238,
    "start_time": "2021-11-12T01:23:22.409Z"
   },
   {
    "duration": 244,
    "start_time": "2021-11-12T01:26:10.809Z"
   },
   {
    "duration": 197,
    "start_time": "2021-11-12T01:42:30.762Z"
   },
   {
    "duration": 61,
    "start_time": "2021-11-12T01:45:37.875Z"
   },
   {
    "duration": 55,
    "start_time": "2021-11-12T01:45:44.260Z"
   },
   {
    "duration": 174,
    "start_time": "2021-11-12T01:46:02.375Z"
   },
   {
    "duration": 221,
    "start_time": "2021-11-12T01:46:24.930Z"
   },
   {
    "duration": 173,
    "start_time": "2021-11-12T01:50:09.367Z"
   },
   {
    "duration": 228,
    "start_time": "2021-11-12T01:56:24.118Z"
   },
   {
    "duration": 154,
    "start_time": "2021-11-12T01:59:48.367Z"
   },
   {
    "duration": 210,
    "start_time": "2021-11-12T07:47:03.844Z"
   },
   {
    "duration": 932,
    "start_time": "2021-11-12T07:47:11.035Z"
   },
   {
    "duration": 978,
    "start_time": "2021-11-12T07:47:11.969Z"
   },
   {
    "duration": 172,
    "start_time": "2021-11-12T07:47:12.949Z"
   },
   {
    "duration": 130,
    "start_time": "2021-11-12T07:47:13.122Z"
   },
   {
    "duration": 48,
    "start_time": "2021-11-12T07:47:13.254Z"
   },
   {
    "duration": 75,
    "start_time": "2021-11-12T07:47:32.364Z"
   },
   {
    "duration": 31,
    "start_time": "2021-11-12T07:49:53.768Z"
   },
   {
    "duration": 31,
    "start_time": "2021-11-12T07:52:51.006Z"
   },
   {
    "duration": 52,
    "start_time": "2021-11-12T07:56:01.671Z"
   },
   {
    "duration": 25,
    "start_time": "2021-11-12T08:01:08.335Z"
   },
   {
    "duration": 5,
    "start_time": "2021-11-12T10:44:16.914Z"
   },
   {
    "duration": 6,
    "start_time": "2021-11-12T10:47:36.576Z"
   },
   {
    "duration": 6,
    "start_time": "2021-11-12T10:49:05.453Z"
   },
   {
    "duration": 478,
    "start_time": "2021-11-12T10:50:24.304Z"
   },
   {
    "duration": 507,
    "start_time": "2021-11-12T10:52:09.341Z"
   },
   {
    "duration": 38,
    "start_time": "2021-11-12T10:57:28.829Z"
   },
   {
    "duration": 30,
    "start_time": "2021-11-12T10:58:27.988Z"
   },
   {
    "duration": 411,
    "start_time": "2021-11-12T10:58:49.478Z"
   },
   {
    "duration": 9,
    "start_time": "2021-11-12T12:33:21.978Z"
   },
   {
    "duration": 2,
    "start_time": "2021-11-12T13:03:23.524Z"
   },
   {
    "duration": 918,
    "start_time": "2021-11-12T13:10:21.548Z"
   },
   {
    "duration": 1023,
    "start_time": "2021-11-12T13:10:22.468Z"
   },
   {
    "duration": 154,
    "start_time": "2021-11-12T13:10:23.493Z"
   },
   {
    "duration": 143,
    "start_time": "2021-11-12T13:10:23.649Z"
   },
   {
    "duration": 104,
    "start_time": "2021-11-12T13:10:23.794Z"
   },
   {
    "duration": 32,
    "start_time": "2021-11-12T13:10:23.900Z"
   },
   {
    "duration": 37,
    "start_time": "2021-11-12T13:10:23.934Z"
   },
   {
    "duration": 18,
    "start_time": "2021-11-12T13:10:23.973Z"
   },
   {
    "duration": 518,
    "start_time": "2021-11-12T13:10:23.993Z"
   },
   {
    "duration": 537,
    "start_time": "2021-11-12T13:10:24.512Z"
   },
   {
    "duration": 44,
    "start_time": "2021-11-12T13:10:25.051Z"
   },
   {
    "duration": 428,
    "start_time": "2021-11-12T13:10:25.097Z"
   },
   {
    "duration": 10,
    "start_time": "2021-11-12T13:10:25.527Z"
   },
   {
    "duration": 4222,
    "start_time": "2021-11-12T13:17:29.624Z"
   },
   {
    "duration": 9,
    "start_time": "2021-11-12T13:27:10.372Z"
   },
   {
    "duration": 4,
    "start_time": "2021-11-12T13:28:39.676Z"
   },
   {
    "duration": 30,
    "start_time": "2021-11-12T13:31:10.787Z"
   },
   {
    "duration": 2255,
    "start_time": "2021-11-12T13:36:20.638Z"
   },
   {
    "duration": 2269,
    "start_time": "2021-11-12T13:36:25.722Z"
   },
   {
    "duration": 12,
    "start_time": "2021-11-12T13:41:17.711Z"
   },
   {
    "duration": 28,
    "start_time": "2021-11-12T13:44:41.725Z"
   },
   {
    "duration": 28,
    "start_time": "2021-11-12T13:45:30.978Z"
   },
   {
    "duration": 8,
    "start_time": "2021-11-12T13:46:22.162Z"
   },
   {
    "duration": 1006,
    "start_time": "2021-11-12T13:54:29.268Z"
   },
   {
    "duration": 982,
    "start_time": "2021-11-12T13:54:30.276Z"
   },
   {
    "duration": 181,
    "start_time": "2021-11-12T13:54:31.260Z"
   },
   {
    "duration": 137,
    "start_time": "2021-11-12T13:54:31.443Z"
   },
   {
    "duration": 110,
    "start_time": "2021-11-12T13:54:31.582Z"
   },
   {
    "duration": 30,
    "start_time": "2021-11-12T13:54:31.694Z"
   },
   {
    "duration": 27,
    "start_time": "2021-11-12T13:54:31.725Z"
   },
   {
    "duration": 5,
    "start_time": "2021-11-12T13:54:31.754Z"
   },
   {
    "duration": 492,
    "start_time": "2021-11-12T13:54:31.761Z"
   },
   {
    "duration": 547,
    "start_time": "2021-11-12T13:54:32.254Z"
   },
   {
    "duration": 30,
    "start_time": "2021-11-12T13:54:32.803Z"
   },
   {
    "duration": 483,
    "start_time": "2021-11-12T13:54:32.835Z"
   },
   {
    "duration": 10,
    "start_time": "2021-11-12T13:54:33.320Z"
   },
   {
    "duration": 4248,
    "start_time": "2021-11-12T13:54:33.331Z"
   },
   {
    "duration": 3,
    "start_time": "2021-11-12T13:54:37.592Z"
   },
   {
    "duration": 58,
    "start_time": "2021-11-12T13:54:37.597Z"
   },
   {
    "duration": 2157,
    "start_time": "2021-11-12T13:54:37.657Z"
   },
   {
    "duration": 10,
    "start_time": "2021-11-12T13:54:39.816Z"
   },
   {
    "duration": 29,
    "start_time": "2021-11-12T13:54:39.827Z"
   },
   {
    "duration": 7,
    "start_time": "2021-11-12T13:54:39.858Z"
   },
   {
    "duration": 422,
    "start_time": "2021-11-12T14:01:03.799Z"
   },
   {
    "duration": 974,
    "start_time": "2021-11-12T14:01:25.293Z"
   },
   {
    "duration": 966,
    "start_time": "2021-11-12T14:01:26.269Z"
   },
   {
    "duration": 168,
    "start_time": "2021-11-12T14:01:27.237Z"
   },
   {
    "duration": 121,
    "start_time": "2021-11-12T14:01:27.407Z"
   },
   {
    "duration": 95,
    "start_time": "2021-11-12T14:01:27.529Z"
   },
   {
    "duration": 30,
    "start_time": "2021-11-12T14:01:27.625Z"
   },
   {
    "duration": 47,
    "start_time": "2021-11-12T14:01:27.657Z"
   },
   {
    "duration": 4,
    "start_time": "2021-11-12T14:01:27.706Z"
   },
   {
    "duration": 492,
    "start_time": "2021-11-12T14:01:27.712Z"
   },
   {
    "duration": 519,
    "start_time": "2021-11-12T14:01:28.205Z"
   },
   {
    "duration": 29,
    "start_time": "2021-11-12T14:01:28.726Z"
   },
   {
    "duration": 411,
    "start_time": "2021-11-12T14:01:28.757Z"
   },
   {
    "duration": 9,
    "start_time": "2021-11-12T14:01:29.170Z"
   },
   {
    "duration": 4249,
    "start_time": "2021-11-12T14:01:29.181Z"
   },
   {
    "duration": 3,
    "start_time": "2021-11-12T14:01:33.431Z"
   },
   {
    "duration": 43,
    "start_time": "2021-11-12T14:01:33.436Z"
   },
   {
    "duration": 2266,
    "start_time": "2021-11-12T14:01:33.492Z"
   },
   {
    "duration": 12,
    "start_time": "2021-11-12T14:01:35.760Z"
   },
   {
    "duration": 41,
    "start_time": "2021-11-12T14:01:35.773Z"
   },
   {
    "duration": 12,
    "start_time": "2021-11-12T14:01:35.816Z"
   },
   {
    "duration": 412,
    "start_time": "2021-11-12T14:01:35.830Z"
   },
   {
    "duration": 52,
    "start_time": "2021-11-12T14:04:43.942Z"
   },
   {
    "duration": 53,
    "start_time": "2021-11-12T14:05:00.547Z"
   },
   {
    "duration": 418,
    "start_time": "2021-11-12T14:06:09.661Z"
   },
   {
    "duration": 939,
    "start_time": "2021-11-12T14:06:16.832Z"
   },
   {
    "duration": 990,
    "start_time": "2021-11-12T14:06:17.773Z"
   },
   {
    "duration": 175,
    "start_time": "2021-11-12T14:06:18.765Z"
   },
   {
    "duration": 127,
    "start_time": "2021-11-12T14:06:18.942Z"
   },
   {
    "duration": 98,
    "start_time": "2021-11-12T14:06:19.070Z"
   },
   {
    "duration": 44,
    "start_time": "2021-11-12T14:06:19.170Z"
   },
   {
    "duration": 26,
    "start_time": "2021-11-12T14:06:19.216Z"
   },
   {
    "duration": 4,
    "start_time": "2021-11-12T14:06:19.245Z"
   },
   {
    "duration": 520,
    "start_time": "2021-11-12T14:06:19.251Z"
   },
   {
    "duration": 547,
    "start_time": "2021-11-12T14:06:19.773Z"
   },
   {
    "duration": 31,
    "start_time": "2021-11-12T14:06:20.322Z"
   },
   {
    "duration": 421,
    "start_time": "2021-11-12T14:06:20.355Z"
   },
   {
    "duration": 20,
    "start_time": "2021-11-12T14:06:20.779Z"
   },
   {
    "duration": 4274,
    "start_time": "2021-11-12T14:06:20.801Z"
   },
   {
    "duration": 18,
    "start_time": "2021-11-12T14:06:25.077Z"
   },
   {
    "duration": 42,
    "start_time": "2021-11-12T14:06:25.097Z"
   },
   {
    "duration": 2317,
    "start_time": "2021-11-12T14:06:25.141Z"
   },
   {
    "duration": 12,
    "start_time": "2021-11-12T14:06:27.460Z"
   },
   {
    "duration": 26,
    "start_time": "2021-11-12T14:06:27.491Z"
   },
   {
    "duration": 9,
    "start_time": "2021-11-12T14:06:27.519Z"
   },
   {
    "duration": 82,
    "start_time": "2021-11-12T14:06:27.530Z"
   },
   {
    "duration": 506,
    "start_time": "2021-11-12T14:06:27.614Z"
   },
   {
    "duration": 395,
    "start_time": "2021-11-12T14:07:34.626Z"
   },
   {
    "duration": 56,
    "start_time": "2021-11-12T14:31:12.187Z"
   },
   {
    "duration": 945,
    "start_time": "2021-11-12T14:31:59.887Z"
   },
   {
    "duration": 1007,
    "start_time": "2021-11-12T14:32:07.943Z"
   },
   {
    "duration": 999,
    "start_time": "2021-11-12T14:32:08.952Z"
   },
   {
    "duration": 188,
    "start_time": "2021-11-12T14:32:09.954Z"
   },
   {
    "duration": 135,
    "start_time": "2021-11-12T14:32:10.144Z"
   },
   {
    "duration": 104,
    "start_time": "2021-11-12T14:32:10.292Z"
   },
   {
    "duration": 31,
    "start_time": "2021-11-12T14:32:10.398Z"
   },
   {
    "duration": 28,
    "start_time": "2021-11-12T14:32:10.431Z"
   },
   {
    "duration": 33,
    "start_time": "2021-11-12T14:32:10.462Z"
   },
   {
    "duration": 496,
    "start_time": "2021-11-12T14:32:10.498Z"
   },
   {
    "duration": 544,
    "start_time": "2021-11-12T14:32:10.996Z"
   },
   {
    "duration": 31,
    "start_time": "2021-11-12T14:32:11.542Z"
   },
   {
    "duration": 434,
    "start_time": "2021-11-12T14:32:11.574Z"
   },
   {
    "duration": 11,
    "start_time": "2021-11-12T14:32:12.010Z"
   },
   {
    "duration": 4346,
    "start_time": "2021-11-12T14:32:12.023Z"
   },
   {
    "duration": 4,
    "start_time": "2021-11-12T14:32:16.370Z"
   },
   {
    "duration": 52,
    "start_time": "2021-11-12T14:32:16.376Z"
   },
   {
    "duration": 2261,
    "start_time": "2021-11-12T14:32:16.430Z"
   },
   {
    "duration": 11,
    "start_time": "2021-11-12T14:32:18.693Z"
   },
   {
    "duration": 27,
    "start_time": "2021-11-12T14:32:18.706Z"
   },
   {
    "duration": 8,
    "start_time": "2021-11-12T14:32:18.734Z"
   },
   {
    "duration": 88,
    "start_time": "2021-11-12T14:32:18.744Z"
   },
   {
    "duration": 986,
    "start_time": "2021-11-12T14:32:18.834Z"
   },
   {
    "duration": 1912,
    "start_time": "2021-11-12T14:34:45.782Z"
   },
   {
    "duration": 1866,
    "start_time": "2021-11-12T14:44:52.246Z"
   },
   {
    "duration": 9,
    "start_time": "2021-11-12T14:58:23.071Z"
   },
   {
    "duration": 1111,
    "start_time": "2021-11-12T14:59:36.894Z"
   },
   {
    "duration": 994,
    "start_time": "2021-11-12T14:59:38.006Z"
   },
   {
    "duration": 188,
    "start_time": "2021-11-12T14:59:39.003Z"
   },
   {
    "duration": 130,
    "start_time": "2021-11-12T14:59:39.193Z"
   },
   {
    "duration": 103,
    "start_time": "2021-11-12T14:59:39.325Z"
   },
   {
    "duration": 30,
    "start_time": "2021-11-12T14:59:39.430Z"
   },
   {
    "duration": 50,
    "start_time": "2021-11-12T14:59:39.462Z"
   },
   {
    "duration": 5,
    "start_time": "2021-11-12T14:59:39.514Z"
   },
   {
    "duration": 504,
    "start_time": "2021-11-12T14:59:39.521Z"
   },
   {
    "duration": 536,
    "start_time": "2021-11-12T14:59:40.026Z"
   },
   {
    "duration": 37,
    "start_time": "2021-11-12T14:59:40.564Z"
   },
   {
    "duration": 423,
    "start_time": "2021-11-12T14:59:40.603Z"
   },
   {
    "duration": 10,
    "start_time": "2021-11-12T14:59:41.028Z"
   },
   {
    "duration": 4291,
    "start_time": "2021-11-12T14:59:41.040Z"
   },
   {
    "duration": 3,
    "start_time": "2021-11-12T14:59:45.332Z"
   },
   {
    "duration": 55,
    "start_time": "2021-11-12T14:59:45.337Z"
   },
   {
    "duration": 2259,
    "start_time": "2021-11-12T14:59:45.394Z"
   },
   {
    "duration": 11,
    "start_time": "2021-11-12T14:59:47.655Z"
   },
   {
    "duration": 45,
    "start_time": "2021-11-12T14:59:47.668Z"
   },
   {
    "duration": 9,
    "start_time": "2021-11-12T14:59:47.715Z"
   },
   {
    "duration": 87,
    "start_time": "2021-11-12T14:59:47.726Z"
   },
   {
    "duration": 1035,
    "start_time": "2021-11-12T14:59:47.815Z"
   },
   {
    "duration": 1990,
    "start_time": "2021-11-12T14:59:48.853Z"
   },
   {
    "duration": 8,
    "start_time": "2021-11-12T14:59:50.845Z"
   },
   {
    "duration": 415,
    "start_time": "2021-11-12T15:02:11.093Z"
   },
   {
    "duration": 5,
    "start_time": "2021-11-12T15:04:27.998Z"
   },
   {
    "duration": 981,
    "start_time": "2021-11-12T15:17:52.086Z"
   },
   {
    "duration": 977,
    "start_time": "2021-11-12T15:17:53.069Z"
   },
   {
    "duration": 177,
    "start_time": "2021-11-12T15:17:54.048Z"
   },
   {
    "duration": 131,
    "start_time": "2021-11-12T15:17:54.227Z"
   },
   {
    "duration": 100,
    "start_time": "2021-11-12T15:17:54.360Z"
   },
   {
    "duration": 46,
    "start_time": "2021-11-12T15:17:54.462Z"
   },
   {
    "duration": 27,
    "start_time": "2021-11-12T15:17:54.510Z"
   },
   {
    "duration": 5,
    "start_time": "2021-11-12T15:17:54.540Z"
   },
   {
    "duration": 497,
    "start_time": "2021-11-12T15:17:54.547Z"
   },
   {
    "duration": 523,
    "start_time": "2021-11-12T15:17:55.047Z"
   },
   {
    "duration": 40,
    "start_time": "2021-11-12T15:17:55.572Z"
   },
   {
    "duration": 401,
    "start_time": "2021-11-12T15:17:55.614Z"
   },
   {
    "duration": 10,
    "start_time": "2021-11-12T15:17:56.016Z"
   },
   {
    "duration": 4201,
    "start_time": "2021-11-12T15:17:56.027Z"
   },
   {
    "duration": 4,
    "start_time": "2021-11-12T15:18:00.230Z"
   },
   {
    "duration": 57,
    "start_time": "2021-11-12T15:18:00.235Z"
   },
   {
    "duration": 2205,
    "start_time": "2021-11-12T15:18:00.294Z"
   },
   {
    "duration": 11,
    "start_time": "2021-11-12T15:18:02.500Z"
   },
   {
    "duration": 31,
    "start_time": "2021-11-12T15:18:02.513Z"
   },
   {
    "duration": 8,
    "start_time": "2021-11-12T15:18:02.545Z"
   },
   {
    "duration": 84,
    "start_time": "2021-11-12T15:18:02.554Z"
   },
   {
    "duration": 976,
    "start_time": "2021-11-12T15:18:02.639Z"
   },
   {
    "duration": 1878,
    "start_time": "2021-11-12T15:18:03.618Z"
   },
   {
    "duration": 8,
    "start_time": "2021-11-12T15:18:05.498Z"
   },
   {
    "duration": 433,
    "start_time": "2021-11-12T15:18:05.508Z"
   },
   {
    "duration": 5,
    "start_time": "2021-11-12T15:18:05.942Z"
   },
   {
    "duration": 1061,
    "start_time": "2021-11-13T10:16:37.402Z"
   },
   {
    "duration": 1086,
    "start_time": "2021-11-13T10:16:38.465Z"
   },
   {
    "duration": 216,
    "start_time": "2021-11-13T10:16:39.566Z"
   },
   {
    "duration": 140,
    "start_time": "2021-11-13T10:16:39.785Z"
   },
   {
    "duration": 103,
    "start_time": "2021-11-13T10:16:39.927Z"
   },
   {
    "duration": 48,
    "start_time": "2021-11-13T10:16:40.031Z"
   },
   {
    "duration": 30,
    "start_time": "2021-11-13T10:16:40.081Z"
   },
   {
    "duration": 5,
    "start_time": "2021-11-13T10:16:40.113Z"
   },
   {
    "duration": 612,
    "start_time": "2021-11-13T10:16:40.119Z"
   },
   {
    "duration": 521,
    "start_time": "2021-11-13T10:16:40.733Z"
   },
   {
    "duration": 36,
    "start_time": "2021-11-13T10:16:41.256Z"
   },
   {
    "duration": 415,
    "start_time": "2021-11-13T10:16:41.294Z"
   },
   {
    "duration": 12,
    "start_time": "2021-11-13T10:16:41.711Z"
   },
   {
    "duration": 4550,
    "start_time": "2021-11-13T10:16:41.726Z"
   },
   {
    "duration": 4,
    "start_time": "2021-11-13T10:16:46.278Z"
   },
   {
    "duration": 43,
    "start_time": "2021-11-13T10:16:46.284Z"
   },
   {
    "duration": 2361,
    "start_time": "2021-11-13T10:16:46.329Z"
   },
   {
    "duration": 13,
    "start_time": "2021-11-13T10:16:48.691Z"
   },
   {
    "duration": 34,
    "start_time": "2021-11-13T10:16:48.706Z"
   },
   {
    "duration": 26,
    "start_time": "2021-11-13T10:16:48.742Z"
   },
   {
    "duration": 59,
    "start_time": "2021-11-13T10:16:48.770Z"
   },
   {
    "duration": 1058,
    "start_time": "2021-11-13T10:16:48.832Z"
   },
   {
    "duration": 1913,
    "start_time": "2021-11-13T10:16:49.892Z"
   },
   {
    "duration": 9,
    "start_time": "2021-11-13T10:16:51.807Z"
   },
   {
    "duration": 442,
    "start_time": "2021-11-13T10:16:51.817Z"
   },
   {
    "duration": 5,
    "start_time": "2021-11-13T10:16:52.261Z"
   },
   {
    "duration": 102,
    "start_time": "2021-11-13T20:36:02.366Z"
   },
   {
    "duration": 103,
    "start_time": "2021-11-13T20:36:05.783Z"
   },
   {
    "duration": 1645,
    "start_time": "2021-11-13T20:36:15.922Z"
   },
   {
    "duration": 1466,
    "start_time": "2021-11-13T20:36:17.570Z"
   },
   {
    "duration": 98,
    "start_time": "2021-11-13T20:36:19.038Z"
   },
   {
    "duration": 2038,
    "start_time": "2021-11-13T20:36:17.103Z"
   },
   {
    "duration": 2036,
    "start_time": "2021-11-13T20:36:17.108Z"
   },
   {
    "duration": 2034,
    "start_time": "2021-11-13T20:36:17.112Z"
   },
   {
    "duration": 2031,
    "start_time": "2021-11-13T20:36:17.118Z"
   },
   {
    "duration": 2027,
    "start_time": "2021-11-13T20:36:17.124Z"
   },
   {
    "duration": 2025,
    "start_time": "2021-11-13T20:36:17.129Z"
   },
   {
    "duration": 2023,
    "start_time": "2021-11-13T20:36:17.133Z"
   },
   {
    "duration": 1995,
    "start_time": "2021-11-13T20:36:17.163Z"
   },
   {
    "duration": 1991,
    "start_time": "2021-11-13T20:36:17.170Z"
   },
   {
    "duration": 1985,
    "start_time": "2021-11-13T20:36:17.178Z"
   },
   {
    "duration": 1979,
    "start_time": "2021-11-13T20:36:17.187Z"
   },
   {
    "duration": 1964,
    "start_time": "2021-11-13T20:36:17.204Z"
   },
   {
    "duration": 1962,
    "start_time": "2021-11-13T20:36:17.208Z"
   },
   {
    "duration": 1960,
    "start_time": "2021-11-13T20:36:17.212Z"
   },
   {
    "duration": 1960,
    "start_time": "2021-11-13T20:36:17.215Z"
   },
   {
    "duration": 1959,
    "start_time": "2021-11-13T20:36:17.218Z"
   },
   {
    "duration": 1957,
    "start_time": "2021-11-13T20:36:17.222Z"
   },
   {
    "duration": 1999,
    "start_time": "2021-11-13T20:36:17.224Z"
   },
   {
    "duration": 1998,
    "start_time": "2021-11-13T20:36:17.227Z"
   },
   {
    "duration": 1998,
    "start_time": "2021-11-13T20:36:17.230Z"
   },
   {
    "duration": 1996,
    "start_time": "2021-11-13T20:36:17.234Z"
   },
   {
    "duration": 1997,
    "start_time": "2021-11-13T20:36:17.236Z"
   },
   {
    "duration": 1996,
    "start_time": "2021-11-13T20:36:17.239Z"
   },
   {
    "duration": 1996,
    "start_time": "2021-11-13T20:36:17.241Z"
   },
   {
    "duration": 468,
    "start_time": "2021-11-13T20:51:53.864Z"
   },
   {
    "duration": 1310,
    "start_time": "2021-11-13T20:52:02.771Z"
   },
   {
    "duration": 1494,
    "start_time": "2021-11-13T20:52:04.084Z"
   },
   {
    "duration": 289,
    "start_time": "2021-11-13T20:52:05.581Z"
   },
   {
    "duration": 205,
    "start_time": "2021-11-13T20:52:05.873Z"
   },
   {
    "duration": 158,
    "start_time": "2021-11-13T20:52:06.081Z"
   },
   {
    "duration": 49,
    "start_time": "2021-11-13T20:52:06.242Z"
   },
   {
    "duration": 70,
    "start_time": "2021-11-13T20:52:06.293Z"
   },
   {
    "duration": 8,
    "start_time": "2021-11-13T20:52:06.366Z"
   },
   {
    "duration": 752,
    "start_time": "2021-11-13T20:52:06.378Z"
   },
   {
    "duration": 834,
    "start_time": "2021-11-13T20:52:07.133Z"
   },
   {
    "duration": 55,
    "start_time": "2021-11-13T20:52:07.969Z"
   },
   {
    "duration": 756,
    "start_time": "2021-11-13T20:52:08.027Z"
   },
   {
    "duration": 14,
    "start_time": "2021-11-13T20:52:08.786Z"
   },
   {
    "duration": 8216,
    "start_time": "2021-11-13T20:52:08.822Z"
   },
   {
    "duration": 6,
    "start_time": "2021-11-13T20:52:17.042Z"
   },
   {
    "duration": 83,
    "start_time": "2021-11-13T20:52:17.051Z"
   },
   {
    "duration": 4137,
    "start_time": "2021-11-13T20:52:17.136Z"
   },
   {
    "duration": 17,
    "start_time": "2021-11-13T20:52:21.275Z"
   },
   {
    "duration": 67,
    "start_time": "2021-11-13T20:52:21.295Z"
   },
   {
    "duration": 11,
    "start_time": "2021-11-13T20:52:21.364Z"
   },
   {
    "duration": 129,
    "start_time": "2021-11-13T20:52:21.377Z"
   },
   {
    "duration": 1661,
    "start_time": "2021-11-13T20:52:21.508Z"
   },
   {
    "duration": 3074,
    "start_time": "2021-11-13T20:52:23.174Z"
   },
   {
    "duration": 12,
    "start_time": "2021-11-13T20:52:26.250Z"
   },
   {
    "duration": 701,
    "start_time": "2021-11-13T20:52:26.264Z"
   },
   {
    "duration": 6,
    "start_time": "2021-11-13T20:52:26.967Z"
   },
   {
    "duration": 495,
    "start_time": "2021-11-13T21:28:47.653Z"
   },
   {
    "duration": 1334,
    "start_time": "2021-11-13T21:28:54.642Z"
   },
   {
    "duration": 1780,
    "start_time": "2021-11-13T21:28:55.979Z"
   },
   {
    "duration": 476,
    "start_time": "2021-11-13T21:28:57.762Z"
   },
   {
    "duration": 2128,
    "start_time": "2021-11-13T21:28:56.114Z"
   },
   {
    "duration": 2122,
    "start_time": "2021-11-13T21:28:56.121Z"
   },
   {
    "duration": 2121,
    "start_time": "2021-11-13T21:28:56.124Z"
   },
   {
    "duration": 2112,
    "start_time": "2021-11-13T21:28:56.135Z"
   },
   {
    "duration": 2110,
    "start_time": "2021-11-13T21:28:56.138Z"
   },
   {
    "duration": 2110,
    "start_time": "2021-11-13T21:28:56.140Z"
   },
   {
    "duration": 2108,
    "start_time": "2021-11-13T21:28:56.143Z"
   },
   {
    "duration": 2108,
    "start_time": "2021-11-13T21:28:56.145Z"
   },
   {
    "duration": 2106,
    "start_time": "2021-11-13T21:28:56.148Z"
   },
   {
    "duration": 2105,
    "start_time": "2021-11-13T21:28:56.151Z"
   },
   {
    "duration": 2103,
    "start_time": "2021-11-13T21:28:56.154Z"
   },
   {
    "duration": 2103,
    "start_time": "2021-11-13T21:28:56.157Z"
   },
   {
    "duration": 2094,
    "start_time": "2021-11-13T21:28:56.167Z"
   },
   {
    "duration": 2093,
    "start_time": "2021-11-13T21:28:56.170Z"
   },
   {
    "duration": 2091,
    "start_time": "2021-11-13T21:28:56.173Z"
   },
   {
    "duration": 2091,
    "start_time": "2021-11-13T21:28:56.175Z"
   },
   {
    "duration": 2088,
    "start_time": "2021-11-13T21:28:56.179Z"
   },
   {
    "duration": 2073,
    "start_time": "2021-11-13T21:28:56.195Z"
   },
   {
    "duration": 2071,
    "start_time": "2021-11-13T21:28:56.198Z"
   },
   {
    "duration": 2057,
    "start_time": "2021-11-13T21:28:56.214Z"
   },
   {
    "duration": 2055,
    "start_time": "2021-11-13T21:28:56.217Z"
   },
   {
    "duration": 2054,
    "start_time": "2021-11-13T21:28:56.220Z"
   },
   {
    "duration": 2052,
    "start_time": "2021-11-13T21:28:56.223Z"
   },
   {
    "duration": 2050,
    "start_time": "2021-11-13T21:28:56.226Z"
   },
   {
    "duration": 21,
    "start_time": "2021-11-13T21:29:18.499Z"
   },
   {
    "duration": 22,
    "start_time": "2021-11-13T21:33:35.622Z"
   },
   {
    "duration": 110,
    "start_time": "2021-11-13T21:44:38.441Z"
   },
   {
    "duration": 23,
    "start_time": "2021-11-13T21:45:10.668Z"
   },
   {
    "duration": 305,
    "start_time": "2021-11-13T21:49:12.434Z"
   },
   {
    "duration": 24,
    "start_time": "2021-11-13T21:49:30.496Z"
   },
   {
    "duration": 23,
    "start_time": "2021-11-13T21:49:51.161Z"
   },
   {
    "duration": 21,
    "start_time": "2021-11-13T21:52:54.166Z"
   },
   {
    "duration": 20,
    "start_time": "2021-11-13T21:54:34.519Z"
   },
   {
    "duration": 95,
    "start_time": "2021-11-13T21:56:15.563Z"
   },
   {
    "duration": 1293,
    "start_time": "2021-11-13T21:58:06.987Z"
   },
   {
    "duration": 1566,
    "start_time": "2021-11-13T21:58:08.282Z"
   },
   {
    "duration": 22,
    "start_time": "2021-11-13T21:58:09.852Z"
   },
   {
    "duration": 53,
    "start_time": "2021-11-13T21:58:09.878Z"
   },
   {
    "duration": 326,
    "start_time": "2021-11-13T21:58:09.934Z"
   },
   {
    "duration": 462,
    "start_time": "2021-11-13T21:58:10.262Z"
   },
   {
    "duration": 215,
    "start_time": "2021-11-13T21:58:10.727Z"
   },
   {
    "duration": 80,
    "start_time": "2021-11-13T21:58:10.946Z"
   },
   {
    "duration": 60,
    "start_time": "2021-11-13T21:58:11.029Z"
   },
   {
    "duration": 31,
    "start_time": "2021-11-13T21:58:11.092Z"
   },
   {
    "duration": 787,
    "start_time": "2021-11-13T21:58:11.127Z"
   },
   {
    "duration": 942,
    "start_time": "2021-11-13T21:58:11.916Z"
   },
   {
    "duration": 62,
    "start_time": "2021-11-13T21:58:12.861Z"
   },
   {
    "duration": 696,
    "start_time": "2021-11-13T21:58:12.926Z"
   },
   {
    "duration": 15,
    "start_time": "2021-11-13T21:58:13.624Z"
   },
   {
    "duration": 7482,
    "start_time": "2021-11-13T21:58:13.642Z"
   },
   {
    "duration": 5,
    "start_time": "2021-11-13T21:58:21.126Z"
   },
   {
    "duration": 51,
    "start_time": "2021-11-13T21:58:21.133Z"
   },
   {
    "duration": 4099,
    "start_time": "2021-11-13T21:58:21.186Z"
   },
   {
    "duration": 36,
    "start_time": "2021-11-13T21:58:25.287Z"
   },
   {
    "duration": 43,
    "start_time": "2021-11-13T21:58:25.325Z"
   },
   {
    "duration": 10,
    "start_time": "2021-11-13T21:58:25.370Z"
   },
   {
    "duration": 199,
    "start_time": "2021-11-13T21:58:25.385Z"
   },
   {
    "duration": 1796,
    "start_time": "2021-11-13T21:58:25.588Z"
   },
   {
    "duration": 3085,
    "start_time": "2021-11-13T21:58:27.386Z"
   },
   {
    "duration": 12,
    "start_time": "2021-11-13T21:58:30.474Z"
   },
   {
    "duration": 739,
    "start_time": "2021-11-13T21:58:30.488Z"
   },
   {
    "duration": 8,
    "start_time": "2021-11-13T21:58:31.231Z"
   },
   {
    "duration": 10,
    "start_time": "2021-11-13T23:49:26.653Z"
   },
   {
    "duration": 1372,
    "start_time": "2021-11-13T23:49:36.326Z"
   },
   {
    "duration": 1532,
    "start_time": "2021-11-13T23:49:37.701Z"
   },
   {
    "duration": 22,
    "start_time": "2021-11-13T23:49:39.236Z"
   },
   {
    "duration": 23,
    "start_time": "2021-11-13T23:49:39.261Z"
   },
   {
    "duration": 272,
    "start_time": "2021-11-13T23:49:39.286Z"
   },
   {
    "duration": 186,
    "start_time": "2021-11-13T23:49:39.561Z"
   },
   {
    "duration": 164,
    "start_time": "2021-11-13T23:49:39.750Z"
   },
   {
    "duration": 49,
    "start_time": "2021-11-13T23:49:39.924Z"
   },
   {
    "duration": 68,
    "start_time": "2021-11-13T23:49:39.976Z"
   },
   {
    "duration": 10,
    "start_time": "2021-11-13T23:49:40.046Z"
   },
   {
    "duration": 773,
    "start_time": "2021-11-13T23:49:40.059Z"
   },
   {
    "duration": 850,
    "start_time": "2021-11-13T23:49:40.835Z"
   },
   {
    "duration": 58,
    "start_time": "2021-11-13T23:49:41.688Z"
   },
   {
    "duration": 674,
    "start_time": "2021-11-13T23:49:41.748Z"
   },
   {
    "duration": 16,
    "start_time": "2021-11-13T23:49:42.424Z"
   },
   {
    "duration": 8561,
    "start_time": "2021-11-13T23:49:42.442Z"
   },
   {
    "duration": 6,
    "start_time": "2021-11-13T23:49:51.022Z"
   },
   {
    "duration": 51,
    "start_time": "2021-11-13T23:49:51.031Z"
   },
   {
    "duration": 3984,
    "start_time": "2021-11-13T23:49:51.085Z"
   },
   {
    "duration": 19,
    "start_time": "2021-11-13T23:49:55.072Z"
   },
   {
    "duration": 68,
    "start_time": "2021-11-13T23:49:55.094Z"
   },
   {
    "duration": 12,
    "start_time": "2021-11-13T23:49:55.165Z"
   },
   {
    "duration": 111,
    "start_time": "2021-11-13T23:49:55.223Z"
   },
   {
    "duration": 1500,
    "start_time": "2021-11-13T23:49:55.337Z"
   },
   {
    "duration": 3085,
    "start_time": "2021-11-13T23:49:56.840Z"
   },
   {
    "duration": 12,
    "start_time": "2021-11-13T23:49:59.927Z"
   },
   {
    "duration": 700,
    "start_time": "2021-11-13T23:49:59.942Z"
   },
   {
    "duration": 6,
    "start_time": "2021-11-13T23:50:00.645Z"
   },
   {
    "duration": 297,
    "start_time": "2021-11-14T10:44:43.769Z"
   },
   {
    "duration": 250,
    "start_time": "2021-11-14T10:45:26.604Z"
   },
   {
    "duration": 262,
    "start_time": "2021-11-14T10:45:34.062Z"
   },
   {
    "duration": 1107,
    "start_time": "2021-11-14T10:45:45.561Z"
   },
   {
    "duration": 1038,
    "start_time": "2021-11-14T10:45:46.670Z"
   },
   {
    "duration": 18,
    "start_time": "2021-11-14T10:45:47.711Z"
   },
   {
    "duration": 45,
    "start_time": "2021-11-14T10:45:47.731Z"
   },
   {
    "duration": 166,
    "start_time": "2021-11-14T10:45:47.779Z"
   },
   {
    "duration": 136,
    "start_time": "2021-11-14T10:45:47.946Z"
   },
   {
    "duration": 105,
    "start_time": "2021-11-14T10:45:48.084Z"
   },
   {
    "duration": 31,
    "start_time": "2021-11-14T10:45:48.192Z"
   },
   {
    "duration": 51,
    "start_time": "2021-11-14T10:45:48.226Z"
   },
   {
    "duration": 5,
    "start_time": "2021-11-14T10:45:48.279Z"
   },
   {
    "duration": 756,
    "start_time": "2021-11-14T10:45:48.285Z"
   },
   {
    "duration": 552,
    "start_time": "2021-11-14T10:45:49.042Z"
   },
   {
    "duration": 32,
    "start_time": "2021-11-14T10:45:49.596Z"
   },
   {
    "duration": 423,
    "start_time": "2021-11-14T10:45:49.630Z"
   },
   {
    "duration": 14,
    "start_time": "2021-11-14T10:45:50.055Z"
   },
   {
    "duration": 4423,
    "start_time": "2021-11-14T10:45:50.071Z"
   },
   {
    "duration": 4,
    "start_time": "2021-11-14T10:45:54.495Z"
   },
   {
    "duration": 37,
    "start_time": "2021-11-14T10:45:54.501Z"
   },
   {
    "duration": 2458,
    "start_time": "2021-11-14T10:45:54.564Z"
   },
   {
    "duration": 12,
    "start_time": "2021-11-14T10:45:57.024Z"
   },
   {
    "duration": 44,
    "start_time": "2021-11-14T10:45:57.037Z"
   },
   {
    "duration": 7,
    "start_time": "2021-11-14T10:45:57.083Z"
   },
   {
    "duration": 81,
    "start_time": "2021-11-14T10:45:57.093Z"
   },
   {
    "duration": 995,
    "start_time": "2021-11-14T10:45:57.176Z"
   },
   {
    "duration": 1894,
    "start_time": "2021-11-14T10:45:58.173Z"
   },
   {
    "duration": 9,
    "start_time": "2021-11-14T10:46:00.069Z"
   },
   {
    "duration": 454,
    "start_time": "2021-11-14T10:46:00.080Z"
   },
   {
    "duration": 5,
    "start_time": "2021-11-14T10:46:00.535Z"
   },
   {
    "duration": 16,
    "start_time": "2021-11-14T10:48:23.565Z"
   },
   {
    "duration": 12,
    "start_time": "2021-11-14T10:48:43.151Z"
   },
   {
    "duration": 5,
    "start_time": "2021-11-14T10:48:53.306Z"
   },
   {
    "duration": -443,
    "start_time": "2021-11-14T10:51:48.227Z"
   },
   {
    "duration": 6924,
    "start_time": "2021-11-14T10:52:35.432Z"
   },
   {
    "duration": 1082,
    "start_time": "2021-11-14T10:53:01.476Z"
   },
   {
    "duration": 1031,
    "start_time": "2021-11-14T10:53:02.560Z"
   },
   {
    "duration": 18,
    "start_time": "2021-11-14T10:53:03.593Z"
   },
   {
    "duration": 20,
    "start_time": "2021-11-14T10:53:03.613Z"
   },
   {
    "duration": 185,
    "start_time": "2021-11-14T10:53:03.635Z"
   },
   {
    "duration": 124,
    "start_time": "2021-11-14T10:53:03.822Z"
   },
   {
    "duration": 335,
    "start_time": "2021-11-14T10:53:03.948Z"
   },
   {
    "duration": -87,
    "start_time": "2021-11-14T10:53:04.373Z"
   },
   {
    "duration": -91,
    "start_time": "2021-11-14T10:53:04.378Z"
   },
   {
    "duration": -95,
    "start_time": "2021-11-14T10:53:04.383Z"
   },
   {
    "duration": -97,
    "start_time": "2021-11-14T10:53:04.386Z"
   },
   {
    "duration": -99,
    "start_time": "2021-11-14T10:53:04.389Z"
   },
   {
    "duration": -100,
    "start_time": "2021-11-14T10:53:04.391Z"
   },
   {
    "duration": -102,
    "start_time": "2021-11-14T10:53:04.394Z"
   },
   {
    "duration": -105,
    "start_time": "2021-11-14T10:53:04.398Z"
   },
   {
    "duration": -137,
    "start_time": "2021-11-14T10:53:04.431Z"
   },
   {
    "duration": -142,
    "start_time": "2021-11-14T10:53:04.437Z"
   },
   {
    "duration": -146,
    "start_time": "2021-11-14T10:53:04.442Z"
   },
   {
    "duration": -148,
    "start_time": "2021-11-14T10:53:04.445Z"
   },
   {
    "duration": -151,
    "start_time": "2021-11-14T10:53:04.449Z"
   },
   {
    "duration": -153,
    "start_time": "2021-11-14T10:53:04.452Z"
   },
   {
    "duration": -157,
    "start_time": "2021-11-14T10:53:04.456Z"
   },
   {
    "duration": -158,
    "start_time": "2021-11-14T10:53:04.459Z"
   },
   {
    "duration": -161,
    "start_time": "2021-11-14T10:53:04.462Z"
   },
   {
    "duration": -162,
    "start_time": "2021-11-14T10:53:04.465Z"
   },
   {
    "duration": -164,
    "start_time": "2021-11-14T10:53:04.468Z"
   },
   {
    "duration": -166,
    "start_time": "2021-11-14T10:53:04.471Z"
   },
   {
    "duration": -168,
    "start_time": "2021-11-14T10:53:04.474Z"
   },
   {
    "duration": -199,
    "start_time": "2021-11-14T10:53:04.506Z"
   },
   {
    "duration": -201,
    "start_time": "2021-11-14T10:53:04.509Z"
   },
   {
    "duration": 94,
    "start_time": "2021-11-14T10:53:43.801Z"
   },
   {
    "duration": 281,
    "start_time": "2021-11-14T10:53:50.513Z"
   },
   {
    "duration": 264,
    "start_time": "2021-11-14T10:54:28.323Z"
   },
   {
    "duration": 303,
    "start_time": "2021-11-14T10:54:57.158Z"
   },
   {
    "duration": 1067,
    "start_time": "2021-11-14T10:55:04.683Z"
   },
   {
    "duration": 985,
    "start_time": "2021-11-14T10:55:05.752Z"
   },
   {
    "duration": 18,
    "start_time": "2021-11-14T10:55:06.764Z"
   },
   {
    "duration": 18,
    "start_time": "2021-11-14T10:55:06.784Z"
   },
   {
    "duration": 175,
    "start_time": "2021-11-14T10:55:06.804Z"
   },
   {
    "duration": 123,
    "start_time": "2021-11-14T10:55:06.981Z"
   },
   {
    "duration": 342,
    "start_time": "2021-11-14T10:55:07.106Z"
   },
   {
    "duration": -289,
    "start_time": "2021-11-14T10:55:07.740Z"
   },
   {
    "duration": -295,
    "start_time": "2021-11-14T10:55:07.747Z"
   },
   {
    "duration": -299,
    "start_time": "2021-11-14T10:55:07.752Z"
   },
   {
    "duration": -303,
    "start_time": "2021-11-14T10:55:07.757Z"
   },
   {
    "duration": -306,
    "start_time": "2021-11-14T10:55:07.761Z"
   },
   {
    "duration": -310,
    "start_time": "2021-11-14T10:55:07.766Z"
   },
   {
    "duration": -312,
    "start_time": "2021-11-14T10:55:07.769Z"
   },
   {
    "duration": -315,
    "start_time": "2021-11-14T10:55:07.773Z"
   },
   {
    "duration": -318,
    "start_time": "2021-11-14T10:55:07.777Z"
   },
   {
    "duration": -320,
    "start_time": "2021-11-14T10:55:07.780Z"
   },
   {
    "duration": -322,
    "start_time": "2021-11-14T10:55:07.783Z"
   },
   {
    "duration": -330,
    "start_time": "2021-11-14T10:55:07.792Z"
   },
   {
    "duration": -332,
    "start_time": "2021-11-14T10:55:07.795Z"
   },
   {
    "duration": -335,
    "start_time": "2021-11-14T10:55:07.799Z"
   },
   {
    "duration": -336,
    "start_time": "2021-11-14T10:55:07.801Z"
   },
   {
    "duration": -340,
    "start_time": "2021-11-14T10:55:07.806Z"
   },
   {
    "duration": -343,
    "start_time": "2021-11-14T10:55:07.810Z"
   },
   {
    "duration": -346,
    "start_time": "2021-11-14T10:55:07.814Z"
   },
   {
    "duration": -348,
    "start_time": "2021-11-14T10:55:07.816Z"
   },
   {
    "duration": -351,
    "start_time": "2021-11-14T10:55:07.820Z"
   },
   {
    "duration": -353,
    "start_time": "2021-11-14T10:55:07.823Z"
   },
   {
    "duration": -354,
    "start_time": "2021-11-14T10:55:07.825Z"
   },
   {
    "duration": -356,
    "start_time": "2021-11-14T10:55:07.828Z"
   },
   {
    "duration": -366,
    "start_time": "2021-11-14T10:55:07.839Z"
   },
   {
    "duration": 23,
    "start_time": "2021-11-14T10:57:20.316Z"
   },
   {
    "duration": 35,
    "start_time": "2021-11-14T10:57:23.753Z"
   },
   {
    "duration": 24,
    "start_time": "2021-11-14T10:57:32.068Z"
   },
   {
    "duration": 14,
    "start_time": "2021-11-14T10:57:33.375Z"
   },
   {
    "duration": 13,
    "start_time": "2021-11-14T10:58:37.898Z"
   },
   {
    "duration": 6,
    "start_time": "2021-11-14T10:59:21.933Z"
   },
   {
    "duration": 5,
    "start_time": "2021-11-14T11:00:03.263Z"
   },
   {
    "duration": 475,
    "start_time": "2021-11-14T11:00:05.763Z"
   },
   {
    "duration": 541,
    "start_time": "2021-11-14T11:00:19.899Z"
   },
   {
    "duration": 86,
    "start_time": "2021-11-14T11:01:00.956Z"
   },
   {
    "duration": 164,
    "start_time": "2021-11-14T11:01:06.209Z"
   },
   {
    "duration": 282,
    "start_time": "2021-11-14T11:01:26.692Z"
   },
   {
    "duration": 289,
    "start_time": "2021-11-14T11:01:40.634Z"
   },
   {
    "duration": 1136,
    "start_time": "2021-11-14T11:01:46.731Z"
   },
   {
    "duration": 1064,
    "start_time": "2021-11-14T11:01:47.869Z"
   },
   {
    "duration": 42,
    "start_time": "2021-11-14T11:01:48.935Z"
   },
   {
    "duration": 18,
    "start_time": "2021-11-14T11:01:48.979Z"
   },
   {
    "duration": 184,
    "start_time": "2021-11-14T11:01:48.998Z"
   },
   {
    "duration": 127,
    "start_time": "2021-11-14T11:01:49.184Z"
   },
   {
    "duration": 23,
    "start_time": "2021-11-14T11:01:49.313Z"
   },
   {
    "duration": 52,
    "start_time": "2021-11-14T11:01:49.338Z"
   },
   {
    "duration": 14,
    "start_time": "2021-11-14T11:01:49.393Z"
   },
   {
    "duration": 122,
    "start_time": "2021-11-14T11:01:49.409Z"
   },
   {
    "duration": 51,
    "start_time": "2021-11-14T11:01:49.533Z"
   },
   {
    "duration": 30,
    "start_time": "2021-11-14T11:01:49.586Z"
   },
   {
    "duration": 6,
    "start_time": "2021-11-14T11:01:49.619Z"
   },
   {
    "duration": 517,
    "start_time": "2021-11-14T11:01:49.627Z"
   },
   {
    "duration": 537,
    "start_time": "2021-11-14T11:01:50.147Z"
   },
   {
    "duration": 34,
    "start_time": "2021-11-14T11:01:50.686Z"
   },
   {
    "duration": 423,
    "start_time": "2021-11-14T11:01:50.722Z"
   },
   {
    "duration": 20,
    "start_time": "2021-11-14T11:01:51.147Z"
   },
   {
    "duration": 4271,
    "start_time": "2021-11-14T11:01:51.169Z"
   },
   {
    "duration": 4,
    "start_time": "2021-11-14T11:01:55.442Z"
   },
   {
    "duration": 32,
    "start_time": "2021-11-14T11:01:55.463Z"
   },
   {
    "duration": 2344,
    "start_time": "2021-11-14T11:01:55.497Z"
   },
   {
    "duration": 25,
    "start_time": "2021-11-14T11:01:57.844Z"
   },
   {
    "duration": 26,
    "start_time": "2021-11-14T11:01:57.871Z"
   },
   {
    "duration": 7,
    "start_time": "2021-11-14T11:01:57.899Z"
   },
   {
    "duration": 82,
    "start_time": "2021-11-14T11:01:57.908Z"
   },
   {
    "duration": 1061,
    "start_time": "2021-11-14T11:01:57.992Z"
   },
   {
    "duration": 2023,
    "start_time": "2021-11-14T11:01:59.056Z"
   },
   {
    "duration": 9,
    "start_time": "2021-11-14T11:02:01.081Z"
   },
   {
    "duration": 446,
    "start_time": "2021-11-14T11:02:01.092Z"
   },
   {
    "duration": 4,
    "start_time": "2021-11-14T11:02:01.540Z"
   },
   {
    "duration": 355,
    "start_time": "2021-11-14T11:02:21.470Z"
   },
   {
    "duration": 260,
    "start_time": "2021-11-14T11:03:49.951Z"
   },
   {
    "duration": 1063,
    "start_time": "2021-11-14T11:04:01.686Z"
   },
   {
    "duration": 983,
    "start_time": "2021-11-14T11:04:02.750Z"
   },
   {
    "duration": 41,
    "start_time": "2021-11-14T11:04:03.735Z"
   },
   {
    "duration": 17,
    "start_time": "2021-11-14T11:04:03.778Z"
   },
   {
    "duration": 173,
    "start_time": "2021-11-14T11:04:03.797Z"
   },
   {
    "duration": 125,
    "start_time": "2021-11-14T11:04:03.972Z"
   },
   {
    "duration": 23,
    "start_time": "2021-11-14T11:04:04.098Z"
   },
   {
    "duration": 52,
    "start_time": "2021-11-14T11:04:04.123Z"
   },
   {
    "duration": 12,
    "start_time": "2021-11-14T11:04:04.177Z"
   },
   {
    "duration": 111,
    "start_time": "2021-11-14T11:04:04.191Z"
   },
   {
    "duration": 32,
    "start_time": "2021-11-14T11:04:04.304Z"
   },
   {
    "duration": 48,
    "start_time": "2021-11-14T11:04:04.338Z"
   },
   {
    "duration": 6,
    "start_time": "2021-11-14T11:04:04.388Z"
   },
   {
    "duration": 724,
    "start_time": "2021-11-14T11:04:04.396Z"
   },
   {
    "duration": 513,
    "start_time": "2021-11-14T11:04:05.122Z"
   },
   {
    "duration": 328,
    "start_time": "2021-11-14T11:04:05.637Z"
   },
   {
    "duration": -25,
    "start_time": "2021-11-14T11:04:05.992Z"
   },
   {
    "duration": -28,
    "start_time": "2021-11-14T11:04:05.996Z"
   },
   {
    "duration": -32,
    "start_time": "2021-11-14T11:04:06.000Z"
   },
   {
    "duration": -53,
    "start_time": "2021-11-14T11:04:06.022Z"
   },
   {
    "duration": -57,
    "start_time": "2021-11-14T11:04:06.027Z"
   },
   {
    "duration": -59,
    "start_time": "2021-11-14T11:04:06.030Z"
   },
   {
    "duration": -62,
    "start_time": "2021-11-14T11:04:06.034Z"
   },
   {
    "duration": -63,
    "start_time": "2021-11-14T11:04:06.036Z"
   },
   {
    "duration": -66,
    "start_time": "2021-11-14T11:04:06.039Z"
   },
   {
    "duration": -74,
    "start_time": "2021-11-14T11:04:06.048Z"
   },
   {
    "duration": -76,
    "start_time": "2021-11-14T11:04:06.051Z"
   },
   {
    "duration": -78,
    "start_time": "2021-11-14T11:04:06.054Z"
   },
   {
    "duration": -79,
    "start_time": "2021-11-14T11:04:06.056Z"
   },
   {
    "duration": -82,
    "start_time": "2021-11-14T11:04:06.059Z"
   },
   {
    "duration": -84,
    "start_time": "2021-11-14T11:04:06.062Z"
   },
   {
    "duration": 30,
    "start_time": "2021-11-14T11:06:43.373Z"
   },
   {
    "duration": 381,
    "start_time": "2021-11-14T11:06:59.735Z"
   },
   {
    "duration": 11,
    "start_time": "2021-11-14T11:07:37.788Z"
   },
   {
    "duration": 4215,
    "start_time": "2021-11-14T11:07:52.722Z"
   },
   {
    "duration": 7474,
    "start_time": "2021-11-14T11:21:24.199Z"
   },
   {
    "duration": 1118,
    "start_time": "2021-11-14T11:21:46.632Z"
   },
   {
    "duration": 1014,
    "start_time": "2021-11-14T11:21:47.752Z"
   },
   {
    "duration": 18,
    "start_time": "2021-11-14T11:21:48.768Z"
   },
   {
    "duration": 18,
    "start_time": "2021-11-14T11:21:48.788Z"
   },
   {
    "duration": 176,
    "start_time": "2021-11-14T11:21:48.807Z"
   },
   {
    "duration": 113,
    "start_time": "2021-11-14T11:21:48.984Z"
   },
   {
    "duration": 21,
    "start_time": "2021-11-14T11:21:49.099Z"
   },
   {
    "duration": 53,
    "start_time": "2021-11-14T11:21:49.123Z"
   },
   {
    "duration": 11,
    "start_time": "2021-11-14T11:21:49.178Z"
   },
   {
    "duration": 109,
    "start_time": "2021-11-14T11:21:49.190Z"
   },
   {
    "duration": 29,
    "start_time": "2021-11-14T11:21:49.301Z"
   },
   {
    "duration": 50,
    "start_time": "2021-11-14T11:21:49.332Z"
   },
   {
    "duration": 5,
    "start_time": "2021-11-14T11:21:49.383Z"
   },
   {
    "duration": 476,
    "start_time": "2021-11-14T11:21:49.389Z"
   },
   {
    "duration": 515,
    "start_time": "2021-11-14T11:21:49.867Z"
   },
   {
    "duration": 33,
    "start_time": "2021-11-14T11:21:50.384Z"
   },
   {
    "duration": 406,
    "start_time": "2021-11-14T11:21:50.419Z"
   },
   {
    "duration": 11,
    "start_time": "2021-11-14T11:21:50.827Z"
   },
   {
    "duration": 6490,
    "start_time": "2021-11-14T11:21:50.839Z"
   },
   {
    "duration": -169,
    "start_time": "2021-11-14T11:21:57.502Z"
   },
   {
    "duration": -180,
    "start_time": "2021-11-14T11:21:57.514Z"
   },
   {
    "duration": -181,
    "start_time": "2021-11-14T11:21:57.517Z"
   },
   {
    "duration": -184,
    "start_time": "2021-11-14T11:21:57.521Z"
   },
   {
    "duration": -193,
    "start_time": "2021-11-14T11:21:57.532Z"
   },
   {
    "duration": -195,
    "start_time": "2021-11-14T11:21:57.535Z"
   },
   {
    "duration": -198,
    "start_time": "2021-11-14T11:21:57.539Z"
   },
   {
    "duration": -206,
    "start_time": "2021-11-14T11:21:57.549Z"
   },
   {
    "duration": -213,
    "start_time": "2021-11-14T11:21:57.557Z"
   },
   {
    "duration": -220,
    "start_time": "2021-11-14T11:21:57.566Z"
   },
   {
    "duration": -222,
    "start_time": "2021-11-14T11:21:57.569Z"
   },
   {
    "duration": -223,
    "start_time": "2021-11-14T11:21:57.572Z"
   },
   {
    "duration": -289,
    "start_time": "2021-11-14T11:58:27.886Z"
   },
   {
    "duration": 1144,
    "start_time": "2021-11-14T11:58:39.325Z"
   },
   {
    "duration": 1109,
    "start_time": "2021-11-14T11:58:40.472Z"
   },
   {
    "duration": 19,
    "start_time": "2021-11-14T11:58:41.584Z"
   },
   {
    "duration": 21,
    "start_time": "2021-11-14T11:58:41.606Z"
   },
   {
    "duration": 195,
    "start_time": "2021-11-14T11:58:41.629Z"
   },
   {
    "duration": 125,
    "start_time": "2021-11-14T11:58:41.825Z"
   },
   {
    "duration": 31,
    "start_time": "2021-11-14T11:58:41.952Z"
   },
   {
    "duration": 35,
    "start_time": "2021-11-14T11:58:41.986Z"
   },
   {
    "duration": 12,
    "start_time": "2021-11-14T11:58:42.024Z"
   },
   {
    "duration": 126,
    "start_time": "2021-11-14T11:58:42.038Z"
   },
   {
    "duration": 33,
    "start_time": "2021-11-14T11:58:42.166Z"
   },
   {
    "duration": 30,
    "start_time": "2021-11-14T11:58:42.201Z"
   },
   {
    "duration": 31,
    "start_time": "2021-11-14T11:58:42.233Z"
   },
   {
    "duration": 508,
    "start_time": "2021-11-14T11:58:42.266Z"
   },
   {
    "duration": 589,
    "start_time": "2021-11-14T11:58:42.776Z"
   },
   {
    "duration": 35,
    "start_time": "2021-11-14T11:58:43.367Z"
   },
   {
    "duration": 604,
    "start_time": "2021-11-14T11:58:43.404Z"
   },
   {
    "duration": 61,
    "start_time": "2021-11-14T11:58:44.010Z"
   },
   {
    "duration": 4654,
    "start_time": "2021-11-14T11:58:44.073Z"
   },
   {
    "duration": 4,
    "start_time": "2021-11-14T11:58:48.729Z"
   },
   {
    "duration": 58,
    "start_time": "2021-11-14T11:58:48.734Z"
   },
   {
    "duration": 2663,
    "start_time": "2021-11-14T11:58:48.794Z"
   },
   {
    "duration": 13,
    "start_time": "2021-11-14T11:58:51.460Z"
   },
   {
    "duration": 30,
    "start_time": "2021-11-14T11:58:51.475Z"
   },
   {
    "duration": 8,
    "start_time": "2021-11-14T11:58:51.506Z"
   },
   {
    "duration": 96,
    "start_time": "2021-11-14T11:58:51.516Z"
   },
   {
    "duration": 1092,
    "start_time": "2021-11-14T11:58:51.613Z"
   },
   {
    "duration": 2012,
    "start_time": "2021-11-14T11:58:52.708Z"
   },
   {
    "duration": 10,
    "start_time": "2021-11-14T11:58:54.722Z"
   },
   {
    "duration": 548,
    "start_time": "2021-11-14T11:58:54.734Z"
   },
   {
    "duration": 5,
    "start_time": "2021-11-14T11:58:55.284Z"
   },
   {
    "duration": 328,
    "start_time": "2021-11-17T01:55:08.313Z"
   },
   {
    "duration": 1015,
    "start_time": "2021-11-17T01:55:25.522Z"
   },
   {
    "duration": 900,
    "start_time": "2021-11-17T01:55:26.538Z"
   },
   {
    "duration": 14,
    "start_time": "2021-11-17T01:55:27.440Z"
   },
   {
    "duration": 37,
    "start_time": "2021-11-17T01:55:27.456Z"
   },
   {
    "duration": 148,
    "start_time": "2021-11-17T01:55:27.495Z"
   },
   {
    "duration": 109,
    "start_time": "2021-11-17T01:55:27.645Z"
   },
   {
    "duration": 31,
    "start_time": "2021-11-17T01:55:27.756Z"
   },
   {
    "duration": 27,
    "start_time": "2021-11-17T01:55:27.790Z"
   },
   {
    "duration": 11,
    "start_time": "2021-11-17T01:55:27.819Z"
   },
   {
    "duration": 94,
    "start_time": "2021-11-17T01:55:27.831Z"
   },
   {
    "duration": 29,
    "start_time": "2021-11-17T01:55:27.927Z"
   },
   {
    "duration": 45,
    "start_time": "2021-11-17T01:55:27.958Z"
   },
   {
    "duration": 4,
    "start_time": "2021-11-17T01:55:28.005Z"
   },
   {
    "duration": 436,
    "start_time": "2021-11-17T01:55:28.011Z"
   },
   {
    "duration": 773,
    "start_time": "2021-11-17T01:55:28.448Z"
   },
   {
    "duration": 88,
    "start_time": "2021-11-17T01:55:29.223Z"
   },
   {
    "duration": 553,
    "start_time": "2021-11-17T01:55:29.313Z"
   },
   {
    "duration": 20,
    "start_time": "2021-11-17T01:55:29.868Z"
   },
   {
    "duration": 6107,
    "start_time": "2021-11-17T01:55:29.890Z"
   },
   {
    "duration": 4,
    "start_time": "2021-11-17T01:55:35.998Z"
   },
   {
    "duration": 42,
    "start_time": "2021-11-17T01:55:36.004Z"
   },
   {
    "duration": 2576,
    "start_time": "2021-11-17T01:55:36.048Z"
   },
   {
    "duration": 14,
    "start_time": "2021-11-17T01:55:38.628Z"
   },
   {
    "duration": 55,
    "start_time": "2021-11-17T01:55:38.644Z"
   },
   {
    "duration": 8,
    "start_time": "2021-11-17T01:55:38.701Z"
   },
   {
    "duration": 95,
    "start_time": "2021-11-17T01:55:38.711Z"
   },
   {
    "duration": 1209,
    "start_time": "2021-11-17T01:55:38.808Z"
   },
   {
    "duration": 1949,
    "start_time": "2021-11-17T01:55:40.019Z"
   },
   {
    "duration": 20,
    "start_time": "2021-11-17T01:55:41.969Z"
   },
   {
    "duration": 429,
    "start_time": "2021-11-17T01:55:41.991Z"
   },
   {
    "duration": 4,
    "start_time": "2021-11-17T01:55:42.422Z"
   },
   {
    "duration": 3806,
    "start_time": "2021-11-17T02:47:59.959Z"
   },
   {
    "duration": 4086,
    "start_time": "2021-11-17T02:51:46.209Z"
   },
   {
    "duration": 4,
    "start_time": "2021-11-17T03:21:35.452Z"
   },
   {
    "duration": 21,
    "start_time": "2021-11-17T03:21:50.300Z"
   },
   {
    "duration": 631,
    "start_time": "2021-11-17T03:34:19.676Z"
   },
   {
    "duration": 1264,
    "start_time": "2021-11-17T03:34:31.468Z"
   },
   {
    "duration": 984,
    "start_time": "2021-11-17T03:34:32.734Z"
   },
   {
    "duration": 16,
    "start_time": "2021-11-17T03:34:33.720Z"
   },
   {
    "duration": 17,
    "start_time": "2021-11-17T03:34:33.738Z"
   },
   {
    "duration": 168,
    "start_time": "2021-11-17T03:34:33.757Z"
   },
   {
    "duration": 110,
    "start_time": "2021-11-17T03:34:33.927Z"
   },
   {
    "duration": 20,
    "start_time": "2021-11-17T03:34:34.039Z"
   },
   {
    "duration": 40,
    "start_time": "2021-11-17T03:34:34.061Z"
   },
   {
    "duration": 11,
    "start_time": "2021-11-17T03:34:34.103Z"
   },
   {
    "duration": 100,
    "start_time": "2021-11-17T03:34:34.115Z"
   },
   {
    "duration": 29,
    "start_time": "2021-11-17T03:34:34.217Z"
   },
   {
    "duration": 45,
    "start_time": "2021-11-17T03:34:34.248Z"
   },
   {
    "duration": 5,
    "start_time": "2021-11-17T03:34:34.295Z"
   },
   {
    "duration": 897,
    "start_time": "2021-11-17T03:34:34.302Z"
   },
   {
    "duration": 644,
    "start_time": "2021-11-17T03:34:35.201Z"
   },
   {
    "duration": 41,
    "start_time": "2021-11-17T03:34:35.847Z"
   },
   {
    "duration": 531,
    "start_time": "2021-11-17T03:34:35.890Z"
   },
   {
    "duration": 9,
    "start_time": "2021-11-17T03:34:36.423Z"
   },
   {
    "duration": 166,
    "start_time": "2021-11-17T03:34:36.434Z"
   },
   {
    "duration": 7832,
    "start_time": "2021-11-17T03:34:36.602Z"
   },
   {
    "duration": -149,
    "start_time": "2021-11-17T03:34:44.586Z"
   },
   {
    "duration": -154,
    "start_time": "2021-11-17T03:34:44.592Z"
   },
   {
    "duration": -166,
    "start_time": "2021-11-17T03:34:44.606Z"
   },
   {
    "duration": -170,
    "start_time": "2021-11-17T03:34:44.611Z"
   },
   {
    "duration": -180,
    "start_time": "2021-11-17T03:34:44.622Z"
   },
   {
    "duration": -183,
    "start_time": "2021-11-17T03:34:44.626Z"
   },
   {
    "duration": -193,
    "start_time": "2021-11-17T03:34:44.637Z"
   },
   {
    "duration": -194,
    "start_time": "2021-11-17T03:34:44.640Z"
   },
   {
    "duration": -205,
    "start_time": "2021-11-17T03:34:44.652Z"
   },
   {
    "duration": -210,
    "start_time": "2021-11-17T03:34:44.658Z"
   },
   {
    "duration": -220,
    "start_time": "2021-11-17T03:34:44.669Z"
   },
   {
    "duration": -222,
    "start_time": "2021-11-17T03:34:44.672Z"
   },
   {
    "duration": 7451,
    "start_time": "2021-11-17T03:35:04.900Z"
   },
   {
    "duration": 1023,
    "start_time": "2021-11-17T03:35:39.529Z"
   },
   {
    "duration": 938,
    "start_time": "2021-11-17T03:35:40.554Z"
   },
   {
    "duration": 16,
    "start_time": "2021-11-17T03:35:41.494Z"
   },
   {
    "duration": 16,
    "start_time": "2021-11-17T03:35:41.512Z"
   },
   {
    "duration": 162,
    "start_time": "2021-11-17T03:35:41.530Z"
   },
   {
    "duration": 111,
    "start_time": "2021-11-17T03:35:41.694Z"
   },
   {
    "duration": 19,
    "start_time": "2021-11-17T03:35:41.807Z"
   },
   {
    "duration": 28,
    "start_time": "2021-11-17T03:35:41.829Z"
   },
   {
    "duration": 36,
    "start_time": "2021-11-17T03:35:41.860Z"
   },
   {
    "duration": 97,
    "start_time": "2021-11-17T03:35:41.898Z"
   },
   {
    "duration": 31,
    "start_time": "2021-11-17T03:35:41.997Z"
   },
   {
    "duration": 25,
    "start_time": "2021-11-17T03:35:42.030Z"
   },
   {
    "duration": 31,
    "start_time": "2021-11-17T03:35:42.057Z"
   },
   {
    "duration": 457,
    "start_time": "2021-11-17T03:35:42.090Z"
   },
   {
    "duration": 767,
    "start_time": "2021-11-17T03:35:42.549Z"
   },
   {
    "duration": 36,
    "start_time": "2021-11-17T03:35:43.318Z"
   },
   {
    "duration": 580,
    "start_time": "2021-11-17T03:35:43.356Z"
   },
   {
    "duration": 13,
    "start_time": "2021-11-17T03:35:43.939Z"
   },
   {
    "duration": 212,
    "start_time": "2021-11-17T03:35:43.954Z"
   },
   {
    "duration": 8896,
    "start_time": "2021-11-17T03:35:44.169Z"
   },
   {
    "duration": -301,
    "start_time": "2021-11-17T03:35:53.369Z"
   },
   {
    "duration": -305,
    "start_time": "2021-11-17T03:35:53.374Z"
   },
   {
    "duration": -308,
    "start_time": "2021-11-17T03:35:53.378Z"
   },
   {
    "duration": -311,
    "start_time": "2021-11-17T03:35:53.382Z"
   },
   {
    "duration": -312,
    "start_time": "2021-11-17T03:35:53.385Z"
   },
   {
    "duration": -315,
    "start_time": "2021-11-17T03:35:53.389Z"
   },
   {
    "duration": -318,
    "start_time": "2021-11-17T03:35:53.393Z"
   },
   {
    "duration": -320,
    "start_time": "2021-11-17T03:35:53.396Z"
   },
   {
    "duration": -320,
    "start_time": "2021-11-17T03:35:53.398Z"
   },
   {
    "duration": -323,
    "start_time": "2021-11-17T03:35:53.402Z"
   },
   {
    "duration": -325,
    "start_time": "2021-11-17T03:35:53.405Z"
   },
   {
    "duration": -327,
    "start_time": "2021-11-17T03:35:53.408Z"
   },
   {
    "duration": 7485,
    "start_time": "2021-11-17T03:48:10.876Z"
   },
   {
    "duration": 6660,
    "start_time": "2021-11-17T03:48:45.122Z"
   },
   {
    "duration": 6561,
    "start_time": "2021-11-17T03:50:27.780Z"
   },
   {
    "duration": 6770,
    "start_time": "2021-11-17T03:50:58.331Z"
   },
   {
    "duration": 7524,
    "start_time": "2021-11-17T03:51:05.764Z"
   },
   {
    "duration": 6412,
    "start_time": "2021-11-17T03:52:12.895Z"
   },
   {
    "duration": 1273,
    "start_time": "2021-11-17T03:52:33.756Z"
   },
   {
    "duration": 1060,
    "start_time": "2021-11-17T03:52:35.031Z"
   },
   {
    "duration": 15,
    "start_time": "2021-11-17T03:52:36.093Z"
   },
   {
    "duration": 16,
    "start_time": "2021-11-17T03:52:36.110Z"
   },
   {
    "duration": 164,
    "start_time": "2021-11-17T03:52:36.128Z"
   },
   {
    "duration": 104,
    "start_time": "2021-11-17T03:52:36.294Z"
   },
   {
    "duration": 20,
    "start_time": "2021-11-17T03:52:36.399Z"
   },
   {
    "duration": 28,
    "start_time": "2021-11-17T03:52:36.422Z"
   },
   {
    "duration": 40,
    "start_time": "2021-11-17T03:52:36.452Z"
   },
   {
    "duration": 153,
    "start_time": "2021-11-17T03:52:36.494Z"
   },
   {
    "duration": 49,
    "start_time": "2021-11-17T03:52:36.648Z"
   },
   {
    "duration": 34,
    "start_time": "2021-11-17T03:52:36.699Z"
   },
   {
    "duration": 6,
    "start_time": "2021-11-17T03:52:36.735Z"
   },
   {
    "duration": 522,
    "start_time": "2021-11-17T03:52:36.743Z"
   },
   {
    "duration": 722,
    "start_time": "2021-11-17T03:52:37.267Z"
   },
   {
    "duration": 29,
    "start_time": "2021-11-17T03:52:37.991Z"
   },
   {
    "duration": 378,
    "start_time": "2021-11-17T03:52:38.022Z"
   },
   {
    "duration": 9,
    "start_time": "2021-11-17T03:52:38.401Z"
   },
   {
    "duration": 7873,
    "start_time": "2021-11-17T03:52:38.412Z"
   },
   {
    "duration": -185,
    "start_time": "2021-11-17T03:52:46.472Z"
   },
   {
    "duration": -190,
    "start_time": "2021-11-17T03:52:46.478Z"
   },
   {
    "duration": -192,
    "start_time": "2021-11-17T03:52:46.481Z"
   },
   {
    "duration": -221,
    "start_time": "2021-11-17T03:52:46.511Z"
   },
   {
    "duration": -227,
    "start_time": "2021-11-17T03:52:46.518Z"
   },
   {
    "duration": -231,
    "start_time": "2021-11-17T03:52:46.523Z"
   },
   {
    "duration": -241,
    "start_time": "2021-11-17T03:52:46.533Z"
   },
   {
    "duration": -244,
    "start_time": "2021-11-17T03:52:46.537Z"
   },
   {
    "duration": -247,
    "start_time": "2021-11-17T03:52:46.541Z"
   },
   {
    "duration": -249,
    "start_time": "2021-11-17T03:52:46.544Z"
   },
   {
    "duration": -252,
    "start_time": "2021-11-17T03:52:46.548Z"
   },
   {
    "duration": -253,
    "start_time": "2021-11-17T03:52:46.550Z"
   },
   {
    "duration": -256,
    "start_time": "2021-11-17T03:52:46.554Z"
   },
   {
    "duration": 6520,
    "start_time": "2021-11-17T03:55:53.997Z"
   },
   {
    "duration": 990,
    "start_time": "2021-11-17T03:56:45.536Z"
   },
   {
    "duration": 924,
    "start_time": "2021-11-17T03:56:46.528Z"
   },
   {
    "duration": 41,
    "start_time": "2021-11-17T03:56:47.454Z"
   },
   {
    "duration": 17,
    "start_time": "2021-11-17T03:56:47.497Z"
   },
   {
    "duration": 164,
    "start_time": "2021-11-17T03:56:47.516Z"
   },
   {
    "duration": 117,
    "start_time": "2021-11-17T03:56:47.682Z"
   },
   {
    "duration": 21,
    "start_time": "2021-11-17T03:56:47.800Z"
   },
   {
    "duration": 28,
    "start_time": "2021-11-17T03:56:47.823Z"
   },
   {
    "duration": 36,
    "start_time": "2021-11-17T03:56:47.853Z"
   },
   {
    "duration": 84,
    "start_time": "2021-11-17T03:56:47.890Z"
   },
   {
    "duration": 38,
    "start_time": "2021-11-17T03:56:47.976Z"
   },
   {
    "duration": 24,
    "start_time": "2021-11-17T03:56:48.016Z"
   },
   {
    "duration": 5,
    "start_time": "2021-11-17T03:56:48.041Z"
   },
   {
    "duration": 459,
    "start_time": "2021-11-17T03:56:48.047Z"
   },
   {
    "duration": 474,
    "start_time": "2021-11-17T03:56:48.508Z"
   },
   {
    "duration": 31,
    "start_time": "2021-11-17T03:56:48.987Z"
   },
   {
    "duration": 584,
    "start_time": "2021-11-17T03:56:49.020Z"
   },
   {
    "duration": 11,
    "start_time": "2021-11-17T03:56:49.606Z"
   },
   {
    "duration": 8525,
    "start_time": "2021-11-17T03:56:49.619Z"
   },
   {
    "duration": -130,
    "start_time": "2021-11-17T03:56:58.277Z"
   },
   {
    "duration": -133,
    "start_time": "2021-11-17T03:56:58.281Z"
   },
   {
    "duration": -134,
    "start_time": "2021-11-17T03:56:58.284Z"
   },
   {
    "duration": -138,
    "start_time": "2021-11-17T03:56:58.289Z"
   },
   {
    "duration": -141,
    "start_time": "2021-11-17T03:56:58.293Z"
   },
   {
    "duration": -143,
    "start_time": "2021-11-17T03:56:58.296Z"
   },
   {
    "duration": -146,
    "start_time": "2021-11-17T03:56:58.300Z"
   },
   {
    "duration": -149,
    "start_time": "2021-11-17T03:56:58.304Z"
   },
   {
    "duration": -157,
    "start_time": "2021-11-17T03:56:58.314Z"
   },
   {
    "duration": -160,
    "start_time": "2021-11-17T03:56:58.318Z"
   },
   {
    "duration": -162,
    "start_time": "2021-11-17T03:56:58.321Z"
   },
   {
    "duration": -165,
    "start_time": "2021-11-17T03:56:58.325Z"
   },
   {
    "duration": 6662,
    "start_time": "2021-11-17T03:59:09.729Z"
   },
   {
    "duration": 2,
    "start_time": "2021-11-17T04:02:03.340Z"
   },
   {
    "duration": 7331,
    "start_time": "2021-11-17T04:07:46.401Z"
   },
   {
    "duration": 6519,
    "start_time": "2021-11-17T04:13:33.848Z"
   },
   {
    "duration": 1125,
    "start_time": "2021-11-17T04:15:29.275Z"
   },
   {
    "duration": 934,
    "start_time": "2021-11-17T04:15:30.402Z"
   },
   {
    "duration": 17,
    "start_time": "2021-11-17T04:15:31.338Z"
   },
   {
    "duration": 39,
    "start_time": "2021-11-17T04:15:31.357Z"
   },
   {
    "duration": 152,
    "start_time": "2021-11-17T04:15:31.398Z"
   },
   {
    "duration": 115,
    "start_time": "2021-11-17T04:15:31.552Z"
   },
   {
    "duration": 29,
    "start_time": "2021-11-17T04:15:31.669Z"
   },
   {
    "duration": 29,
    "start_time": "2021-11-17T04:15:31.701Z"
   },
   {
    "duration": 10,
    "start_time": "2021-11-17T04:15:31.733Z"
   },
   {
    "duration": 107,
    "start_time": "2021-11-17T04:15:31.745Z"
   },
   {
    "duration": 42,
    "start_time": "2021-11-17T04:15:31.854Z"
   },
   {
    "duration": 24,
    "start_time": "2021-11-17T04:15:31.898Z"
   },
   {
    "duration": 4,
    "start_time": "2021-11-17T04:15:31.924Z"
   },
   {
    "duration": 439,
    "start_time": "2021-11-17T04:15:31.930Z"
   },
   {
    "duration": 464,
    "start_time": "2021-11-17T04:15:32.371Z"
   },
   {
    "duration": 29,
    "start_time": "2021-11-17T04:15:32.836Z"
   },
   {
    "duration": 367,
    "start_time": "2021-11-17T04:15:32.866Z"
   },
   {
    "duration": 10,
    "start_time": "2021-11-17T04:15:33.234Z"
   },
   {
    "duration": 12,
    "start_time": "2021-11-17T04:15:33.245Z"
   },
   {
    "duration": 8093,
    "start_time": "2021-11-17T04:15:33.259Z"
   },
   {
    "duration": -122,
    "start_time": "2021-11-17T04:15:41.477Z"
   },
   {
    "duration": -126,
    "start_time": "2021-11-17T04:15:41.482Z"
   },
   {
    "duration": -129,
    "start_time": "2021-11-17T04:15:41.486Z"
   },
   {
    "duration": -130,
    "start_time": "2021-11-17T04:15:41.489Z"
   },
   {
    "duration": -133,
    "start_time": "2021-11-17T04:15:41.493Z"
   },
   {
    "duration": -136,
    "start_time": "2021-11-17T04:15:41.497Z"
   },
   {
    "duration": -137,
    "start_time": "2021-11-17T04:15:41.500Z"
   },
   {
    "duration": -140,
    "start_time": "2021-11-17T04:15:41.504Z"
   },
   {
    "duration": -149,
    "start_time": "2021-11-17T04:15:41.514Z"
   },
   {
    "duration": -151,
    "start_time": "2021-11-17T04:15:41.517Z"
   },
   {
    "duration": -152,
    "start_time": "2021-11-17T04:15:41.520Z"
   },
   {
    "duration": -155,
    "start_time": "2021-11-17T04:15:41.524Z"
   },
   {
    "duration": 7767,
    "start_time": "2021-11-17T04:19:43.413Z"
   },
   {
    "duration": 6488,
    "start_time": "2021-11-17T04:20:15.453Z"
   },
   {
    "duration": 6344,
    "start_time": "2021-11-17T04:20:32.795Z"
   },
   {
    "duration": 6721,
    "start_time": "2021-11-17T04:20:52.573Z"
   },
   {
    "duration": 301,
    "start_time": "2021-11-17T04:22:47.898Z"
   },
   {
    "duration": 30,
    "start_time": "2021-11-17T04:22:53.946Z"
   },
   {
    "duration": 253,
    "start_time": "2021-11-17T04:24:33.974Z"
   },
   {
    "duration": 26,
    "start_time": "2021-11-17T04:24:46.952Z"
   },
   {
    "duration": 965,
    "start_time": "2021-11-17T04:26:18.493Z"
   },
   {
    "duration": 979,
    "start_time": "2021-11-17T04:26:19.460Z"
   },
   {
    "duration": 21,
    "start_time": "2021-11-17T04:26:20.441Z"
   },
   {
    "duration": 38,
    "start_time": "2021-11-17T04:26:20.465Z"
   },
   {
    "duration": 245,
    "start_time": "2021-11-17T04:26:20.505Z"
   },
   {
    "duration": 237,
    "start_time": "2021-11-17T04:26:20.752Z"
   },
   {
    "duration": 27,
    "start_time": "2021-11-17T04:26:20.991Z"
   },
   {
    "duration": 90,
    "start_time": "2021-11-17T04:26:21.021Z"
   },
   {
    "duration": 14,
    "start_time": "2021-11-17T04:26:21.113Z"
   },
   {
    "duration": 185,
    "start_time": "2021-11-17T04:26:21.128Z"
   },
   {
    "duration": 26,
    "start_time": "2021-11-17T04:26:21.314Z"
   },
   {
    "duration": 51,
    "start_time": "2021-11-17T04:26:21.342Z"
   },
   {
    "duration": 4,
    "start_time": "2021-11-17T04:26:21.394Z"
   },
   {
    "duration": 456,
    "start_time": "2021-11-17T04:26:21.400Z"
   },
   {
    "duration": 470,
    "start_time": "2021-11-17T04:26:21.858Z"
   },
   {
    "duration": 29,
    "start_time": "2021-11-17T04:26:22.329Z"
   },
   {
    "duration": 365,
    "start_time": "2021-11-17T04:26:22.360Z"
   },
   {
    "duration": 9,
    "start_time": "2021-11-17T04:26:22.727Z"
   },
   {
    "duration": 6,
    "start_time": "2021-11-17T04:26:22.738Z"
   },
   {
    "duration": 72,
    "start_time": "2021-11-17T04:26:22.745Z"
   },
   {
    "duration": 320,
    "start_time": "2021-11-17T04:26:22.819Z"
   },
   {
    "duration": -67,
    "start_time": "2021-11-17T04:26:23.208Z"
   },
   {
    "duration": -80,
    "start_time": "2021-11-17T04:26:23.222Z"
   },
   {
    "duration": -83,
    "start_time": "2021-11-17T04:26:23.226Z"
   },
   {
    "duration": -91,
    "start_time": "2021-11-17T04:26:23.235Z"
   },
   {
    "duration": -96,
    "start_time": "2021-11-17T04:26:23.240Z"
   },
   {
    "duration": -102,
    "start_time": "2021-11-17T04:26:23.247Z"
   },
   {
    "duration": -105,
    "start_time": "2021-11-17T04:26:23.251Z"
   },
   {
    "duration": -107,
    "start_time": "2021-11-17T04:26:23.253Z"
   },
   {
    "duration": -109,
    "start_time": "2021-11-17T04:26:23.256Z"
   },
   {
    "duration": -115,
    "start_time": "2021-11-17T04:26:23.263Z"
   },
   {
    "duration": -117,
    "start_time": "2021-11-17T04:26:23.266Z"
   },
   {
    "duration": 122,
    "start_time": "2021-11-17T05:11:56.870Z"
   },
   {
    "duration": 414,
    "start_time": "2021-11-17T05:12:41.766Z"
   },
   {
    "duration": 3,
    "start_time": "2021-11-17T05:12:51.272Z"
   },
   {
    "duration": 54,
    "start_time": "2021-11-17T05:12:52.500Z"
   },
   {
    "duration": 69,
    "start_time": "2021-11-17T05:13:16.347Z"
   },
   {
    "duration": 140,
    "start_time": "2021-11-17T05:13:53.721Z"
   },
   {
    "duration": 6308,
    "start_time": "2021-11-17T05:14:19.881Z"
   },
   {
    "duration": 6288,
    "start_time": "2021-11-17T05:14:51.139Z"
   },
   {
    "duration": 911,
    "start_time": "2021-11-17T05:15:06.340Z"
   },
   {
    "duration": 1068,
    "start_time": "2021-11-17T05:15:07.252Z"
   },
   {
    "duration": 15,
    "start_time": "2021-11-17T05:15:08.322Z"
   },
   {
    "duration": 15,
    "start_time": "2021-11-17T05:15:08.339Z"
   },
   {
    "duration": 172,
    "start_time": "2021-11-17T05:15:08.355Z"
   },
   {
    "duration": 109,
    "start_time": "2021-11-17T05:15:08.529Z"
   },
   {
    "duration": 19,
    "start_time": "2021-11-17T05:15:08.639Z"
   },
   {
    "duration": 47,
    "start_time": "2021-11-17T05:15:08.660Z"
   },
   {
    "duration": 10,
    "start_time": "2021-11-17T05:15:08.709Z"
   },
   {
    "duration": 99,
    "start_time": "2021-11-17T05:15:08.720Z"
   },
   {
    "duration": 29,
    "start_time": "2021-11-17T05:15:08.821Z"
   },
   {
    "duration": 46,
    "start_time": "2021-11-17T05:15:08.851Z"
   },
   {
    "duration": 4,
    "start_time": "2021-11-17T05:15:08.899Z"
   },
   {
    "duration": 650,
    "start_time": "2021-11-17T05:15:08.904Z"
   },
   {
    "duration": 465,
    "start_time": "2021-11-17T05:15:09.555Z"
   },
   {
    "duration": 29,
    "start_time": "2021-11-17T05:15:10.022Z"
   },
   {
    "duration": 366,
    "start_time": "2021-11-17T05:15:10.052Z"
   },
   {
    "duration": 13,
    "start_time": "2021-11-17T05:15:10.420Z"
   },
   {
    "duration": 5,
    "start_time": "2021-11-17T05:15:10.435Z"
   },
   {
    "duration": 158,
    "start_time": "2021-11-17T05:15:10.441Z"
   },
   {
    "duration": 343,
    "start_time": "2021-11-17T05:15:10.600Z"
   },
   {
    "duration": -54,
    "start_time": "2021-11-17T05:15:10.999Z"
   },
   {
    "duration": -59,
    "start_time": "2021-11-17T05:15:11.004Z"
   },
   {
    "duration": -62,
    "start_time": "2021-11-17T05:15:11.008Z"
   },
   {
    "duration": -64,
    "start_time": "2021-11-17T05:15:11.011Z"
   },
   {
    "duration": -68,
    "start_time": "2021-11-17T05:15:11.016Z"
   },
   {
    "duration": -69,
    "start_time": "2021-11-17T05:15:11.018Z"
   },
   {
    "duration": -71,
    "start_time": "2021-11-17T05:15:11.021Z"
   },
   {
    "duration": -73,
    "start_time": "2021-11-17T05:15:11.024Z"
   },
   {
    "duration": -75,
    "start_time": "2021-11-17T05:15:11.027Z"
   },
   {
    "duration": -77,
    "start_time": "2021-11-17T05:15:11.030Z"
   },
   {
    "duration": -80,
    "start_time": "2021-11-17T05:15:11.033Z"
   },
   {
    "duration": 6727,
    "start_time": "2021-11-17T05:15:20.552Z"
   },
   {
    "duration": 6536,
    "start_time": "2021-11-17T05:15:39.440Z"
   },
   {
    "duration": 998,
    "start_time": "2021-11-17T05:16:54.685Z"
   },
   {
    "duration": 916,
    "start_time": "2021-11-17T05:16:55.685Z"
   },
   {
    "duration": 16,
    "start_time": "2021-11-17T05:16:56.603Z"
   },
   {
    "duration": 16,
    "start_time": "2021-11-17T05:16:56.621Z"
   },
   {
    "duration": 172,
    "start_time": "2021-11-17T05:16:56.639Z"
   },
   {
    "duration": 107,
    "start_time": "2021-11-17T05:16:56.812Z"
   },
   {
    "duration": 19,
    "start_time": "2021-11-17T05:16:56.921Z"
   },
   {
    "duration": 27,
    "start_time": "2021-11-17T05:16:56.942Z"
   },
   {
    "duration": 10,
    "start_time": "2021-11-17T05:16:56.988Z"
   },
   {
    "duration": 100,
    "start_time": "2021-11-17T05:16:56.999Z"
   },
   {
    "duration": 27,
    "start_time": "2021-11-17T05:16:57.101Z"
   },
   {
    "duration": 23,
    "start_time": "2021-11-17T05:16:57.130Z"
   },
   {
    "duration": 33,
    "start_time": "2021-11-17T05:16:57.155Z"
   },
   {
    "duration": 733,
    "start_time": "2021-11-17T05:16:57.189Z"
   },
   {
    "duration": 472,
    "start_time": "2021-11-17T05:16:57.923Z"
   },
   {
    "duration": 29,
    "start_time": "2021-11-17T05:16:58.397Z"
   },
   {
    "duration": 375,
    "start_time": "2021-11-17T05:16:58.427Z"
   },
   {
    "duration": 9,
    "start_time": "2021-11-17T05:16:58.804Z"
   },
   {
    "duration": 4,
    "start_time": "2021-11-17T05:16:58.815Z"
   },
   {
    "duration": 144,
    "start_time": "2021-11-17T05:16:58.821Z"
   },
   {
    "duration": 346,
    "start_time": "2021-11-17T05:16:58.967Z"
   },
   {
    "duration": -78,
    "start_time": "2021-11-17T05:16:59.393Z"
   },
   {
    "duration": -82,
    "start_time": "2021-11-17T05:16:59.398Z"
   },
   {
    "duration": -85,
    "start_time": "2021-11-17T05:16:59.402Z"
   },
   {
    "duration": -87,
    "start_time": "2021-11-17T05:16:59.405Z"
   },
   {
    "duration": -89,
    "start_time": "2021-11-17T05:16:59.408Z"
   },
   {
    "duration": -91,
    "start_time": "2021-11-17T05:16:59.411Z"
   },
   {
    "duration": -93,
    "start_time": "2021-11-17T05:16:59.414Z"
   },
   {
    "duration": -94,
    "start_time": "2021-11-17T05:16:59.416Z"
   },
   {
    "duration": -96,
    "start_time": "2021-11-17T05:16:59.419Z"
   },
   {
    "duration": -98,
    "start_time": "2021-11-17T05:16:59.422Z"
   },
   {
    "duration": -100,
    "start_time": "2021-11-17T05:16:59.425Z"
   },
   {
    "duration": 7215,
    "start_time": "2021-11-17T05:17:24.944Z"
   },
   {
    "duration": 10723,
    "start_time": "2021-11-17T05:21:44.390Z"
   },
   {
    "duration": 965,
    "start_time": "2021-11-17T05:22:07.738Z"
   },
   {
    "duration": 917,
    "start_time": "2021-11-17T05:22:08.705Z"
   },
   {
    "duration": 16,
    "start_time": "2021-11-17T05:22:09.623Z"
   },
   {
    "duration": 15,
    "start_time": "2021-11-17T05:22:09.641Z"
   },
   {
    "duration": 166,
    "start_time": "2021-11-17T05:22:09.658Z"
   },
   {
    "duration": 105,
    "start_time": "2021-11-17T05:22:09.826Z"
   },
   {
    "duration": 19,
    "start_time": "2021-11-17T05:22:09.932Z"
   },
   {
    "duration": 44,
    "start_time": "2021-11-17T05:22:09.954Z"
   },
   {
    "duration": 11,
    "start_time": "2021-11-17T05:22:10.000Z"
   },
   {
    "duration": 110,
    "start_time": "2021-11-17T05:22:10.013Z"
   },
   {
    "duration": 27,
    "start_time": "2021-11-17T05:22:10.125Z"
   },
   {
    "duration": 44,
    "start_time": "2021-11-17T05:22:10.153Z"
   },
   {
    "duration": 4,
    "start_time": "2021-11-17T05:22:10.199Z"
   },
   {
    "duration": 645,
    "start_time": "2021-11-17T05:22:10.204Z"
   },
   {
    "duration": 479,
    "start_time": "2021-11-17T05:22:10.851Z"
   },
   {
    "duration": 28,
    "start_time": "2021-11-17T05:22:11.331Z"
   },
   {
    "duration": 368,
    "start_time": "2021-11-17T05:22:11.361Z"
   },
   {
    "duration": 9,
    "start_time": "2021-11-17T05:22:11.731Z"
   },
   {
    "duration": 15,
    "start_time": "2021-11-17T05:22:11.742Z"
   },
   {
    "duration": 4162,
    "start_time": "2021-11-17T05:22:11.758Z"
   },
   {
    "duration": 3,
    "start_time": "2021-11-17T05:22:15.922Z"
   },
   {
    "duration": 30,
    "start_time": "2021-11-17T05:22:15.927Z"
   },
   {
    "duration": 2485,
    "start_time": "2021-11-17T05:22:15.959Z"
   },
   {
    "duration": 10,
    "start_time": "2021-11-17T05:22:18.446Z"
   },
   {
    "duration": 42,
    "start_time": "2021-11-17T05:22:18.458Z"
   },
   {
    "duration": 6,
    "start_time": "2021-11-17T05:22:18.502Z"
   },
   {
    "duration": 54,
    "start_time": "2021-11-17T05:22:18.510Z"
   },
   {
    "duration": 888,
    "start_time": "2021-11-17T05:22:18.566Z"
   },
   {
    "duration": 1681,
    "start_time": "2021-11-17T05:22:19.455Z"
   },
   {
    "duration": 7,
    "start_time": "2021-11-17T05:22:21.138Z"
   },
   {
    "duration": 377,
    "start_time": "2021-11-17T05:22:21.147Z"
   },
   {
    "duration": 4,
    "start_time": "2021-11-17T05:22:21.526Z"
   },
   {
    "duration": 7010,
    "start_time": "2021-11-17T05:22:33.901Z"
   },
   {
    "duration": 977,
    "start_time": "2021-11-17T05:23:07.511Z"
   },
   {
    "duration": 1344,
    "start_time": "2021-11-17T05:23:08.490Z"
   },
   {
    "duration": 16,
    "start_time": "2021-11-17T05:23:09.837Z"
   },
   {
    "duration": 48,
    "start_time": "2021-11-17T05:23:09.855Z"
   },
   {
    "duration": 154,
    "start_time": "2021-11-17T05:23:09.904Z"
   },
   {
    "duration": 111,
    "start_time": "2021-11-17T05:23:10.060Z"
   },
   {
    "duration": 27,
    "start_time": "2021-11-17T05:23:10.173Z"
   },
   {
    "duration": 26,
    "start_time": "2021-11-17T05:23:10.203Z"
   },
   {
    "duration": 11,
    "start_time": "2021-11-17T05:23:10.232Z"
   },
   {
    "duration": 112,
    "start_time": "2021-11-17T05:23:10.245Z"
   },
   {
    "duration": 40,
    "start_time": "2021-11-17T05:23:10.359Z"
   },
   {
    "duration": 26,
    "start_time": "2021-11-17T05:23:10.401Z"
   },
   {
    "duration": 6,
    "start_time": "2021-11-17T05:23:10.429Z"
   },
   {
    "duration": 438,
    "start_time": "2021-11-17T05:23:10.437Z"
   },
   {
    "duration": 465,
    "start_time": "2021-11-17T05:23:10.877Z"
   },
   {
    "duration": 28,
    "start_time": "2021-11-17T05:23:11.344Z"
   },
   {
    "duration": 360,
    "start_time": "2021-11-17T05:23:11.374Z"
   },
   {
    "duration": 9,
    "start_time": "2021-11-17T05:23:11.736Z"
   },
   {
    "duration": 4,
    "start_time": "2021-11-17T05:23:11.747Z"
   },
   {
    "duration": 3967,
    "start_time": "2021-11-17T05:23:11.752Z"
   },
   {
    "duration": 3,
    "start_time": "2021-11-17T05:23:15.721Z"
   },
   {
    "duration": 32,
    "start_time": "2021-11-17T05:23:15.726Z"
   },
   {
    "duration": 2028,
    "start_time": "2021-11-17T05:23:15.761Z"
   },
   {
    "duration": 10,
    "start_time": "2021-11-17T05:23:17.791Z"
   },
   {
    "duration": 24,
    "start_time": "2021-11-17T05:23:17.803Z"
   },
   {
    "duration": 7,
    "start_time": "2021-11-17T05:23:17.828Z"
   },
   {
    "duration": 84,
    "start_time": "2021-11-17T05:23:17.836Z"
   },
   {
    "duration": 911,
    "start_time": "2021-11-17T05:23:17.921Z"
   },
   {
    "duration": 1727,
    "start_time": "2021-11-17T05:23:18.834Z"
   },
   {
    "duration": 7,
    "start_time": "2021-11-17T05:23:20.563Z"
   },
   {
    "duration": 381,
    "start_time": "2021-11-17T05:23:20.571Z"
   },
   {
    "duration": 5,
    "start_time": "2021-11-17T05:23:20.953Z"
   },
   {
    "duration": 7157,
    "start_time": "2021-11-17T05:24:32.389Z"
   },
   {
    "duration": 6399,
    "start_time": "2021-11-17T05:25:46.977Z"
   },
   {
    "duration": 7477,
    "start_time": "2021-11-17T05:25:58.782Z"
   },
   {
    "duration": 1016,
    "start_time": "2021-11-17T05:27:10.839Z"
   },
   {
    "duration": 947,
    "start_time": "2021-11-17T05:27:11.857Z"
   },
   {
    "duration": 15,
    "start_time": "2021-11-17T05:27:12.806Z"
   },
   {
    "duration": 15,
    "start_time": "2021-11-17T05:27:12.823Z"
   },
   {
    "duration": 172,
    "start_time": "2021-11-17T05:27:12.840Z"
   },
   {
    "duration": 112,
    "start_time": "2021-11-17T05:27:13.014Z"
   },
   {
    "duration": 20,
    "start_time": "2021-11-17T05:27:13.127Z"
   },
   {
    "duration": 52,
    "start_time": "2021-11-17T05:27:13.149Z"
   },
   {
    "duration": 11,
    "start_time": "2021-11-17T05:27:13.203Z"
   },
   {
    "duration": 100,
    "start_time": "2021-11-17T05:27:13.216Z"
   },
   {
    "duration": 29,
    "start_time": "2021-11-17T05:27:13.317Z"
   },
   {
    "duration": 44,
    "start_time": "2021-11-17T05:27:13.348Z"
   },
   {
    "duration": 4,
    "start_time": "2021-11-17T05:27:13.394Z"
   },
   {
    "duration": 635,
    "start_time": "2021-11-17T05:27:13.400Z"
   },
   {
    "duration": 570,
    "start_time": "2021-11-17T05:27:14.037Z"
   },
   {
    "duration": 30,
    "start_time": "2021-11-17T05:27:14.609Z"
   },
   {
    "duration": 380,
    "start_time": "2021-11-17T05:27:14.641Z"
   },
   {
    "duration": 10,
    "start_time": "2021-11-17T05:27:15.024Z"
   },
   {
    "duration": 11,
    "start_time": "2021-11-17T05:27:15.035Z"
   },
   {
    "duration": 8532,
    "start_time": "2021-11-17T05:27:15.048Z"
   },
   {
    "duration": -279,
    "start_time": "2021-11-17T05:27:23.861Z"
   },
   {
    "duration": -282,
    "start_time": "2021-11-17T05:27:23.865Z"
   },
   {
    "duration": -292,
    "start_time": "2021-11-17T05:27:23.876Z"
   },
   {
    "duration": -295,
    "start_time": "2021-11-17T05:27:23.880Z"
   },
   {
    "duration": -306,
    "start_time": "2021-11-17T05:27:23.891Z"
   },
   {
    "duration": -309,
    "start_time": "2021-11-17T05:27:23.895Z"
   },
   {
    "duration": -311,
    "start_time": "2021-11-17T05:27:23.899Z"
   },
   {
    "duration": -321,
    "start_time": "2021-11-17T05:27:23.910Z"
   },
   {
    "duration": -325,
    "start_time": "2021-11-17T05:27:23.915Z"
   },
   {
    "duration": -335,
    "start_time": "2021-11-17T05:27:23.925Z"
   },
   {
    "duration": -338,
    "start_time": "2021-11-17T05:27:23.930Z"
   },
   {
    "duration": -347,
    "start_time": "2021-11-17T05:27:23.939Z"
   },
   {
    "duration": 7525,
    "start_time": "2021-11-17T05:29:46.973Z"
   },
   {
    "duration": 1210,
    "start_time": "2021-11-17T05:31:17.687Z"
   },
   {
    "duration": 1224,
    "start_time": "2021-11-17T05:31:18.899Z"
   },
   {
    "duration": 19,
    "start_time": "2021-11-17T05:31:20.126Z"
   },
   {
    "duration": 19,
    "start_time": "2021-11-17T05:31:20.147Z"
   },
   {
    "duration": 253,
    "start_time": "2021-11-17T05:31:20.167Z"
   },
   {
    "duration": 177,
    "start_time": "2021-11-17T05:31:20.422Z"
   },
   {
    "duration": 29,
    "start_time": "2021-11-17T05:31:20.601Z"
   },
   {
    "duration": 57,
    "start_time": "2021-11-17T05:31:20.631Z"
   },
   {
    "duration": 15,
    "start_time": "2021-11-17T05:31:20.691Z"
   },
   {
    "duration": 156,
    "start_time": "2021-11-17T05:31:20.708Z"
   },
   {
    "duration": 50,
    "start_time": "2021-11-17T05:31:20.865Z"
   },
   {
    "duration": 30,
    "start_time": "2021-11-17T05:31:20.917Z"
   },
   {
    "duration": 5,
    "start_time": "2021-11-17T05:31:20.948Z"
   },
   {
    "duration": 454,
    "start_time": "2021-11-17T05:31:20.954Z"
   },
   {
    "duration": 903,
    "start_time": "2021-11-17T05:31:21.410Z"
   },
   {
    "duration": 30,
    "start_time": "2021-11-17T05:31:22.315Z"
   },
   {
    "duration": 372,
    "start_time": "2021-11-17T05:31:22.347Z"
   },
   {
    "duration": 9,
    "start_time": "2021-11-17T05:31:22.721Z"
   },
   {
    "duration": 5,
    "start_time": "2021-11-17T05:31:22.731Z"
   },
   {
    "duration": 7532,
    "start_time": "2021-11-17T05:31:22.737Z"
   },
   {
    "duration": -227,
    "start_time": "2021-11-17T05:31:30.498Z"
   },
   {
    "duration": -237,
    "start_time": "2021-11-17T05:31:30.509Z"
   },
   {
    "duration": -239,
    "start_time": "2021-11-17T05:31:30.512Z"
   },
   {
    "duration": -242,
    "start_time": "2021-11-17T05:31:30.516Z"
   },
   {
    "duration": -251,
    "start_time": "2021-11-17T05:31:30.526Z"
   },
   {
    "duration": -255,
    "start_time": "2021-11-17T05:31:30.531Z"
   },
   {
    "duration": -259,
    "start_time": "2021-11-17T05:31:30.536Z"
   },
   {
    "duration": -267,
    "start_time": "2021-11-17T05:31:30.545Z"
   },
   {
    "duration": -297,
    "start_time": "2021-11-17T05:31:30.576Z"
   },
   {
    "duration": -300,
    "start_time": "2021-11-17T05:31:30.580Z"
   },
   {
    "duration": -308,
    "start_time": "2021-11-17T05:31:30.589Z"
   },
   {
    "duration": -312,
    "start_time": "2021-11-17T05:31:30.593Z"
   },
   {
    "duration": 7315,
    "start_time": "2021-11-17T05:33:26.547Z"
   },
   {
    "duration": 6680,
    "start_time": "2021-11-17T05:35:17.048Z"
   },
   {
    "duration": 6547,
    "start_time": "2021-11-17T05:41:22.027Z"
   },
   {
    "duration": 7304,
    "start_time": "2021-11-17T05:48:04.310Z"
   },
   {
    "duration": 976,
    "start_time": "2021-11-17T05:48:20.727Z"
   },
   {
    "duration": 1102,
    "start_time": "2021-11-17T05:48:21.704Z"
   },
   {
    "duration": 15,
    "start_time": "2021-11-17T05:48:22.808Z"
   },
   {
    "duration": 15,
    "start_time": "2021-11-17T05:48:22.824Z"
   },
   {
    "duration": 158,
    "start_time": "2021-11-17T05:48:22.841Z"
   },
   {
    "duration": 111,
    "start_time": "2021-11-17T05:48:23.001Z"
   },
   {
    "duration": 19,
    "start_time": "2021-11-17T05:48:23.114Z"
   },
   {
    "duration": 27,
    "start_time": "2021-11-17T05:48:23.135Z"
   },
   {
    "duration": 30,
    "start_time": "2021-11-17T05:48:23.164Z"
   },
   {
    "duration": 93,
    "start_time": "2021-11-17T05:48:23.196Z"
   },
   {
    "duration": 31,
    "start_time": "2021-11-17T05:48:23.290Z"
   },
   {
    "duration": 23,
    "start_time": "2021-11-17T05:48:23.322Z"
   },
   {
    "duration": 4,
    "start_time": "2021-11-17T05:48:23.346Z"
   },
   {
    "duration": 455,
    "start_time": "2021-11-17T05:48:23.352Z"
   },
   {
    "duration": 893,
    "start_time": "2021-11-17T05:48:23.809Z"
   },
   {
    "duration": 32,
    "start_time": "2021-11-17T05:48:24.704Z"
   },
   {
    "duration": 413,
    "start_time": "2021-11-17T05:48:24.737Z"
   },
   {
    "duration": 9,
    "start_time": "2021-11-17T05:48:25.152Z"
   },
   {
    "duration": 3,
    "start_time": "2021-11-17T05:48:25.162Z"
   },
   {
    "duration": 6694,
    "start_time": "2021-11-17T05:48:25.166Z"
   },
   {
    "duration": -288,
    "start_time": "2021-11-17T05:48:32.150Z"
   },
   {
    "duration": -291,
    "start_time": "2021-11-17T05:48:32.154Z"
   },
   {
    "duration": -294,
    "start_time": "2021-11-17T05:48:32.158Z"
   },
   {
    "duration": -305,
    "start_time": "2021-11-17T05:48:32.170Z"
   },
   {
    "duration": -308,
    "start_time": "2021-11-17T05:48:32.174Z"
   },
   {
    "duration": -319,
    "start_time": "2021-11-17T05:48:32.186Z"
   },
   {
    "duration": -321,
    "start_time": "2021-11-17T05:48:32.189Z"
   },
   {
    "duration": -331,
    "start_time": "2021-11-17T05:48:32.200Z"
   },
   {
    "duration": -334,
    "start_time": "2021-11-17T05:48:32.204Z"
   },
   {
    "duration": -351,
    "start_time": "2021-11-17T05:48:32.222Z"
   },
   {
    "duration": -353,
    "start_time": "2021-11-17T05:48:32.225Z"
   },
   {
    "duration": -362,
    "start_time": "2021-11-17T05:48:32.235Z"
   },
   {
    "duration": 34,
    "start_time": "2021-11-17T05:49:25.019Z"
   },
   {
    "duration": 9,
    "start_time": "2021-11-17T05:49:53.437Z"
   },
   {
    "duration": 10,
    "start_time": "2021-11-17T05:50:18.588Z"
   },
   {
    "duration": 8,
    "start_time": "2021-11-17T05:50:20.931Z"
   },
   {
    "duration": 8235,
    "start_time": "2021-11-17T05:53:47.647Z"
   },
   {
    "duration": 7293,
    "start_time": "2021-11-17T05:57:33.600Z"
   },
   {
    "duration": 87,
    "start_time": "2021-11-17T06:00:15.795Z"
   },
   {
    "duration": 1059,
    "start_time": "2021-11-17T06:02:56.694Z"
   },
   {
    "duration": 898,
    "start_time": "2021-11-17T06:02:57.755Z"
   },
   {
    "duration": 40,
    "start_time": "2021-11-17T06:02:58.655Z"
   },
   {
    "duration": 15,
    "start_time": "2021-11-17T06:02:58.697Z"
   },
   {
    "duration": 156,
    "start_time": "2021-11-17T06:02:58.714Z"
   },
   {
    "duration": 103,
    "start_time": "2021-11-17T06:02:58.871Z"
   },
   {
    "duration": 31,
    "start_time": "2021-11-17T06:02:58.976Z"
   },
   {
    "duration": 27,
    "start_time": "2021-11-17T06:02:59.010Z"
   },
   {
    "duration": 10,
    "start_time": "2021-11-17T06:02:59.038Z"
   },
   {
    "duration": 16,
    "start_time": "2021-11-17T06:02:59.050Z"
   },
   {
    "duration": 101,
    "start_time": "2021-11-17T06:02:59.068Z"
   },
   {
    "duration": 48,
    "start_time": "2021-11-17T06:02:59.171Z"
   },
   {
    "duration": 33,
    "start_time": "2021-11-17T06:02:59.221Z"
   },
   {
    "duration": 6,
    "start_time": "2021-11-17T06:02:59.256Z"
   },
   {
    "duration": 653,
    "start_time": "2021-11-17T06:02:59.264Z"
   },
   {
    "duration": 492,
    "start_time": "2021-11-17T06:02:59.919Z"
   },
   {
    "duration": 30,
    "start_time": "2021-11-17T06:03:00.412Z"
   },
   {
    "duration": 432,
    "start_time": "2021-11-17T06:03:00.443Z"
   },
   {
    "duration": 19,
    "start_time": "2021-11-17T06:03:00.877Z"
   },
   {
    "duration": 4,
    "start_time": "2021-11-17T06:03:00.898Z"
   },
   {
    "duration": 7983,
    "start_time": "2021-11-17T06:03:00.904Z"
   },
   {
    "duration": -174,
    "start_time": "2021-11-17T06:03:09.063Z"
   },
   {
    "duration": -196,
    "start_time": "2021-11-17T06:03:09.087Z"
   },
   {
    "duration": -199,
    "start_time": "2021-11-17T06:03:09.091Z"
   },
   {
    "duration": -208,
    "start_time": "2021-11-17T06:03:09.102Z"
   },
   {
    "duration": -210,
    "start_time": "2021-11-17T06:03:09.105Z"
   },
   {
    "duration": -212,
    "start_time": "2021-11-17T06:03:09.108Z"
   },
   {
    "duration": -214,
    "start_time": "2021-11-17T06:03:09.112Z"
   },
   {
    "duration": -222,
    "start_time": "2021-11-17T06:03:09.121Z"
   },
   {
    "duration": -226,
    "start_time": "2021-11-17T06:03:09.126Z"
   },
   {
    "duration": -234,
    "start_time": "2021-11-17T06:03:09.135Z"
   },
   {
    "duration": -236,
    "start_time": "2021-11-17T06:03:09.138Z"
   },
   {
    "duration": -238,
    "start_time": "2021-11-17T06:03:09.141Z"
   },
   {
    "duration": 1468,
    "start_time": "2021-11-17T13:07:34.421Z"
   },
   {
    "duration": 1794,
    "start_time": "2021-11-17T13:07:35.893Z"
   },
   {
    "duration": 23,
    "start_time": "2021-11-17T13:07:37.690Z"
   },
   {
    "duration": 25,
    "start_time": "2021-11-17T13:07:37.716Z"
   },
   {
    "duration": 279,
    "start_time": "2021-11-17T13:07:37.744Z"
   },
   {
    "duration": 190,
    "start_time": "2021-11-17T13:07:38.026Z"
   },
   {
    "duration": 30,
    "start_time": "2021-11-17T13:07:38.219Z"
   },
   {
    "duration": 66,
    "start_time": "2021-11-17T13:07:38.253Z"
   },
   {
    "duration": 18,
    "start_time": "2021-11-17T13:07:38.322Z"
   },
   {
    "duration": 13,
    "start_time": "2021-11-17T13:07:38.342Z"
   },
   {
    "duration": 185,
    "start_time": "2021-11-17T13:07:38.357Z"
   },
   {
    "duration": 60,
    "start_time": "2021-11-17T13:07:38.545Z"
   },
   {
    "duration": 41,
    "start_time": "2021-11-17T13:07:38.607Z"
   },
   {
    "duration": 39,
    "start_time": "2021-11-17T13:07:38.652Z"
   },
   {
    "duration": 1150,
    "start_time": "2021-11-17T13:07:38.695Z"
   },
   {
    "duration": 1334,
    "start_time": "2021-11-17T13:07:39.848Z"
   },
   {
    "duration": 44,
    "start_time": "2021-11-17T13:07:41.184Z"
   },
   {
    "duration": 711,
    "start_time": "2021-11-17T13:07:41.231Z"
   },
   {
    "duration": 15,
    "start_time": "2021-11-17T13:07:41.945Z"
   },
   {
    "duration": 23,
    "start_time": "2021-11-17T13:07:41.962Z"
   },
   {
    "duration": 11219,
    "start_time": "2021-11-17T13:07:41.987Z"
   },
   {
    "duration": -175,
    "start_time": "2021-11-17T13:07:53.385Z"
   },
   {
    "duration": -184,
    "start_time": "2021-11-17T13:07:53.396Z"
   },
   {
    "duration": -186,
    "start_time": "2021-11-17T13:07:53.400Z"
   },
   {
    "duration": -188,
    "start_time": "2021-11-17T13:07:53.404Z"
   },
   {
    "duration": -189,
    "start_time": "2021-11-17T13:07:53.408Z"
   },
   {
    "duration": -189,
    "start_time": "2021-11-17T13:07:53.410Z"
   },
   {
    "duration": -191,
    "start_time": "2021-11-17T13:07:53.414Z"
   },
   {
    "duration": -191,
    "start_time": "2021-11-17T13:07:53.416Z"
   },
   {
    "duration": -216,
    "start_time": "2021-11-17T13:07:53.443Z"
   },
   {
    "duration": -217,
    "start_time": "2021-11-17T13:07:53.446Z"
   },
   {
    "duration": -218,
    "start_time": "2021-11-17T13:07:53.449Z"
   },
   {
    "duration": -219,
    "start_time": "2021-11-17T13:07:53.452Z"
   },
   {
    "duration": 10586,
    "start_time": "2021-11-17T13:15:42.583Z"
   },
   {
    "duration": 9337,
    "start_time": "2021-11-17T13:17:14.867Z"
   },
   {
    "duration": 1852,
    "start_time": "2021-11-17T13:17:42.196Z"
   },
   {
    "duration": 2297,
    "start_time": "2021-11-17T13:17:44.052Z"
   },
   {
    "duration": 48,
    "start_time": "2021-11-17T13:17:46.352Z"
   },
   {
    "duration": 23,
    "start_time": "2021-11-17T13:17:46.403Z"
   },
   {
    "duration": 270,
    "start_time": "2021-11-17T13:17:46.429Z"
   },
   {
    "duration": 188,
    "start_time": "2021-11-17T13:17:46.701Z"
   },
   {
    "duration": 31,
    "start_time": "2021-11-17T13:17:46.891Z"
   },
   {
    "duration": 73,
    "start_time": "2021-11-17T13:17:46.926Z"
   },
   {
    "duration": 18,
    "start_time": "2021-11-17T13:17:47.002Z"
   },
   {
    "duration": 20,
    "start_time": "2021-11-17T13:17:47.023Z"
   },
   {
    "duration": 177,
    "start_time": "2021-11-17T13:17:47.045Z"
   },
   {
    "duration": 70,
    "start_time": "2021-11-17T13:17:47.225Z"
   },
   {
    "duration": 42,
    "start_time": "2021-11-17T13:17:47.298Z"
   },
   {
    "duration": 8,
    "start_time": "2021-11-17T13:17:47.343Z"
   },
   {
    "duration": 825,
    "start_time": "2021-11-17T13:17:47.353Z"
   },
   {
    "duration": 865,
    "start_time": "2021-11-17T13:17:48.181Z"
   },
   {
    "duration": 63,
    "start_time": "2021-11-17T13:17:49.050Z"
   },
   {
    "duration": 688,
    "start_time": "2021-11-17T13:17:49.116Z"
   },
   {
    "duration": 17,
    "start_time": "2021-11-17T13:17:49.807Z"
   },
   {
    "duration": 14,
    "start_time": "2021-11-17T13:17:49.827Z"
   },
   {
    "duration": 11434,
    "start_time": "2021-11-17T13:17:49.844Z"
   },
   {
    "duration": -249,
    "start_time": "2021-11-17T13:18:01.531Z"
   },
   {
    "duration": -255,
    "start_time": "2021-11-17T13:18:01.538Z"
   },
   {
    "duration": -258,
    "start_time": "2021-11-17T13:18:01.542Z"
   },
   {
    "duration": -267,
    "start_time": "2021-11-17T13:18:01.553Z"
   },
   {
    "duration": -271,
    "start_time": "2021-11-17T13:18:01.558Z"
   },
   {
    "duration": -274,
    "start_time": "2021-11-17T13:18:01.563Z"
   },
   {
    "duration": -277,
    "start_time": "2021-11-17T13:18:01.567Z"
   },
   {
    "duration": -283,
    "start_time": "2021-11-17T13:18:01.574Z"
   },
   {
    "duration": -286,
    "start_time": "2021-11-17T13:18:01.579Z"
   },
   {
    "duration": -287,
    "start_time": "2021-11-17T13:18:01.582Z"
   },
   {
    "duration": -289,
    "start_time": "2021-11-17T13:18:01.587Z"
   },
   {
    "duration": -292,
    "start_time": "2021-11-17T13:18:01.592Z"
   },
   {
    "duration": 304,
    "start_time": "2021-11-17T20:44:29.569Z"
   },
   {
    "duration": 1420,
    "start_time": "2021-11-17T20:44:36.232Z"
   },
   {
    "duration": 1745,
    "start_time": "2021-11-17T20:44:37.655Z"
   },
   {
    "duration": 23,
    "start_time": "2021-11-17T20:44:39.403Z"
   },
   {
    "duration": 51,
    "start_time": "2021-11-17T20:44:39.430Z"
   },
   {
    "duration": 269,
    "start_time": "2021-11-17T20:44:39.483Z"
   },
   {
    "duration": 189,
    "start_time": "2021-11-17T20:44:39.754Z"
   },
   {
    "duration": 47,
    "start_time": "2021-11-17T20:44:39.946Z"
   },
   {
    "duration": 46,
    "start_time": "2021-11-17T20:44:39.999Z"
   },
   {
    "duration": 19,
    "start_time": "2021-11-17T20:44:40.069Z"
   },
   {
    "duration": 17,
    "start_time": "2021-11-17T20:44:40.091Z"
   },
   {
    "duration": 180,
    "start_time": "2021-11-17T20:44:40.111Z"
   },
   {
    "duration": 74,
    "start_time": "2021-11-17T20:44:40.293Z"
   },
   {
    "duration": 97,
    "start_time": "2021-11-17T20:44:40.370Z"
   },
   {
    "duration": 6,
    "start_time": "2021-11-17T20:44:40.470Z"
   },
   {
    "duration": 1096,
    "start_time": "2021-11-17T20:44:40.479Z"
   },
   {
    "duration": 864,
    "start_time": "2021-11-17T20:44:41.577Z"
   },
   {
    "duration": 55,
    "start_time": "2021-11-17T20:44:42.443Z"
   },
   {
    "duration": 667,
    "start_time": "2021-11-17T20:44:42.500Z"
   },
   {
    "duration": 14,
    "start_time": "2021-11-17T20:44:43.170Z"
   },
   {
    "duration": 5,
    "start_time": "2021-11-17T20:44:43.187Z"
   },
   {
    "duration": 8529,
    "start_time": "2021-11-17T20:44:43.194Z"
   },
   {
    "duration": 1883,
    "start_time": "2021-11-17T20:44:49.844Z"
   },
   {
    "duration": 1881,
    "start_time": "2021-11-17T20:44:49.849Z"
   },
   {
    "duration": 1850,
    "start_time": "2021-11-17T20:44:49.882Z"
   },
   {
    "duration": 1839,
    "start_time": "2021-11-17T20:44:49.894Z"
   },
   {
    "duration": 1837,
    "start_time": "2021-11-17T20:44:49.898Z"
   },
   {
    "duration": 1834,
    "start_time": "2021-11-17T20:44:49.902Z"
   },
   {
    "duration": 1833,
    "start_time": "2021-11-17T20:44:49.905Z"
   },
   {
    "duration": 1830,
    "start_time": "2021-11-17T20:44:49.909Z"
   },
   {
    "duration": 1827,
    "start_time": "2021-11-17T20:44:49.913Z"
   },
   {
    "duration": 1826,
    "start_time": "2021-11-17T20:44:49.916Z"
   },
   {
    "duration": 1824,
    "start_time": "2021-11-17T20:44:49.919Z"
   },
   {
    "duration": 1822,
    "start_time": "2021-11-17T20:44:49.922Z"
   },
   {
    "duration": 11,
    "start_time": "2021-11-17T20:45:26.301Z"
   },
   {
    "duration": 6076,
    "start_time": "2021-11-17T20:47:42.367Z"
   },
   {
    "duration": 1314,
    "start_time": "2021-11-17T20:48:43.419Z"
   },
   {
    "duration": 1961,
    "start_time": "2021-11-17T20:48:44.735Z"
   },
   {
    "duration": 22,
    "start_time": "2021-11-17T20:48:46.699Z"
   },
   {
    "duration": 47,
    "start_time": "2021-11-17T20:48:46.724Z"
   },
   {
    "duration": 257,
    "start_time": "2021-11-17T20:48:46.773Z"
   },
   {
    "duration": 186,
    "start_time": "2021-11-17T20:48:47.033Z"
   },
   {
    "duration": 47,
    "start_time": "2021-11-17T20:48:47.222Z"
   },
   {
    "duration": 43,
    "start_time": "2021-11-17T20:48:47.273Z"
   },
   {
    "duration": 18,
    "start_time": "2021-11-17T20:48:47.319Z"
   },
   {
    "duration": 14,
    "start_time": "2021-11-17T20:48:47.367Z"
   },
   {
    "duration": 167,
    "start_time": "2021-11-17T20:48:47.383Z"
   },
   {
    "duration": 56,
    "start_time": "2021-11-17T20:48:47.553Z"
   },
   {
    "duration": 66,
    "start_time": "2021-11-17T20:48:47.611Z"
   },
   {
    "duration": 10,
    "start_time": "2021-11-17T20:48:47.680Z"
   },
   {
    "duration": 820,
    "start_time": "2021-11-17T20:48:47.692Z"
   },
   {
    "duration": 880,
    "start_time": "2021-11-17T20:48:48.515Z"
   },
   {
    "duration": 44,
    "start_time": "2021-11-17T20:48:49.398Z"
   },
   {
    "duration": 717,
    "start_time": "2021-11-17T20:48:49.445Z"
   },
   {
    "duration": 17,
    "start_time": "2021-11-17T20:48:50.167Z"
   },
   {
    "duration": 8,
    "start_time": "2021-11-17T20:48:50.186Z"
   },
   {
    "duration": 7523,
    "start_time": "2021-11-17T20:48:50.196Z"
   },
   {
    "duration": 4,
    "start_time": "2021-11-17T20:48:57.722Z"
   },
   {
    "duration": 61,
    "start_time": "2021-11-17T20:48:57.731Z"
   },
   {
    "duration": 31,
    "start_time": "2021-11-17T20:48:57.794Z"
   },
   {
    "duration": 50,
    "start_time": "2021-11-17T20:48:57.827Z"
   },
   {
    "duration": 44,
    "start_time": "2021-11-17T20:48:57.879Z"
   },
   {
    "duration": 42,
    "start_time": "2021-11-17T20:48:57.925Z"
   },
   {
    "duration": 117,
    "start_time": "2021-11-17T20:48:57.969Z"
   },
   {
    "duration": 934,
    "start_time": "2021-11-17T20:48:58.088Z"
   },
   {
    "duration": 2065,
    "start_time": "2021-11-17T20:48:56.961Z"
   },
   {
    "duration": 2053,
    "start_time": "2021-11-17T20:48:56.975Z"
   },
   {
    "duration": 2051,
    "start_time": "2021-11-17T20:48:56.980Z"
   },
   {
    "duration": 2049,
    "start_time": "2021-11-17T20:48:56.984Z"
   },
   {
    "duration": 7405,
    "start_time": "2021-11-17T20:58:18.967Z"
   },
   {
    "duration": 1426,
    "start_time": "2021-11-17T20:58:38.299Z"
   },
   {
    "duration": 1559,
    "start_time": "2021-11-17T20:58:39.728Z"
   },
   {
    "duration": 24,
    "start_time": "2021-11-17T20:58:41.290Z"
   },
   {
    "duration": 22,
    "start_time": "2021-11-17T20:58:41.316Z"
   },
   {
    "duration": 291,
    "start_time": "2021-11-17T20:58:41.340Z"
   },
   {
    "duration": 193,
    "start_time": "2021-11-17T20:58:41.634Z"
   },
   {
    "duration": 53,
    "start_time": "2021-11-17T20:58:41.830Z"
   },
   {
    "duration": 48,
    "start_time": "2021-11-17T20:58:41.889Z"
   },
   {
    "duration": 42,
    "start_time": "2021-11-17T20:58:41.941Z"
   },
   {
    "duration": 16,
    "start_time": "2021-11-17T20:58:41.986Z"
   },
   {
    "duration": 181,
    "start_time": "2021-11-17T20:58:42.004Z"
   },
   {
    "duration": 50,
    "start_time": "2021-11-17T20:58:42.187Z"
   },
   {
    "duration": 65,
    "start_time": "2021-11-17T20:58:42.240Z"
   },
   {
    "duration": 9,
    "start_time": "2021-11-17T20:58:42.308Z"
   },
   {
    "duration": 953,
    "start_time": "2021-11-17T20:58:42.319Z"
   },
   {
    "duration": 1127,
    "start_time": "2021-11-17T20:58:43.276Z"
   },
   {
    "duration": 64,
    "start_time": "2021-11-17T20:58:44.406Z"
   },
   {
    "duration": 736,
    "start_time": "2021-11-17T20:58:44.473Z"
   },
   {
    "duration": 16,
    "start_time": "2021-11-17T20:58:45.212Z"
   },
   {
    "duration": 4,
    "start_time": "2021-11-17T20:58:45.231Z"
   },
   {
    "duration": 896,
    "start_time": "2021-11-17T20:58:45.238Z"
   },
   {
    "duration": 1993,
    "start_time": "2021-11-17T20:58:44.144Z"
   },
   {
    "duration": 1989,
    "start_time": "2021-11-17T20:58:44.149Z"
   },
   {
    "duration": 1987,
    "start_time": "2021-11-17T20:58:44.154Z"
   },
   {
    "duration": 1985,
    "start_time": "2021-11-17T20:58:44.159Z"
   },
   {
    "duration": 1982,
    "start_time": "2021-11-17T20:58:44.164Z"
   },
   {
    "duration": 1980,
    "start_time": "2021-11-17T20:58:44.167Z"
   },
   {
    "duration": 1977,
    "start_time": "2021-11-17T20:58:44.172Z"
   },
   {
    "duration": 1975,
    "start_time": "2021-11-17T20:58:44.175Z"
   },
   {
    "duration": 1973,
    "start_time": "2021-11-17T20:58:44.179Z"
   },
   {
    "duration": 1973,
    "start_time": "2021-11-17T20:58:44.181Z"
   },
   {
    "duration": 1971,
    "start_time": "2021-11-17T20:58:44.184Z"
   },
   {
    "duration": 1968,
    "start_time": "2021-11-17T20:58:44.188Z"
   },
   {
    "duration": 6385,
    "start_time": "2021-11-17T21:00:10.223Z"
   },
   {
    "duration": 1379,
    "start_time": "2021-11-17T21:00:28.365Z"
   },
   {
    "duration": 1588,
    "start_time": "2021-11-17T21:00:29.747Z"
   },
   {
    "duration": 50,
    "start_time": "2021-11-17T21:00:31.338Z"
   },
   {
    "duration": 24,
    "start_time": "2021-11-17T21:00:31.391Z"
   },
   {
    "duration": 274,
    "start_time": "2021-11-17T21:00:31.417Z"
   },
   {
    "duration": 190,
    "start_time": "2021-11-17T21:00:31.693Z"
   },
   {
    "duration": 34,
    "start_time": "2021-11-17T21:00:31.885Z"
   },
   {
    "duration": 71,
    "start_time": "2021-11-17T21:00:31.923Z"
   },
   {
    "duration": 17,
    "start_time": "2021-11-17T21:00:31.997Z"
   },
   {
    "duration": 26,
    "start_time": "2021-11-17T21:00:32.017Z"
   },
   {
    "duration": 174,
    "start_time": "2021-11-17T21:00:32.045Z"
   },
   {
    "duration": 65,
    "start_time": "2021-11-17T21:00:32.221Z"
   },
   {
    "duration": 45,
    "start_time": "2021-11-17T21:00:32.288Z"
   },
   {
    "duration": 9,
    "start_time": "2021-11-17T21:00:32.368Z"
   },
   {
    "duration": 802,
    "start_time": "2021-11-17T21:00:32.379Z"
   },
   {
    "duration": 893,
    "start_time": "2021-11-17T21:00:33.185Z"
   },
   {
    "duration": 47,
    "start_time": "2021-11-17T21:00:34.082Z"
   },
   {
    "duration": 717,
    "start_time": "2021-11-17T21:00:34.131Z"
   },
   {
    "duration": 26,
    "start_time": "2021-11-17T21:00:34.850Z"
   },
   {
    "duration": 4,
    "start_time": "2021-11-17T21:00:34.879Z"
   },
   {
    "duration": 7606,
    "start_time": "2021-11-17T21:00:34.885Z"
   },
   {
    "duration": 5,
    "start_time": "2021-11-17T21:00:42.494Z"
   },
   {
    "duration": 63,
    "start_time": "2021-11-17T21:00:42.504Z"
   },
   {
    "duration": 30,
    "start_time": "2021-11-17T21:00:42.570Z"
   },
   {
    "duration": 17,
    "start_time": "2021-11-17T21:00:42.603Z"
   },
   {
    "duration": 80,
    "start_time": "2021-11-17T21:00:42.622Z"
   },
   {
    "duration": 11,
    "start_time": "2021-11-17T21:00:42.704Z"
   },
   {
    "duration": 127,
    "start_time": "2021-11-17T21:00:42.717Z"
   },
   {
    "duration": 867,
    "start_time": "2021-11-17T21:00:42.847Z"
   },
   {
    "duration": 2050,
    "start_time": "2021-11-17T21:00:41.667Z"
   },
   {
    "duration": 2047,
    "start_time": "2021-11-17T21:00:41.672Z"
   },
   {
    "duration": 2045,
    "start_time": "2021-11-17T21:00:41.675Z"
   },
   {
    "duration": 2043,
    "start_time": "2021-11-17T21:00:41.679Z"
   },
   {
    "duration": 7244,
    "start_time": "2021-11-17T21:03:53.597Z"
   },
   {
    "duration": 1317,
    "start_time": "2021-11-17T21:04:12.724Z"
   },
   {
    "duration": 1565,
    "start_time": "2021-11-17T21:04:14.044Z"
   },
   {
    "duration": 53,
    "start_time": "2021-11-17T21:04:15.614Z"
   },
   {
    "duration": 22,
    "start_time": "2021-11-17T21:04:15.670Z"
   },
   {
    "duration": 268,
    "start_time": "2021-11-17T21:04:15.694Z"
   },
   {
    "duration": 183,
    "start_time": "2021-11-17T21:04:15.967Z"
   },
   {
    "duration": 40,
    "start_time": "2021-11-17T21:04:16.153Z"
   },
   {
    "duration": 70,
    "start_time": "2021-11-17T21:04:16.199Z"
   },
   {
    "duration": 20,
    "start_time": "2021-11-17T21:04:16.273Z"
   },
   {
    "duration": 14,
    "start_time": "2021-11-17T21:04:16.295Z"
   },
   {
    "duration": 214,
    "start_time": "2021-11-17T21:04:16.312Z"
   },
   {
    "duration": 69,
    "start_time": "2021-11-17T21:04:16.528Z"
   },
   {
    "duration": 68,
    "start_time": "2021-11-17T21:04:16.600Z"
   },
   {
    "duration": 8,
    "start_time": "2021-11-17T21:04:16.670Z"
   },
   {
    "duration": 797,
    "start_time": "2021-11-17T21:04:16.680Z"
   },
   {
    "duration": 895,
    "start_time": "2021-11-17T21:04:17.479Z"
   },
   {
    "duration": 50,
    "start_time": "2021-11-17T21:04:18.376Z"
   },
   {
    "duration": 783,
    "start_time": "2021-11-17T21:04:18.429Z"
   },
   {
    "duration": 16,
    "start_time": "2021-11-17T21:04:19.214Z"
   },
   {
    "duration": 6,
    "start_time": "2021-11-17T21:04:19.232Z"
   },
   {
    "duration": 8295,
    "start_time": "2021-11-17T21:04:19.240Z"
   },
   {
    "duration": 6,
    "start_time": "2021-11-17T21:04:27.538Z"
   },
   {
    "duration": 39,
    "start_time": "2021-11-17T21:04:27.568Z"
   },
   {
    "duration": 59,
    "start_time": "2021-11-17T21:04:27.609Z"
   },
   {
    "duration": 19,
    "start_time": "2021-11-17T21:04:27.670Z"
   },
   {
    "duration": 76,
    "start_time": "2021-11-17T21:04:27.691Z"
   },
   {
    "duration": 11,
    "start_time": "2021-11-17T21:04:27.770Z"
   },
   {
    "duration": 130,
    "start_time": "2021-11-17T21:04:27.783Z"
   },
   {
    "duration": 1000,
    "start_time": "2021-11-17T21:04:27.915Z"
   },
   {
    "duration": 2005,
    "start_time": "2021-11-17T21:04:26.913Z"
   },
   {
    "duration": 1993,
    "start_time": "2021-11-17T21:04:26.926Z"
   },
   {
    "duration": 1988,
    "start_time": "2021-11-17T21:04:26.932Z"
   },
   {
    "duration": 1986,
    "start_time": "2021-11-17T21:04:26.936Z"
   },
   {
    "duration": 6689,
    "start_time": "2021-11-17T21:07:07.463Z"
   },
   {
    "duration": 1326,
    "start_time": "2021-11-17T21:07:24.622Z"
   },
   {
    "duration": 1597,
    "start_time": "2021-11-17T21:07:25.950Z"
   },
   {
    "duration": 30,
    "start_time": "2021-11-17T21:07:27.550Z"
   },
   {
    "duration": 21,
    "start_time": "2021-11-17T21:07:27.583Z"
   },
   {
    "duration": 291,
    "start_time": "2021-11-17T21:07:27.607Z"
   },
   {
    "duration": 210,
    "start_time": "2021-11-17T21:07:27.902Z"
   },
   {
    "duration": 57,
    "start_time": "2021-11-17T21:07:28.115Z"
   },
   {
    "duration": 72,
    "start_time": "2021-11-17T21:07:28.181Z"
   },
   {
    "duration": 23,
    "start_time": "2021-11-17T21:07:28.257Z"
   },
   {
    "duration": 17,
    "start_time": "2021-11-17T21:07:28.284Z"
   },
   {
    "duration": 187,
    "start_time": "2021-11-17T21:07:28.303Z"
   },
   {
    "duration": 57,
    "start_time": "2021-11-17T21:07:28.492Z"
   },
   {
    "duration": 62,
    "start_time": "2021-11-17T21:07:28.552Z"
   },
   {
    "duration": 8,
    "start_time": "2021-11-17T21:07:28.616Z"
   },
   {
    "duration": 1072,
    "start_time": "2021-11-17T21:07:28.668Z"
   },
   {
    "duration": 943,
    "start_time": "2021-11-17T21:07:29.742Z"
   },
   {
    "duration": 47,
    "start_time": "2021-11-17T21:07:30.687Z"
   },
   {
    "duration": 707,
    "start_time": "2021-11-17T21:07:30.736Z"
   },
   {
    "duration": 25,
    "start_time": "2021-11-17T21:07:31.445Z"
   },
   {
    "duration": 10,
    "start_time": "2021-11-17T21:07:31.472Z"
   },
   {
    "duration": 860,
    "start_time": "2021-11-17T21:07:31.485Z"
   },
   {
    "duration": 1934,
    "start_time": "2021-11-17T21:07:30.414Z"
   },
   {
    "duration": 1922,
    "start_time": "2021-11-17T21:07:30.428Z"
   },
   {
    "duration": 1911,
    "start_time": "2021-11-17T21:07:30.440Z"
   },
   {
    "duration": 1910,
    "start_time": "2021-11-17T21:07:30.443Z"
   },
   {
    "duration": 1899,
    "start_time": "2021-11-17T21:07:30.455Z"
   },
   {
    "duration": 1896,
    "start_time": "2021-11-17T21:07:30.460Z"
   },
   {
    "duration": 1886,
    "start_time": "2021-11-17T21:07:30.471Z"
   },
   {
    "duration": 1885,
    "start_time": "2021-11-17T21:07:30.474Z"
   },
   {
    "duration": 1881,
    "start_time": "2021-11-17T21:07:30.479Z"
   },
   {
    "duration": 1872,
    "start_time": "2021-11-17T21:07:30.490Z"
   },
   {
    "duration": 1869,
    "start_time": "2021-11-17T21:07:30.494Z"
   },
   {
    "duration": 1861,
    "start_time": "2021-11-17T21:07:30.504Z"
   },
   {
    "duration": 6610,
    "start_time": "2021-11-17T21:08:35.395Z"
   },
   {
    "duration": 1371,
    "start_time": "2021-11-17T21:08:50.761Z"
   },
   {
    "duration": 1551,
    "start_time": "2021-11-17T21:08:52.134Z"
   },
   {
    "duration": 23,
    "start_time": "2021-11-17T21:08:53.688Z"
   },
   {
    "duration": 22,
    "start_time": "2021-11-17T21:08:53.714Z"
   },
   {
    "duration": 283,
    "start_time": "2021-11-17T21:08:53.738Z"
   },
   {
    "duration": 196,
    "start_time": "2021-11-17T21:08:54.024Z"
   },
   {
    "duration": 48,
    "start_time": "2021-11-17T21:08:54.223Z"
   },
   {
    "duration": 47,
    "start_time": "2021-11-17T21:08:54.275Z"
   },
   {
    "duration": 41,
    "start_time": "2021-11-17T21:08:54.326Z"
   },
   {
    "duration": 15,
    "start_time": "2021-11-17T21:08:54.369Z"
   },
   {
    "duration": 167,
    "start_time": "2021-11-17T21:08:54.386Z"
   },
   {
    "duration": 61,
    "start_time": "2021-11-17T21:08:54.555Z"
   },
   {
    "duration": 65,
    "start_time": "2021-11-17T21:08:54.618Z"
   },
   {
    "duration": 8,
    "start_time": "2021-11-17T21:08:54.685Z"
   },
   {
    "duration": 789,
    "start_time": "2021-11-17T21:08:54.696Z"
   },
   {
    "duration": 885,
    "start_time": "2021-11-17T21:08:55.487Z"
   },
   {
    "duration": 44,
    "start_time": "2021-11-17T21:08:56.374Z"
   },
   {
    "duration": 723,
    "start_time": "2021-11-17T21:08:56.420Z"
   },
   {
    "duration": 28,
    "start_time": "2021-11-17T21:08:57.145Z"
   },
   {
    "duration": 5,
    "start_time": "2021-11-17T21:08:57.175Z"
   },
   {
    "duration": 858,
    "start_time": "2021-11-17T21:08:57.182Z"
   },
   {
    "duration": 1822,
    "start_time": "2021-11-17T21:08:56.221Z"
   },
   {
    "duration": 1820,
    "start_time": "2021-11-17T21:08:56.225Z"
   },
   {
    "duration": 1811,
    "start_time": "2021-11-17T21:08:56.235Z"
   },
   {
    "duration": 1828,
    "start_time": "2021-11-17T21:08:56.239Z"
   },
   {
    "duration": 1825,
    "start_time": "2021-11-17T21:08:56.243Z"
   },
   {
    "duration": 1816,
    "start_time": "2021-11-17T21:08:56.254Z"
   },
   {
    "duration": 1813,
    "start_time": "2021-11-17T21:08:56.258Z"
   },
   {
    "duration": 1811,
    "start_time": "2021-11-17T21:08:56.261Z"
   },
   {
    "duration": 1808,
    "start_time": "2021-11-17T21:08:56.265Z"
   },
   {
    "duration": 1806,
    "start_time": "2021-11-17T21:08:56.269Z"
   },
   {
    "duration": 1803,
    "start_time": "2021-11-17T21:08:56.273Z"
   },
   {
    "duration": 1792,
    "start_time": "2021-11-17T21:08:56.285Z"
   },
   {
    "duration": 6316,
    "start_time": "2021-11-17T21:09:53.641Z"
   },
   {
    "duration": 1344,
    "start_time": "2021-11-17T21:10:09.690Z"
   },
   {
    "duration": 1579,
    "start_time": "2021-11-17T21:10:11.036Z"
   },
   {
    "duration": 48,
    "start_time": "2021-11-17T21:10:12.618Z"
   },
   {
    "duration": 23,
    "start_time": "2021-11-17T21:10:12.670Z"
   },
   {
    "duration": 276,
    "start_time": "2021-11-17T21:10:12.696Z"
   },
   {
    "duration": 195,
    "start_time": "2021-11-17T21:10:12.975Z"
   },
   {
    "duration": 31,
    "start_time": "2021-11-17T21:10:13.172Z"
   },
   {
    "duration": 69,
    "start_time": "2021-11-17T21:10:13.207Z"
   },
   {
    "duration": 17,
    "start_time": "2021-11-17T21:10:13.280Z"
   },
   {
    "duration": 16,
    "start_time": "2021-11-17T21:10:13.299Z"
   },
   {
    "duration": 195,
    "start_time": "2021-11-17T21:10:13.317Z"
   },
   {
    "duration": 65,
    "start_time": "2021-11-17T21:10:13.515Z"
   },
   {
    "duration": 42,
    "start_time": "2021-11-17T21:10:13.582Z"
   },
   {
    "duration": 8,
    "start_time": "2021-11-17T21:10:13.626Z"
   },
   {
    "duration": 784,
    "start_time": "2021-11-17T21:10:13.668Z"
   },
   {
    "duration": 892,
    "start_time": "2021-11-17T21:10:14.455Z"
   },
   {
    "duration": 53,
    "start_time": "2021-11-17T21:10:15.351Z"
   },
   {
    "duration": 715,
    "start_time": "2021-11-17T21:10:15.407Z"
   },
   {
    "duration": 15,
    "start_time": "2021-11-17T21:10:16.125Z"
   },
   {
    "duration": 25,
    "start_time": "2021-11-17T21:10:16.143Z"
   },
   {
    "duration": 8127,
    "start_time": "2021-11-17T21:10:16.171Z"
   },
   {
    "duration": 5,
    "start_time": "2021-11-17T21:10:24.301Z"
   },
   {
    "duration": 65,
    "start_time": "2021-11-17T21:10:24.311Z"
   },
   {
    "duration": 32,
    "start_time": "2021-11-17T21:10:24.378Z"
   },
   {
    "duration": 19,
    "start_time": "2021-11-17T21:10:24.412Z"
   },
   {
    "duration": 73,
    "start_time": "2021-11-17T21:10:24.433Z"
   },
   {
    "duration": 10,
    "start_time": "2021-11-17T21:10:24.508Z"
   },
   {
    "duration": 150,
    "start_time": "2021-11-17T21:10:24.521Z"
   },
   {
    "duration": 899,
    "start_time": "2021-11-17T21:10:24.674Z"
   },
   {
    "duration": -25,
    "start_time": "2021-11-17T21:10:25.601Z"
   },
   {
    "duration": -28,
    "start_time": "2021-11-17T21:10:25.605Z"
   },
   {
    "duration": -71,
    "start_time": "2021-11-17T21:10:25.650Z"
   },
   {
    "duration": -73,
    "start_time": "2021-11-17T21:10:25.653Z"
   },
   {
    "duration": 6469,
    "start_time": "2021-11-17T21:13:08.446Z"
   },
   {
    "duration": 1673,
    "start_time": "2021-11-17T21:13:26.917Z"
   },
   {
    "duration": 2031,
    "start_time": "2021-11-17T21:13:28.592Z"
   },
   {
    "duration": 47,
    "start_time": "2021-11-17T21:13:30.626Z"
   },
   {
    "duration": 21,
    "start_time": "2021-11-17T21:13:30.676Z"
   },
   {
    "duration": 270,
    "start_time": "2021-11-17T21:13:30.700Z"
   },
   {
    "duration": 187,
    "start_time": "2021-11-17T21:13:30.972Z"
   },
   {
    "duration": 35,
    "start_time": "2021-11-17T21:13:31.162Z"
   },
   {
    "duration": 68,
    "start_time": "2021-11-17T21:13:31.200Z"
   },
   {
    "duration": 19,
    "start_time": "2021-11-17T21:13:31.271Z"
   },
   {
    "duration": 43,
    "start_time": "2021-11-17T21:13:31.293Z"
   },
   {
    "duration": 157,
    "start_time": "2021-11-17T21:13:31.339Z"
   },
   {
    "duration": 73,
    "start_time": "2021-11-17T21:13:31.498Z"
   },
   {
    "duration": 44,
    "start_time": "2021-11-17T21:13:31.574Z"
   },
   {
    "duration": 7,
    "start_time": "2021-11-17T21:13:31.621Z"
   },
   {
    "duration": 846,
    "start_time": "2021-11-17T21:13:31.631Z"
   },
   {
    "duration": 879,
    "start_time": "2021-11-17T21:13:32.479Z"
   },
   {
    "duration": 45,
    "start_time": "2021-11-17T21:13:33.368Z"
   },
   {
    "duration": 718,
    "start_time": "2021-11-17T21:13:33.416Z"
   },
   {
    "duration": 31,
    "start_time": "2021-11-17T21:13:34.136Z"
   },
   {
    "duration": 4,
    "start_time": "2021-11-17T21:13:34.169Z"
   },
   {
    "duration": 8170,
    "start_time": "2021-11-17T21:13:34.176Z"
   },
   {
    "duration": 21,
    "start_time": "2021-11-17T21:13:42.348Z"
   },
   {
    "duration": 39,
    "start_time": "2021-11-17T21:13:42.374Z"
   },
   {
    "duration": 54,
    "start_time": "2021-11-17T21:13:42.416Z"
   },
   {
    "duration": 19,
    "start_time": "2021-11-17T21:13:42.472Z"
   },
   {
    "duration": 82,
    "start_time": "2021-11-17T21:13:42.494Z"
   },
   {
    "duration": 11,
    "start_time": "2021-11-17T21:13:42.579Z"
   },
   {
    "duration": 132,
    "start_time": "2021-11-17T21:13:42.593Z"
   },
   {
    "duration": 982,
    "start_time": "2021-11-17T21:13:42.728Z"
   },
   {
    "duration": -14,
    "start_time": "2021-11-17T21:13:43.726Z"
   },
   {
    "duration": -24,
    "start_time": "2021-11-17T21:13:43.738Z"
   },
   {
    "duration": -27,
    "start_time": "2021-11-17T21:13:43.742Z"
   },
   {
    "duration": -30,
    "start_time": "2021-11-17T21:13:43.746Z"
   },
   {
    "duration": 5,
    "start_time": "2021-11-17T21:22:07.580Z"
   },
   {
    "duration": 39,
    "start_time": "2021-11-17T21:25:11.991Z"
   },
   {
    "duration": 61,
    "start_time": "2021-11-17T22:34:32.892Z"
   },
   {
    "duration": 38,
    "start_time": "2021-11-17T22:34:45.229Z"
   },
   {
    "duration": 15,
    "start_time": "2021-11-17T22:37:25.345Z"
   },
   {
    "duration": 3,
    "start_time": "2021-11-17T22:40:14.302Z"
   },
   {
    "duration": 7,
    "start_time": "2021-11-17T22:40:29.461Z"
   },
   {
    "duration": 4,
    "start_time": "2021-11-17T22:41:19.696Z"
   },
   {
    "duration": 3,
    "start_time": "2021-11-17T22:41:28.369Z"
   },
   {
    "duration": 3,
    "start_time": "2021-11-17T22:42:38.939Z"
   },
   {
    "duration": 181,
    "start_time": "2021-11-17T22:43:10.020Z"
   },
   {
    "duration": 4,
    "start_time": "2021-11-17T22:43:40.776Z"
   },
   {
    "duration": 776,
    "start_time": "2021-11-17T22:50:46.399Z"
   },
   {
    "duration": 1001,
    "start_time": "2021-11-17T22:52:12.694Z"
   },
   {
    "duration": 1396,
    "start_time": "2021-11-17T22:52:48.746Z"
   },
   {
    "duration": 1558,
    "start_time": "2021-11-17T22:52:50.145Z"
   },
   {
    "duration": 23,
    "start_time": "2021-11-17T22:52:51.706Z"
   },
   {
    "duration": 46,
    "start_time": "2021-11-17T22:52:51.732Z"
   },
   {
    "duration": 270,
    "start_time": "2021-11-17T22:52:51.780Z"
   },
   {
    "duration": 198,
    "start_time": "2021-11-17T22:52:52.052Z"
   },
   {
    "duration": 39,
    "start_time": "2021-11-17T22:52:52.252Z"
   },
   {
    "duration": 47,
    "start_time": "2021-11-17T22:52:52.295Z"
   },
   {
    "duration": 39,
    "start_time": "2021-11-17T22:52:52.345Z"
   },
   {
    "duration": 15,
    "start_time": "2021-11-17T22:52:52.386Z"
   },
   {
    "duration": 180,
    "start_time": "2021-11-17T22:52:52.403Z"
   },
   {
    "duration": 52,
    "start_time": "2021-11-17T22:52:52.585Z"
   },
   {
    "duration": 69,
    "start_time": "2021-11-17T22:52:52.639Z"
   },
   {
    "duration": 7,
    "start_time": "2021-11-17T22:52:52.710Z"
   },
   {
    "duration": 796,
    "start_time": "2021-11-17T22:52:52.720Z"
   },
   {
    "duration": 887,
    "start_time": "2021-11-17T22:52:53.518Z"
   },
   {
    "duration": 60,
    "start_time": "2021-11-17T22:52:54.407Z"
   },
   {
    "duration": 798,
    "start_time": "2021-11-17T22:52:54.470Z"
   },
   {
    "duration": 15,
    "start_time": "2021-11-17T22:52:55.270Z"
   },
   {
    "duration": 5,
    "start_time": "2021-11-17T22:52:55.287Z"
   },
   {
    "duration": 8189,
    "start_time": "2021-11-17T22:52:55.295Z"
   },
   {
    "duration": 5,
    "start_time": "2021-11-17T22:53:03.487Z"
   },
   {
    "duration": 20,
    "start_time": "2021-11-17T22:53:03.497Z"
   },
   {
    "duration": 17,
    "start_time": "2021-11-17T22:53:03.520Z"
   },
   {
    "duration": 32,
    "start_time": "2021-11-17T22:53:03.539Z"
   },
   {
    "duration": 8,
    "start_time": "2021-11-17T22:53:03.573Z"
   },
   {
    "duration": 12,
    "start_time": "2021-11-17T22:53:03.584Z"
   },
   {
    "duration": 17,
    "start_time": "2021-11-17T22:53:03.598Z"
   },
   {
    "duration": 1912,
    "start_time": "2021-11-17T22:53:03.617Z"
   },
   {
    "duration": 8049,
    "start_time": "2021-11-17T22:53:05.532Z"
   },
   {
    "duration": 1945,
    "start_time": "2021-11-17T22:53:11.639Z"
   },
   {
    "duration": 1940,
    "start_time": "2021-11-17T22:53:11.645Z"
   },
   {
    "duration": 1931,
    "start_time": "2021-11-17T22:53:11.655Z"
   },
   {
    "duration": 3242,
    "start_time": "2021-11-17T22:56:11.708Z"
   },
   {
    "duration": 12,
    "start_time": "2021-11-17T23:01:30.537Z"
   },
   {
    "duration": 413,
    "start_time": "2021-11-18T08:00:58.119Z"
   },
   {
    "duration": 367,
    "start_time": "2021-11-18T08:01:57.860Z"
   },
   {
    "duration": 372,
    "start_time": "2021-11-18T08:05:14.073Z"
   },
   {
    "duration": 1631,
    "start_time": "2021-11-18T08:05:20.582Z"
   },
   {
    "duration": 1455,
    "start_time": "2021-11-18T08:05:22.217Z"
   },
   {
    "duration": 21,
    "start_time": "2021-11-18T08:05:23.675Z"
   },
   {
    "duration": 22,
    "start_time": "2021-11-18T08:05:23.699Z"
   },
   {
    "duration": 269,
    "start_time": "2021-11-18T08:05:23.723Z"
   },
   {
    "duration": 177,
    "start_time": "2021-11-18T08:05:23.994Z"
   },
   {
    "duration": 30,
    "start_time": "2021-11-18T08:05:24.173Z"
   },
   {
    "duration": 71,
    "start_time": "2021-11-18T08:05:24.207Z"
   },
   {
    "duration": 16,
    "start_time": "2021-11-18T08:05:24.281Z"
   },
   {
    "duration": 12,
    "start_time": "2021-11-18T08:05:24.300Z"
   },
   {
    "duration": 172,
    "start_time": "2021-11-18T08:05:24.314Z"
   },
   {
    "duration": 50,
    "start_time": "2021-11-18T08:05:24.488Z"
   },
   {
    "duration": 41,
    "start_time": "2021-11-18T08:05:24.560Z"
   },
   {
    "duration": 8,
    "start_time": "2021-11-18T08:05:24.603Z"
   },
   {
    "duration": 1646,
    "start_time": "2021-11-18T08:05:24.613Z"
   },
   {
    "duration": 927,
    "start_time": "2021-11-18T08:05:26.263Z"
   },
   {
    "duration": 44,
    "start_time": "2021-11-18T08:05:27.192Z"
   },
   {
    "duration": 703,
    "start_time": "2021-11-18T08:05:27.238Z"
   },
   {
    "duration": 27,
    "start_time": "2021-11-18T08:05:27.943Z"
   },
   {
    "duration": 4,
    "start_time": "2021-11-18T08:05:27.973Z"
   },
   {
    "duration": 7853,
    "start_time": "2021-11-18T08:05:27.980Z"
   },
   {
    "duration": 22,
    "start_time": "2021-11-18T08:05:35.836Z"
   },
   {
    "duration": 18,
    "start_time": "2021-11-18T08:05:35.867Z"
   },
   {
    "duration": 14,
    "start_time": "2021-11-18T08:05:35.888Z"
   },
   {
    "duration": 23,
    "start_time": "2021-11-18T08:05:35.905Z"
   },
   {
    "duration": 7,
    "start_time": "2021-11-18T08:05:35.931Z"
   },
   {
    "duration": 21,
    "start_time": "2021-11-18T08:05:35.941Z"
   },
   {
    "duration": 12,
    "start_time": "2021-11-18T08:05:35.964Z"
   },
   {
    "duration": 1540,
    "start_time": "2021-11-18T08:05:35.978Z"
   },
   {
    "duration": 3169,
    "start_time": "2021-11-18T08:05:37.520Z"
   },
   {
    "duration": 12,
    "start_time": "2021-11-18T08:05:40.691Z"
   },
   {
    "duration": 24,
    "start_time": "2021-11-18T08:05:40.705Z"
   },
   {
    "duration": 709,
    "start_time": "2021-11-18T08:05:40.731Z"
   },
   {
    "duration": 6,
    "start_time": "2021-11-18T08:05:41.444Z"
   },
   {
    "duration": 10,
    "start_time": "2021-11-18T08:13:51.917Z"
   },
   {
    "duration": 11,
    "start_time": "2021-11-18T08:14:30.501Z"
   },
   {
    "duration": 9,
    "start_time": "2021-11-18T08:15:56.444Z"
   },
   {
    "duration": 148,
    "start_time": "2021-11-18T08:17:31.603Z"
   },
   {
    "duration": 1676,
    "start_time": "2021-11-18T08:32:24.249Z"
   },
   {
    "duration": 1919,
    "start_time": "2021-11-18T08:32:25.928Z"
   },
   {
    "duration": 22,
    "start_time": "2021-11-18T08:32:27.859Z"
   },
   {
    "duration": 17,
    "start_time": "2021-11-18T08:32:27.884Z"
   },
   {
    "duration": 255,
    "start_time": "2021-11-18T08:32:27.904Z"
   },
   {
    "duration": 233,
    "start_time": "2021-11-18T08:32:28.161Z"
   },
   {
    "duration": 30,
    "start_time": "2021-11-18T08:32:28.396Z"
   },
   {
    "duration": 68,
    "start_time": "2021-11-18T08:32:28.428Z"
   },
   {
    "duration": 16,
    "start_time": "2021-11-18T08:32:28.500Z"
   },
   {
    "duration": 15,
    "start_time": "2021-11-18T08:32:28.519Z"
   },
   {
    "duration": 177,
    "start_time": "2021-11-18T08:32:28.536Z"
   },
   {
    "duration": 64,
    "start_time": "2021-11-18T08:32:28.715Z"
   },
   {
    "duration": 40,
    "start_time": "2021-11-18T08:32:28.781Z"
   },
   {
    "duration": 7,
    "start_time": "2021-11-18T08:32:28.824Z"
   },
   {
    "duration": 1181,
    "start_time": "2021-11-18T08:32:28.833Z"
   },
   {
    "duration": 864,
    "start_time": "2021-11-18T08:32:30.016Z"
   },
   {
    "duration": 45,
    "start_time": "2021-11-18T08:32:30.883Z"
   },
   {
    "duration": 705,
    "start_time": "2021-11-18T08:32:30.930Z"
   },
   {
    "duration": 23,
    "start_time": "2021-11-18T08:32:31.638Z"
   },
   {
    "duration": 4,
    "start_time": "2021-11-18T08:32:31.663Z"
   },
   {
    "duration": 8120,
    "start_time": "2021-11-18T08:32:31.670Z"
   },
   {
    "duration": 5,
    "start_time": "2021-11-18T08:32:39.792Z"
   },
   {
    "duration": 27,
    "start_time": "2021-11-18T08:32:39.800Z"
   },
   {
    "duration": 12,
    "start_time": "2021-11-18T08:32:39.829Z"
   },
   {
    "duration": 17,
    "start_time": "2021-11-18T08:32:39.843Z"
   },
   {
    "duration": 6,
    "start_time": "2021-11-18T08:32:39.863Z"
   },
   {
    "duration": 7,
    "start_time": "2021-11-18T08:32:39.874Z"
   },
   {
    "duration": 5,
    "start_time": "2021-11-18T08:32:39.883Z"
   },
   {
    "duration": 1498,
    "start_time": "2021-11-18T08:32:39.891Z"
   },
   {
    "duration": 3025,
    "start_time": "2021-11-18T08:32:41.391Z"
   },
   {
    "duration": 12,
    "start_time": "2021-11-18T08:32:44.418Z"
   },
   {
    "duration": 32,
    "start_time": "2021-11-18T08:32:44.432Z"
   },
   {
    "duration": 673,
    "start_time": "2021-11-18T08:32:44.466Z"
   },
   {
    "duration": 17,
    "start_time": "2021-11-18T08:32:45.141Z"
   },
   {
    "duration": 10,
    "start_time": "2021-11-18T08:32:45.161Z"
   },
   {
    "duration": 1427,
    "start_time": "2021-11-18T14:49:33.246Z"
   },
   {
    "duration": 1536,
    "start_time": "2021-11-18T14:49:34.676Z"
   },
   {
    "duration": 22,
    "start_time": "2021-11-18T14:49:36.215Z"
   },
   {
    "duration": 49,
    "start_time": "2021-11-18T14:49:36.239Z"
   },
   {
    "duration": 259,
    "start_time": "2021-11-18T14:49:36.290Z"
   },
   {
    "duration": 186,
    "start_time": "2021-11-18T14:49:36.551Z"
   },
   {
    "duration": 52,
    "start_time": "2021-11-18T14:49:36.740Z"
   },
   {
    "duration": 47,
    "start_time": "2021-11-18T14:49:36.795Z"
   },
   {
    "duration": 40,
    "start_time": "2021-11-18T14:49:36.847Z"
   },
   {
    "duration": 13,
    "start_time": "2021-11-18T14:49:36.890Z"
   },
   {
    "duration": 176,
    "start_time": "2021-11-18T14:49:36.906Z"
   },
   {
    "duration": 51,
    "start_time": "2021-11-18T14:49:37.084Z"
   },
   {
    "duration": 71,
    "start_time": "2021-11-18T14:49:37.137Z"
   },
   {
    "duration": 7,
    "start_time": "2021-11-18T14:49:37.210Z"
   },
   {
    "duration": 781,
    "start_time": "2021-11-18T14:49:37.219Z"
   },
   {
    "duration": 868,
    "start_time": "2021-11-18T14:49:38.002Z"
   },
   {
    "duration": 45,
    "start_time": "2021-11-18T14:49:38.881Z"
   },
   {
    "duration": 678,
    "start_time": "2021-11-18T14:49:38.929Z"
   },
   {
    "duration": 16,
    "start_time": "2021-11-18T14:49:39.610Z"
   },
   {
    "duration": 6,
    "start_time": "2021-11-18T14:49:39.629Z"
   },
   {
    "duration": 8108,
    "start_time": "2021-11-18T14:49:39.638Z"
   },
   {
    "duration": 6,
    "start_time": "2021-11-18T14:49:47.748Z"
   },
   {
    "duration": 34,
    "start_time": "2021-11-18T14:49:47.757Z"
   },
   {
    "duration": 11,
    "start_time": "2021-11-18T14:49:47.793Z"
   },
   {
    "duration": 6,
    "start_time": "2021-11-18T14:49:47.807Z"
   },
   {
    "duration": 6,
    "start_time": "2021-11-18T14:49:47.815Z"
   },
   {
    "duration": 12,
    "start_time": "2021-11-18T14:49:47.826Z"
   },
   {
    "duration": 8,
    "start_time": "2021-11-18T14:49:47.841Z"
   },
   {
    "duration": 1511,
    "start_time": "2021-11-18T14:49:47.852Z"
   },
   {
    "duration": 3292,
    "start_time": "2021-11-18T14:49:49.366Z"
   },
   {
    "duration": 27,
    "start_time": "2021-11-18T14:49:52.661Z"
   },
   {
    "duration": 8,
    "start_time": "2021-11-18T14:49:52.690Z"
   },
   {
    "duration": 699,
    "start_time": "2021-11-18T14:49:52.700Z"
   },
   {
    "duration": 7,
    "start_time": "2021-11-18T14:49:53.401Z"
   },
   {
    "duration": 12,
    "start_time": "2021-11-18T14:49:53.410Z"
   },
   {
    "duration": 1380,
    "start_time": "2021-11-18T15:30:17.764Z"
   },
   {
    "duration": 1646,
    "start_time": "2021-11-18T15:30:19.147Z"
   },
   {
    "duration": 29,
    "start_time": "2021-11-18T15:30:20.797Z"
   },
   {
    "duration": 28,
    "start_time": "2021-11-18T15:30:20.829Z"
   },
   {
    "duration": 399,
    "start_time": "2021-11-18T15:30:20.883Z"
   },
   {
    "duration": 297,
    "start_time": "2021-11-18T15:30:21.285Z"
   },
   {
    "duration": 44,
    "start_time": "2021-11-18T15:30:21.585Z"
   },
   {
    "duration": 84,
    "start_time": "2021-11-18T15:30:21.635Z"
   },
   {
    "duration": 24,
    "start_time": "2021-11-18T15:30:21.723Z"
   },
   {
    "duration": 36,
    "start_time": "2021-11-18T15:30:21.750Z"
   },
   {
    "duration": 262,
    "start_time": "2021-11-18T15:30:21.789Z"
   },
   {
    "duration": 90,
    "start_time": "2021-11-18T15:30:22.054Z"
   },
   {
    "duration": 76,
    "start_time": "2021-11-18T15:30:22.147Z"
   },
   {
    "duration": 11,
    "start_time": "2021-11-18T15:30:22.226Z"
   },
   {
    "duration": 1141,
    "start_time": "2021-11-18T15:30:22.240Z"
   },
   {
    "duration": 1275,
    "start_time": "2021-11-18T15:30:23.384Z"
   },
   {
    "duration": 70,
    "start_time": "2021-11-18T15:30:24.662Z"
   },
   {
    "duration": 1142,
    "start_time": "2021-11-18T15:30:24.735Z"
   },
   {
    "duration": 21,
    "start_time": "2021-11-18T15:30:25.883Z"
   },
   {
    "duration": 5,
    "start_time": "2021-11-18T15:30:25.908Z"
   },
   {
    "duration": 8696,
    "start_time": "2021-11-18T15:30:25.916Z"
   },
   {
    "duration": 5,
    "start_time": "2021-11-18T15:30:34.615Z"
   },
   {
    "duration": 25,
    "start_time": "2021-11-18T15:30:34.625Z"
   },
   {
    "duration": 4,
    "start_time": "2021-11-18T15:30:34.653Z"
   },
   {
    "duration": 4,
    "start_time": "2021-11-18T15:30:34.682Z"
   },
   {
    "duration": 12,
    "start_time": "2021-11-18T15:30:34.688Z"
   },
   {
    "duration": 7,
    "start_time": "2021-11-18T15:30:34.703Z"
   },
   {
    "duration": 6,
    "start_time": "2021-11-18T15:30:34.713Z"
   },
   {
    "duration": 1593,
    "start_time": "2021-11-18T15:30:34.721Z"
   },
   {
    "duration": 3694,
    "start_time": "2021-11-18T15:30:36.316Z"
   },
   {
    "duration": 17,
    "start_time": "2021-11-18T15:30:40.013Z"
   },
   {
    "duration": 27,
    "start_time": "2021-11-18T15:30:40.033Z"
   },
   {
    "duration": 1094,
    "start_time": "2021-11-18T15:30:40.064Z"
   },
   {
    "duration": 20,
    "start_time": "2021-11-18T15:30:41.161Z"
   },
   {
    "duration": 9,
    "start_time": "2021-11-18T15:30:41.185Z"
   },
   {
    "duration": 1346,
    "start_time": "2021-11-18T15:33:21.497Z"
   },
   {
    "duration": 1609,
    "start_time": "2021-11-18T15:33:22.846Z"
   },
   {
    "duration": 44,
    "start_time": "2021-11-18T15:33:24.458Z"
   },
   {
    "duration": 25,
    "start_time": "2021-11-18T15:33:24.505Z"
   },
   {
    "duration": 271,
    "start_time": "2021-11-18T15:33:24.532Z"
   },
   {
    "duration": 189,
    "start_time": "2021-11-18T15:33:24.806Z"
   },
   {
    "duration": 34,
    "start_time": "2021-11-18T15:33:24.998Z"
   },
   {
    "duration": 76,
    "start_time": "2021-11-18T15:33:25.038Z"
   },
   {
    "duration": 20,
    "start_time": "2021-11-18T15:33:25.118Z"
   },
   {
    "duration": 43,
    "start_time": "2021-11-18T15:33:25.141Z"
   },
   {
    "duration": 169,
    "start_time": "2021-11-18T15:33:25.188Z"
   },
   {
    "duration": 67,
    "start_time": "2021-11-18T15:33:25.360Z"
   },
   {
    "duration": 72,
    "start_time": "2021-11-18T15:33:25.429Z"
   },
   {
    "duration": 11,
    "start_time": "2021-11-18T15:33:25.504Z"
   },
   {
    "duration": 765,
    "start_time": "2021-11-18T15:33:25.517Z"
   },
   {
    "duration": 836,
    "start_time": "2021-11-18T15:33:26.284Z"
   },
   {
    "duration": 59,
    "start_time": "2021-11-18T15:33:27.123Z"
   },
   {
    "duration": 654,
    "start_time": "2021-11-18T15:33:27.185Z"
   },
   {
    "duration": 15,
    "start_time": "2021-11-18T15:33:27.841Z"
   },
   {
    "duration": 24,
    "start_time": "2021-11-18T15:33:27.858Z"
   },
   {
    "duration": 8327,
    "start_time": "2021-11-18T15:33:27.884Z"
   },
   {
    "duration": 5,
    "start_time": "2021-11-18T15:33:36.214Z"
   },
   {
    "duration": 19,
    "start_time": "2021-11-18T15:33:36.224Z"
   },
   {
    "duration": 7,
    "start_time": "2021-11-18T15:33:36.246Z"
   },
   {
    "duration": 27,
    "start_time": "2021-11-18T15:33:36.255Z"
   },
   {
    "duration": 4,
    "start_time": "2021-11-18T15:33:36.285Z"
   },
   {
    "duration": 25,
    "start_time": "2021-11-18T15:33:36.292Z"
   },
   {
    "duration": 9,
    "start_time": "2021-11-18T15:33:36.320Z"
   },
   {
    "duration": 1652,
    "start_time": "2021-11-18T15:33:36.332Z"
   },
   {
    "duration": 4055,
    "start_time": "2021-11-18T15:33:37.986Z"
   },
   {
    "duration": 15,
    "start_time": "2021-11-18T15:33:42.045Z"
   },
   {
    "duration": 7,
    "start_time": "2021-11-18T15:33:42.083Z"
   },
   {
    "duration": 682,
    "start_time": "2021-11-18T15:33:42.093Z"
   },
   {
    "duration": 6,
    "start_time": "2021-11-18T15:33:42.777Z"
   },
   {
    "duration": 14,
    "start_time": "2021-11-18T15:33:42.785Z"
   },
   {
    "duration": 7,
    "start_time": "2021-11-18T21:00:52.866Z"
   },
   {
    "duration": 807,
    "start_time": "2021-11-18T21:30:48.105Z"
   },
   {
    "duration": 1111,
    "start_time": "2021-11-18T21:30:55.148Z"
   },
   {
    "duration": 955,
    "start_time": "2021-11-18T21:30:56.261Z"
   },
   {
    "duration": 16,
    "start_time": "2021-11-18T21:30:57.218Z"
   },
   {
    "duration": 44,
    "start_time": "2021-11-18T21:30:57.236Z"
   },
   {
    "duration": 156,
    "start_time": "2021-11-18T21:30:57.282Z"
   },
   {
    "duration": 130,
    "start_time": "2021-11-18T21:30:57.439Z"
   },
   {
    "duration": 21,
    "start_time": "2021-11-18T21:30:57.571Z"
   },
   {
    "duration": 32,
    "start_time": "2021-11-18T21:30:57.595Z"
   },
   {
    "duration": 38,
    "start_time": "2021-11-18T21:30:57.630Z"
   },
   {
    "duration": 11,
    "start_time": "2021-11-18T21:30:57.670Z"
   },
   {
    "duration": 106,
    "start_time": "2021-11-18T21:30:57.683Z"
   },
   {
    "duration": 27,
    "start_time": "2021-11-18T21:30:57.791Z"
   },
   {
    "duration": 44,
    "start_time": "2021-11-18T21:30:57.819Z"
   },
   {
    "duration": 5,
    "start_time": "2021-11-18T21:30:57.864Z"
   },
   {
    "duration": 706,
    "start_time": "2021-11-18T21:30:57.871Z"
   },
   {
    "duration": 504,
    "start_time": "2021-11-18T21:30:58.579Z"
   },
   {
    "duration": 32,
    "start_time": "2021-11-18T21:30:59.085Z"
   },
   {
    "duration": 396,
    "start_time": "2021-11-18T21:30:59.119Z"
   },
   {
    "duration": 10,
    "start_time": "2021-11-18T21:30:59.516Z"
   },
   {
    "duration": 5,
    "start_time": "2021-11-18T21:30:59.527Z"
   },
   {
    "duration": 7,
    "start_time": "2021-11-18T21:30:59.534Z"
   },
   {
    "duration": 5811,
    "start_time": "2021-11-18T21:30:59.542Z"
   },
   {
    "duration": 10,
    "start_time": "2021-11-18T21:31:05.356Z"
   },
   {
    "duration": 44,
    "start_time": "2021-11-18T21:31:05.368Z"
   },
   {
    "duration": 3,
    "start_time": "2021-11-18T21:31:05.414Z"
   },
   {
    "duration": 7,
    "start_time": "2021-11-18T21:31:05.419Z"
   },
   {
    "duration": 10,
    "start_time": "2021-11-18T21:31:05.428Z"
   },
   {
    "duration": 6,
    "start_time": "2021-11-18T21:31:05.440Z"
   },
   {
    "duration": 7,
    "start_time": "2021-11-18T21:31:05.447Z"
   },
   {
    "duration": 1349,
    "start_time": "2021-11-18T21:31:05.456Z"
   },
   {
    "duration": 1843,
    "start_time": "2021-11-18T21:31:06.806Z"
   },
   {
    "duration": 18,
    "start_time": "2021-11-18T21:31:08.650Z"
   },
   {
    "duration": 7,
    "start_time": "2021-11-18T21:31:08.670Z"
   },
   {
    "duration": 403,
    "start_time": "2021-11-18T21:31:08.679Z"
   },
   {
    "duration": 5,
    "start_time": "2021-11-18T21:31:09.083Z"
   },
   {
    "duration": 15,
    "start_time": "2021-11-18T21:31:09.090Z"
   },
   {
    "duration": 32,
    "start_time": "2021-11-18T21:55:38.236Z"
   },
   {
    "duration": 989,
    "start_time": "2021-11-18T22:11:06.084Z"
   },
   {
    "duration": 6,
    "start_time": "2021-11-18T22:17:54.617Z"
   },
   {
    "duration": 6,
    "start_time": "2021-11-18T22:19:47.863Z"
   },
   {
    "duration": 8,
    "start_time": "2021-11-18T22:21:14.756Z"
   },
   {
    "duration": 5984,
    "start_time": "2021-11-18T22:23:19.142Z"
   },
   {
    "duration": 5,
    "start_time": "2021-11-18T22:26:16.352Z"
   },
   {
    "duration": 5,
    "start_time": "2021-11-18T22:28:16.411Z"
   },
   {
    "duration": 6,
    "start_time": "2021-11-18T22:30:18.616Z"
   },
   {
    "duration": 5,
    "start_time": "2021-11-18T22:32:22.518Z"
   },
   {
    "duration": 1038,
    "start_time": "2021-11-18T22:45:26.919Z"
   },
   {
    "duration": 968,
    "start_time": "2021-11-18T22:45:27.959Z"
   },
   {
    "duration": 43,
    "start_time": "2021-11-18T22:45:28.929Z"
   },
   {
    "duration": 19,
    "start_time": "2021-11-18T22:45:28.974Z"
   },
   {
    "duration": 168,
    "start_time": "2021-11-18T22:45:28.994Z"
   },
   {
    "duration": 113,
    "start_time": "2021-11-18T22:45:29.164Z"
   },
   {
    "duration": 20,
    "start_time": "2021-11-18T22:45:29.278Z"
   },
   {
    "duration": 29,
    "start_time": "2021-11-18T22:45:29.301Z"
   },
   {
    "duration": 32,
    "start_time": "2021-11-18T22:45:29.332Z"
   },
   {
    "duration": 9,
    "start_time": "2021-11-18T22:45:29.365Z"
   },
   {
    "duration": 100,
    "start_time": "2021-11-18T22:45:29.375Z"
   },
   {
    "duration": 28,
    "start_time": "2021-11-18T22:45:29.477Z"
   },
   {
    "duration": 24,
    "start_time": "2021-11-18T22:45:29.507Z"
   },
   {
    "duration": 32,
    "start_time": "2021-11-18T22:45:29.532Z"
   },
   {
    "duration": 486,
    "start_time": "2021-11-18T22:45:29.566Z"
   },
   {
    "duration": 519,
    "start_time": "2021-11-18T22:45:30.054Z"
   },
   {
    "duration": 33,
    "start_time": "2021-11-18T22:45:30.575Z"
   },
   {
    "duration": 506,
    "start_time": "2021-11-18T22:45:30.610Z"
   },
   {
    "duration": 47,
    "start_time": "2021-11-18T22:45:31.118Z"
   },
   {
    "duration": 3,
    "start_time": "2021-11-18T22:45:31.167Z"
   },
   {
    "duration": 9,
    "start_time": "2021-11-18T22:45:31.172Z"
   },
   {
    "duration": 38,
    "start_time": "2021-11-18T22:45:31.183Z"
   },
   {
    "duration": 5692,
    "start_time": "2021-11-18T22:45:31.224Z"
   },
   {
    "duration": 5,
    "start_time": "2021-11-18T22:45:36.919Z"
   },
   {
    "duration": 6,
    "start_time": "2021-11-18T22:45:36.926Z"
   },
   {
    "duration": 60,
    "start_time": "2021-11-18T22:45:36.933Z"
   },
   {
    "duration": 3,
    "start_time": "2021-11-18T22:45:36.995Z"
   },
   {
    "duration": 6,
    "start_time": "2021-11-18T22:45:36.999Z"
   },
   {
    "duration": 5,
    "start_time": "2021-11-18T22:45:37.006Z"
   },
   {
    "duration": 7,
    "start_time": "2021-11-18T22:45:37.012Z"
   },
   {
    "duration": 7,
    "start_time": "2021-11-18T22:45:37.020Z"
   },
   {
    "duration": 949,
    "start_time": "2021-11-18T22:45:37.028Z"
   },
   {
    "duration": 1824,
    "start_time": "2021-11-18T22:45:37.979Z"
   },
   {
    "duration": 8,
    "start_time": "2021-11-18T22:45:39.805Z"
   },
   {
    "duration": 5,
    "start_time": "2021-11-18T22:45:39.815Z"
   },
   {
    "duration": 405,
    "start_time": "2021-11-18T22:45:39.821Z"
   },
   {
    "duration": 5,
    "start_time": "2021-11-18T22:45:40.227Z"
   },
   {
    "duration": 9,
    "start_time": "2021-11-18T22:45:40.233Z"
   },
   {
    "duration": 6,
    "start_time": "2021-11-18T22:46:37.532Z"
   },
   {
    "duration": 4,
    "start_time": "2021-11-18T22:53:13.672Z"
   },
   {
    "duration": 5,
    "start_time": "2021-11-18T23:23:09.331Z"
   },
   {
    "duration": 6,
    "start_time": "2021-11-18T23:52:54.311Z"
   },
   {
    "duration": 32,
    "start_time": "2021-11-18T23:55:31.886Z"
   },
   {
    "duration": 340,
    "start_time": "2021-11-19T00:02:00.643Z"
   },
   {
    "duration": 1082,
    "start_time": "2021-11-19T00:02:12.517Z"
   },
   {
    "duration": 999,
    "start_time": "2021-11-19T00:02:13.600Z"
   },
   {
    "duration": 18,
    "start_time": "2021-11-19T00:02:14.601Z"
   },
   {
    "duration": 17,
    "start_time": "2021-11-19T00:02:14.621Z"
   },
   {
    "duration": 181,
    "start_time": "2021-11-19T00:02:14.640Z"
   },
   {
    "duration": 114,
    "start_time": "2021-11-19T00:02:14.823Z"
   },
   {
    "duration": 33,
    "start_time": "2021-11-19T00:02:14.939Z"
   },
   {
    "duration": 32,
    "start_time": "2021-11-19T00:02:14.975Z"
   },
   {
    "duration": 12,
    "start_time": "2021-11-19T00:02:15.009Z"
   },
   {
    "duration": 41,
    "start_time": "2021-11-19T00:02:15.022Z"
   },
   {
    "duration": 110,
    "start_time": "2021-11-19T00:02:15.064Z"
   },
   {
    "duration": 32,
    "start_time": "2021-11-19T00:02:15.175Z"
   },
   {
    "duration": 60,
    "start_time": "2021-11-19T00:02:15.209Z"
   },
   {
    "duration": 22,
    "start_time": "2021-11-19T00:02:15.271Z"
   },
   {
    "duration": 506,
    "start_time": "2021-11-19T00:02:15.295Z"
   },
   {
    "duration": 514,
    "start_time": "2021-11-19T00:02:15.803Z"
   },
   {
    "duration": 44,
    "start_time": "2021-11-19T00:02:16.319Z"
   },
   {
    "duration": 389,
    "start_time": "2021-11-19T00:02:16.366Z"
   },
   {
    "duration": 14,
    "start_time": "2021-11-19T00:02:16.757Z"
   },
   {
    "duration": 7,
    "start_time": "2021-11-19T00:02:16.773Z"
   },
   {
    "duration": 12,
    "start_time": "2021-11-19T00:02:16.782Z"
   },
   {
    "duration": 23,
    "start_time": "2021-11-19T00:02:16.795Z"
   },
   {
    "duration": 6089,
    "start_time": "2021-11-19T00:02:16.821Z"
   },
   {
    "duration": 4,
    "start_time": "2021-11-19T00:02:22.912Z"
   },
   {
    "duration": 56,
    "start_time": "2021-11-19T00:02:22.918Z"
   },
   {
    "duration": 337,
    "start_time": "2021-11-19T00:02:22.976Z"
   },
   {
    "duration": -153,
    "start_time": "2021-11-19T00:02:23.468Z"
   },
   {
    "duration": -157,
    "start_time": "2021-11-19T00:02:23.473Z"
   },
   {
    "duration": -182,
    "start_time": "2021-11-19T00:02:23.499Z"
   },
   {
    "duration": -186,
    "start_time": "2021-11-19T00:02:23.504Z"
   },
   {
    "duration": -190,
    "start_time": "2021-11-19T00:02:23.509Z"
   },
   {
    "duration": -203,
    "start_time": "2021-11-19T00:02:23.523Z"
   },
   {
    "duration": -206,
    "start_time": "2021-11-19T00:02:23.527Z"
   },
   {
    "duration": -216,
    "start_time": "2021-11-19T00:02:23.538Z"
   },
   {
    "duration": -220,
    "start_time": "2021-11-19T00:02:23.543Z"
   },
   {
    "duration": -231,
    "start_time": "2021-11-19T00:02:23.555Z"
   },
   {
    "duration": -235,
    "start_time": "2021-11-19T00:02:23.560Z"
   },
   {
    "duration": 317,
    "start_time": "2021-11-19T00:15:13.445Z"
   },
   {
    "duration": 79,
    "start_time": "2021-11-19T00:25:24.961Z"
   },
   {
    "duration": 1032,
    "start_time": "2021-11-19T00:25:33.108Z"
   },
   {
    "duration": 1039,
    "start_time": "2021-11-19T00:25:34.142Z"
   },
   {
    "duration": 18,
    "start_time": "2021-11-19T00:25:35.183Z"
   },
   {
    "duration": 18,
    "start_time": "2021-11-19T00:25:35.203Z"
   },
   {
    "duration": 184,
    "start_time": "2021-11-19T00:25:35.223Z"
   },
   {
    "duration": 119,
    "start_time": "2021-11-19T00:25:35.409Z"
   },
   {
    "duration": 34,
    "start_time": "2021-11-19T00:25:35.529Z"
   },
   {
    "duration": 31,
    "start_time": "2021-11-19T00:25:35.566Z"
   },
   {
    "duration": 11,
    "start_time": "2021-11-19T00:25:35.599Z"
   },
   {
    "duration": 9,
    "start_time": "2021-11-19T00:25:35.612Z"
   },
   {
    "duration": 117,
    "start_time": "2021-11-19T00:25:35.622Z"
   },
   {
    "duration": 41,
    "start_time": "2021-11-19T00:25:35.741Z"
   },
   {
    "duration": 33,
    "start_time": "2021-11-19T00:25:35.784Z"
   },
   {
    "duration": 5,
    "start_time": "2021-11-19T00:25:35.819Z"
   },
   {
    "duration": 483,
    "start_time": "2021-11-19T00:25:35.826Z"
   },
   {
    "duration": 515,
    "start_time": "2021-11-19T00:25:36.311Z"
   },
   {
    "duration": 41,
    "start_time": "2021-11-19T00:25:36.827Z"
   },
   {
    "duration": 593,
    "start_time": "2021-11-19T00:25:36.870Z"
   },
   {
    "duration": 11,
    "start_time": "2021-11-19T00:25:37.465Z"
   },
   {
    "duration": 11,
    "start_time": "2021-11-19T00:25:37.478Z"
   },
   {
    "duration": 8,
    "start_time": "2021-11-19T00:25:37.491Z"
   },
   {
    "duration": 11,
    "start_time": "2021-11-19T00:25:37.501Z"
   },
   {
    "duration": 8604,
    "start_time": "2021-11-19T00:25:37.516Z"
   },
   {
    "duration": 6,
    "start_time": "2021-11-19T00:25:46.123Z"
   },
   {
    "duration": 67,
    "start_time": "2021-11-19T00:25:46.131Z"
   },
   {
    "duration": 85,
    "start_time": "2021-11-19T00:25:46.200Z"
   },
   {
    "duration": -57,
    "start_time": "2021-11-19T00:25:46.345Z"
   },
   {
    "duration": -61,
    "start_time": "2021-11-19T00:25:46.350Z"
   },
   {
    "duration": -66,
    "start_time": "2021-11-19T00:25:46.356Z"
   },
   {
    "duration": -69,
    "start_time": "2021-11-19T00:25:46.360Z"
   },
   {
    "duration": -73,
    "start_time": "2021-11-19T00:25:46.366Z"
   },
   {
    "duration": -76,
    "start_time": "2021-11-19T00:25:46.370Z"
   },
   {
    "duration": -80,
    "start_time": "2021-11-19T00:25:46.375Z"
   },
   {
    "duration": -84,
    "start_time": "2021-11-19T00:25:46.380Z"
   },
   {
    "duration": -87,
    "start_time": "2021-11-19T00:25:46.385Z"
   },
   {
    "duration": -91,
    "start_time": "2021-11-19T00:25:46.390Z"
   },
   {
    "duration": -96,
    "start_time": "2021-11-19T00:25:46.396Z"
   },
   {
    "duration": -99,
    "start_time": "2021-11-19T00:25:46.401Z"
   },
   {
    "duration": 101,
    "start_time": "2021-11-19T00:26:27.708Z"
   },
   {
    "duration": 311,
    "start_time": "2021-11-19T00:29:38.719Z"
   },
   {
    "duration": 276,
    "start_time": "2021-11-19T00:30:09.468Z"
   },
   {
    "duration": 273,
    "start_time": "2021-11-19T00:56:20.983Z"
   },
   {
    "duration": 273,
    "start_time": "2021-11-19T06:07:22.058Z"
   },
   {
    "duration": 1231,
    "start_time": "2021-11-19T06:07:36.332Z"
   },
   {
    "duration": 1009,
    "start_time": "2021-11-19T06:07:37.565Z"
   },
   {
    "duration": 18,
    "start_time": "2021-11-19T06:07:38.577Z"
   },
   {
    "duration": 18,
    "start_time": "2021-11-19T06:07:38.598Z"
   },
   {
    "duration": 187,
    "start_time": "2021-11-19T06:07:38.619Z"
   },
   {
    "duration": 257,
    "start_time": "2021-11-19T06:07:38.808Z"
   },
   {
    "duration": 23,
    "start_time": "2021-11-19T06:07:39.067Z"
   },
   {
    "duration": 80,
    "start_time": "2021-11-19T06:07:39.092Z"
   },
   {
    "duration": 12,
    "start_time": "2021-11-19T06:07:39.174Z"
   },
   {
    "duration": 11,
    "start_time": "2021-11-19T06:07:39.187Z"
   },
   {
    "duration": 165,
    "start_time": "2021-11-19T06:07:39.200Z"
   },
   {
    "duration": 33,
    "start_time": "2021-11-19T06:07:39.366Z"
   },
   {
    "duration": 27,
    "start_time": "2021-11-19T06:07:39.401Z"
   },
   {
    "duration": 5,
    "start_time": "2021-11-19T06:07:39.430Z"
   },
   {
    "duration": 491,
    "start_time": "2021-11-19T06:07:39.463Z"
   },
   {
    "duration": 521,
    "start_time": "2021-11-19T06:07:39.956Z"
   },
   {
    "duration": 34,
    "start_time": "2021-11-19T06:07:40.479Z"
   },
   {
    "duration": 413,
    "start_time": "2021-11-19T06:07:40.515Z"
   },
   {
    "duration": 11,
    "start_time": "2021-11-19T06:07:40.930Z"
   },
   {
    "duration": 22,
    "start_time": "2021-11-19T06:07:40.942Z"
   },
   {
    "duration": 9,
    "start_time": "2021-11-19T06:07:40.966Z"
   },
   {
    "duration": 15,
    "start_time": "2021-11-19T06:07:40.977Z"
   },
   {
    "duration": 5506,
    "start_time": "2021-11-19T06:07:40.995Z"
   },
   {
    "duration": 5,
    "start_time": "2021-11-19T06:07:46.503Z"
   },
   {
    "duration": 54,
    "start_time": "2021-11-19T06:07:46.510Z"
   },
   {
    "duration": 427,
    "start_time": "2021-11-19T06:07:46.567Z"
   },
   {
    "duration": 3920,
    "start_time": "2021-11-19T06:07:43.076Z"
   },
   {
    "duration": 3917,
    "start_time": "2021-11-19T06:07:43.081Z"
   },
   {
    "duration": 3913,
    "start_time": "2021-11-19T06:07:43.086Z"
   },
   {
    "duration": 3910,
    "start_time": "2021-11-19T06:07:43.090Z"
   },
   {
    "duration": 3887,
    "start_time": "2021-11-19T06:07:43.115Z"
   },
   {
    "duration": 3876,
    "start_time": "2021-11-19T06:07:43.127Z"
   },
   {
    "duration": 3874,
    "start_time": "2021-11-19T06:07:43.131Z"
   },
   {
    "duration": 3870,
    "start_time": "2021-11-19T06:07:43.136Z"
   },
   {
    "duration": 3868,
    "start_time": "2021-11-19T06:07:43.140Z"
   },
   {
    "duration": 3865,
    "start_time": "2021-11-19T06:07:43.144Z"
   },
   {
    "duration": 3863,
    "start_time": "2021-11-19T06:07:43.147Z"
   },
   {
    "duration": 307,
    "start_time": "2021-11-19T06:44:46.635Z"
   },
   {
    "duration": 297,
    "start_time": "2021-11-19T06:45:13.521Z"
   },
   {
    "duration": 1053,
    "start_time": "2021-11-19T06:45:28.827Z"
   },
   {
    "duration": 1020,
    "start_time": "2021-11-19T06:45:29.882Z"
   },
   {
    "duration": 17,
    "start_time": "2021-11-19T06:45:30.904Z"
   },
   {
    "duration": 41,
    "start_time": "2021-11-19T06:45:30.923Z"
   },
   {
    "duration": 163,
    "start_time": "2021-11-19T06:45:30.965Z"
   },
   {
    "duration": 121,
    "start_time": "2021-11-19T06:45:31.129Z"
   },
   {
    "duration": 30,
    "start_time": "2021-11-19T06:45:31.252Z"
   },
   {
    "duration": 31,
    "start_time": "2021-11-19T06:45:31.286Z"
   },
   {
    "duration": 13,
    "start_time": "2021-11-19T06:45:31.319Z"
   },
   {
    "duration": 36,
    "start_time": "2021-11-19T06:45:31.334Z"
   },
   {
    "duration": 100,
    "start_time": "2021-11-19T06:45:31.371Z"
   },
   {
    "duration": 32,
    "start_time": "2021-11-19T06:45:31.473Z"
   },
   {
    "duration": 25,
    "start_time": "2021-11-19T06:45:31.507Z"
   },
   {
    "duration": 31,
    "start_time": "2021-11-19T06:45:31.533Z"
   },
   {
    "duration": 465,
    "start_time": "2021-11-19T06:45:31.566Z"
   },
   {
    "duration": 517,
    "start_time": "2021-11-19T06:45:32.033Z"
   },
   {
    "duration": 32,
    "start_time": "2021-11-19T06:45:32.563Z"
   },
   {
    "duration": 405,
    "start_time": "2021-11-19T06:45:32.597Z"
   },
   {
    "duration": 11,
    "start_time": "2021-11-19T06:45:33.004Z"
   },
   {
    "duration": 4,
    "start_time": "2021-11-19T06:45:33.018Z"
   },
   {
    "duration": 8,
    "start_time": "2021-11-19T06:45:33.024Z"
   },
   {
    "duration": 31,
    "start_time": "2021-11-19T06:45:33.034Z"
   },
   {
    "duration": 5859,
    "start_time": "2021-11-19T06:45:33.070Z"
   },
   {
    "duration": 5,
    "start_time": "2021-11-19T06:45:38.931Z"
   },
   {
    "duration": 63,
    "start_time": "2021-11-19T06:45:38.938Z"
   },
   {
    "duration": 355,
    "start_time": "2021-11-19T06:45:39.004Z"
   },
   {
    "duration": -22,
    "start_time": "2021-11-19T06:45:39.384Z"
   },
   {
    "duration": -25,
    "start_time": "2021-11-19T06:45:39.388Z"
   },
   {
    "duration": -26,
    "start_time": "2021-11-19T06:45:39.391Z"
   },
   {
    "duration": -29,
    "start_time": "2021-11-19T06:45:39.396Z"
   },
   {
    "duration": -41,
    "start_time": "2021-11-19T06:45:39.409Z"
   },
   {
    "duration": -45,
    "start_time": "2021-11-19T06:45:39.415Z"
   },
   {
    "duration": -48,
    "start_time": "2021-11-19T06:45:39.419Z"
   },
   {
    "duration": -50,
    "start_time": "2021-11-19T06:45:39.423Z"
   },
   {
    "duration": -52,
    "start_time": "2021-11-19T06:45:39.426Z"
   },
   {
    "duration": -55,
    "start_time": "2021-11-19T06:45:39.431Z"
   },
   {
    "duration": -57,
    "start_time": "2021-11-19T06:45:39.435Z"
   },
   {
    "duration": 13,
    "start_time": "2021-11-19T13:12:12.275Z"
   },
   {
    "duration": 8,
    "start_time": "2021-11-19T13:12:26.059Z"
   },
   {
    "duration": 26,
    "start_time": "2021-11-19T13:13:03.999Z"
   },
   {
    "duration": 273,
    "start_time": "2021-11-19T13:16:16.064Z"
   },
   {
    "duration": 1209,
    "start_time": "2021-11-19T13:17:56.236Z"
   },
   {
    "duration": 1237,
    "start_time": "2021-11-19T13:17:57.447Z"
   },
   {
    "duration": 21,
    "start_time": "2021-11-19T13:17:58.687Z"
   },
   {
    "duration": 21,
    "start_time": "2021-11-19T13:17:58.710Z"
   },
   {
    "duration": 218,
    "start_time": "2021-11-19T13:17:58.733Z"
   },
   {
    "duration": 164,
    "start_time": "2021-11-19T13:17:58.954Z"
   },
   {
    "duration": 49,
    "start_time": "2021-11-19T13:17:59.121Z"
   },
   {
    "duration": 46,
    "start_time": "2021-11-19T13:17:59.174Z"
   },
   {
    "duration": 16,
    "start_time": "2021-11-19T13:17:59.222Z"
   },
   {
    "duration": 45,
    "start_time": "2021-11-19T13:17:59.239Z"
   },
   {
    "duration": 192,
    "start_time": "2021-11-19T13:17:59.286Z"
   },
   {
    "duration": 118,
    "start_time": "2021-11-19T13:17:59.479Z"
   },
   {
    "duration": 89,
    "start_time": "2021-11-19T13:17:59.600Z"
   },
   {
    "duration": 10,
    "start_time": "2021-11-19T13:17:59.692Z"
   },
   {
    "duration": 723,
    "start_time": "2021-11-19T13:17:59.710Z"
   },
   {
    "duration": 637,
    "start_time": "2021-11-19T13:18:00.436Z"
   },
   {
    "duration": 37,
    "start_time": "2021-11-19T13:18:01.076Z"
   },
   {
    "duration": 505,
    "start_time": "2021-11-19T13:18:01.115Z"
   },
   {
    "duration": 12,
    "start_time": "2021-11-19T13:18:01.622Z"
   },
   {
    "duration": 26,
    "start_time": "2021-11-19T13:18:01.636Z"
   },
   {
    "duration": 11,
    "start_time": "2021-11-19T13:18:01.669Z"
   },
   {
    "duration": 25,
    "start_time": "2021-11-19T13:18:01.684Z"
   },
   {
    "duration": 7763,
    "start_time": "2021-11-19T13:18:01.713Z"
   },
   {
    "duration": 10,
    "start_time": "2021-11-19T13:18:09.480Z"
   },
   {
    "duration": 80,
    "start_time": "2021-11-19T13:18:09.494Z"
   },
   {
    "duration": 52,
    "start_time": "2021-11-19T13:18:09.577Z"
   },
   {
    "duration": 477,
    "start_time": "2021-11-19T13:18:09.631Z"
   },
   {
    "duration": -49,
    "start_time": "2021-11-19T13:18:10.159Z"
   },
   {
    "duration": -58,
    "start_time": "2021-11-19T13:18:10.169Z"
   },
   {
    "duration": -67,
    "start_time": "2021-11-19T13:18:10.180Z"
   },
   {
    "duration": -69,
    "start_time": "2021-11-19T13:18:10.184Z"
   },
   {
    "duration": -94,
    "start_time": "2021-11-19T13:18:10.210Z"
   },
   {
    "duration": -96,
    "start_time": "2021-11-19T13:18:10.214Z"
   },
   {
    "duration": -99,
    "start_time": "2021-11-19T13:18:10.218Z"
   },
   {
    "duration": -102,
    "start_time": "2021-11-19T13:18:10.222Z"
   },
   {
    "duration": -111,
    "start_time": "2021-11-19T13:18:10.232Z"
   },
   {
    "duration": -114,
    "start_time": "2021-11-19T13:18:10.236Z"
   },
   {
    "duration": -122,
    "start_time": "2021-11-19T13:18:10.245Z"
   },
   {
    "duration": 542,
    "start_time": "2021-11-19T13:19:20.058Z"
   },
   {
    "duration": 892,
    "start_time": "2021-11-19T13:28:38.820Z"
   },
   {
    "duration": 24,
    "start_time": "2021-11-19T13:48:28.520Z"
   },
   {
    "duration": 505,
    "start_time": "2021-11-19T13:49:31.361Z"
   },
   {
    "duration": 561,
    "start_time": "2021-11-19T13:49:58.452Z"
   },
   {
    "duration": 1093,
    "start_time": "2021-11-19T13:50:21.480Z"
   },
   {
    "duration": 1197,
    "start_time": "2021-11-19T13:50:22.575Z"
   },
   {
    "duration": 18,
    "start_time": "2021-11-19T13:50:23.776Z"
   },
   {
    "duration": 19,
    "start_time": "2021-11-19T13:50:23.796Z"
   },
   {
    "duration": 203,
    "start_time": "2021-11-19T13:50:23.816Z"
   },
   {
    "duration": 124,
    "start_time": "2021-11-19T13:50:24.021Z"
   },
   {
    "duration": 23,
    "start_time": "2021-11-19T13:50:24.164Z"
   },
   {
    "duration": 33,
    "start_time": "2021-11-19T13:50:24.189Z"
   },
   {
    "duration": 12,
    "start_time": "2021-11-19T13:50:24.224Z"
   },
   {
    "duration": 34,
    "start_time": "2021-11-19T13:50:24.238Z"
   },
   {
    "duration": 122,
    "start_time": "2021-11-19T13:50:24.274Z"
   },
   {
    "duration": 31,
    "start_time": "2021-11-19T13:50:24.398Z"
   },
   {
    "duration": 53,
    "start_time": "2021-11-19T13:50:24.431Z"
   },
   {
    "duration": 6,
    "start_time": "2021-11-19T13:50:24.486Z"
   },
   {
    "duration": 505,
    "start_time": "2021-11-19T13:50:24.493Z"
   },
   {
    "duration": 556,
    "start_time": "2021-11-19T13:50:25.000Z"
   },
   {
    "duration": 43,
    "start_time": "2021-11-19T13:50:25.564Z"
   },
   {
    "duration": 419,
    "start_time": "2021-11-19T13:50:25.610Z"
   },
   {
    "duration": 10,
    "start_time": "2021-11-19T13:50:26.031Z"
   },
   {
    "duration": 21,
    "start_time": "2021-11-19T13:50:26.043Z"
   },
   {
    "duration": 7,
    "start_time": "2021-11-19T13:50:26.066Z"
   },
   {
    "duration": 9,
    "start_time": "2021-11-19T13:50:26.076Z"
   },
   {
    "duration": 5619,
    "start_time": "2021-11-19T13:50:26.087Z"
   },
   {
    "duration": 5,
    "start_time": "2021-11-19T13:50:31.708Z"
   },
   {
    "duration": 60,
    "start_time": "2021-11-19T13:50:31.715Z"
   },
   {
    "duration": 25,
    "start_time": "2021-11-19T13:50:31.777Z"
   },
   {
    "duration": 699,
    "start_time": "2021-11-19T13:50:31.803Z"
   },
   {
    "duration": -40,
    "start_time": "2021-11-19T13:50:32.544Z"
   },
   {
    "duration": -44,
    "start_time": "2021-11-19T13:50:32.549Z"
   },
   {
    "duration": -47,
    "start_time": "2021-11-19T13:50:32.553Z"
   },
   {
    "duration": -50,
    "start_time": "2021-11-19T13:50:32.557Z"
   },
   {
    "duration": -53,
    "start_time": "2021-11-19T13:50:32.561Z"
   },
   {
    "duration": -57,
    "start_time": "2021-11-19T13:50:32.566Z"
   },
   {
    "duration": -60,
    "start_time": "2021-11-19T13:50:32.570Z"
   },
   {
    "duration": -62,
    "start_time": "2021-11-19T13:50:32.573Z"
   },
   {
    "duration": -65,
    "start_time": "2021-11-19T13:50:32.577Z"
   },
   {
    "duration": -68,
    "start_time": "2021-11-19T13:50:32.581Z"
   },
   {
    "duration": -71,
    "start_time": "2021-11-19T13:50:32.585Z"
   },
   {
    "duration": 6673,
    "start_time": "2021-11-19T13:54:39.070Z"
   },
   {
    "duration": 633,
    "start_time": "2021-11-19T13:55:21.892Z"
   },
   {
    "duration": 3,
    "start_time": "2021-11-19T13:55:39.164Z"
   },
   {
    "duration": 23,
    "start_time": "2021-11-19T18:41:50.025Z"
   },
   {
    "duration": 269,
    "start_time": "2021-11-19T18:42:01.537Z"
   },
   {
    "duration": 301,
    "start_time": "2021-11-19T18:42:16.287Z"
   },
   {
    "duration": 275,
    "start_time": "2021-11-19T18:43:57.957Z"
   },
   {
    "duration": 1065,
    "start_time": "2021-11-19T18:44:09.091Z"
   },
   {
    "duration": 1006,
    "start_time": "2021-11-19T18:44:10.158Z"
   },
   {
    "duration": 18,
    "start_time": "2021-11-19T18:44:11.166Z"
   },
   {
    "duration": 17,
    "start_time": "2021-11-19T18:44:11.186Z"
   },
   {
    "duration": 285,
    "start_time": "2021-11-19T18:44:11.205Z"
   },
   {
    "duration": 210,
    "start_time": "2021-11-19T18:44:11.492Z"
   },
   {
    "duration": 21,
    "start_time": "2021-11-19T18:44:11.704Z"
   },
   {
    "duration": 33,
    "start_time": "2021-11-19T18:44:11.765Z"
   },
   {
    "duration": 12,
    "start_time": "2021-11-19T18:44:11.800Z"
   },
   {
    "duration": 10,
    "start_time": "2021-11-19T18:44:11.813Z"
   },
   {
    "duration": 124,
    "start_time": "2021-11-19T18:44:11.825Z"
   },
   {
    "duration": 41,
    "start_time": "2021-11-19T18:44:11.951Z"
   },
   {
    "duration": 27,
    "start_time": "2021-11-19T18:44:11.993Z"
   },
   {
    "duration": 5,
    "start_time": "2021-11-19T18:44:12.021Z"
   },
   {
    "duration": 499,
    "start_time": "2021-11-19T18:44:12.028Z"
   },
   {
    "duration": 503,
    "start_time": "2021-11-19T18:44:12.529Z"
   },
   {
    "duration": 45,
    "start_time": "2021-11-19T18:44:13.034Z"
   },
   {
    "duration": 409,
    "start_time": "2021-11-19T18:44:13.081Z"
   },
   {
    "duration": 11,
    "start_time": "2021-11-19T18:44:13.492Z"
   },
   {
    "duration": 44,
    "start_time": "2021-11-19T18:44:13.505Z"
   },
   {
    "duration": 19,
    "start_time": "2021-11-19T18:44:13.551Z"
   },
   {
    "duration": 21,
    "start_time": "2021-11-19T18:44:13.571Z"
   },
   {
    "duration": 5346,
    "start_time": "2021-11-19T18:44:13.596Z"
   },
   {
    "duration": 22,
    "start_time": "2021-11-19T18:44:18.944Z"
   },
   {
    "duration": 36,
    "start_time": "2021-11-19T18:44:18.967Z"
   },
   {
    "duration": 23,
    "start_time": "2021-11-19T18:44:19.004Z"
   },
   {
    "duration": 489,
    "start_time": "2021-11-19T18:44:19.028Z"
   },
   {
    "duration": 2095,
    "start_time": "2021-11-19T18:44:17.423Z"
   },
   {
    "duration": 2092,
    "start_time": "2021-11-19T18:44:17.428Z"
   },
   {
    "duration": 2089,
    "start_time": "2021-11-19T18:44:17.432Z"
   },
   {
    "duration": 2084,
    "start_time": "2021-11-19T18:44:17.437Z"
   },
   {
    "duration": 2082,
    "start_time": "2021-11-19T18:44:17.441Z"
   },
   {
    "duration": 2078,
    "start_time": "2021-11-19T18:44:17.446Z"
   },
   {
    "duration": 2075,
    "start_time": "2021-11-19T18:44:17.450Z"
   },
   {
    "duration": 2064,
    "start_time": "2021-11-19T18:44:17.462Z"
   },
   {
    "duration": 2061,
    "start_time": "2021-11-19T18:44:17.466Z"
   },
   {
    "duration": 2058,
    "start_time": "2021-11-19T18:44:17.470Z"
   },
   {
    "duration": 2055,
    "start_time": "2021-11-19T18:44:17.474Z"
   },
   {
    "duration": 268,
    "start_time": "2021-11-19T18:44:53.396Z"
   },
   {
    "duration": 1706,
    "start_time": "2021-11-19T18:46:06.296Z"
   },
   {
    "duration": 556,
    "start_time": "2021-11-19T18:57:43.995Z"
   },
   {
    "duration": 6233,
    "start_time": "2021-11-19T18:58:32.763Z"
   },
   {
    "duration": 1076,
    "start_time": "2021-11-19T18:59:04.384Z"
   },
   {
    "duration": 1013,
    "start_time": "2021-11-19T18:59:05.463Z"
   },
   {
    "duration": 16,
    "start_time": "2021-11-19T18:59:06.478Z"
   },
   {
    "duration": 18,
    "start_time": "2021-11-19T18:59:06.495Z"
   },
   {
    "duration": 177,
    "start_time": "2021-11-19T18:59:06.514Z"
   },
   {
    "duration": 118,
    "start_time": "2021-11-19T18:59:06.693Z"
   },
   {
    "duration": 21,
    "start_time": "2021-11-19T18:59:06.813Z"
   },
   {
    "duration": 52,
    "start_time": "2021-11-19T18:59:06.836Z"
   },
   {
    "duration": 11,
    "start_time": "2021-11-19T18:59:06.890Z"
   },
   {
    "duration": 12,
    "start_time": "2021-11-19T18:59:06.903Z"
   },
   {
    "duration": 120,
    "start_time": "2021-11-19T18:59:06.916Z"
   },
   {
    "duration": 43,
    "start_time": "2021-11-19T18:59:07.038Z"
   },
   {
    "duration": 25,
    "start_time": "2021-11-19T18:59:07.082Z"
   },
   {
    "duration": 4,
    "start_time": "2021-11-19T18:59:07.109Z"
   },
   {
    "duration": 493,
    "start_time": "2021-11-19T18:59:07.115Z"
   },
   {
    "duration": 502,
    "start_time": "2021-11-19T18:59:07.610Z"
   },
   {
    "duration": 32,
    "start_time": "2021-11-19T18:59:08.113Z"
   },
   {
    "duration": 401,
    "start_time": "2021-11-19T18:59:08.147Z"
   },
   {
    "duration": 16,
    "start_time": "2021-11-19T18:59:08.549Z"
   },
   {
    "duration": 20,
    "start_time": "2021-11-19T18:59:08.567Z"
   },
   {
    "duration": 47,
    "start_time": "2021-11-19T18:59:08.589Z"
   },
   {
    "duration": 46,
    "start_time": "2021-11-19T18:59:08.638Z"
   },
   {
    "duration": 721,
    "start_time": "2021-11-19T18:59:08.689Z"
   },
   {
    "duration": 2028,
    "start_time": "2021-11-19T18:59:07.384Z"
   },
   {
    "duration": 2024,
    "start_time": "2021-11-19T18:59:07.389Z"
   },
   {
    "duration": 2020,
    "start_time": "2021-11-19T18:59:07.394Z"
   },
   {
    "duration": 2016,
    "start_time": "2021-11-19T18:59:07.399Z"
   },
   {
    "duration": 2013,
    "start_time": "2021-11-19T18:59:07.403Z"
   },
   {
    "duration": 2010,
    "start_time": "2021-11-19T18:59:07.407Z"
   },
   {
    "duration": 2006,
    "start_time": "2021-11-19T18:59:07.412Z"
   },
   {
    "duration": 2001,
    "start_time": "2021-11-19T18:59:07.417Z"
   },
   {
    "duration": 1998,
    "start_time": "2021-11-19T18:59:07.421Z"
   },
   {
    "duration": 1994,
    "start_time": "2021-11-19T18:59:07.426Z"
   },
   {
    "duration": 1991,
    "start_time": "2021-11-19T18:59:07.430Z"
   },
   {
    "duration": 1987,
    "start_time": "2021-11-19T18:59:07.435Z"
   },
   {
    "duration": 1977,
    "start_time": "2021-11-19T18:59:07.446Z"
   },
   {
    "duration": 1972,
    "start_time": "2021-11-19T18:59:07.452Z"
   },
   {
    "duration": 1968,
    "start_time": "2021-11-19T18:59:07.457Z"
   },
   {
    "duration": 7642,
    "start_time": "2021-11-19T18:59:44.117Z"
   },
   {
    "duration": 1129,
    "start_time": "2021-11-19T19:00:04.827Z"
   },
   {
    "duration": 974,
    "start_time": "2021-11-19T19:00:05.958Z"
   },
   {
    "duration": 18,
    "start_time": "2021-11-19T19:00:06.962Z"
   },
   {
    "duration": 19,
    "start_time": "2021-11-19T19:00:06.982Z"
   },
   {
    "duration": 174,
    "start_time": "2021-11-19T19:00:07.003Z"
   },
   {
    "duration": 112,
    "start_time": "2021-11-19T19:00:07.178Z"
   },
   {
    "duration": 20,
    "start_time": "2021-11-19T19:00:07.292Z"
   },
   {
    "duration": 52,
    "start_time": "2021-11-19T19:00:07.315Z"
   },
   {
    "duration": 11,
    "start_time": "2021-11-19T19:00:07.369Z"
   },
   {
    "duration": 9,
    "start_time": "2021-11-19T19:00:07.381Z"
   },
   {
    "duration": 115,
    "start_time": "2021-11-19T19:00:07.391Z"
   },
   {
    "duration": 32,
    "start_time": "2021-11-19T19:00:07.508Z"
   },
   {
    "duration": 41,
    "start_time": "2021-11-19T19:00:07.542Z"
   },
   {
    "duration": 5,
    "start_time": "2021-11-19T19:00:07.584Z"
   },
   {
    "duration": 707,
    "start_time": "2021-11-19T19:00:07.590Z"
   },
   {
    "duration": 506,
    "start_time": "2021-11-19T19:00:08.299Z"
   },
   {
    "duration": 29,
    "start_time": "2021-11-19T19:00:08.807Z"
   },
   {
    "duration": 408,
    "start_time": "2021-11-19T19:00:08.838Z"
   },
   {
    "duration": 16,
    "start_time": "2021-11-19T19:00:09.248Z"
   },
   {
    "duration": 4,
    "start_time": "2021-11-19T19:00:09.266Z"
   },
   {
    "duration": 10,
    "start_time": "2021-11-19T19:00:09.271Z"
   },
   {
    "duration": 15,
    "start_time": "2021-11-19T19:00:09.283Z"
   },
   {
    "duration": 5474,
    "start_time": "2021-11-19T19:00:09.302Z"
   },
   {
    "duration": 5,
    "start_time": "2021-11-19T19:00:14.778Z"
   },
   {
    "duration": 34,
    "start_time": "2021-11-19T19:00:14.785Z"
   },
   {
    "duration": 48,
    "start_time": "2021-11-19T19:00:14.821Z"
   },
   {
    "duration": 579,
    "start_time": "2021-11-19T19:00:14.871Z"
   },
   {
    "duration": 2077,
    "start_time": "2021-11-19T19:00:13.375Z"
   },
   {
    "duration": 2075,
    "start_time": "2021-11-19T19:00:13.379Z"
   },
   {
    "duration": 2072,
    "start_time": "2021-11-19T19:00:13.383Z"
   },
   {
    "duration": 2070,
    "start_time": "2021-11-19T19:00:13.387Z"
   },
   {
    "duration": 2067,
    "start_time": "2021-11-19T19:00:13.391Z"
   },
   {
    "duration": 2065,
    "start_time": "2021-11-19T19:00:13.395Z"
   },
   {
    "duration": 2062,
    "start_time": "2021-11-19T19:00:13.399Z"
   },
   {
    "duration": 2058,
    "start_time": "2021-11-19T19:00:13.405Z"
   },
   {
    "duration": 2055,
    "start_time": "2021-11-19T19:00:13.409Z"
   },
   {
    "duration": 2052,
    "start_time": "2021-11-19T19:00:13.413Z"
   },
   {
    "duration": 2050,
    "start_time": "2021-11-19T19:00:13.417Z"
   },
   {
    "duration": 6374,
    "start_time": "2021-11-19T19:01:41.895Z"
   },
   {
    "duration": 1039,
    "start_time": "2021-11-19T19:02:00.417Z"
   },
   {
    "duration": 1043,
    "start_time": "2021-11-19T19:02:01.458Z"
   },
   {
    "duration": 17,
    "start_time": "2021-11-19T19:02:02.503Z"
   },
   {
    "duration": 47,
    "start_time": "2021-11-19T19:02:02.523Z"
   },
   {
    "duration": 161,
    "start_time": "2021-11-19T19:02:02.572Z"
   },
   {
    "duration": 117,
    "start_time": "2021-11-19T19:02:02.735Z"
   },
   {
    "duration": 25,
    "start_time": "2021-11-19T19:02:02.853Z"
   },
   {
    "duration": 39,
    "start_time": "2021-11-19T19:02:02.881Z"
   },
   {
    "duration": 12,
    "start_time": "2021-11-19T19:02:02.922Z"
   },
   {
    "duration": 46,
    "start_time": "2021-11-19T19:02:02.936Z"
   },
   {
    "duration": 154,
    "start_time": "2021-11-19T19:02:02.984Z"
   },
   {
    "duration": 40,
    "start_time": "2021-11-19T19:02:03.140Z"
   },
   {
    "duration": 25,
    "start_time": "2021-11-19T19:02:03.182Z"
   },
   {
    "duration": 5,
    "start_time": "2021-11-19T19:02:03.208Z"
   },
   {
    "duration": 498,
    "start_time": "2021-11-19T19:02:03.214Z"
   },
   {
    "duration": 511,
    "start_time": "2021-11-19T19:02:03.714Z"
   },
   {
    "duration": 39,
    "start_time": "2021-11-19T19:02:04.227Z"
   },
   {
    "duration": 405,
    "start_time": "2021-11-19T19:02:04.268Z"
   },
   {
    "duration": 10,
    "start_time": "2021-11-19T19:02:04.674Z"
   },
   {
    "duration": 17,
    "start_time": "2021-11-19T19:02:04.685Z"
   },
   {
    "duration": 45,
    "start_time": "2021-11-19T19:02:04.704Z"
   },
   {
    "duration": 39,
    "start_time": "2021-11-19T19:02:04.751Z"
   },
   {
    "duration": 11079,
    "start_time": "2021-11-19T19:02:04.793Z"
   },
   {
    "duration": 331,
    "start_time": "2021-11-19T19:02:15.874Z"
   },
   {
    "duration": -74,
    "start_time": "2021-11-19T19:02:16.281Z"
   },
   {
    "duration": -78,
    "start_time": "2021-11-19T19:02:16.286Z"
   },
   {
    "duration": -92,
    "start_time": "2021-11-19T19:02:16.301Z"
   },
   {
    "duration": -101,
    "start_time": "2021-11-19T19:02:16.311Z"
   },
   {
    "duration": -104,
    "start_time": "2021-11-19T19:02:16.315Z"
   },
   {
    "duration": -107,
    "start_time": "2021-11-19T19:02:16.319Z"
   },
   {
    "duration": -110,
    "start_time": "2021-11-19T19:02:16.323Z"
   },
   {
    "duration": -113,
    "start_time": "2021-11-19T19:02:16.327Z"
   },
   {
    "duration": -117,
    "start_time": "2021-11-19T19:02:16.332Z"
   },
   {
    "duration": -119,
    "start_time": "2021-11-19T19:02:16.335Z"
   },
   {
    "duration": -123,
    "start_time": "2021-11-19T19:02:16.340Z"
   },
   {
    "duration": -125,
    "start_time": "2021-11-19T19:02:16.343Z"
   },
   {
    "duration": -128,
    "start_time": "2021-11-19T19:02:16.347Z"
   },
   {
    "duration": -130,
    "start_time": "2021-11-19T19:02:16.351Z"
   },
   {
    "duration": 6819,
    "start_time": "2021-11-19T19:04:20.625Z"
   },
   {
    "duration": 1076,
    "start_time": "2021-11-19T19:04:36.990Z"
   },
   {
    "duration": 1035,
    "start_time": "2021-11-19T19:04:38.068Z"
   },
   {
    "duration": 18,
    "start_time": "2021-11-19T19:04:39.105Z"
   },
   {
    "duration": 42,
    "start_time": "2021-11-19T19:04:39.126Z"
   },
   {
    "duration": 159,
    "start_time": "2021-11-19T19:04:39.170Z"
   },
   {
    "duration": 122,
    "start_time": "2021-11-19T19:04:39.330Z"
   },
   {
    "duration": 25,
    "start_time": "2021-11-19T19:04:39.453Z"
   },
   {
    "duration": 31,
    "start_time": "2021-11-19T19:04:39.481Z"
   },
   {
    "duration": 12,
    "start_time": "2021-11-19T19:04:39.514Z"
   },
   {
    "duration": 10,
    "start_time": "2021-11-19T19:04:39.564Z"
   },
   {
    "duration": 108,
    "start_time": "2021-11-19T19:04:39.576Z"
   },
   {
    "duration": 30,
    "start_time": "2021-11-19T19:04:39.686Z"
   },
   {
    "duration": 57,
    "start_time": "2021-11-19T19:04:39.718Z"
   },
   {
    "duration": 4,
    "start_time": "2021-11-19T19:04:39.777Z"
   },
   {
    "duration": 704,
    "start_time": "2021-11-19T19:04:39.783Z"
   },
   {
    "duration": 567,
    "start_time": "2021-11-19T19:04:40.489Z"
   },
   {
    "duration": 40,
    "start_time": "2021-11-19T19:04:41.057Z"
   },
   {
    "duration": 447,
    "start_time": "2021-11-19T19:04:41.099Z"
   },
   {
    "duration": 16,
    "start_time": "2021-11-19T19:04:41.548Z"
   },
   {
    "duration": 2,
    "start_time": "2021-11-19T19:04:41.566Z"
   },
   {
    "duration": 6,
    "start_time": "2021-11-19T19:04:41.570Z"
   },
   {
    "duration": 9,
    "start_time": "2021-11-19T19:04:41.578Z"
   },
   {
    "duration": 11204,
    "start_time": "2021-11-19T19:04:41.591Z"
   },
   {
    "duration": 365,
    "start_time": "2021-11-19T19:04:52.797Z"
   },
   {
    "duration": -119,
    "start_time": "2021-11-19T19:04:53.283Z"
   },
   {
    "duration": -123,
    "start_time": "2021-11-19T19:04:53.288Z"
   },
   {
    "duration": -127,
    "start_time": "2021-11-19T19:04:53.293Z"
   },
   {
    "duration": -272,
    "start_time": "2021-11-19T19:04:53.439Z"
   },
   {
    "duration": -281,
    "start_time": "2021-11-19T19:04:53.449Z"
   },
   {
    "duration": -284,
    "start_time": "2021-11-19T19:04:53.453Z"
   },
   {
    "duration": -287,
    "start_time": "2021-11-19T19:04:53.457Z"
   },
   {
    "duration": -291,
    "start_time": "2021-11-19T19:04:53.462Z"
   },
   {
    "duration": -294,
    "start_time": "2021-11-19T19:04:53.466Z"
   },
   {
    "duration": -297,
    "start_time": "2021-11-19T19:04:53.470Z"
   },
   {
    "duration": -300,
    "start_time": "2021-11-19T19:04:53.474Z"
   },
   {
    "duration": -302,
    "start_time": "2021-11-19T19:04:53.477Z"
   },
   {
    "duration": -305,
    "start_time": "2021-11-19T19:04:53.481Z"
   },
   {
    "duration": -308,
    "start_time": "2021-11-19T19:04:53.485Z"
   },
   {
    "duration": 284,
    "start_time": "2021-11-19T19:05:38.585Z"
   },
   {
    "duration": 6094,
    "start_time": "2021-11-19T19:07:38.996Z"
   },
   {
    "duration": 1067,
    "start_time": "2021-11-19T19:07:57.485Z"
   },
   {
    "duration": 970,
    "start_time": "2021-11-19T19:07:58.554Z"
   },
   {
    "duration": 50,
    "start_time": "2021-11-19T19:07:59.526Z"
   },
   {
    "duration": 17,
    "start_time": "2021-11-19T19:07:59.577Z"
   },
   {
    "duration": 173,
    "start_time": "2021-11-19T19:07:59.596Z"
   },
   {
    "duration": 119,
    "start_time": "2021-11-19T19:07:59.771Z"
   },
   {
    "duration": 21,
    "start_time": "2021-11-19T19:07:59.891Z"
   },
   {
    "duration": 51,
    "start_time": "2021-11-19T19:07:59.915Z"
   },
   {
    "duration": 12,
    "start_time": "2021-11-19T19:07:59.968Z"
   },
   {
    "duration": 9,
    "start_time": "2021-11-19T19:07:59.982Z"
   },
   {
    "duration": 118,
    "start_time": "2021-11-19T19:07:59.992Z"
   },
   {
    "duration": 52,
    "start_time": "2021-11-19T19:08:00.112Z"
   },
   {
    "duration": 28,
    "start_time": "2021-11-19T19:08:00.166Z"
   },
   {
    "duration": 24,
    "start_time": "2021-11-19T19:08:00.195Z"
   },
   {
    "duration": 499,
    "start_time": "2021-11-19T19:08:00.221Z"
   },
   {
    "duration": 993,
    "start_time": "2021-11-19T19:08:00.722Z"
   },
   {
    "duration": 72,
    "start_time": "2021-11-19T19:08:01.717Z"
   },
   {
    "duration": 441,
    "start_time": "2021-11-19T19:08:01.792Z"
   },
   {
    "duration": 11,
    "start_time": "2021-11-19T19:08:02.235Z"
   },
   {
    "duration": 55,
    "start_time": "2021-11-19T19:08:02.248Z"
   },
   {
    "duration": 68,
    "start_time": "2021-11-19T19:08:02.305Z"
   },
   {
    "duration": 67,
    "start_time": "2021-11-19T19:08:02.375Z"
   },
   {
    "duration": 5535,
    "start_time": "2021-11-19T19:08:02.446Z"
   },
   {
    "duration": 5,
    "start_time": "2021-11-19T19:08:07.983Z"
   },
   {
    "duration": 36,
    "start_time": "2021-11-19T19:08:07.990Z"
   },
   {
    "duration": 48,
    "start_time": "2021-11-19T19:08:08.028Z"
   },
   {
    "duration": 588,
    "start_time": "2021-11-19T19:08:08.078Z"
   },
   {
    "duration": -57,
    "start_time": "2021-11-19T19:08:08.725Z"
   },
   {
    "duration": -65,
    "start_time": "2021-11-19T19:08:08.734Z"
   },
   {
    "duration": -72,
    "start_time": "2021-11-19T19:08:08.742Z"
   },
   {
    "duration": -75,
    "start_time": "2021-11-19T19:08:08.746Z"
   },
   {
    "duration": -79,
    "start_time": "2021-11-19T19:08:08.751Z"
   },
   {
    "duration": -83,
    "start_time": "2021-11-19T19:08:08.756Z"
   },
   {
    "duration": -85,
    "start_time": "2021-11-19T19:08:08.760Z"
   },
   {
    "duration": -88,
    "start_time": "2021-11-19T19:08:08.764Z"
   },
   {
    "duration": -91,
    "start_time": "2021-11-19T19:08:08.768Z"
   },
   {
    "duration": -94,
    "start_time": "2021-11-19T19:08:08.772Z"
   },
   {
    "duration": -98,
    "start_time": "2021-11-19T19:08:08.777Z"
   },
   {
    "duration": 22,
    "start_time": "2021-11-19T19:09:25.800Z"
   },
   {
    "duration": 580,
    "start_time": "2021-11-19T19:10:28.008Z"
   },
   {
    "duration": 648,
    "start_time": "2021-11-19T19:12:14.608Z"
   },
   {
    "duration": 1067,
    "start_time": "2021-11-19T19:12:33.383Z"
   },
   {
    "duration": 1013,
    "start_time": "2021-11-19T19:12:34.452Z"
   },
   {
    "duration": 17,
    "start_time": "2021-11-19T19:12:35.467Z"
   },
   {
    "duration": 21,
    "start_time": "2021-11-19T19:12:35.486Z"
   },
   {
    "duration": 197,
    "start_time": "2021-11-19T19:12:35.509Z"
   },
   {
    "duration": 120,
    "start_time": "2021-11-19T19:12:35.707Z"
   },
   {
    "duration": 35,
    "start_time": "2021-11-19T19:12:35.829Z"
   },
   {
    "duration": 30,
    "start_time": "2021-11-19T19:12:35.866Z"
   },
   {
    "duration": 20,
    "start_time": "2021-11-19T19:12:35.898Z"
   },
   {
    "duration": 8,
    "start_time": "2021-11-19T19:12:35.920Z"
   },
   {
    "duration": 110,
    "start_time": "2021-11-19T19:12:35.930Z"
   },
   {
    "duration": 42,
    "start_time": "2021-11-19T19:12:36.042Z"
   },
   {
    "duration": 27,
    "start_time": "2021-11-19T19:12:36.086Z"
   },
   {
    "duration": 5,
    "start_time": "2021-11-19T19:12:36.115Z"
   },
   {
    "duration": 716,
    "start_time": "2021-11-19T19:12:36.122Z"
   },
   {
    "duration": 509,
    "start_time": "2021-11-19T19:12:36.840Z"
   },
   {
    "duration": 37,
    "start_time": "2021-11-19T19:12:37.351Z"
   },
   {
    "duration": 412,
    "start_time": "2021-11-19T19:12:37.390Z"
   },
   {
    "duration": 13,
    "start_time": "2021-11-19T19:12:37.805Z"
   },
   {
    "duration": 4,
    "start_time": "2021-11-19T19:12:37.820Z"
   },
   {
    "duration": 9,
    "start_time": "2021-11-19T19:12:37.826Z"
   },
   {
    "duration": 33,
    "start_time": "2021-11-19T19:12:37.836Z"
   },
   {
    "duration": 5606,
    "start_time": "2021-11-19T19:12:37.871Z"
   },
   {
    "duration": 5,
    "start_time": "2021-11-19T19:12:43.479Z"
   },
   {
    "duration": 38,
    "start_time": "2021-11-19T19:12:43.486Z"
   },
   {
    "duration": 45,
    "start_time": "2021-11-19T19:12:43.526Z"
   },
   {
    "duration": 587,
    "start_time": "2021-11-19T19:12:43.576Z"
   },
   {
    "duration": -124,
    "start_time": "2021-11-19T19:12:44.289Z"
   },
   {
    "duration": -126,
    "start_time": "2021-11-19T19:12:44.292Z"
   },
   {
    "duration": -130,
    "start_time": "2021-11-19T19:12:44.297Z"
   },
   {
    "duration": -133,
    "start_time": "2021-11-19T19:12:44.301Z"
   },
   {
    "duration": -136,
    "start_time": "2021-11-19T19:12:44.305Z"
   },
   {
    "duration": -139,
    "start_time": "2021-11-19T19:12:44.309Z"
   },
   {
    "duration": -143,
    "start_time": "2021-11-19T19:12:44.313Z"
   },
   {
    "duration": -146,
    "start_time": "2021-11-19T19:12:44.317Z"
   },
   {
    "duration": -149,
    "start_time": "2021-11-19T19:12:44.321Z"
   },
   {
    "duration": -152,
    "start_time": "2021-11-19T19:12:44.325Z"
   },
   {
    "duration": -154,
    "start_time": "2021-11-19T19:12:44.328Z"
   },
   {
    "duration": 553,
    "start_time": "2021-11-19T19:14:56.695Z"
   },
   {
    "duration": 1069,
    "start_time": "2021-11-19T19:15:16.483Z"
   },
   {
    "duration": 965,
    "start_time": "2021-11-19T19:15:17.554Z"
   },
   {
    "duration": 45,
    "start_time": "2021-11-19T19:15:18.521Z"
   },
   {
    "duration": 18,
    "start_time": "2021-11-19T19:15:18.568Z"
   },
   {
    "duration": 204,
    "start_time": "2021-11-19T19:15:18.588Z"
   },
   {
    "duration": 215,
    "start_time": "2021-11-19T19:15:18.793Z"
   },
   {
    "duration": 22,
    "start_time": "2021-11-19T19:15:19.064Z"
   },
   {
    "duration": 86,
    "start_time": "2021-11-19T19:15:19.089Z"
   },
   {
    "duration": 11,
    "start_time": "2021-11-19T19:15:19.177Z"
   },
   {
    "duration": 28,
    "start_time": "2021-11-19T19:15:19.190Z"
   },
   {
    "duration": 120,
    "start_time": "2021-11-19T19:15:19.220Z"
   },
   {
    "duration": 35,
    "start_time": "2021-11-19T19:15:19.342Z"
   },
   {
    "duration": 41,
    "start_time": "2021-11-19T19:15:19.379Z"
   },
   {
    "duration": 21,
    "start_time": "2021-11-19T19:15:19.422Z"
   },
   {
    "duration": 484,
    "start_time": "2021-11-19T19:15:19.445Z"
   },
   {
    "duration": 510,
    "start_time": "2021-11-19T19:15:19.931Z"
   },
   {
    "duration": 44,
    "start_time": "2021-11-19T19:15:20.443Z"
   },
   {
    "duration": 395,
    "start_time": "2021-11-19T19:15:20.489Z"
   },
   {
    "duration": 11,
    "start_time": "2021-11-19T19:15:20.886Z"
   },
   {
    "duration": 9,
    "start_time": "2021-11-19T19:15:20.898Z"
   },
   {
    "duration": 9,
    "start_time": "2021-11-19T19:15:20.909Z"
   },
   {
    "duration": 14,
    "start_time": "2021-11-19T19:15:20.920Z"
   },
   {
    "duration": 5468,
    "start_time": "2021-11-19T19:15:20.939Z"
   },
   {
    "duration": 6,
    "start_time": "2021-11-19T19:15:26.410Z"
   },
   {
    "duration": 63,
    "start_time": "2021-11-19T19:15:26.418Z"
   },
   {
    "duration": 31,
    "start_time": "2021-11-19T19:15:26.484Z"
   },
   {
    "duration": 558,
    "start_time": "2021-11-19T19:15:26.517Z"
   },
   {
    "duration": -64,
    "start_time": "2021-11-19T19:15:27.141Z"
   },
   {
    "duration": -66,
    "start_time": "2021-11-19T19:15:27.145Z"
   },
   {
    "duration": -68,
    "start_time": "2021-11-19T19:15:27.148Z"
   },
   {
    "duration": -71,
    "start_time": "2021-11-19T19:15:27.153Z"
   },
   {
    "duration": -74,
    "start_time": "2021-11-19T19:15:27.157Z"
   },
   {
    "duration": -78,
    "start_time": "2021-11-19T19:15:27.162Z"
   },
   {
    "duration": -80,
    "start_time": "2021-11-19T19:15:27.166Z"
   },
   {
    "duration": -84,
    "start_time": "2021-11-19T19:15:27.171Z"
   },
   {
    "duration": -85,
    "start_time": "2021-11-19T19:15:27.174Z"
   },
   {
    "duration": -88,
    "start_time": "2021-11-19T19:15:27.178Z"
   },
   {
    "duration": -91,
    "start_time": "2021-11-19T19:15:27.182Z"
   },
   {
    "duration": 1207,
    "start_time": "2021-11-19T19:16:15.290Z"
   },
   {
    "duration": 314,
    "start_time": "2021-11-20T07:20:11.950Z"
   },
   {
    "duration": 1034,
    "start_time": "2021-11-20T07:20:22.188Z"
   },
   {
    "duration": 978,
    "start_time": "2021-11-20T07:20:23.224Z"
   },
   {
    "duration": 40,
    "start_time": "2021-11-20T07:20:24.204Z"
   },
   {
    "duration": 18,
    "start_time": "2021-11-20T07:20:24.246Z"
   },
   {
    "duration": 159,
    "start_time": "2021-11-20T07:20:24.266Z"
   },
   {
    "duration": 132,
    "start_time": "2021-11-20T07:20:24.427Z"
   },
   {
    "duration": 27,
    "start_time": "2021-11-20T07:20:24.561Z"
   },
   {
    "duration": 53,
    "start_time": "2021-11-20T07:20:24.592Z"
   },
   {
    "duration": 15,
    "start_time": "2021-11-20T07:20:24.648Z"
   },
   {
    "duration": 12,
    "start_time": "2021-11-20T07:20:24.664Z"
   },
   {
    "duration": 151,
    "start_time": "2021-11-20T07:20:24.678Z"
   },
   {
    "duration": 44,
    "start_time": "2021-11-20T07:20:24.830Z"
   },
   {
    "duration": 25,
    "start_time": "2021-11-20T07:20:24.876Z"
   },
   {
    "duration": 4,
    "start_time": "2021-11-20T07:20:24.902Z"
   },
   {
    "duration": 474,
    "start_time": "2021-11-20T07:20:24.908Z"
   },
   {
    "duration": 525,
    "start_time": "2021-11-20T07:20:25.384Z"
   },
   {
    "duration": 46,
    "start_time": "2021-11-20T07:20:25.912Z"
   },
   {
    "duration": 620,
    "start_time": "2021-11-20T07:20:25.960Z"
   },
   {
    "duration": 10,
    "start_time": "2021-11-20T07:20:26.582Z"
   },
   {
    "duration": 5,
    "start_time": "2021-11-20T07:20:26.593Z"
   },
   {
    "duration": 7,
    "start_time": "2021-11-20T07:20:26.599Z"
   },
   {
    "duration": 9,
    "start_time": "2021-11-20T07:20:26.608Z"
   },
   {
    "duration": 10713,
    "start_time": "2021-11-20T07:20:26.620Z"
   },
   {
    "duration": 361,
    "start_time": "2021-11-20T07:20:37.345Z"
   },
   {
    "duration": 1937,
    "start_time": "2021-11-20T07:20:35.771Z"
   },
   {
    "duration": 1932,
    "start_time": "2021-11-20T07:20:35.777Z"
   },
   {
    "duration": 1929,
    "start_time": "2021-11-20T07:20:35.781Z"
   },
   {
    "duration": 1926,
    "start_time": "2021-11-20T07:20:35.785Z"
   },
   {
    "duration": 1923,
    "start_time": "2021-11-20T07:20:35.789Z"
   },
   {
    "duration": 1920,
    "start_time": "2021-11-20T07:20:35.793Z"
   },
   {
    "duration": 1917,
    "start_time": "2021-11-20T07:20:35.797Z"
   },
   {
    "duration": 1913,
    "start_time": "2021-11-20T07:20:35.801Z"
   },
   {
    "duration": 1910,
    "start_time": "2021-11-20T07:20:35.805Z"
   },
   {
    "duration": 1907,
    "start_time": "2021-11-20T07:20:35.809Z"
   },
   {
    "duration": 1904,
    "start_time": "2021-11-20T07:20:35.813Z"
   },
   {
    "duration": 1902,
    "start_time": "2021-11-20T07:20:35.816Z"
   },
   {
    "duration": 1899,
    "start_time": "2021-11-20T07:20:35.820Z"
   },
   {
    "duration": 7027,
    "start_time": "2021-11-20T07:21:59.668Z"
   },
   {
    "duration": 7007,
    "start_time": "2021-11-20T07:22:29.230Z"
   },
   {
    "duration": 1019,
    "start_time": "2021-11-20T07:22:48.796Z"
   },
   {
    "duration": 956,
    "start_time": "2021-11-20T07:22:49.817Z"
   },
   {
    "duration": 16,
    "start_time": "2021-11-20T07:22:50.775Z"
   },
   {
    "duration": 17,
    "start_time": "2021-11-20T07:22:50.793Z"
   },
   {
    "duration": 180,
    "start_time": "2021-11-20T07:22:50.811Z"
   },
   {
    "duration": 113,
    "start_time": "2021-11-20T07:22:50.993Z"
   },
   {
    "duration": 20,
    "start_time": "2021-11-20T07:22:51.108Z"
   },
   {
    "duration": 42,
    "start_time": "2021-11-20T07:22:51.130Z"
   },
   {
    "duration": 10,
    "start_time": "2021-11-20T07:22:51.174Z"
   },
   {
    "duration": 11,
    "start_time": "2021-11-20T07:22:51.185Z"
   },
   {
    "duration": 108,
    "start_time": "2021-11-20T07:22:51.198Z"
   },
   {
    "duration": 38,
    "start_time": "2021-11-20T07:22:51.308Z"
   },
   {
    "duration": 25,
    "start_time": "2021-11-20T07:22:51.348Z"
   },
   {
    "duration": 4,
    "start_time": "2021-11-20T07:22:51.375Z"
   },
   {
    "duration": 724,
    "start_time": "2021-11-20T07:22:51.381Z"
   },
   {
    "duration": 522,
    "start_time": "2021-11-20T07:22:52.107Z"
   },
   {
    "duration": 44,
    "start_time": "2021-11-20T07:22:52.631Z"
   },
   {
    "duration": 394,
    "start_time": "2021-11-20T07:22:52.678Z"
   },
   {
    "duration": 10,
    "start_time": "2021-11-20T07:22:53.074Z"
   },
   {
    "duration": 5,
    "start_time": "2021-11-20T07:22:53.085Z"
   },
   {
    "duration": 7,
    "start_time": "2021-11-20T07:22:53.091Z"
   },
   {
    "duration": 9,
    "start_time": "2021-11-20T07:22:53.099Z"
   },
   {
    "duration": 5998,
    "start_time": "2021-11-20T07:22:53.111Z"
   },
   {
    "duration": 5,
    "start_time": "2021-11-20T07:22:59.111Z"
   },
   {
    "duration": 56,
    "start_time": "2021-11-20T07:22:59.117Z"
   },
   {
    "duration": 8587,
    "start_time": "2021-11-20T07:22:59.174Z"
   },
   {
    "duration": 1854,
    "start_time": "2021-11-20T07:23:05.910Z"
   },
   {
    "duration": 1848,
    "start_time": "2021-11-20T07:23:05.917Z"
   },
   {
    "duration": 1845,
    "start_time": "2021-11-20T07:23:05.922Z"
   },
   {
    "duration": 1828,
    "start_time": "2021-11-20T07:23:05.941Z"
   },
   {
    "duration": 1801,
    "start_time": "2021-11-20T07:23:05.969Z"
   },
   {
    "duration": 1786,
    "start_time": "2021-11-20T07:23:05.986Z"
   },
   {
    "duration": 1771,
    "start_time": "2021-11-20T07:23:06.002Z"
   },
   {
    "duration": 1755,
    "start_time": "2021-11-20T07:23:06.019Z"
   },
   {
    "duration": 1741,
    "start_time": "2021-11-20T07:23:06.035Z"
   },
   {
    "duration": 1729,
    "start_time": "2021-11-20T07:23:06.049Z"
   },
   {
    "duration": 1724,
    "start_time": "2021-11-20T07:23:06.055Z"
   },
   {
    "duration": 10434,
    "start_time": "2021-11-20T07:23:48.278Z"
   },
   {
    "duration": 1052,
    "start_time": "2021-11-20T07:25:46.674Z"
   },
   {
    "duration": 979,
    "start_time": "2021-11-20T07:25:47.728Z"
   },
   {
    "duration": 46,
    "start_time": "2021-11-20T07:25:48.709Z"
   },
   {
    "duration": 19,
    "start_time": "2021-11-20T07:25:48.757Z"
   },
   {
    "duration": 303,
    "start_time": "2021-11-20T07:25:48.778Z"
   },
   {
    "duration": 188,
    "start_time": "2021-11-20T07:25:49.083Z"
   },
   {
    "duration": 22,
    "start_time": "2021-11-20T07:25:49.272Z"
   },
   {
    "duration": 48,
    "start_time": "2021-11-20T07:25:49.296Z"
   },
   {
    "duration": 13,
    "start_time": "2021-11-20T07:25:49.347Z"
   },
   {
    "duration": 9,
    "start_time": "2021-11-20T07:25:49.361Z"
   },
   {
    "duration": 119,
    "start_time": "2021-11-20T07:25:49.372Z"
   },
   {
    "duration": 30,
    "start_time": "2021-11-20T07:25:49.493Z"
   },
   {
    "duration": 44,
    "start_time": "2021-11-20T07:25:49.525Z"
   },
   {
    "duration": 6,
    "start_time": "2021-11-20T07:25:49.572Z"
   },
   {
    "duration": 593,
    "start_time": "2021-11-20T07:25:49.581Z"
   },
   {
    "duration": 511,
    "start_time": "2021-11-20T07:25:50.176Z"
   },
   {
    "duration": 29,
    "start_time": "2021-11-20T07:25:50.688Z"
   },
   {
    "duration": 398,
    "start_time": "2021-11-20T07:25:50.719Z"
   },
   {
    "duration": 10,
    "start_time": "2021-11-20T07:25:51.119Z"
   },
   {
    "duration": 15,
    "start_time": "2021-11-20T07:25:51.131Z"
   },
   {
    "duration": 26,
    "start_time": "2021-11-20T07:25:51.148Z"
   },
   {
    "duration": 37,
    "start_time": "2021-11-20T07:25:51.176Z"
   },
   {
    "duration": 5655,
    "start_time": "2021-11-20T07:25:51.216Z"
   },
   {
    "duration": 6,
    "start_time": "2021-11-20T07:25:56.874Z"
   },
   {
    "duration": 43,
    "start_time": "2021-11-20T07:25:56.882Z"
   },
   {
    "duration": 10891,
    "start_time": "2021-11-20T07:25:56.927Z"
   },
   {
    "duration": 2,
    "start_time": "2021-11-20T07:26:07.820Z"
   },
   {
    "duration": 20,
    "start_time": "2021-11-20T07:26:07.824Z"
   },
   {
    "duration": 6,
    "start_time": "2021-11-20T07:26:07.846Z"
   },
   {
    "duration": 4,
    "start_time": "2021-11-20T07:26:07.854Z"
   },
   {
    "duration": 958,
    "start_time": "2021-11-20T07:26:07.860Z"
   },
   {
    "duration": 1954,
    "start_time": "2021-11-20T07:26:06.866Z"
   },
   {
    "duration": 1940,
    "start_time": "2021-11-20T07:26:06.881Z"
   },
   {
    "duration": 1926,
    "start_time": "2021-11-20T07:26:06.897Z"
   },
   {
    "duration": 1911,
    "start_time": "2021-11-20T07:26:06.913Z"
   },
   {
    "duration": 1895,
    "start_time": "2021-11-20T07:26:06.930Z"
   },
   {
    "duration": 1890,
    "start_time": "2021-11-20T07:26:06.936Z"
   },
   {
    "duration": 567,
    "start_time": "2021-11-20T07:29:38.137Z"
   },
   {
    "duration": 1028,
    "start_time": "2021-11-20T07:29:47.887Z"
   },
   {
    "duration": 1040,
    "start_time": "2021-11-20T07:29:48.917Z"
   },
   {
    "duration": 17,
    "start_time": "2021-11-20T07:29:49.960Z"
   },
   {
    "duration": 17,
    "start_time": "2021-11-20T07:29:49.979Z"
   },
   {
    "duration": 160,
    "start_time": "2021-11-20T07:29:49.998Z"
   },
   {
    "duration": 109,
    "start_time": "2021-11-20T07:29:50.159Z"
   },
   {
    "duration": 21,
    "start_time": "2021-11-20T07:29:50.270Z"
   },
   {
    "duration": 29,
    "start_time": "2021-11-20T07:29:50.293Z"
   },
   {
    "duration": 21,
    "start_time": "2021-11-20T07:29:50.324Z"
   },
   {
    "duration": 9,
    "start_time": "2021-11-20T07:29:50.346Z"
   },
   {
    "duration": 107,
    "start_time": "2021-11-20T07:29:50.356Z"
   },
   {
    "duration": 30,
    "start_time": "2021-11-20T07:29:50.465Z"
   },
   {
    "duration": 30,
    "start_time": "2021-11-20T07:29:50.497Z"
   },
   {
    "duration": 5,
    "start_time": "2021-11-20T07:29:50.529Z"
   },
   {
    "duration": 667,
    "start_time": "2021-11-20T07:29:50.535Z"
   },
   {
    "duration": 612,
    "start_time": "2021-11-20T07:29:51.204Z"
   },
   {
    "duration": 43,
    "start_time": "2021-11-20T07:29:51.818Z"
   },
   {
    "duration": 400,
    "start_time": "2021-11-20T07:29:51.863Z"
   },
   {
    "duration": 11,
    "start_time": "2021-11-20T07:29:52.265Z"
   },
   {
    "duration": 3,
    "start_time": "2021-11-20T07:29:52.278Z"
   },
   {
    "duration": 7,
    "start_time": "2021-11-20T07:29:52.282Z"
   },
   {
    "duration": 37,
    "start_time": "2021-11-20T07:29:52.291Z"
   },
   {
    "duration": 5948,
    "start_time": "2021-11-20T07:29:52.331Z"
   },
   {
    "duration": 5,
    "start_time": "2021-11-20T07:29:58.281Z"
   },
   {
    "duration": 33,
    "start_time": "2021-11-20T07:29:58.288Z"
   },
   {
    "duration": 17071,
    "start_time": "2021-11-20T07:29:58.345Z"
   },
   {
    "duration": 2,
    "start_time": "2021-11-20T07:30:15.417Z"
   },
   {
    "duration": 35,
    "start_time": "2021-11-20T07:30:15.421Z"
   },
   {
    "duration": 11,
    "start_time": "2021-11-20T07:30:15.457Z"
   },
   {
    "duration": 28,
    "start_time": "2021-11-20T07:30:15.470Z"
   },
   {
    "duration": 623,
    "start_time": "2021-11-20T07:30:15.500Z"
   },
   {
    "duration": 1935,
    "start_time": "2021-11-20T07:30:14.191Z"
   },
   {
    "duration": 1931,
    "start_time": "2021-11-20T07:30:14.196Z"
   },
   {
    "duration": 1930,
    "start_time": "2021-11-20T07:30:14.199Z"
   },
   {
    "duration": 1925,
    "start_time": "2021-11-20T07:30:14.205Z"
   },
   {
    "duration": 1924,
    "start_time": "2021-11-20T07:30:14.208Z"
   },
   {
    "duration": 1931,
    "start_time": "2021-11-20T07:30:14.213Z"
   },
   {
    "duration": 5,
    "start_time": "2021-11-20T07:34:16.973Z"
   },
   {
    "duration": 262,
    "start_time": "2021-11-20T07:51:55.651Z"
   },
   {
    "duration": 1127,
    "start_time": "2021-11-20T07:52:26.919Z"
   },
   {
    "duration": 7,
    "start_time": "2021-11-20T07:53:06.000Z"
   },
   {
    "duration": 5,
    "start_time": "2021-11-20T07:53:17.888Z"
   },
   {
    "duration": 10330,
    "start_time": "2021-11-20T07:53:41.690Z"
   },
   {
    "duration": 1013,
    "start_time": "2021-11-20T07:54:09.947Z"
   },
   {
    "duration": 954,
    "start_time": "2021-11-20T07:54:10.962Z"
   },
   {
    "duration": 40,
    "start_time": "2021-11-20T07:54:11.918Z"
   },
   {
    "duration": 16,
    "start_time": "2021-11-20T07:54:11.960Z"
   },
   {
    "duration": 160,
    "start_time": "2021-11-20T07:54:11.978Z"
   },
   {
    "duration": 107,
    "start_time": "2021-11-20T07:54:12.144Z"
   },
   {
    "duration": 20,
    "start_time": "2021-11-20T07:54:12.253Z"
   },
   {
    "duration": 28,
    "start_time": "2021-11-20T07:54:12.275Z"
   },
   {
    "duration": 9,
    "start_time": "2021-11-20T07:54:12.305Z"
   },
   {
    "duration": 33,
    "start_time": "2021-11-20T07:54:12.316Z"
   },
   {
    "duration": 85,
    "start_time": "2021-11-20T07:54:12.350Z"
   },
   {
    "duration": 30,
    "start_time": "2021-11-20T07:54:12.444Z"
   },
   {
    "duration": 25,
    "start_time": "2021-11-20T07:54:12.475Z"
   },
   {
    "duration": 5,
    "start_time": "2021-11-20T07:54:12.502Z"
   },
   {
    "duration": 475,
    "start_time": "2021-11-20T07:54:12.509Z"
   },
   {
    "duration": 505,
    "start_time": "2021-11-20T07:54:12.986Z"
   },
   {
    "duration": 31,
    "start_time": "2021-11-20T07:54:13.493Z"
   },
   {
    "duration": 403,
    "start_time": "2021-11-20T07:54:13.525Z"
   },
   {
    "duration": 16,
    "start_time": "2021-11-20T07:54:13.930Z"
   },
   {
    "duration": 5,
    "start_time": "2021-11-20T07:54:13.948Z"
   },
   {
    "duration": 11,
    "start_time": "2021-11-20T07:54:13.955Z"
   },
   {
    "duration": 13,
    "start_time": "2021-11-20T07:54:13.968Z"
   },
   {
    "duration": 5680,
    "start_time": "2021-11-20T07:54:13.985Z"
   },
   {
    "duration": 6,
    "start_time": "2021-11-20T07:54:19.667Z"
   },
   {
    "duration": 33,
    "start_time": "2021-11-20T07:54:19.674Z"
   },
   {
    "duration": 4,
    "start_time": "2021-11-20T07:54:19.709Z"
   },
   {
    "duration": 355,
    "start_time": "2021-11-20T07:54:19.714Z"
   },
   {
    "duration": 1902,
    "start_time": "2021-11-20T07:54:18.169Z"
   },
   {
    "duration": 1898,
    "start_time": "2021-11-20T07:54:18.174Z"
   },
   {
    "duration": 1887,
    "start_time": "2021-11-20T07:54:18.186Z"
   },
   {
    "duration": 1884,
    "start_time": "2021-11-20T07:54:18.190Z"
   },
   {
    "duration": 1873,
    "start_time": "2021-11-20T07:54:18.202Z"
   },
   {
    "duration": 1869,
    "start_time": "2021-11-20T07:54:18.207Z"
   },
   {
    "duration": 1858,
    "start_time": "2021-11-20T07:54:18.219Z"
   },
   {
    "duration": 1854,
    "start_time": "2021-11-20T07:54:18.224Z"
   },
   {
    "duration": 1843,
    "start_time": "2021-11-20T07:54:18.236Z"
   },
   {
    "duration": 1840,
    "start_time": "2021-11-20T07:54:18.240Z"
   },
   {
    "duration": 1829,
    "start_time": "2021-11-20T07:54:18.252Z"
   },
   {
    "duration": 1825,
    "start_time": "2021-11-20T07:54:18.257Z"
   },
   {
    "duration": 1814,
    "start_time": "2021-11-20T07:54:18.269Z"
   },
   {
    "duration": 86,
    "start_time": "2021-11-20T07:56:19.537Z"
   },
   {
    "duration": 1047,
    "start_time": "2021-11-20T07:56:40.474Z"
   },
   {
    "duration": 956,
    "start_time": "2021-11-20T07:56:41.523Z"
   },
   {
    "duration": 16,
    "start_time": "2021-11-20T07:56:42.480Z"
   },
   {
    "duration": 17,
    "start_time": "2021-11-20T07:56:42.498Z"
   },
   {
    "duration": 180,
    "start_time": "2021-11-20T07:56:42.517Z"
   },
   {
    "duration": 117,
    "start_time": "2021-11-20T07:56:42.699Z"
   },
   {
    "duration": 35,
    "start_time": "2021-11-20T07:56:42.818Z"
   },
   {
    "duration": 27,
    "start_time": "2021-11-20T07:56:42.856Z"
   },
   {
    "duration": 10,
    "start_time": "2021-11-20T07:56:42.885Z"
   },
   {
    "duration": 10,
    "start_time": "2021-11-20T07:56:42.896Z"
   },
   {
    "duration": 112,
    "start_time": "2021-11-20T07:56:42.908Z"
   },
   {
    "duration": 40,
    "start_time": "2021-11-20T07:56:43.021Z"
   },
   {
    "duration": 25,
    "start_time": "2021-11-20T07:56:43.062Z"
   },
   {
    "duration": 4,
    "start_time": "2021-11-20T07:56:43.089Z"
   },
   {
    "duration": 466,
    "start_time": "2021-11-20T07:56:43.095Z"
   },
   {
    "duration": 498,
    "start_time": "2021-11-20T07:56:43.563Z"
   },
   {
    "duration": 31,
    "start_time": "2021-11-20T07:56:44.062Z"
   },
   {
    "duration": 415,
    "start_time": "2021-11-20T07:56:44.095Z"
   },
   {
    "duration": 10,
    "start_time": "2021-11-20T07:56:44.512Z"
   },
   {
    "duration": 22,
    "start_time": "2021-11-20T07:56:44.524Z"
   },
   {
    "duration": 8,
    "start_time": "2021-11-20T07:56:44.548Z"
   },
   {
    "duration": 19,
    "start_time": "2021-11-20T07:56:44.557Z"
   },
   {
    "duration": 5439,
    "start_time": "2021-11-20T07:56:44.580Z"
   },
   {
    "duration": 5,
    "start_time": "2021-11-20T07:56:50.022Z"
   },
   {
    "duration": 53,
    "start_time": "2021-11-20T07:56:50.028Z"
   },
   {
    "duration": 5,
    "start_time": "2021-11-20T07:56:50.083Z"
   },
   {
    "duration": 104,
    "start_time": "2021-11-20T07:56:50.090Z"
   },
   {
    "duration": 1955,
    "start_time": "2021-11-20T07:56:48.241Z"
   },
   {
    "duration": 1952,
    "start_time": "2021-11-20T07:56:48.246Z"
   },
   {
    "duration": 1950,
    "start_time": "2021-11-20T07:56:48.249Z"
   },
   {
    "duration": 1948,
    "start_time": "2021-11-20T07:56:48.253Z"
   },
   {
    "duration": 1945,
    "start_time": "2021-11-20T07:56:48.257Z"
   },
   {
    "duration": 1943,
    "start_time": "2021-11-20T07:56:48.261Z"
   },
   {
    "duration": 1941,
    "start_time": "2021-11-20T07:56:48.264Z"
   },
   {
    "duration": 1938,
    "start_time": "2021-11-20T07:56:48.268Z"
   },
   {
    "duration": 1936,
    "start_time": "2021-11-20T07:56:48.272Z"
   },
   {
    "duration": 1926,
    "start_time": "2021-11-20T07:56:48.283Z"
   },
   {
    "duration": 1923,
    "start_time": "2021-11-20T07:56:48.287Z"
   },
   {
    "duration": 1921,
    "start_time": "2021-11-20T07:56:48.291Z"
   },
   {
    "duration": 1918,
    "start_time": "2021-11-20T07:56:48.295Z"
   },
   {
    "duration": 1915,
    "start_time": "2021-11-20T07:56:48.299Z"
   },
   {
    "duration": 1914,
    "start_time": "2021-11-20T07:56:48.302Z"
   },
   {
    "duration": 13,
    "start_time": "2021-11-20T07:57:28.452Z"
   },
   {
    "duration": 8,
    "start_time": "2021-11-20T07:57:35.262Z"
   },
   {
    "duration": 5,
    "start_time": "2021-11-20T07:57:37.487Z"
   },
   {
    "duration": 5570,
    "start_time": "2021-11-20T07:57:39.617Z"
   },
   {
    "duration": 1081,
    "start_time": "2021-11-20T07:58:20.742Z"
   },
   {
    "duration": 988,
    "start_time": "2021-11-20T07:58:21.825Z"
   },
   {
    "duration": 43,
    "start_time": "2021-11-20T07:58:22.815Z"
   },
   {
    "duration": 21,
    "start_time": "2021-11-20T07:58:22.860Z"
   },
   {
    "duration": 153,
    "start_time": "2021-11-20T07:58:22.883Z"
   },
   {
    "duration": 118,
    "start_time": "2021-11-20T07:58:23.038Z"
   },
   {
    "duration": 23,
    "start_time": "2021-11-20T07:58:23.157Z"
   },
   {
    "duration": 29,
    "start_time": "2021-11-20T07:58:23.183Z"
   },
   {
    "duration": 39,
    "start_time": "2021-11-20T07:58:23.215Z"
   },
   {
    "duration": 9,
    "start_time": "2021-11-20T07:58:23.256Z"
   },
   {
    "duration": 105,
    "start_time": "2021-11-20T07:58:23.267Z"
   },
   {
    "duration": 30,
    "start_time": "2021-11-20T07:58:23.374Z"
   },
   {
    "duration": 46,
    "start_time": "2021-11-20T07:58:23.406Z"
   },
   {
    "duration": 6,
    "start_time": "2021-11-20T07:58:23.454Z"
   },
   {
    "duration": 468,
    "start_time": "2021-11-20T07:58:23.462Z"
   },
   {
    "duration": 503,
    "start_time": "2021-11-20T07:58:23.932Z"
   },
   {
    "duration": 36,
    "start_time": "2021-11-20T07:58:24.437Z"
   },
   {
    "duration": 418,
    "start_time": "2021-11-20T07:58:24.475Z"
   },
   {
    "duration": 12,
    "start_time": "2021-11-20T07:58:24.895Z"
   },
   {
    "duration": 4,
    "start_time": "2021-11-20T07:58:24.909Z"
   },
   {
    "duration": 30,
    "start_time": "2021-11-20T07:58:24.915Z"
   },
   {
    "duration": 11,
    "start_time": "2021-11-20T07:58:24.947Z"
   },
   {
    "duration": 5351,
    "start_time": "2021-11-20T07:58:24.962Z"
   },
   {
    "duration": 6,
    "start_time": "2021-11-20T07:58:30.315Z"
   },
   {
    "duration": 50,
    "start_time": "2021-11-20T07:58:30.322Z"
   },
   {
    "duration": 4,
    "start_time": "2021-11-20T07:58:30.374Z"
   },
   {
    "duration": 15,
    "start_time": "2021-11-20T07:58:30.380Z"
   },
   {
    "duration": 7,
    "start_time": "2021-11-20T07:58:30.397Z"
   },
   {
    "duration": 12,
    "start_time": "2021-11-20T07:58:30.406Z"
   },
   {
    "duration": 5185,
    "start_time": "2021-11-20T07:58:30.420Z"
   },
   {
    "duration": 2,
    "start_time": "2021-11-20T07:58:35.606Z"
   },
   {
    "duration": 18,
    "start_time": "2021-11-20T07:58:35.611Z"
   },
   {
    "duration": 23,
    "start_time": "2021-11-20T07:58:35.631Z"
   },
   {
    "duration": 13,
    "start_time": "2021-11-20T07:58:35.656Z"
   },
   {
    "duration": 923,
    "start_time": "2021-11-20T07:58:35.671Z"
   },
   {
    "duration": 1848,
    "start_time": "2021-11-20T07:58:36.596Z"
   },
   {
    "duration": 8,
    "start_time": "2021-11-20T07:58:38.446Z"
   },
   {
    "duration": 5,
    "start_time": "2021-11-20T07:58:38.456Z"
   },
   {
    "duration": 407,
    "start_time": "2021-11-20T07:58:38.462Z"
   },
   {
    "duration": 5,
    "start_time": "2021-11-20T07:58:38.870Z"
   },
   {
    "duration": 7,
    "start_time": "2021-11-20T07:58:38.876Z"
   },
   {
    "duration": 7,
    "start_time": "2021-11-20T08:01:46.768Z"
   },
   {
    "duration": 5315,
    "start_time": "2021-11-20T08:01:46.961Z"
   },
   {
    "duration": 5,
    "start_time": "2021-11-20T08:03:04.009Z"
   },
   {
    "duration": 8,
    "start_time": "2021-11-20T08:04:17.178Z"
   },
   {
    "duration": 5226,
    "start_time": "2021-11-20T08:04:18.040Z"
   },
   {
    "duration": 1210,
    "start_time": "2021-11-20T08:06:44.246Z"
   },
   {
    "duration": 1142,
    "start_time": "2021-11-20T08:06:45.458Z"
   },
   {
    "duration": 19,
    "start_time": "2021-11-20T08:06:46.602Z"
   },
   {
    "duration": 44,
    "start_time": "2021-11-20T08:06:46.623Z"
   },
   {
    "duration": 184,
    "start_time": "2021-11-20T08:06:46.669Z"
   },
   {
    "duration": 129,
    "start_time": "2021-11-20T08:06:46.855Z"
   },
   {
    "duration": 26,
    "start_time": "2021-11-20T08:06:46.987Z"
   },
   {
    "duration": 51,
    "start_time": "2021-11-20T08:06:47.016Z"
   },
   {
    "duration": 12,
    "start_time": "2021-11-20T08:06:47.069Z"
   },
   {
    "duration": 23,
    "start_time": "2021-11-20T08:06:47.083Z"
   },
   {
    "duration": 137,
    "start_time": "2021-11-20T08:06:47.109Z"
   },
   {
    "duration": 34,
    "start_time": "2021-11-20T08:06:47.248Z"
   },
   {
    "duration": 29,
    "start_time": "2021-11-20T08:06:47.284Z"
   },
   {
    "duration": 34,
    "start_time": "2021-11-20T08:06:47.314Z"
   },
   {
    "duration": 523,
    "start_time": "2021-11-20T08:06:47.350Z"
   },
   {
    "duration": 779,
    "start_time": "2021-11-20T08:06:47.875Z"
   },
   {
    "duration": 33,
    "start_time": "2021-11-20T08:06:48.655Z"
   },
   {
    "duration": 434,
    "start_time": "2021-11-20T08:06:48.690Z"
   },
   {
    "duration": 20,
    "start_time": "2021-11-20T08:06:49.127Z"
   },
   {
    "duration": 12,
    "start_time": "2021-11-20T08:06:49.150Z"
   },
   {
    "duration": 18,
    "start_time": "2021-11-20T08:06:49.164Z"
   },
   {
    "duration": 19,
    "start_time": "2021-11-20T08:06:49.184Z"
   },
   {
    "duration": 5752,
    "start_time": "2021-11-20T08:06:49.206Z"
   },
   {
    "duration": 5,
    "start_time": "2021-11-20T08:06:54.961Z"
   },
   {
    "duration": 35,
    "start_time": "2021-11-20T08:06:54.968Z"
   },
   {
    "duration": 5,
    "start_time": "2021-11-20T08:06:55.005Z"
   },
   {
    "duration": 42,
    "start_time": "2021-11-20T08:06:55.011Z"
   },
   {
    "duration": 579,
    "start_time": "2021-11-20T08:06:55.055Z"
   },
   {
    "duration": 1876,
    "start_time": "2021-11-20T08:06:53.760Z"
   },
   {
    "duration": 1873,
    "start_time": "2021-11-20T08:06:53.764Z"
   },
   {
    "duration": 1870,
    "start_time": "2021-11-20T08:06:53.768Z"
   },
   {
    "duration": 1866,
    "start_time": "2021-11-20T08:06:53.773Z"
   },
   {
    "duration": 1863,
    "start_time": "2021-11-20T08:06:53.777Z"
   },
   {
    "duration": 1860,
    "start_time": "2021-11-20T08:06:53.781Z"
   },
   {
    "duration": 1857,
    "start_time": "2021-11-20T08:06:53.785Z"
   },
   {
    "duration": 1852,
    "start_time": "2021-11-20T08:06:53.791Z"
   },
   {
    "duration": 1849,
    "start_time": "2021-11-20T08:06:53.795Z"
   },
   {
    "duration": 1845,
    "start_time": "2021-11-20T08:06:53.800Z"
   },
   {
    "duration": 1842,
    "start_time": "2021-11-20T08:06:53.804Z"
   },
   {
    "duration": 6,
    "start_time": "2021-11-20T08:08:53.124Z"
   },
   {
    "duration": 9,
    "start_time": "2021-11-20T08:08:55.327Z"
   },
   {
    "duration": 2741,
    "start_time": "2021-11-20T08:08:59.310Z"
   },
   {
    "duration": 1229,
    "start_time": "2021-11-20T08:09:14.676Z"
   },
   {
    "duration": 1000,
    "start_time": "2021-11-20T08:09:15.907Z"
   },
   {
    "duration": 41,
    "start_time": "2021-11-20T08:09:16.909Z"
   },
   {
    "duration": 17,
    "start_time": "2021-11-20T08:09:16.952Z"
   },
   {
    "duration": 168,
    "start_time": "2021-11-20T08:09:16.971Z"
   },
   {
    "duration": 154,
    "start_time": "2021-11-20T08:09:17.145Z"
   },
   {
    "duration": 22,
    "start_time": "2021-11-20T08:09:17.301Z"
   },
   {
    "duration": 46,
    "start_time": "2021-11-20T08:09:17.326Z"
   },
   {
    "duration": 11,
    "start_time": "2021-11-20T08:09:17.374Z"
   },
   {
    "duration": 8,
    "start_time": "2021-11-20T08:09:17.386Z"
   },
   {
    "duration": 112,
    "start_time": "2021-11-20T08:09:17.396Z"
   },
   {
    "duration": 42,
    "start_time": "2021-11-20T08:09:17.510Z"
   },
   {
    "duration": 25,
    "start_time": "2021-11-20T08:09:17.553Z"
   },
   {
    "duration": 4,
    "start_time": "2021-11-20T08:09:17.580Z"
   },
   {
    "duration": 486,
    "start_time": "2021-11-20T08:09:17.586Z"
   },
   {
    "duration": 537,
    "start_time": "2021-11-20T08:09:18.074Z"
   },
   {
    "duration": 47,
    "start_time": "2021-11-20T08:09:18.613Z"
   },
   {
    "duration": 404,
    "start_time": "2021-11-20T08:09:18.662Z"
   },
   {
    "duration": 12,
    "start_time": "2021-11-20T08:09:19.069Z"
   },
   {
    "duration": 4,
    "start_time": "2021-11-20T08:09:19.083Z"
   },
   {
    "duration": 5,
    "start_time": "2021-11-20T08:09:19.089Z"
   },
   {
    "duration": 9,
    "start_time": "2021-11-20T08:09:19.096Z"
   },
   {
    "duration": 6115,
    "start_time": "2021-11-20T08:09:19.109Z"
   },
   {
    "duration": 5,
    "start_time": "2021-11-20T08:09:25.226Z"
   },
   {
    "duration": 34,
    "start_time": "2021-11-20T08:09:25.245Z"
   },
   {
    "duration": 5,
    "start_time": "2021-11-20T08:09:25.280Z"
   },
   {
    "duration": 347,
    "start_time": "2021-11-20T08:09:25.286Z"
   },
   {
    "duration": 1842,
    "start_time": "2021-11-20T08:09:23.793Z"
   },
   {
    "duration": 1838,
    "start_time": "2021-11-20T08:09:23.798Z"
   },
   {
    "duration": 1834,
    "start_time": "2021-11-20T08:09:23.803Z"
   },
   {
    "duration": 1830,
    "start_time": "2021-11-20T08:09:23.808Z"
   },
   {
    "duration": 1827,
    "start_time": "2021-11-20T08:09:23.812Z"
   },
   {
    "duration": 1823,
    "start_time": "2021-11-20T08:09:23.817Z"
   },
   {
    "duration": 1820,
    "start_time": "2021-11-20T08:09:23.821Z"
   },
   {
    "duration": 1816,
    "start_time": "2021-11-20T08:09:23.826Z"
   },
   {
    "duration": 1813,
    "start_time": "2021-11-20T08:09:23.830Z"
   },
   {
    "duration": 1810,
    "start_time": "2021-11-20T08:09:23.834Z"
   },
   {
    "duration": 1805,
    "start_time": "2021-11-20T08:09:23.839Z"
   },
   {
    "duration": 1802,
    "start_time": "2021-11-20T08:09:23.843Z"
   },
   {
    "duration": 1793,
    "start_time": "2021-11-20T08:09:23.853Z"
   },
   {
    "duration": 5,
    "start_time": "2021-11-20T08:10:02.701Z"
   },
   {
    "duration": 14,
    "start_time": "2021-11-20T08:10:11.300Z"
   },
   {
    "duration": 5,
    "start_time": "2021-11-20T08:10:13.334Z"
   },
   {
    "duration": 2593,
    "start_time": "2021-11-20T08:10:16.222Z"
   },
   {
    "duration": 4,
    "start_time": "2021-11-20T08:10:39.326Z"
   },
   {
    "duration": 2627,
    "start_time": "2021-11-20T08:10:40.094Z"
   },
   {
    "duration": 6,
    "start_time": "2021-11-20T08:11:12.519Z"
   },
   {
    "duration": 6377,
    "start_time": "2021-11-20T08:19:05.756Z"
   },
   {
    "duration": 6445,
    "start_time": "2021-11-20T08:20:10.241Z"
   },
   {
    "duration": 1898,
    "start_time": "2021-11-20T08:20:14.790Z"
   },
   {
    "duration": 1056,
    "start_time": "2021-11-20T08:20:31.668Z"
   },
   {
    "duration": 960,
    "start_time": "2021-11-20T08:20:32.725Z"
   },
   {
    "duration": 65,
    "start_time": "2021-11-20T08:20:33.687Z"
   },
   {
    "duration": 17,
    "start_time": "2021-11-20T08:20:33.754Z"
   },
   {
    "duration": 298,
    "start_time": "2021-11-20T08:20:33.773Z"
   },
   {
    "duration": 156,
    "start_time": "2021-11-20T08:20:34.073Z"
   },
   {
    "duration": 33,
    "start_time": "2021-11-20T08:20:34.231Z"
   },
   {
    "duration": 28,
    "start_time": "2021-11-20T08:20:34.267Z"
   },
   {
    "duration": 11,
    "start_time": "2021-11-20T08:20:34.297Z"
   },
   {
    "duration": 39,
    "start_time": "2021-11-20T08:20:34.310Z"
   },
   {
    "duration": 100,
    "start_time": "2021-11-20T08:20:34.351Z"
   },
   {
    "duration": 32,
    "start_time": "2021-11-20T08:20:34.453Z"
   },
   {
    "duration": 26,
    "start_time": "2021-11-20T08:20:34.487Z"
   },
   {
    "duration": 5,
    "start_time": "2021-11-20T08:20:34.515Z"
   },
   {
    "duration": 476,
    "start_time": "2021-11-20T08:20:34.545Z"
   },
   {
    "duration": 508,
    "start_time": "2021-11-20T08:20:35.023Z"
   },
   {
    "duration": 40,
    "start_time": "2021-11-20T08:20:35.533Z"
   },
   {
    "duration": 411,
    "start_time": "2021-11-20T08:20:35.575Z"
   },
   {
    "duration": 11,
    "start_time": "2021-11-20T08:20:35.988Z"
   },
   {
    "duration": 4,
    "start_time": "2021-11-20T08:20:36.001Z"
   },
   {
    "duration": 10,
    "start_time": "2021-11-20T08:20:36.006Z"
   },
   {
    "duration": 10,
    "start_time": "2021-11-20T08:20:36.017Z"
   },
   {
    "duration": 5579,
    "start_time": "2021-11-20T08:20:36.046Z"
   },
   {
    "duration": 18,
    "start_time": "2021-11-20T08:20:41.627Z"
   },
   {
    "duration": 34,
    "start_time": "2021-11-20T08:20:41.647Z"
   },
   {
    "duration": 11,
    "start_time": "2021-11-20T08:20:41.683Z"
   },
   {
    "duration": 5,
    "start_time": "2021-11-20T08:20:41.696Z"
   },
   {
    "duration": 6770,
    "start_time": "2021-11-20T08:20:41.702Z"
   },
   {
    "duration": 1839,
    "start_time": "2021-11-20T08:20:46.635Z"
   },
   {
    "duration": 1818,
    "start_time": "2021-11-20T08:20:46.657Z"
   },
   {
    "duration": 1802,
    "start_time": "2021-11-20T08:20:46.674Z"
   },
   {
    "duration": 1796,
    "start_time": "2021-11-20T08:20:46.681Z"
   },
   {
    "duration": 1791,
    "start_time": "2021-11-20T08:20:46.687Z"
   },
   {
    "duration": 1766,
    "start_time": "2021-11-20T08:20:46.713Z"
   },
   {
    "duration": 1761,
    "start_time": "2021-11-20T08:20:46.719Z"
   },
   {
    "duration": 1731,
    "start_time": "2021-11-20T08:20:46.750Z"
   },
   {
    "duration": 1713,
    "start_time": "2021-11-20T08:20:46.769Z"
   },
   {
    "duration": 1700,
    "start_time": "2021-11-20T08:20:46.783Z"
   },
   {
    "duration": 1686,
    "start_time": "2021-11-20T08:20:46.798Z"
   },
   {
    "duration": 1676,
    "start_time": "2021-11-20T08:20:46.809Z"
   },
   {
    "duration": 9,
    "start_time": "2021-11-20T08:21:28.197Z"
   },
   {
    "duration": 5295,
    "start_time": "2021-11-20T08:21:34.958Z"
   },
   {
    "duration": 1035,
    "start_time": "2021-11-20T08:21:53.588Z"
   },
   {
    "duration": 987,
    "start_time": "2021-11-20T08:21:54.624Z"
   },
   {
    "duration": 45,
    "start_time": "2021-11-20T08:21:55.614Z"
   },
   {
    "duration": 18,
    "start_time": "2021-11-20T08:21:55.661Z"
   },
   {
    "duration": 175,
    "start_time": "2021-11-20T08:21:55.681Z"
   },
   {
    "duration": 120,
    "start_time": "2021-11-20T08:21:55.859Z"
   },
   {
    "duration": 22,
    "start_time": "2021-11-20T08:21:55.981Z"
   },
   {
    "duration": 56,
    "start_time": "2021-11-20T08:21:56.007Z"
   },
   {
    "duration": 11,
    "start_time": "2021-11-20T08:21:56.068Z"
   },
   {
    "duration": 9,
    "start_time": "2021-11-20T08:21:56.081Z"
   },
   {
    "duration": 103,
    "start_time": "2021-11-20T08:21:56.092Z"
   },
   {
    "duration": 28,
    "start_time": "2021-11-20T08:21:56.197Z"
   },
   {
    "duration": 44,
    "start_time": "2021-11-20T08:21:56.226Z"
   },
   {
    "duration": 4,
    "start_time": "2021-11-20T08:21:56.272Z"
   },
   {
    "duration": 503,
    "start_time": "2021-11-20T08:21:56.278Z"
   },
   {
    "duration": 537,
    "start_time": "2021-11-20T08:21:56.783Z"
   },
   {
    "duration": 42,
    "start_time": "2021-11-20T08:21:57.323Z"
   },
   {
    "duration": 399,
    "start_time": "2021-11-20T08:21:57.367Z"
   },
   {
    "duration": 10,
    "start_time": "2021-11-20T08:21:57.768Z"
   },
   {
    "duration": 3,
    "start_time": "2021-11-20T08:21:57.779Z"
   },
   {
    "duration": 6,
    "start_time": "2021-11-20T08:21:57.783Z"
   },
   {
    "duration": 10,
    "start_time": "2021-11-20T08:21:57.790Z"
   },
   {
    "duration": 5467,
    "start_time": "2021-11-20T08:21:57.803Z"
   },
   {
    "duration": 4,
    "start_time": "2021-11-20T08:22:03.272Z"
   },
   {
    "duration": 32,
    "start_time": "2021-11-20T08:22:03.277Z"
   },
   {
    "duration": 11,
    "start_time": "2021-11-20T08:22:03.311Z"
   },
   {
    "duration": 5,
    "start_time": "2021-11-20T08:22:03.345Z"
   },
   {
    "duration": 14,
    "start_time": "2021-11-20T08:22:03.352Z"
   },
   {
    "duration": 5395,
    "start_time": "2021-11-20T08:22:03.368Z"
   },
   {
    "duration": 2,
    "start_time": "2021-11-20T08:22:08.765Z"
   },
   {
    "duration": 6,
    "start_time": "2021-11-20T08:22:08.768Z"
   },
   {
    "duration": 5,
    "start_time": "2021-11-20T08:22:08.775Z"
   },
   {
    "duration": 4,
    "start_time": "2021-11-20T08:22:08.781Z"
   },
   {
    "duration": 943,
    "start_time": "2021-11-20T08:22:08.787Z"
   },
   {
    "duration": 1771,
    "start_time": "2021-11-20T08:22:09.732Z"
   },
   {
    "duration": 8,
    "start_time": "2021-11-20T08:22:11.504Z"
   },
   {
    "duration": 5,
    "start_time": "2021-11-20T08:22:11.514Z"
   },
   {
    "duration": 409,
    "start_time": "2021-11-20T08:22:11.520Z"
   },
   {
    "duration": 4,
    "start_time": "2021-11-20T08:22:11.931Z"
   },
   {
    "duration": 21,
    "start_time": "2021-11-20T08:22:11.936Z"
   },
   {
    "duration": 1123,
    "start_time": "2021-11-21T04:25:36.677Z"
   },
   {
    "duration": 971,
    "start_time": "2021-11-21T04:25:37.802Z"
   },
   {
    "duration": 41,
    "start_time": "2021-11-21T04:25:38.775Z"
   },
   {
    "duration": 16,
    "start_time": "2021-11-21T04:25:38.818Z"
   },
   {
    "duration": 164,
    "start_time": "2021-11-21T04:25:38.836Z"
   },
   {
    "duration": 115,
    "start_time": "2021-11-21T04:25:39.007Z"
   },
   {
    "duration": 23,
    "start_time": "2021-11-21T04:25:39.123Z"
   },
   {
    "duration": 30,
    "start_time": "2021-11-21T04:25:39.149Z"
   },
   {
    "duration": 14,
    "start_time": "2021-11-21T04:25:39.205Z"
   },
   {
    "duration": 8,
    "start_time": "2021-11-21T04:25:39.221Z"
   },
   {
    "duration": 107,
    "start_time": "2021-11-21T04:25:39.230Z"
   },
   {
    "duration": 31,
    "start_time": "2021-11-21T04:25:39.338Z"
   },
   {
    "duration": 45,
    "start_time": "2021-11-21T04:25:39.370Z"
   },
   {
    "duration": 5,
    "start_time": "2021-11-21T04:25:39.417Z"
   },
   {
    "duration": 463,
    "start_time": "2021-11-21T04:25:39.424Z"
   },
   {
    "duration": 497,
    "start_time": "2021-11-21T04:25:39.889Z"
   },
   {
    "duration": 39,
    "start_time": "2021-11-21T04:25:40.388Z"
   },
   {
    "duration": 389,
    "start_time": "2021-11-21T04:25:40.429Z"
   },
   {
    "duration": 10,
    "start_time": "2021-11-21T04:25:40.819Z"
   },
   {
    "duration": 5,
    "start_time": "2021-11-21T04:25:40.830Z"
   },
   {
    "duration": 7,
    "start_time": "2021-11-21T04:25:40.837Z"
   },
   {
    "duration": 13,
    "start_time": "2021-11-21T04:25:40.846Z"
   },
   {
    "duration": 5677,
    "start_time": "2021-11-21T04:25:40.862Z"
   },
   {
    "duration": 5,
    "start_time": "2021-11-21T04:25:46.541Z"
   },
   {
    "duration": 38,
    "start_time": "2021-11-21T04:25:46.548Z"
   },
   {
    "duration": 29,
    "start_time": "2021-11-21T04:25:46.587Z"
   },
   {
    "duration": 6,
    "start_time": "2021-11-21T04:25:46.618Z"
   },
   {
    "duration": 8,
    "start_time": "2021-11-21T04:25:46.626Z"
   },
   {
    "duration": 5301,
    "start_time": "2021-11-21T04:25:46.636Z"
   },
   {
    "duration": 2,
    "start_time": "2021-11-21T04:25:51.939Z"
   },
   {
    "duration": 16,
    "start_time": "2021-11-21T04:25:51.943Z"
   },
   {
    "duration": 19,
    "start_time": "2021-11-21T04:25:51.960Z"
   },
   {
    "duration": 11,
    "start_time": "2021-11-21T04:25:51.980Z"
   },
   {
    "duration": 946,
    "start_time": "2021-11-21T04:25:51.993Z"
   },
   {
    "duration": 1869,
    "start_time": "2021-11-21T04:25:52.941Z"
   },
   {
    "duration": 9,
    "start_time": "2021-11-21T04:25:54.811Z"
   },
   {
    "duration": 5,
    "start_time": "2021-11-21T04:25:54.822Z"
   },
   {
    "duration": 433,
    "start_time": "2021-11-21T04:25:54.829Z"
   },
   {
    "duration": 4,
    "start_time": "2021-11-21T04:25:55.264Z"
   },
   {
    "duration": 11,
    "start_time": "2021-11-21T04:25:55.270Z"
   },
   {
    "duration": 1069,
    "start_time": "2021-11-21T04:55:27.920Z"
   },
   {
    "duration": 979,
    "start_time": "2021-11-21T04:55:28.991Z"
   },
   {
    "duration": 36,
    "start_time": "2021-11-21T04:55:29.972Z"
   },
   {
    "duration": 18,
    "start_time": "2021-11-21T04:55:30.010Z"
   },
   {
    "duration": 166,
    "start_time": "2021-11-21T04:55:30.030Z"
   },
   {
    "duration": 125,
    "start_time": "2021-11-21T04:55:30.197Z"
   },
   {
    "duration": 22,
    "start_time": "2021-11-21T04:55:30.324Z"
   },
   {
    "duration": 31,
    "start_time": "2021-11-21T04:55:30.348Z"
   },
   {
    "duration": 34,
    "start_time": "2021-11-21T04:55:30.381Z"
   },
   {
    "duration": 16,
    "start_time": "2021-11-21T04:55:30.417Z"
   },
   {
    "duration": 106,
    "start_time": "2021-11-21T04:55:30.435Z"
   },
   {
    "duration": 33,
    "start_time": "2021-11-21T04:55:30.543Z"
   },
   {
    "duration": 50,
    "start_time": "2021-11-21T04:55:30.577Z"
   },
   {
    "duration": 5,
    "start_time": "2021-11-21T04:55:30.628Z"
   },
   {
    "duration": 492,
    "start_time": "2021-11-21T04:55:30.635Z"
   },
   {
    "duration": 532,
    "start_time": "2021-11-21T04:55:31.129Z"
   },
   {
    "duration": 31,
    "start_time": "2021-11-21T04:55:31.662Z"
   },
   {
    "duration": 395,
    "start_time": "2021-11-21T04:55:31.706Z"
   },
   {
    "duration": 10,
    "start_time": "2021-11-21T04:55:32.106Z"
   },
   {
    "duration": 14,
    "start_time": "2021-11-21T04:55:32.118Z"
   },
   {
    "duration": 10,
    "start_time": "2021-11-21T04:55:32.134Z"
   },
   {
    "duration": 12,
    "start_time": "2021-11-21T04:55:32.145Z"
   },
   {
    "duration": 5504,
    "start_time": "2021-11-21T04:55:32.161Z"
   },
   {
    "duration": 5,
    "start_time": "2021-11-21T04:55:37.667Z"
   },
   {
    "duration": 47,
    "start_time": "2021-11-21T04:55:37.674Z"
   },
   {
    "duration": 6,
    "start_time": "2021-11-21T04:55:37.723Z"
   },
   {
    "duration": 9,
    "start_time": "2021-11-21T04:55:37.731Z"
   },
   {
    "duration": 8,
    "start_time": "2021-11-21T04:55:37.742Z"
   },
   {
    "duration": 5419,
    "start_time": "2021-11-21T04:55:37.751Z"
   },
   {
    "duration": 3,
    "start_time": "2021-11-21T04:55:43.171Z"
   },
   {
    "duration": 8,
    "start_time": "2021-11-21T04:55:43.176Z"
   },
   {
    "duration": 6,
    "start_time": "2021-11-21T04:55:43.186Z"
   },
   {
    "duration": 5,
    "start_time": "2021-11-21T04:55:43.206Z"
   },
   {
    "duration": 956,
    "start_time": "2021-11-21T04:55:43.213Z"
   },
   {
    "duration": 1836,
    "start_time": "2021-11-21T04:55:44.171Z"
   },
   {
    "duration": 8,
    "start_time": "2021-11-21T04:55:46.009Z"
   },
   {
    "duration": 6,
    "start_time": "2021-11-21T04:55:46.019Z"
   },
   {
    "duration": 435,
    "start_time": "2021-11-21T04:55:46.026Z"
   },
   {
    "duration": 4,
    "start_time": "2021-11-21T04:55:46.463Z"
   },
   {
    "duration": 8,
    "start_time": "2021-11-21T04:55:46.469Z"
   },
   {
    "duration": 1066,
    "start_time": "2021-11-21T04:57:25.528Z"
   },
   {
    "duration": 1032,
    "start_time": "2021-11-21T04:57:26.596Z"
   },
   {
    "duration": 16,
    "start_time": "2021-11-21T04:57:27.630Z"
   },
   {
    "duration": 17,
    "start_time": "2021-11-21T04:57:27.648Z"
   },
   {
    "duration": 182,
    "start_time": "2021-11-21T04:57:27.666Z"
   },
   {
    "duration": 121,
    "start_time": "2021-11-21T04:57:27.849Z"
   },
   {
    "duration": 20,
    "start_time": "2021-11-21T04:57:27.972Z"
   },
   {
    "duration": 30,
    "start_time": "2021-11-21T04:57:28.006Z"
   },
   {
    "duration": 13,
    "start_time": "2021-11-21T04:57:28.038Z"
   },
   {
    "duration": 9,
    "start_time": "2021-11-21T04:57:28.052Z"
   },
   {
    "duration": 116,
    "start_time": "2021-11-21T04:57:28.063Z"
   },
   {
    "duration": 43,
    "start_time": "2021-11-21T04:57:28.181Z"
   },
   {
    "duration": 26,
    "start_time": "2021-11-21T04:57:28.225Z"
   },
   {
    "duration": 5,
    "start_time": "2021-11-21T04:57:28.254Z"
   },
   {
    "duration": 499,
    "start_time": "2021-11-21T04:57:28.261Z"
   },
   {
    "duration": 514,
    "start_time": "2021-11-21T04:57:28.761Z"
   },
   {
    "duration": 44,
    "start_time": "2021-11-21T04:57:29.277Z"
   },
   {
    "duration": 401,
    "start_time": "2021-11-21T04:57:29.323Z"
   },
   {
    "duration": 11,
    "start_time": "2021-11-21T04:57:29.726Z"
   },
   {
    "duration": 4,
    "start_time": "2021-11-21T04:57:29.738Z"
   },
   {
    "duration": 6,
    "start_time": "2021-11-21T04:57:29.744Z"
   },
   {
    "duration": 10,
    "start_time": "2021-11-21T04:57:29.752Z"
   },
   {
    "duration": 5616,
    "start_time": "2021-11-21T04:57:29.765Z"
   },
   {
    "duration": 5,
    "start_time": "2021-11-21T04:57:35.383Z"
   },
   {
    "duration": 37,
    "start_time": "2021-11-21T04:57:35.406Z"
   },
   {
    "duration": 12,
    "start_time": "2021-11-21T04:57:35.445Z"
   },
   {
    "duration": 9,
    "start_time": "2021-11-21T04:57:35.459Z"
   },
   {
    "duration": 11,
    "start_time": "2021-11-21T04:57:35.469Z"
   },
   {
    "duration": 5451,
    "start_time": "2021-11-21T04:57:35.481Z"
   },
   {
    "duration": 2,
    "start_time": "2021-11-21T04:57:40.933Z"
   },
   {
    "duration": 6,
    "start_time": "2021-11-21T04:57:40.937Z"
   },
   {
    "duration": 7,
    "start_time": "2021-11-21T04:57:40.944Z"
   },
   {
    "duration": 7,
    "start_time": "2021-11-21T04:57:40.953Z"
   },
   {
    "duration": 1051,
    "start_time": "2021-11-21T04:57:40.962Z"
   },
   {
    "duration": 1855,
    "start_time": "2021-11-21T04:57:42.015Z"
   },
   {
    "duration": 9,
    "start_time": "2021-11-21T04:57:43.871Z"
   },
   {
    "duration": 5,
    "start_time": "2021-11-21T04:57:43.881Z"
   },
   {
    "duration": 438,
    "start_time": "2021-11-21T04:57:43.888Z"
   },
   {
    "duration": 5,
    "start_time": "2021-11-21T04:57:44.329Z"
   },
   {
    "duration": 10,
    "start_time": "2021-11-21T04:57:44.336Z"
   }
  ],
  "kernelspec": {
   "display_name": "Python 3 (ipykernel)",
   "language": "python",
   "name": "python3"
  },
  "language_info": {
   "codemirror_mode": {
    "name": "ipython",
    "version": 3
   },
   "file_extension": ".py",
   "mimetype": "text/x-python",
   "name": "python",
   "nbconvert_exporter": "python",
   "pygments_lexer": "ipython3",
   "version": "3.9.12"
  },
  "toc": {
   "base_numbering": 1,
   "nav_menu": {},
   "number_sections": true,
   "sideBar": true,
   "skip_h1_title": true,
   "title_cell": "Определение перспективного тарифа для телеком-компании",
   "title_sidebar": "Contents",
   "toc_cell": true,
   "toc_position": {
    "height": "calc(100% - 180px)",
    "left": "10px",
    "top": "150px",
    "width": "165px"
   },
   "toc_section_display": true,
   "toc_window_display": true
  }
 },
 "nbformat": 4,
 "nbformat_minor": 2
}
